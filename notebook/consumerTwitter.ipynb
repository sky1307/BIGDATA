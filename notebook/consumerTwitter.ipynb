{
 "cells": [
  {
   "cell_type": "code",
   "execution_count": 1,
   "metadata": {},
   "outputs": [],
   "source": [
    "from pyspark import SparkContext,SparkConf\n",
    "from pyspark.sql import SparkSession \n",
    "from pyspark.streaming import StreamingContext\n",
    "from pyspark.streaming.kafka import KafkaUtils\n",
    "from pyspark.sql import Row,SQLContext\n",
    "import requests\n",
    "import sys\n",
    "import time\n",
    "import json"
   ]
  },
  {
   "cell_type": "code",
   "execution_count": 2,
   "metadata": {},
   "outputs": [],
   "source": [
    "ss = SparkSession.Builder() \\\n",
    "     .appName(\"Realtime\") \\\n",
    "     .master(\"spark://spark-master-1:7077\") \\\n",
    "     .config(\"spark.jars\", \"./spark-streaming-kafka-0-8-assembly_2.11-2.0.0-preview.jar\") \\\n",
    "     .getOrCreate()\n",
    "sc = ss.sparkContext\n",
    "ssc = StreamingContext(sc, 5)\n",
    "ssc.checkpoint(\"checkpoint_TwitterApp\")\n",
    "ss.sparkContext.setLogLevel('WARN')"
   ]
  },
  {
   "cell_type": "code",
   "execution_count": 3,
   "metadata": {},
   "outputs": [],
   "source": [
    "brokers = 'kafka-1:9092,kafka-2:9092'\n",
    "topic='tweet'"
   ]
  },
  {
   "cell_type": "code",
   "execution_count": 4,
   "metadata": {},
   "outputs": [],
   "source": [
    "ks = KafkaUtils.createDirectStream(ssc, [topic], kafkaParams={\"metadata.broker.list\":brokers})"
   ]
  },
  {
   "cell_type": "code",
   "execution_count": 5,
   "metadata": {},
   "outputs": [],
   "source": [
    "def process_rdd(time, rdd):\n",
    "    try:\n",
    "        df = rdd.take(10 + 1)\n",
    "        top_tags  =[]\n",
    "        tags_count=[]\n",
    "        for h in df:\n",
    "            top_tags.append(h[0])\n",
    "            tags_count.append(h[1])\n",
    "        send_df_to_dashboard(top_tags, tags_count)\n",
    "    except:\n",
    "        e = sys.exc_info()[0]\n",
    "        print(\"Error: %s\" % e)"
   ]
  },
  {
   "cell_type": "code",
   "execution_count": 6,
   "metadata": {},
   "outputs": [],
   "source": [
    "def send_df_to_dashboard(top_tags, tags_count):\n",
    "    url = 'http://172.19.0.5:5001/updateData'\n",
    "    request_data = {'label': str(top_tags), 'data': str(tags_count)}\n",
    "    response = requests.post(url, data=request_data)"
   ]
  },
  {
   "cell_type": "code",
   "execution_count": 7,
   "metadata": {},
   "outputs": [],
   "source": [
    "def aggregate_tags_count(new_values, total_sum):\n",
    "    return sum(new_values) + (total_sum or 0)"
   ]
  },
  {
   "cell_type": "code",
   "execution_count": 8,
   "metadata": {},
   "outputs": [],
   "source": [
    "def filter(x):\n",
    "    if x[0] == '#':\n",
    "        if len(x) != 1:\n",
    "            return True\n",
    "    return False"
   ]
  },
  {
   "cell_type": "code",
   "execution_count": null,
   "metadata": {
    "scrolled": true
   },
   "outputs": [
    {
     "name": "stdout",
     "output_type": "stream",
     "text": [
      "-------------------------------------------\n",
      "Time: 2022-01-04 08:37:45\n",
      "-------------------------------------------\n",
      "('#Tuesday', 1)\n",
      "('#GodMorningTuesday', 1)\n",
      "('#fatbikes', 1)\n",
      "('#fatbike', 1)\n",
      "('#itswhatsfordinner', 1)\n",
      "('#patientcare', 1)\n",
      "('#Ocala,', 1)\n",
      "('#Barbarena', 1)\n",
      "('#TikTok', 1)\n",
      "('#golobos', 1)\n",
      "...\n",
      "\n"
     ]
    }
   ],
   "source": [
    "lines = ks.map(lambda x: json.loads(x[1])['text'] )\n",
    "hashtag = lines.flatMap(lambda line: line.split())\\\n",
    "                .filter(lambda w: filter(w))\\\n",
    "                .map(lambda x: (x, 1))\\\n",
    "                .updateStateByKey(aggregate_tags_count)\\\n",
    "                .transform(lambda rdd: rdd.sortBy(lambda x: x[1], ascending=False))\n",
    "hashtag.foreachRDD(process_rdd)  \n",
    "hashtag.pprint()\n",
    "ssc.start()\n",
    "time.sleep(60)\n",
    "ssc.awaitTermination()"
   ]
  }
 ],
 "metadata": {
  "kernelspec": {
   "display_name": "Python 3",
   "language": "python",
   "name": "python3"
  },
  "language_info": {
   "codemirror_mode": {
    "name": "ipython",
    "version": 3
   },
   "file_extension": ".py",
   "mimetype": "text/x-python",
   "name": "python",
   "nbconvert_exporter": "python",
   "pygments_lexer": "ipython3",
   "version": "3.7.6"
  }
 },
 "nbformat": 4,
 "nbformat_minor": 4
}
