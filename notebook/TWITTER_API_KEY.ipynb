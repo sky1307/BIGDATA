{
 "cells": [
  {
   "cell_type": "code",
   "execution_count": null,
   "metadata": {},
   "outputs": [],
   "source": [
    "CONSUMER_KEY = 'NfkDRyaIVw74KYFOW0GQVdlXw'\n",
    "CONSUMER_SECRET ='qcpZb4yfpQOj9cQsWBqLx1F0WhZAypAsFvzZThHJK7HC8s8U85'\n",
    "ACCESS_TOKEN = '1455554502061277185-2wNqTeUfLoO1EqG9QLYNQFOp9kAVbK'\n",
    "ACCESS_SECRET ='YaEJeUSwfnPuH79Yx28hk8cX3mSGlEmiwBRhid5n6897U'"
   ]
  }
 ],
 "metadata": {
  "kernelspec": {
   "display_name": "Python 3",
   "language": "python",
   "name": "python3"
  },
  "language_info": {
   "codemirror_mode": {
    "name": "ipython",
    "version": 3
   },
   "file_extension": ".py",
   "mimetype": "text/x-python",
   "name": "python",
   "nbconvert_exporter": "python",
   "pygments_lexer": "ipython3",
   "version": "3.7.6"
  }
 },
 "nbformat": 4,
 "nbformat_minor": 4
}
