{
 "cells": [
  {
   "cell_type": "code",
   "execution_count": null,
   "metadata": {},
   "outputs": [],
   "source": [
    "import tweepy\n",
    "import csv"
   ]
  },
  {
   "cell_type": "code",
   "execution_count": null,
   "metadata": {},
   "outputs": [],
   "source": [
    "%run ./TWITTER_API_KEY.ipynb"
   ]
  },
  {
   "cell_type": "code",
   "execution_count": null,
   "metadata": {},
   "outputs": [],
   "source": [
    "class TweetAPI(tweepy.Stream):\n",
    "    def on_status(self, status):\n",
    "        text = ''\n",
    "        try:\n",
    "            try:\n",
    "                text = status.extended_tweet['full_text']\n",
    "            except:\n",
    "                text = status.text\n",
    "            time = status._json['created_at']\n",
    "            user = status._json['user']['screen_name']\n",
    "            place= status._json['place']['full_name']\n",
    "            tweet={\n",
    "                   'time':time,\n",
    "                   'user':user,\n",
    "                   'place':place,\n",
    "                   'text': text\n",
    "                  }\n",
    "            tweet_obj = json.dumps(tweet, f, indent = 4)\n",
    "        except:\n",
    "            print(\"Error\")\n",
    "            print('-----------------------------------------------------')"
   ]
  },
  {
   "cell_type": "code",
   "execution_count": null,
   "metadata": {},
   "outputs": [],
   "source": [
    "Tweets = TweetAPI(\n",
    "  CONSUMER_KEY, CONSUMER_SECRET,\n",
    "  ACCESS_TOKEN, ACCESS_SECRET\n",
    ")\n",
    "f = open('./data.json','w')\n",
    "Tweets.filter(locations = [-130,-20,100,50], languages = ['en'])"
   ]
  }
 ],
 "metadata": {
  "kernelspec": {
   "display_name": "Python 3",
   "language": "python",
   "name": "python3"
  },
  "language_info": {
   "codemirror_mode": {
    "name": "ipython",
    "version": 3
   },
   "file_extension": ".py",
   "mimetype": "text/x-python",
   "name": "python",
   "nbconvert_exporter": "python",
   "pygments_lexer": "ipython3",
   "version": "3.7.6"
  }
 },
 "nbformat": 4,
 "nbformat_minor": 4
}
