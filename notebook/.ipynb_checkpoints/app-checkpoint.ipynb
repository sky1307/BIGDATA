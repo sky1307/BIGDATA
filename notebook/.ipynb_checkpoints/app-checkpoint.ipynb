{
 "cells": [
  {
   "cell_type": "code",
   "execution_count": null,
   "metadata": {},
   "outputs": [
    {
     "name": "stdout",
     "output_type": "stream",
     "text": [
      " * Serving Flask app '__main__' (lazy loading)\n",
      " * Environment: production\n",
      "\u001b[31m   WARNING: This is a development server. Do not use it in a production deployment.\u001b[0m\n",
      "\u001b[2m   Use a production WSGI server instead.\u001b[0m\n",
      " * Debug mode: off\n"
     ]
    },
    {
     "name": "stderr",
     "output_type": "stream",
     "text": [
      " * Running on http://172.27.0.12:5001/ (Press CTRL+C to quit)\n",
      "172.27.0.1 - - [03/Jan/2022 15:38:12] \"GET /refreshData HTTP/1.1\" 200 -\n"
     ]
    },
    {
     "name": "stdout",
     "output_type": "stream",
     "text": [
      "labels now: []\n",
      "data now: []\n"
     ]
    },
    {
     "name": "stderr",
     "output_type": "stream",
     "text": [
      "172.27.0.1 - - [03/Jan/2022 15:38:13] \"GET /refreshData HTTP/1.1\" 200 -\n"
     ]
    },
    {
     "name": "stdout",
     "output_type": "stream",
     "text": [
      "labels now: []\n",
      "data now: []\n"
     ]
    },
    {
     "name": "stderr",
     "output_type": "stream",
     "text": [
      "172.27.0.1 - - [03/Jan/2022 15:38:14] \"GET /refreshData HTTP/1.1\" 200 -\n"
     ]
    },
    {
     "name": "stdout",
     "output_type": "stream",
     "text": [
      "labels now: []\n",
      "data now: []\n"
     ]
    },
    {
     "name": "stderr",
     "output_type": "stream",
     "text": [
      "172.27.0.1 - - [03/Jan/2022 15:38:15] \"GET /refreshData HTTP/1.1\" 200 -\n"
     ]
    },
    {
     "name": "stdout",
     "output_type": "stream",
     "text": [
      "labels now: []\n",
      "data now: []\n"
     ]
    },
    {
     "name": "stderr",
     "output_type": "stream",
     "text": [
      "172.27.0.1 - - [03/Jan/2022 15:38:16] \"GET /refreshData HTTP/1.1\" 200 -\n"
     ]
    },
    {
     "name": "stdout",
     "output_type": "stream",
     "text": [
      "labels now: []\n",
      "data now: []\n"
     ]
    },
    {
     "name": "stderr",
     "output_type": "stream",
     "text": [
      "172.27.0.1 - - [03/Jan/2022 15:38:17] \"GET /refreshData HTTP/1.1\" 200 -\n"
     ]
    },
    {
     "name": "stdout",
     "output_type": "stream",
     "text": [
      "labels now: []\n",
      "data now: []\n"
     ]
    },
    {
     "name": "stderr",
     "output_type": "stream",
     "text": [
      "172.27.0.1 - - [03/Jan/2022 15:38:18] \"GET /refreshData HTTP/1.1\" 200 -\n"
     ]
    },
    {
     "name": "stdout",
     "output_type": "stream",
     "text": [
      "labels now: []\n",
      "data now: []\n"
     ]
    },
    {
     "name": "stderr",
     "output_type": "stream",
     "text": [
      "172.27.0.1 - - [03/Jan/2022 15:38:19] \"GET /refreshData HTTP/1.1\" 200 -\n"
     ]
    },
    {
     "name": "stdout",
     "output_type": "stream",
     "text": [
      "labels now: []\n",
      "data now: []\n"
     ]
    },
    {
     "name": "stderr",
     "output_type": "stream",
     "text": [
      "172.27.0.1 - - [03/Jan/2022 15:38:20] \"GET /refreshData HTTP/1.1\" 200 -\n"
     ]
    },
    {
     "name": "stdout",
     "output_type": "stream",
     "text": [
      "labels now: []\n",
      "data now: []\n"
     ]
    },
    {
     "name": "stderr",
     "output_type": "stream",
     "text": [
      "172.27.0.1 - - [03/Jan/2022 15:38:21] \"GET /refreshData HTTP/1.1\" 200 -\n"
     ]
    },
    {
     "name": "stdout",
     "output_type": "stream",
     "text": [
      "labels now: []\n",
      "data now: []\n"
     ]
    },
    {
     "name": "stderr",
     "output_type": "stream",
     "text": [
      "172.27.0.1 - - [03/Jan/2022 15:38:22] \"GET /refreshData HTTP/1.1\" 200 -\n"
     ]
    },
    {
     "name": "stdout",
     "output_type": "stream",
     "text": [
      "labels now: []\n",
      "data now: []\n"
     ]
    },
    {
     "name": "stderr",
     "output_type": "stream",
     "text": [
      "172.27.0.1 - - [03/Jan/2022 15:38:23] \"GET /refreshData HTTP/1.1\" 200 -\n"
     ]
    },
    {
     "name": "stdout",
     "output_type": "stream",
     "text": [
      "labels now: []\n",
      "data now: []\n"
     ]
    },
    {
     "name": "stderr",
     "output_type": "stream",
     "text": [
      "172.27.0.1 - - [03/Jan/2022 15:38:24] \"GET /refreshData HTTP/1.1\" 200 -\n"
     ]
    },
    {
     "name": "stdout",
     "output_type": "stream",
     "text": [
      "labels now: []\n",
      "data now: []\n"
     ]
    },
    {
     "name": "stderr",
     "output_type": "stream",
     "text": [
      "172.27.0.1 - - [03/Jan/2022 15:38:25] \"GET /refreshData HTTP/1.1\" 200 -\n"
     ]
    },
    {
     "name": "stdout",
     "output_type": "stream",
     "text": [
      "labels now: []\n",
      "data now: []\n"
     ]
    },
    {
     "name": "stderr",
     "output_type": "stream",
     "text": [
      "172.27.0.1 - - [03/Jan/2022 15:38:26] \"GET /refreshData HTTP/1.1\" 200 -\n"
     ]
    },
    {
     "name": "stdout",
     "output_type": "stream",
     "text": [
      "labels now: []\n",
      "data now: []\n"
     ]
    },
    {
     "name": "stderr",
     "output_type": "stream",
     "text": [
      "172.27.0.1 - - [03/Jan/2022 15:38:27] \"GET /refreshData HTTP/1.1\" 200 -\n"
     ]
    },
    {
     "name": "stdout",
     "output_type": "stream",
     "text": [
      "labels now: []\n",
      "data now: []\n"
     ]
    },
    {
     "name": "stderr",
     "output_type": "stream",
     "text": [
      "172.27.0.1 - - [03/Jan/2022 15:38:28] \"GET /refreshData HTTP/1.1\" 200 -\n"
     ]
    },
    {
     "name": "stdout",
     "output_type": "stream",
     "text": [
      "labels now: []\n",
      "data now: []\n"
     ]
    },
    {
     "name": "stderr",
     "output_type": "stream",
     "text": [
      "172.27.0.1 - - [03/Jan/2022 15:38:29] \"GET /refreshData HTTP/1.1\" 200 -\n"
     ]
    },
    {
     "name": "stdout",
     "output_type": "stream",
     "text": [
      "labels now: []\n",
      "data now: []\n"
     ]
    },
    {
     "name": "stderr",
     "output_type": "stream",
     "text": [
      "172.27.0.1 - - [03/Jan/2022 15:38:30] \"GET /refreshData HTTP/1.1\" 200 -\n"
     ]
    },
    {
     "name": "stdout",
     "output_type": "stream",
     "text": [
      "labels now: []\n",
      "data now: []\n"
     ]
    },
    {
     "name": "stderr",
     "output_type": "stream",
     "text": [
      "172.27.0.1 - - [03/Jan/2022 15:38:31] \"GET /refreshData HTTP/1.1\" 200 -\n"
     ]
    },
    {
     "name": "stdout",
     "output_type": "stream",
     "text": [
      "labels now: []\n",
      "data now: []\n"
     ]
    },
    {
     "name": "stderr",
     "output_type": "stream",
     "text": [
      "172.27.0.1 - - [03/Jan/2022 15:38:32] \"GET /refreshData HTTP/1.1\" 200 -\n"
     ]
    },
    {
     "name": "stdout",
     "output_type": "stream",
     "text": [
      "labels now: []\n",
      "data now: []\n"
     ]
    },
    {
     "name": "stderr",
     "output_type": "stream",
     "text": [
      "172.27.0.1 - - [03/Jan/2022 15:38:33] \"GET /refreshData HTTP/1.1\" 200 -\n"
     ]
    },
    {
     "name": "stdout",
     "output_type": "stream",
     "text": [
      "labels now: []\n",
      "data now: []\n"
     ]
    },
    {
     "name": "stderr",
     "output_type": "stream",
     "text": [
      "172.27.0.1 - - [03/Jan/2022 15:38:34] \"GET /refreshData HTTP/1.1\" 200 -\n"
     ]
    },
    {
     "name": "stdout",
     "output_type": "stream",
     "text": [
      "labels now: []\n",
      "data now: []\n"
     ]
    },
    {
     "name": "stderr",
     "output_type": "stream",
     "text": [
      "172.27.0.1 - - [03/Jan/2022 15:38:35] \"GET /refreshData HTTP/1.1\" 200 -\n"
     ]
    },
    {
     "name": "stdout",
     "output_type": "stream",
     "text": [
      "labels now: []\n",
      "data now: []\n"
     ]
    },
    {
     "name": "stderr",
     "output_type": "stream",
     "text": [
      "172.27.0.1 - - [03/Jan/2022 15:38:36] \"GET /refreshData HTTP/1.1\" 200 -\n"
     ]
    },
    {
     "name": "stdout",
     "output_type": "stream",
     "text": [
      "labels now: []\n",
      "data now: []\n"
     ]
    },
    {
     "name": "stderr",
     "output_type": "stream",
     "text": [
      "172.27.0.1 - - [03/Jan/2022 15:38:37] \"GET /refreshData HTTP/1.1\" 200 -\n"
     ]
    },
    {
     "name": "stdout",
     "output_type": "stream",
     "text": [
      "labels now: []\n",
      "data now: []\n"
     ]
    },
    {
     "name": "stderr",
     "output_type": "stream",
     "text": [
      "172.27.0.1 - - [03/Jan/2022 15:38:38] \"GET /refreshData HTTP/1.1\" 200 -\n"
     ]
    },
    {
     "name": "stdout",
     "output_type": "stream",
     "text": [
      "labels now: []\n",
      "data now: []\n"
     ]
    },
    {
     "name": "stderr",
     "output_type": "stream",
     "text": [
      "172.27.0.1 - - [03/Jan/2022 15:38:39] \"GET /refreshData HTTP/1.1\" 200 -\n"
     ]
    },
    {
     "name": "stdout",
     "output_type": "stream",
     "text": [
      "labels now: []\n",
      "data now: []\n"
     ]
    },
    {
     "name": "stderr",
     "output_type": "stream",
     "text": [
      "172.27.0.1 - - [03/Jan/2022 15:38:40] \"GET /refreshData HTTP/1.1\" 200 -\n"
     ]
    },
    {
     "name": "stdout",
     "output_type": "stream",
     "text": [
      "labels now: []\n",
      "data now: []\n"
     ]
    },
    {
     "name": "stderr",
     "output_type": "stream",
     "text": [
      "172.27.0.1 - - [03/Jan/2022 15:38:41] \"GET /refreshData HTTP/1.1\" 200 -\n"
     ]
    },
    {
     "name": "stdout",
     "output_type": "stream",
     "text": [
      "labels now: []\n",
      "data now: []\n"
     ]
    },
    {
     "name": "stderr",
     "output_type": "stream",
     "text": [
      "172.27.0.1 - - [03/Jan/2022 15:38:42] \"GET /refreshData HTTP/1.1\" 200 -\n"
     ]
    },
    {
     "name": "stdout",
     "output_type": "stream",
     "text": [
      "labels now: []\n",
      "data now: []\n"
     ]
    },
    {
     "name": "stderr",
     "output_type": "stream",
     "text": [
      "172.27.0.1 - - [03/Jan/2022 15:38:43] \"GET /refreshData HTTP/1.1\" 200 -\n"
     ]
    },
    {
     "name": "stdout",
     "output_type": "stream",
     "text": [
      "labels now: []\n",
      "data now: []\n"
     ]
    },
    {
     "name": "stderr",
     "output_type": "stream",
     "text": [
      "172.27.0.1 - - [03/Jan/2022 15:38:44] \"GET /refreshData HTTP/1.1\" 200 -\n"
     ]
    },
    {
     "name": "stdout",
     "output_type": "stream",
     "text": [
      "labels now: []\n",
      "data now: []\n"
     ]
    },
    {
     "name": "stderr",
     "output_type": "stream",
     "text": [
      "172.27.0.1 - - [03/Jan/2022 15:38:45] \"GET /refreshData HTTP/1.1\" 200 -\n"
     ]
    },
    {
     "name": "stdout",
     "output_type": "stream",
     "text": [
      "labels now: []\n",
      "data now: []\n"
     ]
    },
    {
     "name": "stderr",
     "output_type": "stream",
     "text": [
      "172.27.0.1 - - [03/Jan/2022 15:38:46] \"GET /refreshData HTTP/1.1\" 200 -\n"
     ]
    },
    {
     "name": "stdout",
     "output_type": "stream",
     "text": [
      "labels now: []\n",
      "data now: []\n"
     ]
    },
    {
     "name": "stderr",
     "output_type": "stream",
     "text": [
      "172.27.0.1 - - [03/Jan/2022 15:38:47] \"GET /refreshData HTTP/1.1\" 200 -\n"
     ]
    },
    {
     "name": "stdout",
     "output_type": "stream",
     "text": [
      "labels now: []\n",
      "data now: []\n"
     ]
    },
    {
     "name": "stderr",
     "output_type": "stream",
     "text": [
      "172.27.0.1 - - [03/Jan/2022 15:38:48] \"GET /refreshData HTTP/1.1\" 200 -\n"
     ]
    },
    {
     "name": "stdout",
     "output_type": "stream",
     "text": [
      "labels now: []\n",
      "data now: []\n"
     ]
    },
    {
     "name": "stderr",
     "output_type": "stream",
     "text": [
      "172.27.0.1 - - [03/Jan/2022 15:38:49] \"GET /refreshData HTTP/1.1\" 200 -\n"
     ]
    },
    {
     "name": "stdout",
     "output_type": "stream",
     "text": [
      "labels now: []\n",
      "data now: []\n"
     ]
    },
    {
     "name": "stderr",
     "output_type": "stream",
     "text": [
      "172.27.0.1 - - [03/Jan/2022 15:38:50] \"GET /refreshData HTTP/1.1\" 200 -\n"
     ]
    },
    {
     "name": "stdout",
     "output_type": "stream",
     "text": [
      "labels now: []\n",
      "data now: []\n"
     ]
    },
    {
     "name": "stderr",
     "output_type": "stream",
     "text": [
      "172.27.0.1 - - [03/Jan/2022 15:38:51] \"GET /refreshData HTTP/1.1\" 200 -\n"
     ]
    },
    {
     "name": "stdout",
     "output_type": "stream",
     "text": [
      "labels now: []\n",
      "data now: []\n"
     ]
    },
    {
     "name": "stderr",
     "output_type": "stream",
     "text": [
      "172.27.0.1 - - [03/Jan/2022 15:38:52] \"GET /refreshData HTTP/1.1\" 200 -\n"
     ]
    },
    {
     "name": "stdout",
     "output_type": "stream",
     "text": [
      "labels now: []\n",
      "data now: []\n"
     ]
    },
    {
     "name": "stderr",
     "output_type": "stream",
     "text": [
      "172.27.0.1 - - [03/Jan/2022 15:38:53] \"GET /refreshData HTTP/1.1\" 200 -\n"
     ]
    },
    {
     "name": "stdout",
     "output_type": "stream",
     "text": [
      "labels now: []\n",
      "data now: []\n"
     ]
    },
    {
     "name": "stderr",
     "output_type": "stream",
     "text": [
      "172.27.0.1 - - [03/Jan/2022 15:38:54] \"GET /refreshData HTTP/1.1\" 200 -\n"
     ]
    },
    {
     "name": "stdout",
     "output_type": "stream",
     "text": [
      "labels now: []\n",
      "data now: []\n"
     ]
    },
    {
     "name": "stderr",
     "output_type": "stream",
     "text": [
      "172.27.0.1 - - [03/Jan/2022 15:38:55] \"GET /refreshData HTTP/1.1\" 200 -\n"
     ]
    },
    {
     "name": "stdout",
     "output_type": "stream",
     "text": [
      "labels now: []\n",
      "data now: []\n"
     ]
    },
    {
     "name": "stderr",
     "output_type": "stream",
     "text": [
      "172.27.0.1 - - [03/Jan/2022 15:38:56] \"GET /refreshData HTTP/1.1\" 200 -\n"
     ]
    },
    {
     "name": "stdout",
     "output_type": "stream",
     "text": [
      "labels now: []\n",
      "data now: []\n"
     ]
    },
    {
     "name": "stderr",
     "output_type": "stream",
     "text": [
      "172.27.0.1 - - [03/Jan/2022 15:38:57] \"GET /refreshData HTTP/1.1\" 200 -\n"
     ]
    },
    {
     "name": "stdout",
     "output_type": "stream",
     "text": [
      "labels now: []\n",
      "data now: []\n"
     ]
    },
    {
     "name": "stderr",
     "output_type": "stream",
     "text": [
      "172.27.0.1 - - [03/Jan/2022 15:38:58] \"GET /refreshData HTTP/1.1\" 200 -\n"
     ]
    },
    {
     "name": "stdout",
     "output_type": "stream",
     "text": [
      "labels now: []\n",
      "data now: []\n"
     ]
    },
    {
     "name": "stderr",
     "output_type": "stream",
     "text": [
      "172.27.0.1 - - [03/Jan/2022 15:38:59] \"GET /refreshData HTTP/1.1\" 200 -\n"
     ]
    },
    {
     "name": "stdout",
     "output_type": "stream",
     "text": [
      "labels now: []\n",
      "data now: []\n"
     ]
    },
    {
     "name": "stderr",
     "output_type": "stream",
     "text": [
      "172.27.0.1 - - [03/Jan/2022 15:39:00] \"GET /refreshData HTTP/1.1\" 200 -\n"
     ]
    },
    {
     "name": "stdout",
     "output_type": "stream",
     "text": [
      "labels now: []\n",
      "data now: []\n"
     ]
    },
    {
     "name": "stderr",
     "output_type": "stream",
     "text": [
      "172.27.0.1 - - [03/Jan/2022 15:39:01] \"GET /refreshData HTTP/1.1\" 200 -\n"
     ]
    },
    {
     "name": "stdout",
     "output_type": "stream",
     "text": [
      "labels now: []\n",
      "data now: []\n"
     ]
    },
    {
     "name": "stderr",
     "output_type": "stream",
     "text": [
      "172.27.0.1 - - [03/Jan/2022 15:39:02] \"GET /refreshData HTTP/1.1\" 200 -\n"
     ]
    },
    {
     "name": "stdout",
     "output_type": "stream",
     "text": [
      "labels now: []\n",
      "data now: []\n"
     ]
    },
    {
     "name": "stderr",
     "output_type": "stream",
     "text": [
      "172.27.0.1 - - [03/Jan/2022 15:39:03] \"GET /refreshData HTTP/1.1\" 200 -\n"
     ]
    },
    {
     "name": "stdout",
     "output_type": "stream",
     "text": [
      "labels now: []\n",
      "data now: []\n"
     ]
    },
    {
     "name": "stderr",
     "output_type": "stream",
     "text": [
      "172.27.0.1 - - [03/Jan/2022 15:39:04] \"GET /refreshData HTTP/1.1\" 200 -\n"
     ]
    },
    {
     "name": "stdout",
     "output_type": "stream",
     "text": [
      "labels now: []\n",
      "data now: []\n"
     ]
    },
    {
     "name": "stderr",
     "output_type": "stream",
     "text": [
      "172.27.0.1 - - [03/Jan/2022 15:39:05] \"GET /refreshData HTTP/1.1\" 200 -\n"
     ]
    },
    {
     "name": "stdout",
     "output_type": "stream",
     "text": [
      "labels now: []\n",
      "data now: []\n"
     ]
    },
    {
     "name": "stderr",
     "output_type": "stream",
     "text": [
      "172.27.0.1 - - [03/Jan/2022 15:39:06] \"GET /refreshData HTTP/1.1\" 200 -\n"
     ]
    },
    {
     "name": "stdout",
     "output_type": "stream",
     "text": [
      "labels now: []\n",
      "data now: []\n"
     ]
    },
    {
     "name": "stderr",
     "output_type": "stream",
     "text": [
      "172.27.0.1 - - [03/Jan/2022 15:39:07] \"GET /refreshData HTTP/1.1\" 200 -\n"
     ]
    },
    {
     "name": "stdout",
     "output_type": "stream",
     "text": [
      "labels now: []\n",
      "data now: []\n"
     ]
    },
    {
     "name": "stderr",
     "output_type": "stream",
     "text": [
      "172.27.0.1 - - [03/Jan/2022 15:39:08] \"GET /refreshData HTTP/1.1\" 200 -\n"
     ]
    },
    {
     "name": "stdout",
     "output_type": "stream",
     "text": [
      "labels now: []\n",
      "data now: []\n"
     ]
    },
    {
     "name": "stderr",
     "output_type": "stream",
     "text": [
      "172.27.0.1 - - [03/Jan/2022 15:39:09] \"GET /refreshData HTTP/1.1\" 200 -\n"
     ]
    },
    {
     "name": "stdout",
     "output_type": "stream",
     "text": [
      "labels now: []\n",
      "data now: []\n"
     ]
    },
    {
     "name": "stderr",
     "output_type": "stream",
     "text": [
      "172.27.0.1 - - [03/Jan/2022 15:39:10] \"GET /refreshData HTTP/1.1\" 200 -\n"
     ]
    },
    {
     "name": "stdout",
     "output_type": "stream",
     "text": [
      "labels now: []\n",
      "data now: []\n"
     ]
    },
    {
     "name": "stderr",
     "output_type": "stream",
     "text": [
      "172.27.0.1 - - [03/Jan/2022 15:39:11] \"GET /refreshData HTTP/1.1\" 200 -\n"
     ]
    },
    {
     "name": "stdout",
     "output_type": "stream",
     "text": [
      "labels now: []\n",
      "data now: []\n"
     ]
    },
    {
     "name": "stderr",
     "output_type": "stream",
     "text": [
      "172.27.0.1 - - [03/Jan/2022 15:39:12] \"GET /refreshData HTTP/1.1\" 200 -\n"
     ]
    },
    {
     "name": "stdout",
     "output_type": "stream",
     "text": [
      "labels now: []\n",
      "data now: []\n"
     ]
    },
    {
     "name": "stderr",
     "output_type": "stream",
     "text": [
      "172.27.0.1 - - [03/Jan/2022 15:39:13] \"GET /refreshData HTTP/1.1\" 200 -\n"
     ]
    },
    {
     "name": "stdout",
     "output_type": "stream",
     "text": [
      "labels now: []\n",
      "data now: []\n"
     ]
    },
    {
     "name": "stderr",
     "output_type": "stream",
     "text": [
      "172.27.0.1 - - [03/Jan/2022 15:39:14] \"GET /refreshData HTTP/1.1\" 200 -\n"
     ]
    },
    {
     "name": "stdout",
     "output_type": "stream",
     "text": [
      "labels now: []\n",
      "data now: []\n"
     ]
    },
    {
     "name": "stderr",
     "output_type": "stream",
     "text": [
      "172.27.0.1 - - [03/Jan/2022 15:39:15] \"GET /refreshData HTTP/1.1\" 200 -\n"
     ]
    },
    {
     "name": "stdout",
     "output_type": "stream",
     "text": [
      "labels now: []\n",
      "data now: []\n"
     ]
    },
    {
     "name": "stderr",
     "output_type": "stream",
     "text": [
      "172.27.0.1 - - [03/Jan/2022 15:39:16] \"GET /refreshData HTTP/1.1\" 200 -\n"
     ]
    },
    {
     "name": "stdout",
     "output_type": "stream",
     "text": [
      "labels now: []\n",
      "data now: []\n"
     ]
    },
    {
     "name": "stderr",
     "output_type": "stream",
     "text": [
      "172.27.0.1 - - [03/Jan/2022 15:39:17] \"GET /refreshData HTTP/1.1\" 200 -\n"
     ]
    },
    {
     "name": "stdout",
     "output_type": "stream",
     "text": [
      "labels now: []\n",
      "data now: []\n"
     ]
    },
    {
     "name": "stderr",
     "output_type": "stream",
     "text": [
      "172.27.0.1 - - [03/Jan/2022 15:39:18] \"GET /refreshData HTTP/1.1\" 200 -\n"
     ]
    },
    {
     "name": "stdout",
     "output_type": "stream",
     "text": [
      "labels now: []\n",
      "data now: []\n"
     ]
    },
    {
     "name": "stderr",
     "output_type": "stream",
     "text": [
      "172.27.0.1 - - [03/Jan/2022 15:39:19] \"GET /refreshData HTTP/1.1\" 200 -\n"
     ]
    },
    {
     "name": "stdout",
     "output_type": "stream",
     "text": [
      "labels now: []\n",
      "data now: []\n"
     ]
    },
    {
     "name": "stderr",
     "output_type": "stream",
     "text": [
      "172.27.0.1 - - [03/Jan/2022 15:39:20] \"GET /refreshData HTTP/1.1\" 200 -\n"
     ]
    },
    {
     "name": "stdout",
     "output_type": "stream",
     "text": [
      "labels now: []\n",
      "data now: []\n"
     ]
    },
    {
     "name": "stderr",
     "output_type": "stream",
     "text": [
      "172.27.0.1 - - [03/Jan/2022 15:39:21] \"GET /refreshData HTTP/1.1\" 200 -\n"
     ]
    },
    {
     "name": "stdout",
     "output_type": "stream",
     "text": [
      "labels now: []\n",
      "data now: []\n"
     ]
    },
    {
     "name": "stderr",
     "output_type": "stream",
     "text": [
      "172.27.0.1 - - [03/Jan/2022 15:39:22] \"GET /refreshData HTTP/1.1\" 200 -\n"
     ]
    },
    {
     "name": "stdout",
     "output_type": "stream",
     "text": [
      "labels now: []\n",
      "data now: []\n"
     ]
    },
    {
     "name": "stderr",
     "output_type": "stream",
     "text": [
      "172.27.0.1 - - [03/Jan/2022 15:39:23] \"GET /refreshData HTTP/1.1\" 200 -\n"
     ]
    },
    {
     "name": "stdout",
     "output_type": "stream",
     "text": [
      "labels now: []\n",
      "data now: []\n"
     ]
    },
    {
     "name": "stderr",
     "output_type": "stream",
     "text": [
      "172.27.0.1 - - [03/Jan/2022 15:39:24] \"GET /refreshData HTTP/1.1\" 200 -\n"
     ]
    },
    {
     "name": "stdout",
     "output_type": "stream",
     "text": [
      "labels now: []\n",
      "data now: []\n"
     ]
    },
    {
     "name": "stderr",
     "output_type": "stream",
     "text": [
      "172.27.0.1 - - [03/Jan/2022 15:39:25] \"GET /refreshData HTTP/1.1\" 200 -\n"
     ]
    },
    {
     "name": "stdout",
     "output_type": "stream",
     "text": [
      "labels now: []\n",
      "data now: []\n"
     ]
    },
    {
     "name": "stderr",
     "output_type": "stream",
     "text": [
      "172.27.0.1 - - [03/Jan/2022 15:39:26] \"GET /refreshData HTTP/1.1\" 200 -\n"
     ]
    },
    {
     "name": "stdout",
     "output_type": "stream",
     "text": [
      "labels now: []\n",
      "data now: []\n"
     ]
    },
    {
     "name": "stderr",
     "output_type": "stream",
     "text": [
      "172.27.0.1 - - [03/Jan/2022 15:39:27] \"GET /refreshData HTTP/1.1\" 200 -\n"
     ]
    },
    {
     "name": "stdout",
     "output_type": "stream",
     "text": [
      "labels now: []\n",
      "data now: []\n"
     ]
    },
    {
     "name": "stderr",
     "output_type": "stream",
     "text": [
      "172.27.0.1 - - [03/Jan/2022 15:39:28] \"GET /refreshData HTTP/1.1\" 200 -\n"
     ]
    },
    {
     "name": "stdout",
     "output_type": "stream",
     "text": [
      "labels now: []\n",
      "data now: []\n"
     ]
    },
    {
     "name": "stderr",
     "output_type": "stream",
     "text": [
      "172.27.0.1 - - [03/Jan/2022 15:39:29] \"GET /refreshData HTTP/1.1\" 200 -\n"
     ]
    },
    {
     "name": "stdout",
     "output_type": "stream",
     "text": [
      "labels now: []\n",
      "data now: []\n"
     ]
    },
    {
     "name": "stderr",
     "output_type": "stream",
     "text": [
      "172.27.0.1 - - [03/Jan/2022 15:39:30] \"GET /refreshData HTTP/1.1\" 200 -\n"
     ]
    },
    {
     "name": "stdout",
     "output_type": "stream",
     "text": [
      "labels now: []\n",
      "data now: []\n"
     ]
    },
    {
     "name": "stderr",
     "output_type": "stream",
     "text": [
      "172.27.0.1 - - [03/Jan/2022 15:39:31] \"GET /refreshData HTTP/1.1\" 200 -\n"
     ]
    },
    {
     "name": "stdout",
     "output_type": "stream",
     "text": [
      "labels now: []\n",
      "data now: []\n"
     ]
    },
    {
     "name": "stderr",
     "output_type": "stream",
     "text": [
      "172.27.0.1 - - [03/Jan/2022 15:39:32] \"GET /refreshData HTTP/1.1\" 200 -\n"
     ]
    },
    {
     "name": "stdout",
     "output_type": "stream",
     "text": [
      "labels now: []\n",
      "data now: []\n"
     ]
    },
    {
     "name": "stderr",
     "output_type": "stream",
     "text": [
      "172.27.0.1 - - [03/Jan/2022 15:39:33] \"GET /refreshData HTTP/1.1\" 200 -\n"
     ]
    },
    {
     "name": "stdout",
     "output_type": "stream",
     "text": [
      "labels now: []\n",
      "data now: []\n"
     ]
    },
    {
     "name": "stderr",
     "output_type": "stream",
     "text": [
      "172.27.0.1 - - [03/Jan/2022 15:39:34] \"GET /refreshData HTTP/1.1\" 200 -\n"
     ]
    },
    {
     "name": "stdout",
     "output_type": "stream",
     "text": [
      "labels now: []\n",
      "data now: []\n"
     ]
    },
    {
     "name": "stderr",
     "output_type": "stream",
     "text": [
      "172.27.0.1 - - [03/Jan/2022 15:39:35] \"GET /refreshData HTTP/1.1\" 200 -\n"
     ]
    },
    {
     "name": "stdout",
     "output_type": "stream",
     "text": [
      "labels now: []\n",
      "data now: []\n"
     ]
    },
    {
     "name": "stderr",
     "output_type": "stream",
     "text": [
      "172.27.0.1 - - [03/Jan/2022 15:39:36] \"GET /refreshData HTTP/1.1\" 200 -\n"
     ]
    },
    {
     "name": "stdout",
     "output_type": "stream",
     "text": [
      "labels now: []\n",
      "data now: []\n"
     ]
    },
    {
     "name": "stderr",
     "output_type": "stream",
     "text": [
      "172.27.0.1 - - [03/Jan/2022 15:39:37] \"GET /refreshData HTTP/1.1\" 200 -\n"
     ]
    },
    {
     "name": "stdout",
     "output_type": "stream",
     "text": [
      "labels now: []\n",
      "data now: []\n"
     ]
    },
    {
     "name": "stderr",
     "output_type": "stream",
     "text": [
      "172.27.0.1 - - [03/Jan/2022 15:39:38] \"GET /refreshData HTTP/1.1\" 200 -\n"
     ]
    },
    {
     "name": "stdout",
     "output_type": "stream",
     "text": [
      "labels now: []\n",
      "data now: []\n"
     ]
    },
    {
     "name": "stderr",
     "output_type": "stream",
     "text": [
      "172.27.0.1 - - [03/Jan/2022 15:39:39] \"GET /refreshData HTTP/1.1\" 200 -\n"
     ]
    },
    {
     "name": "stdout",
     "output_type": "stream",
     "text": [
      "labels now: []\n",
      "data now: []\n"
     ]
    },
    {
     "name": "stderr",
     "output_type": "stream",
     "text": [
      "172.27.0.1 - - [03/Jan/2022 15:39:40] \"GET /refreshData HTTP/1.1\" 200 -\n"
     ]
    },
    {
     "name": "stdout",
     "output_type": "stream",
     "text": [
      "labels now: []\n",
      "data now: []\n"
     ]
    },
    {
     "name": "stderr",
     "output_type": "stream",
     "text": [
      "172.27.0.1 - - [03/Jan/2022 15:39:41] \"GET /refreshData HTTP/1.1\" 200 -\n"
     ]
    },
    {
     "name": "stdout",
     "output_type": "stream",
     "text": [
      "labels now: []\n",
      "data now: []\n"
     ]
    },
    {
     "name": "stderr",
     "output_type": "stream",
     "text": [
      "172.27.0.1 - - [03/Jan/2022 15:39:42] \"GET /refreshData HTTP/1.1\" 200 -\n"
     ]
    },
    {
     "name": "stdout",
     "output_type": "stream",
     "text": [
      "labels now: []\n",
      "data now: []\n"
     ]
    },
    {
     "name": "stderr",
     "output_type": "stream",
     "text": [
      "172.27.0.1 - - [03/Jan/2022 15:39:43] \"GET /refreshData HTTP/1.1\" 200 -\n"
     ]
    },
    {
     "name": "stdout",
     "output_type": "stream",
     "text": [
      "labels now: []\n",
      "data now: []\n"
     ]
    },
    {
     "name": "stderr",
     "output_type": "stream",
     "text": [
      "172.27.0.1 - - [03/Jan/2022 15:39:44] \"GET /refreshData HTTP/1.1\" 200 -\n"
     ]
    },
    {
     "name": "stdout",
     "output_type": "stream",
     "text": [
      "labels now: []\n",
      "data now: []\n"
     ]
    },
    {
     "name": "stderr",
     "output_type": "stream",
     "text": [
      "172.27.0.1 - - [03/Jan/2022 15:39:45] \"GET /refreshData HTTP/1.1\" 200 -\n"
     ]
    },
    {
     "name": "stdout",
     "output_type": "stream",
     "text": [
      "labels now: []\n",
      "data now: []\n"
     ]
    },
    {
     "name": "stderr",
     "output_type": "stream",
     "text": [
      "172.27.0.1 - - [03/Jan/2022 15:39:46] \"GET /refreshData HTTP/1.1\" 200 -\n"
     ]
    },
    {
     "name": "stdout",
     "output_type": "stream",
     "text": [
      "labels now: []\n",
      "data now: []\n"
     ]
    },
    {
     "name": "stderr",
     "output_type": "stream",
     "text": [
      "172.27.0.1 - - [03/Jan/2022 15:39:47] \"GET /refreshData HTTP/1.1\" 200 -\n"
     ]
    },
    {
     "name": "stdout",
     "output_type": "stream",
     "text": [
      "labels now: []\n",
      "data now: []\n"
     ]
    },
    {
     "name": "stderr",
     "output_type": "stream",
     "text": [
      "172.27.0.1 - - [03/Jan/2022 15:39:48] \"GET /refreshData HTTP/1.1\" 200 -\n"
     ]
    },
    {
     "name": "stdout",
     "output_type": "stream",
     "text": [
      "labels now: []\n",
      "data now: []\n"
     ]
    },
    {
     "name": "stderr",
     "output_type": "stream",
     "text": [
      "172.27.0.1 - - [03/Jan/2022 15:39:49] \"GET /refreshData HTTP/1.1\" 200 -\n"
     ]
    },
    {
     "name": "stdout",
     "output_type": "stream",
     "text": [
      "labels now: []\n",
      "data now: []\n"
     ]
    },
    {
     "name": "stderr",
     "output_type": "stream",
     "text": [
      "172.27.0.1 - - [03/Jan/2022 15:39:50] \"GET /refreshData HTTP/1.1\" 200 -\n"
     ]
    },
    {
     "name": "stdout",
     "output_type": "stream",
     "text": [
      "labels now: []\n",
      "data now: []\n"
     ]
    },
    {
     "name": "stderr",
     "output_type": "stream",
     "text": [
      "172.27.0.1 - - [03/Jan/2022 15:39:51] \"GET /refreshData HTTP/1.1\" 200 -\n"
     ]
    },
    {
     "name": "stdout",
     "output_type": "stream",
     "text": [
      "labels now: []\n",
      "data now: []\n"
     ]
    },
    {
     "name": "stderr",
     "output_type": "stream",
     "text": [
      "172.27.0.1 - - [03/Jan/2022 15:39:52] \"GET /refreshData HTTP/1.1\" 200 -\n"
     ]
    },
    {
     "name": "stdout",
     "output_type": "stream",
     "text": [
      "labels now: []\n",
      "data now: []\n"
     ]
    },
    {
     "name": "stderr",
     "output_type": "stream",
     "text": [
      "172.27.0.1 - - [03/Jan/2022 15:39:53] \"GET /refreshData HTTP/1.1\" 200 -\n"
     ]
    },
    {
     "name": "stdout",
     "output_type": "stream",
     "text": [
      "labels now: []\n",
      "data now: []\n"
     ]
    },
    {
     "name": "stderr",
     "output_type": "stream",
     "text": [
      "172.27.0.1 - - [03/Jan/2022 15:39:54] \"GET /refreshData HTTP/1.1\" 200 -\n"
     ]
    },
    {
     "name": "stdout",
     "output_type": "stream",
     "text": [
      "labels now: []\n",
      "data now: []\n"
     ]
    },
    {
     "name": "stderr",
     "output_type": "stream",
     "text": [
      "172.27.0.1 - - [03/Jan/2022 15:39:55] \"GET /refreshData HTTP/1.1\" 200 -\n"
     ]
    },
    {
     "name": "stdout",
     "output_type": "stream",
     "text": [
      "labels now: []\n",
      "data now: []\n"
     ]
    },
    {
     "name": "stderr",
     "output_type": "stream",
     "text": [
      "172.27.0.1 - - [03/Jan/2022 15:39:56] \"GET /refreshData HTTP/1.1\" 200 -\n"
     ]
    },
    {
     "name": "stdout",
     "output_type": "stream",
     "text": [
      "labels now: []\n",
      "data now: []\n"
     ]
    },
    {
     "name": "stderr",
     "output_type": "stream",
     "text": [
      "172.27.0.1 - - [03/Jan/2022 15:39:57] \"GET /refreshData HTTP/1.1\" 200 -\n"
     ]
    },
    {
     "name": "stdout",
     "output_type": "stream",
     "text": [
      "labels now: []\n",
      "data now: []\n"
     ]
    },
    {
     "name": "stderr",
     "output_type": "stream",
     "text": [
      "172.27.0.1 - - [03/Jan/2022 15:39:58] \"GET /refreshData HTTP/1.1\" 200 -\n"
     ]
    },
    {
     "name": "stdout",
     "output_type": "stream",
     "text": [
      "labels now: []\n",
      "data now: []\n"
     ]
    },
    {
     "name": "stderr",
     "output_type": "stream",
     "text": [
      "172.27.0.1 - - [03/Jan/2022 15:39:59] \"GET /refreshData HTTP/1.1\" 200 -\n"
     ]
    },
    {
     "name": "stdout",
     "output_type": "stream",
     "text": [
      "labels now: []\n",
      "data now: []\n"
     ]
    },
    {
     "name": "stderr",
     "output_type": "stream",
     "text": [
      "172.27.0.1 - - [03/Jan/2022 15:40:00] \"GET /refreshData HTTP/1.1\" 200 -\n"
     ]
    },
    {
     "name": "stdout",
     "output_type": "stream",
     "text": [
      "labels now: []\n",
      "data now: []\n"
     ]
    },
    {
     "name": "stderr",
     "output_type": "stream",
     "text": [
      "172.27.0.1 - - [03/Jan/2022 15:40:01] \"GET /refreshData HTTP/1.1\" 200 -\n"
     ]
    },
    {
     "name": "stdout",
     "output_type": "stream",
     "text": [
      "labels now: []\n",
      "data now: []\n"
     ]
    },
    {
     "name": "stderr",
     "output_type": "stream",
     "text": [
      "172.27.0.1 - - [03/Jan/2022 15:40:02] \"GET /refreshData HTTP/1.1\" 200 -\n"
     ]
    },
    {
     "name": "stdout",
     "output_type": "stream",
     "text": [
      "labels now: []\n",
      "data now: []\n"
     ]
    },
    {
     "name": "stderr",
     "output_type": "stream",
     "text": [
      "172.27.0.1 - - [03/Jan/2022 15:40:03] \"GET /refreshData HTTP/1.1\" 200 -\n"
     ]
    },
    {
     "name": "stdout",
     "output_type": "stream",
     "text": [
      "labels now: []\n",
      "data now: []\n"
     ]
    },
    {
     "name": "stderr",
     "output_type": "stream",
     "text": [
      "172.27.0.1 - - [03/Jan/2022 15:40:04] \"GET /refreshData HTTP/1.1\" 200 -\n"
     ]
    },
    {
     "name": "stdout",
     "output_type": "stream",
     "text": [
      "labels now: []\n",
      "data now: []\n"
     ]
    },
    {
     "name": "stderr",
     "output_type": "stream",
     "text": [
      "172.27.0.1 - - [03/Jan/2022 15:40:05] \"GET /refreshData HTTP/1.1\" 200 -\n"
     ]
    },
    {
     "name": "stdout",
     "output_type": "stream",
     "text": [
      "labels now: []\n",
      "data now: []\n"
     ]
    },
    {
     "name": "stderr",
     "output_type": "stream",
     "text": [
      "172.27.0.1 - - [03/Jan/2022 15:40:06] \"GET /refreshData HTTP/1.1\" 200 -\n"
     ]
    },
    {
     "name": "stdout",
     "output_type": "stream",
     "text": [
      "labels now: []\n",
      "data now: []\n"
     ]
    },
    {
     "name": "stderr",
     "output_type": "stream",
     "text": [
      "172.27.0.1 - - [03/Jan/2022 15:40:07] \"GET /refreshData HTTP/1.1\" 200 -\n"
     ]
    },
    {
     "name": "stdout",
     "output_type": "stream",
     "text": [
      "labels now: []\n",
      "data now: []\n"
     ]
    },
    {
     "name": "stderr",
     "output_type": "stream",
     "text": [
      "172.27.0.1 - - [03/Jan/2022 15:40:08] \"GET /refreshData HTTP/1.1\" 200 -\n"
     ]
    },
    {
     "name": "stdout",
     "output_type": "stream",
     "text": [
      "labels now: []\n",
      "data now: []\n"
     ]
    },
    {
     "name": "stderr",
     "output_type": "stream",
     "text": [
      "172.27.0.1 - - [03/Jan/2022 15:40:09] \"GET /refreshData HTTP/1.1\" 200 -\n"
     ]
    },
    {
     "name": "stdout",
     "output_type": "stream",
     "text": [
      "labels now: []\n",
      "data now: []\n"
     ]
    },
    {
     "name": "stderr",
     "output_type": "stream",
     "text": [
      "172.27.0.1 - - [03/Jan/2022 15:40:10] \"GET /refreshData HTTP/1.1\" 200 -\n"
     ]
    },
    {
     "name": "stdout",
     "output_type": "stream",
     "text": [
      "labels now: []\n",
      "data now: []\n"
     ]
    },
    {
     "name": "stderr",
     "output_type": "stream",
     "text": [
      "172.27.0.1 - - [03/Jan/2022 15:40:11] \"GET /refreshData HTTP/1.1\" 200 -\n"
     ]
    },
    {
     "name": "stdout",
     "output_type": "stream",
     "text": [
      "labels now: []\n",
      "data now: []\n"
     ]
    },
    {
     "name": "stderr",
     "output_type": "stream",
     "text": [
      "172.27.0.1 - - [03/Jan/2022 15:40:12] \"GET /refreshData HTTP/1.1\" 200 -\n"
     ]
    },
    {
     "name": "stdout",
     "output_type": "stream",
     "text": [
      "labels now: []\n",
      "data now: []\n"
     ]
    },
    {
     "name": "stderr",
     "output_type": "stream",
     "text": [
      "172.27.0.1 - - [03/Jan/2022 15:40:13] \"GET /refreshData HTTP/1.1\" 200 -\n"
     ]
    },
    {
     "name": "stdout",
     "output_type": "stream",
     "text": [
      "labels now: []\n",
      "data now: []\n"
     ]
    },
    {
     "name": "stderr",
     "output_type": "stream",
     "text": [
      "172.27.0.1 - - [03/Jan/2022 15:40:14] \"GET /refreshData HTTP/1.1\" 200 -\n"
     ]
    },
    {
     "name": "stdout",
     "output_type": "stream",
     "text": [
      "labels now: []\n",
      "data now: []\n"
     ]
    },
    {
     "name": "stderr",
     "output_type": "stream",
     "text": [
      "172.27.0.1 - - [03/Jan/2022 15:40:15] \"GET /refreshData HTTP/1.1\" 200 -\n"
     ]
    },
    {
     "name": "stdout",
     "output_type": "stream",
     "text": [
      "labels now: []\n",
      "data now: []\n"
     ]
    },
    {
     "name": "stderr",
     "output_type": "stream",
     "text": [
      "172.27.0.1 - - [03/Jan/2022 15:40:16] \"GET /refreshData HTTP/1.1\" 200 -\n"
     ]
    },
    {
     "name": "stdout",
     "output_type": "stream",
     "text": [
      "labels now: []\n",
      "data now: []\n"
     ]
    },
    {
     "name": "stderr",
     "output_type": "stream",
     "text": [
      "172.27.0.1 - - [03/Jan/2022 15:40:17] \"GET /refreshData HTTP/1.1\" 200 -\n"
     ]
    },
    {
     "name": "stdout",
     "output_type": "stream",
     "text": [
      "labels now: []\n",
      "data now: []\n"
     ]
    },
    {
     "name": "stderr",
     "output_type": "stream",
     "text": [
      "172.27.0.1 - - [03/Jan/2022 15:40:18] \"GET /refreshData HTTP/1.1\" 200 -\n"
     ]
    },
    {
     "name": "stdout",
     "output_type": "stream",
     "text": [
      "labels now: []\n",
      "data now: []\n"
     ]
    },
    {
     "name": "stderr",
     "output_type": "stream",
     "text": [
      "172.27.0.1 - - [03/Jan/2022 15:40:19] \"GET /refreshData HTTP/1.1\" 200 -\n"
     ]
    },
    {
     "name": "stdout",
     "output_type": "stream",
     "text": [
      "labels now: []\n",
      "data now: []\n"
     ]
    },
    {
     "name": "stderr",
     "output_type": "stream",
     "text": [
      "172.27.0.1 - - [03/Jan/2022 15:40:20] \"GET /refreshData HTTP/1.1\" 200 -\n"
     ]
    },
    {
     "name": "stdout",
     "output_type": "stream",
     "text": [
      "labels now: []\n",
      "data now: []\n"
     ]
    },
    {
     "name": "stderr",
     "output_type": "stream",
     "text": [
      "172.27.0.1 - - [03/Jan/2022 15:40:21] \"GET /refreshData HTTP/1.1\" 200 -\n"
     ]
    },
    {
     "name": "stdout",
     "output_type": "stream",
     "text": [
      "labels now: []\n",
      "data now: []\n"
     ]
    },
    {
     "name": "stderr",
     "output_type": "stream",
     "text": [
      "172.27.0.1 - - [03/Jan/2022 15:40:22] \"GET /refreshData HTTP/1.1\" 200 -\n"
     ]
    },
    {
     "name": "stdout",
     "output_type": "stream",
     "text": [
      "labels now: []\n",
      "data now: []\n"
     ]
    },
    {
     "name": "stderr",
     "output_type": "stream",
     "text": [
      "172.27.0.1 - - [03/Jan/2022 15:40:23] \"GET /refreshData HTTP/1.1\" 200 -\n"
     ]
    },
    {
     "name": "stdout",
     "output_type": "stream",
     "text": [
      "labels now: []\n",
      "data now: []\n"
     ]
    },
    {
     "name": "stderr",
     "output_type": "stream",
     "text": [
      "172.27.0.1 - - [03/Jan/2022 15:40:24] \"GET /refreshData HTTP/1.1\" 200 -\n"
     ]
    },
    {
     "name": "stdout",
     "output_type": "stream",
     "text": [
      "labels now: []\n",
      "data now: []\n"
     ]
    },
    {
     "name": "stderr",
     "output_type": "stream",
     "text": [
      "172.27.0.1 - - [03/Jan/2022 15:40:25] \"GET /refreshData HTTP/1.1\" 200 -\n"
     ]
    },
    {
     "name": "stdout",
     "output_type": "stream",
     "text": [
      "labels now: []\n",
      "data now: []\n"
     ]
    },
    {
     "name": "stderr",
     "output_type": "stream",
     "text": [
      "172.27.0.1 - - [03/Jan/2022 15:40:26] \"GET /refreshData HTTP/1.1\" 200 -\n"
     ]
    },
    {
     "name": "stdout",
     "output_type": "stream",
     "text": [
      "labels now: []\n",
      "data now: []\n"
     ]
    },
    {
     "name": "stderr",
     "output_type": "stream",
     "text": [
      "172.27.0.1 - - [03/Jan/2022 15:40:27] \"GET /refreshData HTTP/1.1\" 200 -\n"
     ]
    },
    {
     "name": "stdout",
     "output_type": "stream",
     "text": [
      "labels now: []\n",
      "data now: []\n"
     ]
    },
    {
     "name": "stderr",
     "output_type": "stream",
     "text": [
      "172.27.0.1 - - [03/Jan/2022 15:40:28] \"GET /refreshData HTTP/1.1\" 200 -\n"
     ]
    },
    {
     "name": "stdout",
     "output_type": "stream",
     "text": [
      "labels now: []\n",
      "data now: []\n"
     ]
    },
    {
     "name": "stderr",
     "output_type": "stream",
     "text": [
      "172.27.0.1 - - [03/Jan/2022 15:40:29] \"GET /refreshData HTTP/1.1\" 200 -\n"
     ]
    },
    {
     "name": "stdout",
     "output_type": "stream",
     "text": [
      "labels now: []\n",
      "data now: []\n"
     ]
    },
    {
     "name": "stderr",
     "output_type": "stream",
     "text": [
      "172.27.0.1 - - [03/Jan/2022 15:40:30] \"GET /refreshData HTTP/1.1\" 200 -\n"
     ]
    },
    {
     "name": "stdout",
     "output_type": "stream",
     "text": [
      "labels now: []\n",
      "data now: []\n"
     ]
    },
    {
     "name": "stderr",
     "output_type": "stream",
     "text": [
      "172.27.0.1 - - [03/Jan/2022 15:40:31] \"GET /refreshData HTTP/1.1\" 200 -\n"
     ]
    },
    {
     "name": "stdout",
     "output_type": "stream",
     "text": [
      "labels now: []\n",
      "data now: []\n"
     ]
    },
    {
     "name": "stderr",
     "output_type": "stream",
     "text": [
      "172.27.0.1 - - [03/Jan/2022 15:40:32] \"GET /refreshData HTTP/1.1\" 200 -\n"
     ]
    },
    {
     "name": "stdout",
     "output_type": "stream",
     "text": [
      "labels now: []\n",
      "data now: []\n"
     ]
    },
    {
     "name": "stderr",
     "output_type": "stream",
     "text": [
      "172.27.0.1 - - [03/Jan/2022 15:40:33] \"GET /refreshData HTTP/1.1\" 200 -\n"
     ]
    },
    {
     "name": "stdout",
     "output_type": "stream",
     "text": [
      "labels now: []\n",
      "data now: []\n"
     ]
    },
    {
     "name": "stderr",
     "output_type": "stream",
     "text": [
      "172.27.0.1 - - [03/Jan/2022 15:40:34] \"GET /refreshData HTTP/1.1\" 200 -\n"
     ]
    },
    {
     "name": "stdout",
     "output_type": "stream",
     "text": [
      "labels now: []\n",
      "data now: []\n"
     ]
    },
    {
     "name": "stderr",
     "output_type": "stream",
     "text": [
      "172.27.0.1 - - [03/Jan/2022 15:40:35] \"GET /refreshData HTTP/1.1\" 200 -\n"
     ]
    },
    {
     "name": "stdout",
     "output_type": "stream",
     "text": [
      "labels now: []\n",
      "data now: []\n"
     ]
    },
    {
     "name": "stderr",
     "output_type": "stream",
     "text": [
      "172.27.0.1 - - [03/Jan/2022 15:40:36] \"GET /refreshData HTTP/1.1\" 200 -\n"
     ]
    },
    {
     "name": "stdout",
     "output_type": "stream",
     "text": [
      "labels now: []\n",
      "data now: []\n"
     ]
    },
    {
     "name": "stderr",
     "output_type": "stream",
     "text": [
      "172.27.0.1 - - [03/Jan/2022 15:40:37] \"GET /refreshData HTTP/1.1\" 200 -\n"
     ]
    },
    {
     "name": "stdout",
     "output_type": "stream",
     "text": [
      "labels now: []\n",
      "data now: []\n"
     ]
    },
    {
     "name": "stderr",
     "output_type": "stream",
     "text": [
      "172.27.0.1 - - [03/Jan/2022 15:40:38] \"GET /refreshData HTTP/1.1\" 200 -\n"
     ]
    },
    {
     "name": "stdout",
     "output_type": "stream",
     "text": [
      "labels now: []\n",
      "data now: []\n"
     ]
    },
    {
     "name": "stderr",
     "output_type": "stream",
     "text": [
      "172.27.0.1 - - [03/Jan/2022 15:40:39] \"GET /refreshData HTTP/1.1\" 200 -\n"
     ]
    },
    {
     "name": "stdout",
     "output_type": "stream",
     "text": [
      "labels now: []\n",
      "data now: []\n"
     ]
    },
    {
     "name": "stderr",
     "output_type": "stream",
     "text": [
      "172.27.0.1 - - [03/Jan/2022 15:40:40] \"GET /refreshData HTTP/1.1\" 200 -\n"
     ]
    },
    {
     "name": "stdout",
     "output_type": "stream",
     "text": [
      "labels now: []\n",
      "data now: []\n"
     ]
    },
    {
     "name": "stderr",
     "output_type": "stream",
     "text": [
      "172.27.0.1 - - [03/Jan/2022 15:40:41] \"GET /refreshData HTTP/1.1\" 200 -\n"
     ]
    },
    {
     "name": "stdout",
     "output_type": "stream",
     "text": [
      "labels now: []\n",
      "data now: []\n"
     ]
    },
    {
     "name": "stderr",
     "output_type": "stream",
     "text": [
      "172.27.0.1 - - [03/Jan/2022 15:40:42] \"GET /refreshData HTTP/1.1\" 200 -\n"
     ]
    },
    {
     "name": "stdout",
     "output_type": "stream",
     "text": [
      "labels now: []\n",
      "data now: []\n"
     ]
    },
    {
     "name": "stderr",
     "output_type": "stream",
     "text": [
      "172.27.0.1 - - [03/Jan/2022 15:40:43] \"GET /refreshData HTTP/1.1\" 200 -\n"
     ]
    },
    {
     "name": "stdout",
     "output_type": "stream",
     "text": [
      "labels now: []\n",
      "data now: []\n"
     ]
    },
    {
     "name": "stderr",
     "output_type": "stream",
     "text": [
      "172.27.0.1 - - [03/Jan/2022 15:40:43] \"GET /refreshData HTTP/1.1\" 200 -\n"
     ]
    },
    {
     "name": "stdout",
     "output_type": "stream",
     "text": [
      "labels now: []\n",
      "data now: []\n"
     ]
    },
    {
     "name": "stderr",
     "output_type": "stream",
     "text": [
      "172.27.0.1 - - [03/Jan/2022 15:40:44] \"GET /refreshData HTTP/1.1\" 200 -\n"
     ]
    },
    {
     "name": "stdout",
     "output_type": "stream",
     "text": [
      "labels now: []\n",
      "data now: []\n"
     ]
    },
    {
     "name": "stderr",
     "output_type": "stream",
     "text": [
      "172.27.0.1 - - [03/Jan/2022 15:40:45] \"GET /refreshData HTTP/1.1\" 200 -\n"
     ]
    },
    {
     "name": "stdout",
     "output_type": "stream",
     "text": [
      "labels now: []\n",
      "data now: []\n"
     ]
    },
    {
     "name": "stderr",
     "output_type": "stream",
     "text": [
      "172.27.0.1 - - [03/Jan/2022 15:40:46] \"GET /refreshData HTTP/1.1\" 200 -\n"
     ]
    },
    {
     "name": "stdout",
     "output_type": "stream",
     "text": [
      "labels now: []\n",
      "data now: []\n"
     ]
    },
    {
     "name": "stderr",
     "output_type": "stream",
     "text": [
      "172.27.0.1 - - [03/Jan/2022 15:40:47] \"GET /refreshData HTTP/1.1\" 200 -\n"
     ]
    },
    {
     "name": "stdout",
     "output_type": "stream",
     "text": [
      "labels now: []\n",
      "data now: []\n"
     ]
    },
    {
     "name": "stderr",
     "output_type": "stream",
     "text": [
      "172.27.0.1 - - [03/Jan/2022 15:40:49] \"GET /refreshData HTTP/1.1\" 200 -\n"
     ]
    },
    {
     "name": "stdout",
     "output_type": "stream",
     "text": [
      "labels now: []\n",
      "data now: []\n"
     ]
    },
    {
     "name": "stderr",
     "output_type": "stream",
     "text": [
      "172.27.0.1 - - [03/Jan/2022 15:40:50] \"GET /refreshData HTTP/1.1\" 200 -\n"
     ]
    },
    {
     "name": "stdout",
     "output_type": "stream",
     "text": [
      "labels now: []\n",
      "data now: []\n"
     ]
    },
    {
     "name": "stderr",
     "output_type": "stream",
     "text": [
      "172.27.0.1 - - [03/Jan/2022 15:40:51] \"GET /refreshData HTTP/1.1\" 200 -\n"
     ]
    },
    {
     "name": "stdout",
     "output_type": "stream",
     "text": [
      "labels now: []\n",
      "data now: []\n"
     ]
    },
    {
     "name": "stderr",
     "output_type": "stream",
     "text": [
      "172.27.0.1 - - [03/Jan/2022 15:40:52] \"GET /refreshData HTTP/1.1\" 200 -\n"
     ]
    },
    {
     "name": "stdout",
     "output_type": "stream",
     "text": [
      "labels now: []\n",
      "data now: []\n"
     ]
    },
    {
     "name": "stderr",
     "output_type": "stream",
     "text": [
      "172.27.0.1 - - [03/Jan/2022 15:40:53] \"GET /refreshData HTTP/1.1\" 200 -\n"
     ]
    },
    {
     "name": "stdout",
     "output_type": "stream",
     "text": [
      "labels now: []\n",
      "data now: []\n"
     ]
    }
   ],
   "source": [
    "from flask import Flask,jsonify,request\n",
    "from flask import render_template\n",
    "import ast\n",
    "\n",
    "app = Flask(__name__)\n",
    "\n",
    "labels = []\n",
    "values = []\n",
    "\n",
    "\n",
    "@app.route(\"/\")\n",
    "def chart():\n",
    "    global labels,values\n",
    "    labels = []\n",
    "    values = []\n",
    "    return render_template('chart.html', values=values, labels=labels)\n",
    "\n",
    "\n",
    "@app.route('/refreshData')\n",
    "def refresh_graph_data():\n",
    "    global labels, values\n",
    "    print(\"labels now: \" + str(labels))\n",
    "    print(\"data now: \" + str(values))\n",
    "    return jsonify(sLabel=labels, sData=values)\n",
    "\n",
    "\n",
    "@app.route('/updateData', methods=['POST'])\n",
    "def update_data_post():\n",
    "    global labels, values\n",
    "    if not request.form or 'data' not in request.form:\n",
    "        return \"error\",400\n",
    "    labels = ast.literal_eval(request.form['label'])\n",
    "    values = ast.literal_eval(request.form['data'])\n",
    "    print(\"labels received: \" + str(labels))\n",
    "    print(\"data received: \" + str(values))\n",
    "    return \"success\",201\n",
    "\n",
    "\n",
    "if __name__ == \"__main__\":\n",
    "    app.run(host='172.27.0.12', port=5001)\n"
   ]
  },
  {
   "cell_type": "code",
   "execution_count": null,
   "metadata": {},
   "outputs": [
    {
     "name": "stdout",
     "output_type": "stream",
     "text": [
      "\u001b)0\u001b7\u001b[?47h\u001b[1;24r\u001b[m\u001b[4l\u001b[m\u001b[?1h\u001b=\u001b[?1h\u001b=\u001b[?1h\u001b=\u001b[m\u001b[m\u001b[H\u001b[2J\u001b[22;23H\u001b[7m[ Directory '/etc' is not writable ]\u001b[m\u0007\u001b[22;25H\u001b[7mFile '/etc/hosts' is un\u001b[m\u001b[1P\u001b[22;58H\u001b[H\u001b[7m  GNU nano 2.9.3                      /etc/hosts                                \u001b[1;79H\u001b[m\r",
      "\u001b[22B\u001b[7m^G\u001b[m Get Help  \u001b[7m^O\u001b[m Write Out \u001b[7m^W\u001b[m Where Is  \u001b[7m^K\u001b[m Cut Text  \u001b[7m^J\u001b[m Justify   \u001b[7m^C\u001b[m Cur Pos\r",
      "\u001b[1B\u001b[7m^X\u001b[m Exit\u001b[6C\u001b[7m^R\u001b[m Read File \u001b[7m^\\\u001b[m Replace   \u001b[7m^U\u001b[m Uncut Text\u001b[7m^T\u001b[m To Spell  \u001b[7m^_\u001b[m Go To Line\r",
      "\u001b[2A\u001b[19A\u001b[m\u001b[m127.0.0.1\u001b[7Clocalhost\r",
      "\u001b[1B::1     localhost ip6-localhost ip6-loopback\r",
      "\u001b[1Bfe00::0 ip6-localnet\r",
      "\u001b[1Bff00::0 ip6-mcastprefix\r",
      "\u001b[1Bff02::1 ip6-allnodes\r",
      "\u001b[1Bff02::2 ip6-allrouters\r",
      "\u001b[1B172.28.0.12     3a776f205613\r",
      "\u001b[6A"
     ]
    }
   ],
   "source": [
    "!nano /etc/hosts"
   ]
  },
  {
   "cell_type": "code",
   "execution_count": null,
   "metadata": {},
   "outputs": [],
   "source": []
  }
 ],
 "metadata": {
  "kernelspec": {
   "display_name": "Python 3",
   "language": "python",
   "name": "python3"
  },
  "language_info": {
   "codemirror_mode": {
    "name": "ipython",
    "version": 3
   },
   "file_extension": ".py",
   "mimetype": "text/x-python",
   "name": "python",
   "nbconvert_exporter": "python",
   "pygments_lexer": "ipython3",
   "version": "3.7.6"
  }
 },
 "nbformat": 4,
 "nbformat_minor": 5
}
