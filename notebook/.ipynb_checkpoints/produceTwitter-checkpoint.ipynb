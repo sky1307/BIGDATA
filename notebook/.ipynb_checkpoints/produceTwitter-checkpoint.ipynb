{
 "cells": [
  {
   "cell_type": "code",
   "execution_count": 1,
   "metadata": {},
   "outputs": [],
   "source": [
    "from pykafka import KafkaClient\n",
    "import json\n",
    "import tweepy"
   ]
  },
  {
   "cell_type": "code",
   "execution_count": 2,
   "metadata": {},
   "outputs": [],
   "source": [
    "hosts = 'kafka-1:9092,kafka-2:9092'"
   ]
  },
  {
   "cell_type": "code",
   "execution_count": 3,
   "metadata": {},
   "outputs": [],
   "source": [
    "client = KafkaClient(hosts=hosts)\n",
    "topic = client.topics[bytes('tweet', encoding='utf-8')]\n",
    "producer = topic.get_producer()"
   ]
  },
  {
   "cell_type": "code",
   "execution_count": 4,
   "metadata": {},
   "outputs": [],
   "source": [
    "%run ./TWITTER_API_KEY.ipynb"
   ]
  },
  {
   "cell_type": "code",
   "execution_count": 5,
   "metadata": {},
   "outputs": [],
   "source": [
    "class TweetAPI(tweepy.Stream):\n",
    "    def on_status(self, status):\n",
    "        text = ''\n",
    "        try:\n",
    "            try:\n",
    "                text = status.extended_tweet['full_text']\n",
    "            except:\n",
    "                text = status.text\n",
    "            time = status._json['created_at']\n",
    "            user = status._json['user']['screen_name']\n",
    "            place= status._json['place']['name']\n",
    "            msg = json.dumps({'time':time,\n",
    "                              'user':user,\n",
    "                              'place':place,\n",
    "                              'text': text})\n",
    "            print('msg: ', msg)\n",
    "            producer.produce(bytes(msg, encoding='utf-8'))\n",
    "        except:\n",
    "            print(\"Error\")\n",
    "            print('-----------------------------------------------------')"
   ]
  },
  {
   "cell_type": "code",
   "execution_count": null,
   "metadata": {},
   "outputs": [
    {
     "name": "stdout",
     "output_type": "stream",
     "text": [
      "msg:  {\"time\": \"Sun Jan 02 13:00:45 +0000 2022\", \"user\": \"iembot_byz\", \"place\": \"Montana, USA\", \"text\": \"Big Timber,MT (6S0) ASOS reports gust of 51 knots (58.7 mph) from W @ 1255Z -- K6S0 021255Z AUTO 27043G51KT 10SM CLR M03/M14 A2998 RMK A01\"}\n",
      "msg:  {\"time\": \"Sun Jan 02 13:00:45 +0000 2022\", \"user\": \"iembot_grr\", \"place\": \"Dutton, MI\", \"text\": \"At 7:00 AM EST, 1 NE Cutlerville [Kent Co, MI] PUBLIC reports SNOW of 5.50 INCH https://t.co/kZjXhNCrM6\"}\n",
      "msg:  {\"time\": \"Sun Jan 02 13:00:46 +0000 2022\", \"user\": \"Raven_of_Kotos\", \"place\": \"Cape Coral, FL\", \"text\": \"Same league, different countries. One is trying to protect it's citizens and the other gave up on protecting them from the very beginning of the pandemic.\"}\n",
      "msg:  {\"time\": \"Sun Jan 02 13:00:46 +0000 2022\", \"user\": \"Shubham_K_Bajaj\", \"place\": \"Pune, India\", \"text\": \"Life is a ice-cream, put it in bowl \\ud83e\\udd63\\n(Katori) enjoy it even after melted.\\n#fact\"}\n",
      "msg:  {\"time\": \"Sun Jan 02 13:00:46 +0000 2022\", \"user\": \"mguerreiro_77\", \"place\": \"Beja, Portugal\", \"text\": \"@Jardel1642 Jardell\"}\n",
      "msg:  {\"time\": \"Sun Jan 02 13:00:46 +0000 2022\", \"user\": \"slick_mula\", \"place\": \"West Palm Beach, FL\", \"text\": \"Tryna see why I get up at 7am even on my off days\"}\n",
      "msg:  {\"time\": \"Sun Jan 02 13:00:46 +0000 2022\", \"user\": \"iembot_grr\", \"place\": \"Caledonia, MI\", \"text\": \"At 7:59 AM EST, Caledonia [Kent Co, MI] PUBLIC reports SNOW of 3.80 INCH https://t.co/bzRQan1WYP\"}\n",
      "msg:  {\"time\": \"Sun Jan 02 13:00:47 +0000 2022\", \"user\": \"Azel100x\", \"place\": \"\\u0130stanbul, T\\u00fcrkiye\", \"text\": \"#SHINJA\\nBuy THE DIP!!!\\n43.3K HOLDERS\\ud83e\\udd77\\ud83d\\ude80\\ud83d\\udd25\\n(50K.2sekstlyonWILL BE BURNED)\\n#Shibnobi\\n#Trustwallet\\n#Uniswapv2\\n#Btc\\n#Ethereum\\n#BNB\\n#Binance\\n#BSC\\n#shiba\\n#Crypto\\n#Solana\\n#Gateio\\n#BitMart\\n#METAMUSK\\n#CoinMarketCap\\n#metavarse\\nContract Address\\n0xab167e816e4d76089119900e941befdfa37d6b32 https://t.co/188dxDQEHU\"}\n",
      "msg:  {\"time\": \"Sun Jan 02 13:00:47 +0000 2022\", \"user\": \"ParwezAliKhan1\", \"place\": \"Bengaluru South, India\", \"text\": \"@Daairy_milkk Human being\"}\n",
      "msg:  {\"time\": \"Sun Jan 02 13:00:47 +0000 2022\", \"user\": \"fadibahri\", \"place\": \"Coral Gables, FL\", \"text\": \"Helping raise the floor one purchase at a time @Noodles_NFT https://t.co/6B8rm7xMHN\"}\n",
      "msg:  {\"time\": \"Sun Jan 02 13:00:47 +0000 2022\", \"user\": \"LetMualTellit\", \"place\": \"Bowie, MD\", \"text\": \"@Domo_DMV Yeah. Nothing serious.\"}\n",
      "msg:  {\"time\": \"Sun Jan 02 13:00:48 +0000 2022\", \"user\": \"Collectio1Johns\", \"place\": \"Nakuru, Kenya\", \"text\": \"The rich man did not take seriously the promises of GOD and when he died he went to hell. He woke up in hell meaning suddenly.\\n#GlobalWordFest https://t.co/ufj8Q9h4wK\"}\n",
      "msg:  {\"time\": \"Sun Jan 02 13:00:48 +0000 2022\", \"user\": \"Thousand_folddd\", \"place\": \"Jammu & Kashmir\", \"text\": \"@Ketan_9311 With my \\ud83d\\udcda\"}\n",
      "msg:  {\"time\": \"Sun Jan 02 13:00:49 +0000 2022\", \"user\": \"Anamika32608858\", \"place\": \"Bareilly Jn. Railway Station\", \"text\": \"It's tasteless and very poor quality,no on is not replying on my zomoto\"}\n",
      "msg:  {\"time\": \"Sun Jan 02 13:00:48 +0000 2022\", \"user\": \"crisquemajaes\", \"place\": \"Abejar, Espa\\u00f1a\", \"text\": \"Soria \\ud83e\\udd70 https://t.co/hajbrHCOHA\"}\n",
      "msg:  {\"time\": \"Sun Jan 02 13:00:49 +0000 2022\", \"user\": \"everyEarthquake\", \"place\": \"Nevada, USA\", \"text\": \"USGS reports a M1.1 earthquake, 27 km SSE of Mina, Nevada on 1/2/22 @ 12:55:05 UTC https://t.co/tXUOrDG1XI #earthquake\"}\n",
      "msg:  {\"time\": \"Sun Jan 02 13:00:49 +0000 2022\", \"user\": \"prateek1793\", \"place\": \"New Delhi, India\", \"text\": \"Well I ended 2021 with a PF gain of only 14.5%. \\n\\nCould it have been higher? Yes. \\nCould it have been lower? Yes.\\n\\nI made mistakes, learned new things but eventually was able to construct a portfolio according to my risk appetite and I'm happy where it has led so far.\"}\n",
      "msg:  {\"time\": \"Sun Jan 02 13:00:49 +0000 2022\", \"user\": \"InsaneBus\", \"place\": \"South Carolina, USA\", \"text\": \"@thehill Quick... Draw up a list of undesirables to export to Mars. Every member of Congress would be an excellent start followed by every State Governor...\"}\n",
      "msg:  {\"time\": \"Sun Jan 02 13:00:50 +0000 2022\", \"user\": \"oldfashionednyc\", \"place\": \"Kenmore, NY\", \"text\": \"Going to my first winter game in a long time. #billsmafia , snow pants? Yes or no? \\n\\u2764\\ufe0f\\ud83e\\uddac\\ud83d\\udc99\"}\n",
      "msg:  {\"time\": \"Sun Jan 02 13:00:51 +0000 2022\", \"user\": \"IronPig19\", \"place\": \"Salt Lake City, UT\", \"text\": \"Oh I gotcha bud. Apologies on that. I incorrectly gathered you were saying Rusnak quit on the team midseason and the implication was let Seattle take our captain. You\\u2019re absolutely correct in that Freddy tossed in the towel in the team again, apologies sir.\"}\n",
      "msg:  {\"time\": \"Sun Jan 02 13:00:51 +0000 2022\", \"user\": \"BruceHeerssen\", \"place\": \"Kansas, USA\", \"text\": \"@Fourmyle1953 @Jo_IsABitch \\\"And mah truck said it don't wanna drive for me no more\\nSo I said its mamma was a truck stop whore\\\"\"}\n",
      "msg:  {\"time\": \"Sun Jan 02 13:00:51 +0000 2022\", \"user\": \"DJSydneyLxve\", \"place\": \"Victoria Island, Nigeria\", \"text\": \"@KaoshiNetwork hello I\\u2019ve sent a DM\"}\n",
      "msg:  {\"time\": \"Sun Jan 02 13:00:51 +0000 2022\", \"user\": \"PearlRadioKe\", \"place\": \"Deliverance Church Kasarani\", \"text\": \"The back to school concert is ongoing.\\nAre you on your way?\\n\\n#PearlRadioKe https://t.co/lu4JoUEeTQ\"}\n",
      "msg:  {\"time\": \"Sun Jan 02 13:00:52 +0000 2022\", \"user\": \"IkwapMatthew\", \"place\": \"Kampala, Uganda\", \"text\": \"Got to love Ugandans!\"}\n",
      "msg:  {\"time\": \"Sun Jan 02 13:00:52 +0000 2022\", \"user\": \"Johnson34716175\", \"place\": \"Elkins, AR\", \"text\": \"Genesis 1:1\\u20139. Father, I am in awe of your eternal power. In the name of the Almighty power of Jesus. Amen.\"}\n",
      "msg:  {\"time\": \"Sun Jan 02 13:00:52 +0000 2022\", \"user\": \"Jenice_Aisha\", \"place\": \"Columbus, OH\", \"text\": \"I didn't sleep at all omg\"}\n",
      "msg:  {\"time\": \"Sun Jan 02 13:00:52 +0000 2022\", \"user\": \"OVVeterans\", \"place\": \"Wintersville, OH\", \"text\": \"An author. https://t.co/5pOgl6LO3S Seems like an observer of people.\"}\n",
      "msg:  {\"time\": \"Sun Jan 02 13:00:52 +0000 2022\", \"user\": \"jsolo718\", \"place\": \"Philadelphia, PA\", \"text\": \"@SophieMargiela someone is using your pics and videos on Facebook scamming people https://t.co/e8HhyeUZHk\"}\n",
      "msg:  {\"time\": \"Sun Jan 02 13:00:52 +0000 2022\", \"user\": \"saabeard\", \"place\": \"Pennsylvania, USA\", \"text\": \"lol. He think we give af what he saying. We know u can be both\"}\n",
      "msg:  {\"time\": \"Sun Jan 02 13:00:52 +0000 2022\", \"user\": \"DilipNepali19\", \"place\": \"Vododara, India\", \"text\": \"@DilipNepali19\\n\\n'Covid Poses Challenges, But Cannot Stall India's Growth': PM Modi Calls for Full Caution &amp; Vigilance\\nhttps://t.co/KVAN55WRr4\\n\\nvia NaMo App https://t.co/pRaPTxfnaO\"}\n",
      "msg:  {\"time\": \"Sun Jan 02 13:00:53 +0000 2022\", \"user\": \"thamoonnback\", \"place\": \"Paw Paw, MI\", \"text\": \"@LordGets @cxltrss White power brother\"}\n",
      "msg:  {\"time\": \"Sun Jan 02 13:00:54 +0000 2022\", \"user\": \"gome_guyMw\", \"place\": \"Malawi\", \"text\": \"2022 goal https://t.co/waJd8kyL4t\"}\n",
      "msg:  {\"time\": \"Sun Jan 02 13:00:54 +0000 2022\", \"user\": \"IanMcq87\", \"place\": \"Georgia, USA\", \"text\": \"@CantGuardMeloV2 @Thibodeaux2NYG Neither will unfortunately\"}\n",
      "msg:  {\"time\": \"Sun Jan 02 13:00:55 +0000 2022\", \"user\": \"wambuisophie\", \"place\": \"Nairobi, Kenya\", \"text\": \"A community of friends and fellow readers serves this goal well by providing additional insight, accountability, and joy on the journey. We are meant to read together because we are meant to walk together after the Lord, the living Word.\"}\n",
      "msg:  {\"time\": \"Sun Jan 02 13:00:55 +0000 2022\", \"user\": \"profstan72\", \"place\": \"Vestavia Hills, AL\", \"text\": \"@catperson8 @hrkbenowen I\\u2019ve been having them since the first time I ever saw or  heard her.\"}\n",
      "msg:  {\"time\": \"Sun Jan 02 13:00:55 +0000 2022\", \"user\": \"chunkypnutbutta\", \"place\": \"Boston, MA\", \"text\": \"Who can I speak French with? I\\u2019d like to learn enough to get by over there. It won\\u2019t stick if I don\\u2019t speak it daily.\"}\n",
      "msg:  {\"time\": \"Sun Jan 02 13:00:55 +0000 2022\", \"user\": \"KoolnewsBracken\", \"place\": \"Dauphin, PA\", \"text\": \"Good Sunday morning @kaylamarie_tv &amp; to @Eric_Fink https://t.co/nOihqFA6D5\"}\n",
      "msg:  {\"time\": \"Sun Jan 02 13:00:56 +0000 2022\", \"user\": \"westie_2011\", \"place\": \"Monroe, NY\", \"text\": \"@terminalyill3st @USEmCee His account has been deleted.\"}\n",
      "msg:  {\"time\": \"Sun Jan 02 13:00:56 +0000 2022\", \"user\": \"Liverpoolfc46\", \"place\": \"Guelph, Ontario\", \"text\": \"@Guilty5Pleasure @Cath74Kat Plus state at Cath\"}\n",
      "msg:  {\"time\": \"Sun Jan 02 13:00:56 +0000 2022\", \"user\": \"WXZLE\", \"place\": \"Ekiti, Nigeria\", \"text\": \"@Hitee_ Whenever you say he would win SW pls add 'the money bag' part.\"}\n"
     ]
    },
    {
     "name": "stdout",
     "output_type": "stream",
     "text": [
      "msg:  {\"time\": \"Sun Jan 02 13:00:56 +0000 2022\", \"user\": \"Muhamma54315706\", \"place\": \"Dubai, United Arab Emirates\", \"text\": \"black\"}\n",
      "msg:  {\"time\": \"Sun Jan 02 13:00:57 +0000 2022\", \"user\": \"Jloadin2k\", \"place\": \"Accra, Ghana\", \"text\": \"@dwayne_lz22 More Life My Brother \\ud83d\\ude4f\\ud83c\\udffe\\ud83c\\udf89\\u2764\\ufe0f\"}\n",
      "msg:  {\"time\": \"Sun Jan 02 13:00:57 +0000 2022\", \"user\": \"Abhi_Mishra7\", \"place\": \"Mumbai, India\", \"text\": \"Mockery of Social distancing wearing of masks and gathering in huge numbers besides exhibition of vulgar dance performances by females at @GanpatPatilnagar Banner of sponsors clearly seen Request immediate action @mybmc @CMOmaharashtra @MumbaiPolice @richapintoi @AUThackeray https://t.co/SrvxNVhpYm\"}\n",
      "msg:  {\"time\": \"Sun Jan 02 13:00:57 +0000 2022\", \"user\": \"NOUVEAUXDEBUTS\", \"place\": \"Wyoming, OH\", \"text\": \"@badwebsites Put them under your rose bushes, best fertilizer money can buy.\"}\n",
      "msg:  {\"time\": \"Sun Jan 02 13:00:57 +0000 2022\", \"user\": \"UrbanRedneck72\", \"place\": \"Albuquerque, NM\", \"text\": \"@Intuitivempress Fine as hell\"}\n",
      "msg:  {\"time\": \"Sun Jan 02 13:00:57 +0000 2022\", \"user\": \"GandalfPirate\", \"place\": \"Hamilton, Ontario\", \"text\": \"@chancefaulkner Starting my 52 weeks of church history today! Part of my weekly Sunday morning devotions. Looking forward to a yearlong foray into learning more of God's dealings in the world and in his church. https://t.co/TUwPM1eUha\"}\n",
      "msg:  {\"time\": \"Sun Jan 02 13:00:57 +0000 2022\", \"user\": \"coachsagasta\", \"place\": \"Bullhead City, AZ\", \"text\": \"@melrobbins Thank you Mel https://t.co/ieGOh45Jbl\"}\n",
      "msg:  {\"time\": \"Sun Jan 02 13:00:58 +0000 2022\", \"user\": \"KriegerSports\", \"place\": \"Pendleton, IN\", \"text\": \"Claim your 2022 truth.\\n\\nI will be happy this year.\\n\\nI will be a better friend, husband, son, brother, person.\\n\\nI will meet Kevin Durant and steal his basketball talent like a Monstar.\"}\n",
      "msg:  {\"time\": \"Sun Jan 02 13:00:58 +0000 2022\", \"user\": \"iembot_mrx\", \"place\": \"Tennessee, USA\", \"text\": \"At 11:00 PM EST, 3 ESE Wears Valley [Sevier Co, TN] MESONET reports NON-TSTM WND GST of M72 MPH. RECORDED AT COVE MOUNTAIN WIND TOWER. https://t.co/nSAAbDraui\"}\n",
      "msg:  {\"time\": \"Sun Jan 02 13:00:58 +0000 2022\", \"user\": \"Heather89698048\", \"place\": \"Yarmouth, Nova Scotia\", \"text\": \"@juju521 Thank-you very much Juju!!\\ud83d\\ude0a\"}\n",
      "msg:  {\"time\": \"Sun Jan 02 13:00:59 +0000 2022\", \"user\": \"DariusNBurke\", \"place\": \"Vernon, CT\", \"text\": \"i miss 1900. https://t.co/0YX1ZVQeaU\"}\n",
      "msg:  {\"time\": \"Sun Jan 02 13:00:59 +0000 2022\", \"user\": \"RobertRoyalXXX\", \"place\": \"Teufenthal (AG), Schweiz\", \"text\": \"@G4Wet Omg do know how much I just enjoy sometimes having days off and being disconnected to my dick, iam@do the opposite of being daily horny \\ud83d\\ude02\"}\n",
      "msg:  {\"time\": \"Sun Jan 02 13:00:59 +0000 2022\", \"user\": \"HDHridoy441\", \"place\": \"Dacca, Bangladesh\", \"text\": \"@dpzrup Done\"}\n",
      "msg:  {\"time\": \"Sun Jan 02 13:00:59 +0000 2022\", \"user\": \"iembot_mrx\", \"place\": \"Tennessee, USA\", \"text\": \"At 8:00 PM EST, 2 NNE Happy Valley [Blount Co, TN] MESONET reports NON-TSTM WND GST of M53 MPH. RECORDED AT LOOK ROCK WIND TOWER. https://t.co/6l5xhJEY5b\"}\n",
      "msg:  {\"time\": \"Sun Jan 02 13:00:59 +0000 2022\", \"user\": \"MachineniManoj\", \"place\": \"New Delhi, India\", \"text\": \"@crazyytabbar @TheDeshBhakt @ArvindKejriwal How much your income has increased in last seven years?? \\n And see the % of cost of essentials hv increased ?? And how much you r saving without asking for help of your parents or your partner??\"}\n",
      "msg:  {\"time\": \"Sun Jan 02 13:00:59 +0000 2022\", \"user\": \"VickieEtherton\", \"place\": \"Newport, TN\", \"text\": \"@KathieLGifford Amen and Amen !\"}\n",
      "msg:  {\"time\": \"Sun Jan 02 13:01:00 +0000 2022\", \"user\": \"rinku9780\", \"place\": \"Lansdale, PA\", \"text\": \"@BiggBoss @realsehajpal #BBKingPratik\\nVIEWERS FAVOURITE PRATIK             Strength does not come with physical capacity it comes an indomitable inner will\"}\n",
      "msg:  {\"time\": \"Sun Jan 02 13:01:00 +0000 2022\", \"user\": \"joeybills_\", \"place\": \"Greater Accra, Ghana\", \"text\": \"One believes he can do better than he\\u2019s doing now and the other just knows he\\u2019s not a good footballer\"}\n",
      "msg:  {\"time\": \"Sun Jan 02 13:01:00 +0000 2022\", \"user\": \"BinaniLal\", \"place\": \"Indore, India\", \"text\": \"@Diyasharma_1 Good evening celiberate with some new dimensions\"}\n",
      "msg:  {\"time\": \"Sun Jan 02 13:01:00 +0000 2022\", \"user\": \"dumziee\", \"place\": \"Anambra, Nigeria\", \"text\": \"@tobby_stark Because we pay very very well\"}\n",
      "msg:  {\"time\": \"Sun Jan 02 13:01:00 +0000 2022\", \"user\": \"Biamiyeyy\", \"place\": \"Riyadh, Kingdom of Saudi Arabia\", \"text\": \"@QueenRehj U want me to pack it for you?\"}\n",
      "msg:  {\"time\": \"Sun Jan 02 13:01:01 +0000 2022\", \"user\": \"Sourabh_Chawdry\", \"place\": \"New Delhi, India\", \"text\": \"@AAPDelhi @CMODelhi \\n\\nLovely Delhi\"}\n",
      "msg:  {\"time\": \"Sun Jan 02 13:01:01 +0000 2022\", \"user\": \"tmj_orl_realest\", \"place\": \"Orlando, FL\", \"text\": \"Interested in a job in #Orlando, FL? This could be a great fit. Click the link in our bio to apply: Property Manager (Bilingual) at UDR #RealEstate\"}\n",
      "msg:  {\"time\": \"Sun Jan 02 13:01:01 +0000 2022\", \"user\": \"the_Jameson\", \"place\": \"Chapel Hill, NC\", \"text\": \"@joshwgoodson at least you didn't inbound the creamer directly to the trash can\"}\n",
      "msg:  {\"time\": \"Sun Jan 02 13:01:01 +0000 2022\", \"user\": \"PiousSesi\", \"place\": \"Accra, Ghana\", \"text\": \"@nation_012 \\ud83e\\udd23\\ud83e\\udd23 fixed Match\"}\n",
      "msg:  {\"time\": \"Sun Jan 02 13:01:01 +0000 2022\", \"user\": \"codyblackedout\", \"place\": \"Vancouver, British Columbia\", \"text\": \"My food baby gently weeps\"}\n",
      "msg:  {\"time\": \"Sun Jan 02 13:01:01 +0000 2022\", \"user\": \"tmj_cae_purch\", \"place\": \"South Carolina, USA\", \"text\": \"We are committed to creating a diverse culture here at Flex. If you enjoy teamwork in a fun and supportive environment, this just might be for you! Join our team as a Materials Analyst in #Columbia, SC. Click to learn more. https://t.co/67Oclz7c3I #Purchasing\"}\n",
      "msg:  {\"time\": \"Sun Jan 02 13:01:01 +0000 2022\", \"user\": \"ItzGetty\", \"place\": \"Houston, TX\", \"text\": \"Game day!!!\\n\\nTrey Lance helps lock the 49ers into the playoffs today.\"}\n",
      "msg:  {\"time\": \"Sun Jan 02 13:01:01 +0000 2022\", \"user\": \"awashington620\", \"place\": \"Philadelphia, PA\", \"text\": \"@ErieNotEerie Good morning Erie.\"}\n",
      "msg:  {\"time\": \"Sun Jan 02 13:01:02 +0000 2022\", \"user\": \"pdxfirelog\", \"place\": \"Portland, OR\", \"text\": \"MISCF - UNKNOWN TYPE OF FIRE PROBLEM at 11000 NE SANDY BLVD, PORT [Portland Fire #RP22000000420] 04:49 #pdx911\"}\n",
      "msg:  {\"time\": \"Sun Jan 02 13:01:02 +0000 2022\", \"user\": \"DarrenSchaefer7\", \"place\": \"Smyrna, TN\", \"text\": \"@Anna_C_Arney Titan up\"}\n",
      "msg:  {\"time\": \"Sun Jan 02 13:01:02 +0000 2022\", \"user\": \"CerulianJ\", \"place\": \"Patiala, India\", \"text\": \"@GawxArt Woooooow, you'll rock in that for sure.\"}\n",
      "msg:  {\"time\": \"Sun Jan 02 13:01:02 +0000 2022\", \"user\": \"LoriGou26110499\", \"place\": \"Bakersfield, CA\", \"text\": \"@TheResoluteLife Oh Iron Will that was a close call lol, that wine looks delicious please let me know how it tastes.\"}\n",
      "msg:  {\"time\": \"Sun Jan 02 13:01:02 +0000 2022\", \"user\": \"beebree_xo\", \"place\": \"Bahamas\", \"text\": \"I sometimes wonder where I\\u2019d be if I can just do it all over with the things I know now\\u2026. But things happen for a reason \\u2026.\"}\n",
      "msg:  {\"time\": \"Sun Jan 02 13:01:02 +0000 2022\", \"user\": \"JhawkRich\", \"place\": \"The Colony, TX\", \"text\": \"@TonyJusticeAJFA No shame brother...no shame at all.\"}\n",
      "msg:  {\"time\": \"Sun Jan 02 13:01:03 +0000 2022\", \"user\": \"MonicaRainwate6\", \"place\": \"Piney Branch Bridge\", \"text\": \"FEELING GOOD AT HOME.Doing a random giveaway of $300 to the first 50 pple TO\\n\\n\\ud83c\\udf81RT this tweet \\n\\ud83c\\udf81Tag a two friends\\n\\ud83c\\udf81Follow me\\n\\ud83c\\udf81Comments DONE\\n\\ud83c\\udf81 turn on notifications \\n\\nThe winners will be announced on 2hrs \\nGood luck! #cashapp #Cashappblessing #Giveaway #GiveawayAlert #PayPay https://t.co/ck4octldGI\"}\n",
      "msg:  {\"time\": \"Sun Jan 02 13:01:03 +0000 2022\", \"user\": \"dreamtheater06\", \"place\": \"Ankara, T\\u00fcrkiye\", \"text\": \"I'm at Arabica Coffee House https://t.co/XkvtDFvx5m\"}\n",
      "msg:  {\"time\": \"Sun Jan 02 13:01:03 +0000 2022\", \"user\": \"KKamboh\", \"place\": \"Punjab, Pakistan\", \"text\": \"@mwaqas184 02 hours \\ud83d\\ude02\"}\n",
      "msg:  {\"time\": \"Sun Jan 02 13:01:03 +0000 2022\", \"user\": \"satvikmareedu\", \"place\": \"Harrison, NJ\", \"text\": \"@Dr__Bangera i dream of doing specific experiments yet times. I dont think the curiosity in you dies. After aging i guess we dont forget curiousity but what we think keeps changing rapidly.\"}\n"
     ]
    },
    {
     "name": "stdout",
     "output_type": "stream",
     "text": [
      "msg:  {\"time\": \"Sun Jan 02 13:01:04 +0000 2022\", \"user\": \"Duck2Lightning\", \"place\": \"Marana, AZ\", \"text\": \"@MrGlass61145253 @EsqHumbug @GBNEWS Whining \\\"I'm right, you're wrong\\\" proves nothing when you are actually provably wrong\"}\n",
      "msg:  {\"time\": \"Sun Jan 02 13:01:04 +0000 2022\", \"user\": \"ramavenu\", \"place\": \"Saidapet, India\", \"text\": \"If restaurants can run on 50 per cent occupancy, why can't gymnasiums - quote from the post \\ud83d\\ude42. Aren't gyms allowed to function now ? Thought all are open.\\nhttps://t.co/4CKppY7bSB\"}\n",
      "msg:  {\"time\": \"Sun Jan 02 13:01:04 +0000 2022\", \"user\": \"DonovanTurney\", \"place\": \"Tennessee, USA\", \"text\": \"@tweettruth2me So let\\u2019s be sure to test the asymptotic and fire half our hospital staff\"}\n",
      "msg:  {\"time\": \"Sun Jan 02 13:01:05 +0000 2022\", \"user\": \"AndreaCole74880\", \"place\": \"Oklahoma, USA\", \"text\": \"@AmaioAlfred Is that the contract company's garage?\"}\n",
      "msg:  {\"time\": \"Sun Jan 02 13:01:05 +0000 2022\", \"user\": \"DilipNepali19\", \"place\": \"Vododara, India\", \"text\": \"@DilipNepali19\\n\\nIndia will not allow pandemic to dampen development process: PM\\nhttps://t.co/UEGYdrtMJQ\\n\\nvia NaMo App https://t.co/s4nCbJNblM\"}\n",
      "msg:  {\"time\": \"Sun Jan 02 13:01:05 +0000 2022\", \"user\": \"animasgirl\", \"place\": \"Durango, CO\", \"text\": \"@gingernell Good morning \\ud83c\\udf1e\"}\n",
      "msg:  {\"time\": \"Sun Jan 02 13:01:05 +0000 2022\", \"user\": \"__madnorth\", \"place\": \"Los Angeles, CA\", \"text\": \"NOTHIN THE SAME\"}\n",
      "msg:  {\"time\": \"Sun Jan 02 13:01:06 +0000 2022\", \"user\": \"gang_cave\", \"place\": \"Edgewood, MD\", \"text\": \"\\ud83d\\ude24\\ud83d\\ude24\\ud83d\\ude24\\ud83d\\ude24\\ud83d\\ude24\\ud83d\\ude24\\ud83d\\ude24 It\\u2019s about that time\"}\n",
      "msg:  {\"time\": \"Sun Jan 02 13:01:06 +0000 2022\", \"user\": \"MariaAG7_\", \"place\": \"Texas, USA\", \"text\": \"I just miss all my girl bestfriends , we used to be so close\"}\n",
      "msg:  {\"time\": \"Sun Jan 02 13:01:06 +0000 2022\", \"user\": \"Fatihna68708510\", \"place\": \"Sakarya, T\\u00fcrkiye\", \"text\": \"#shibafantom\\nBuy &amp; Hold = RICH \\nShibafantom https://t.co/fPTkDI1NCN\"}\n",
      "msg:  {\"time\": \"Sun Jan 02 13:01:06 +0000 2022\", \"user\": \"Peaches05410175\", \"place\": \"Sarasota, FL\", \"text\": \"@CheriJacobus My friend , my police office , my advocate. We will never stop being a voice for him. Coroner's lie. #savesicknick https://t.co/vOXiD0Ssr2\"}\n",
      "msg:  {\"time\": \"Sun Jan 02 13:01:06 +0000 2022\", \"user\": \"espo5577\", \"place\": \"Florida, USA\", \"text\": \"@meetsuzyjade Xxoo\"}\n",
      "msg:  {\"time\": \"Sun Jan 02 13:01:06 +0000 2022\", \"user\": \"drjerber\", \"place\": \"Charlottesville, VA\", \"text\": \"@stevenbollipo @DrAnuraagJ @EndoTx @neilRsharmaMD @DrLakhtakia @Bjorn_Rembacken @KMonkemuller My approach \\nKeep a relaxed posture \\nHead/neck neural position \\nShoulders loose \\nSlight bend at elbow again relaxed \\nCore relaxed\\nAthletic stance\\n\\nInstrument held gently in hands/fingers \\n\\nDo not tightly grip\"}\n",
      "msg:  {\"time\": \"Sun Jan 02 13:01:07 +0000 2022\", \"user\": \"AdosReceipts\", \"place\": \"Sacramento, CA\", \"text\": \"@25karatgold @QuintonLucasKC I\\u2019d also like an update on developments. @MoreMayors  @Mayor_Steinberg @TheCityofSac  #ReparationsNow\"}\n",
      "msg:  {\"time\": \"Sun Jan 02 13:01:07 +0000 2022\", \"user\": \"chicagowoz\", \"place\": \"Bourbonnais, IL\", \"text\": \"@TaraIsSquatter I stopped in 1999,,stopped bowling (I don't do that anymore) to get out of the environment,  stopped drinking (I could knock out a pack in a 4 to 6 hour drinking session) and alternated fixations,,,gum,,then tick taks,,,etc. It IS the hardest thing I've done in my life!\"}\n",
      "msg:  {\"time\": \"Sun Jan 02 13:01:07 +0000 2022\", \"user\": \"kojo_bluez\", \"place\": \"Tema, Ghana\", \"text\": \"Abeg who be the lady nor!!\"}\n",
      "msg:  {\"time\": \"Sun Jan 02 13:01:07 +0000 2022\", \"user\": \"ChaddingtonSC\", \"place\": \"Bluffton, SC\", \"text\": \"Good morning https://t.co/Wrs6GQevyL\"}\n",
      "msg:  {\"time\": \"Sun Jan 02 13:01:07 +0000 2022\", \"user\": \"DreSean15966946\", \"place\": \"Cleveland, OH\", \"text\": \"Whts good this morning\"}\n",
      "msg:  {\"time\": \"Sun Jan 02 13:01:07 +0000 2022\", \"user\": \"catsrule0\", \"place\": \"Cincinnati, OH\", \"text\": \"@badpiratemonkey @Notasquirrel @Lpowell588Lady @BarbaraBpiwetz @SassytheMinPin @ClayureM @StevieEvilCat @Zozie_zo @felonimayhem @veryangrysquid @chalkymacalpi @LBisaillon @judesgray @Spiggitzfan @Lazlovely @lovedamitten @ThorSelfies @timhoyt14 @evamacalpi @GordonHarmony @jschwartz71 @DUCHYKINS3 @TeddyTedaloo @Emma_black_cat @thebrainofspock @MoetBlindCat @Biapmad @lynda3035 @bettinaschroed5 @thecatsartist @SophietheCat3 @TeddysFamiwy @3coolkatz @Blutospin @GregariousGus @PicklesBottom @Mygreatredmare @irisesther54 @BonniedaWestie @ZeroRice1012 @Bemocked_Cypher @livingroomlions @OdellGang @fluffybasil @Pixie_Tooth @MrMoustacheCat Ohs dat bees fun Hairry. Iz Buzzy a squeak toy?\\ud83e\\udd14\"}\n",
      "msg:  {\"time\": \"Sun Jan 02 13:01:07 +0000 2022\", \"user\": \"test5geo1798\", \"place\": \"San Francisco, CA\", \"text\": \"TEST_LAT/LON: 86cd2886-d90d-4d36-a975-f62beef2fe3b\"}\n",
      "msg:  {\"time\": \"Sun Jan 02 13:01:07 +0000 2022\", \"user\": \"PerfectCellSIN\", \"place\": \"Providence, RI\", \"text\": \"Cant wait to drop new content every single month this year! Sin Seven\\u2019s Year Span Special begins! Click the link below to get caught up on all things sin seven before everything starts dropping \\ud83e\\udd18\\ud83c\\udffe\\ud83e\\udd88\\nLink.tree/perfectcellsin https://t.co/s8kY79XGv3\"}\n",
      "msg:  {\"time\": \"Sun Jan 02 13:01:08 +0000 2022\", \"user\": \"chy_forman\", \"place\": \"Chittagong, Bangladesh\", \"text\": \"Big project\\n@jack @MarshallSteeves @YoshiKumagai\"}\n",
      "msg:  {\"time\": \"Sun Jan 02 13:01:08 +0000 2022\", \"user\": \"ssguffey\", \"place\": \"Colorado, USA\", \"text\": \"They were donated to food banks. I got a package of 5 in my food box.\"}\n",
      "msg:  {\"time\": \"Sun Jan 02 13:01:09 +0000 2022\", \"user\": \"CarlosJRegueir1\", \"place\": \"Miami, FL\", \"text\": \"@iksahir @elonmusk He\\u2019s still recovering from New Year\\u2019s Party my friend. Cut him some slack. He\\u2019ll be back at full speed soon. He\\u2019s a human, not a bot my friend.\"}\n",
      "msg:  {\"time\": \"Sun Jan 02 13:01:10 +0000 2022\", \"user\": \"McKJeffrey\", \"place\": \"Indianapolis, IN\", \"text\": \"India Arie  ''Good Morning'' https://t.co/rFzTno7s6P via @YouTube @indiaarie @IndiaArieFans @McKJeffrey @MorningInspire https://t.co/pI1bZRHnya\"}\n",
      "msg:  {\"time\": \"Sun Jan 02 13:01:10 +0000 2022\", \"user\": \"boyo_society\", \"place\": \"Breaux Bridge, LA\", \"text\": \"To Much Women Doing It Alone Ik My Kids Straight Forever\"}\n",
      "msg:  {\"time\": \"Sun Jan 02 13:01:10 +0000 2022\", \"user\": \"SteveKSnider\", \"place\": \"Canton, IL\", \"text\": \"DeMar gotta be happy Ayo is his teammate. \\ud83d\\udd12\"}\n",
      "msg:  {\"time\": \"Sun Jan 02 13:01:10 +0000 2022\", \"user\": \"santis4_star\", \"place\": \"Pennsylvania, USA\", \"text\": \"Let us not forget. \\nhttps://t.co/iz2vnCm4rt\"}\n",
      "msg:  {\"time\": \"Sun Jan 02 13:01:10 +0000 2022\", \"user\": \"Liverpoolfc46\", \"place\": \"Guelph, Ontario\", \"text\": \"@Guilty5Pleasure @Cath74Kat Oops stare\"}\n",
      "msg:  {\"time\": \"Sun Jan 02 13:01:10 +0000 2022\", \"user\": \"Maria43511185\", \"place\": \"Cascais, Portugal\", \"text\": \"Good morning Sir\\nHAPPY NEW YEAR DIMASH \\nEu comecei o ano com #Thebestvoice and #thebestsinger  #DimashQudaibergen/@dimash_official and with your songs #FlyAway  e #BeWithMe\\nDIMASH UNIC\\nNEW MUSIC https://t.co/3yBcixIWzR\"}\n"
     ]
    }
   ],
   "source": [
    "Tweets = TweetAPI(\n",
    "  CONSUMER_KEY, CONSUMER_SECRET,\n",
    "  ACCESS_TOKEN, ACCESS_SECRET\n",
    ")\n",
    "Tweets.filter(locations = [-130,-20,100,50], languages = ['en'])"
   ]
  },
  {
   "cell_type": "code",
   "execution_count": null,
   "metadata": {},
   "outputs": [],
   "source": []
  }
 ],
 "metadata": {
  "kernelspec": {
   "display_name": "Python 3",
   "language": "python",
   "name": "python3"
  },
  "language_info": {
   "codemirror_mode": {
    "name": "ipython",
    "version": 3
   },
   "file_extension": ".py",
   "mimetype": "text/x-python",
   "name": "python",
   "nbconvert_exporter": "python",
   "pygments_lexer": "ipython3",
   "version": "3.7.6"
  }
 },
 "nbformat": 4,
 "nbformat_minor": 4
}
