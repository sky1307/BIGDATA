{
 "cells": [
  {
   "cell_type": "code",
   "execution_count": null,
   "metadata": {},
   "outputs": [
    {
     "name": "stdout",
     "output_type": "stream",
     "text": [
      "14545\n",
      "14545\n",
      "14576\n",
      "14576\n",
      "14607\n",
      "14607\n",
      "14636\n",
      "14636\n",
      "14670\n",
      "14670\n",
      "14701\n",
      "14701\n",
      "14707\n",
      "14707\n",
      "14711\n",
      "14711\n",
      "14738\n",
      "14738\n",
      "14754\n",
      "14754\n",
      "14784\n",
      "14784\n",
      "14784\n",
      "14784\n",
      "14896\n",
      "14896\n",
      "14922\n",
      "14922\n",
      "14955\n",
      "14955\n",
      "14992\n",
      "14992\n",
      "15017\n",
      "15017\n",
      "15050\n",
      "15050\n",
      "15078\n",
      "15078\n",
      "15097\n",
      "15118\n",
      "15126\n",
      "15157\n",
      "15160\n",
      "15180\n",
      "15192\n",
      "15214\n",
      "15214\n",
      "15224\n",
      "15224\n",
      "15273\n",
      "15285\n",
      "15320\n",
      "15320\n",
      "15343\n",
      "15343\n",
      "15363\n",
      "15363\n",
      "15378\n",
      "15391\n",
      "15391\n",
      "15391\n",
      "15391\n",
      "15391\n",
      "15391\n",
      "15391\n",
      "15391\n",
      "15391\n",
      "15465\n",
      "15540\n",
      "15573\n",
      "15573\n",
      "15604\n",
      "15604\n",
      "15633\n",
      "15633\n",
      "15656\n",
      "15656\n",
      "15689\n"
     ]
    }
   ],
   "source": [
    "import pymongo\n",
    "import time\n",
    "\n",
    "conn = pymongo.MongoClient(\"mongodb\",27017)\n",
    "mydb = conn.Tweet\n",
    "mycol = mydb[\"realtime\"]\n",
    "\n",
    "\n",
    "while True:\n",
    "    time.sleep(5)\n",
    "    print(mycol.count_documents({}))\n"
   ]
  },
  {
   "cell_type": "code",
   "execution_count": null,
   "metadata": {},
   "outputs": [],
   "source": [
    "!"
   ]
  }
 ],
 "metadata": {
  "kernelspec": {
   "display_name": "Python 3",
   "language": "python",
   "name": "python3"
  },
  "language_info": {
   "codemirror_mode": {
    "name": "ipython",
    "version": 3
   },
   "file_extension": ".py",
   "mimetype": "text/x-python",
   "name": "python",
   "nbconvert_exporter": "python",
   "pygments_lexer": "ipython3",
   "version": "3.7.6"
  }
 },
 "nbformat": 4,
 "nbformat_minor": 4
}
