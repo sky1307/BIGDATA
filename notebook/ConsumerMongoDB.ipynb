{
 "cells": [
  {
   "cell_type": "code",
   "execution_count": 1,
   "metadata": {},
   "outputs": [],
   "source": [
    "from pyspark import SparkContext\n",
    "from pyspark.sql import SparkSession \n",
    "from pyspark.streaming import StreamingContext\n",
    "from pyspark.streaming.kafka import KafkaUtils\n",
    "import json"
   ]
  },
  {
   "cell_type": "code",
   "execution_count": 2,
   "metadata": {},
   "outputs": [],
   "source": [
    "# %run ./TopicModeling.ipynb"
   ]
  },
  {
   "cell_type": "code",
   "execution_count": 3,
   "metadata": {},
   "outputs": [],
   "source": [
    "ss = SparkSession.Builder() \\\n",
    "     .appName(\"Realtime\") \\\n",
    "     .master(\"spark://spark-master-2:7077\") \\\n",
    "     .config(\"spark.jars\", \"./spark-streaming-kafka-0-8-assembly_2.11-2.0.0-preview.jar\") \\\n",
    "     .getOrCreate()\n",
    "sc = ss.sparkContext\n",
    "ssc = StreamingContext(sc, 10)\n",
    "ssc.checkpoint(\"checkpoint_TwitterApp2\")\n",
    "ss.sparkContext.setLogLevel('WARN')"
   ]
  },
  {
   "cell_type": "code",
   "execution_count": 4,
   "metadata": {},
   "outputs": [],
   "source": [
    "brokers = 'kafka-1:9092,kafka-2:9092'\n",
    "topic='tweet'"
   ]
  },
  {
   "cell_type": "code",
   "execution_count": 5,
   "metadata": {},
   "outputs": [],
   "source": [
    "ks = KafkaUtils.createDirectStream(ssc, [topic], kafkaParams={\"metadata.broker.list\":brokers})"
   ]
  },
  {
   "cell_type": "code",
   "execution_count": 6,
   "metadata": {},
   "outputs": [],
   "source": [
    "from pymongo import MongoClient\n",
    "conn = MongoClient('mongodb', 27017)\n",
    "conn.drop_database('Tweet')\n",
    "mydb = conn[\"Tweet\"]\n",
    "mycol = mydb[\"realtime\"]\n",
    "conn.close()"
   ]
  },
  {
   "cell_type": "code",
   "execution_count": 7,
   "metadata": {},
   "outputs": [],
   "source": [
    "def insert_row(x):\n",
    "    if x is None or len(x)<1:\n",
    "        return\n",
    "    data_list = x.split(',')\n",
    "    conn = MongoClient('mongodb', 27017)\n",
    "    db = conn.Tweet\n",
    "    db.realtime.insert_one({\n",
    "        'time': data_list[0],\n",
    "        'user': data_list[1],\n",
    "        'place': data_list[2],\n",
    "        'text': data_list[3]\n",
    "    })\n",
    "    conn.close()"
   ]
  },
  {
   "cell_type": "code",
   "execution_count": null,
   "metadata": {},
   "outputs": [],
   "source": [
    "lines = ks.map(\n",
    "    lambda x: '{},{},{},{}'.format(\n",
    "        json.loads(x[1])['time'],\n",
    "        json.loads(x[1])['user'],\n",
    "        json.loads(x[1])['place'],\n",
    "        json.loads(x[1])['text']\n",
    "    )\n",
    ")\n",
    "lines.foreachRDD(lambda rdd: rdd.foreach(insert_row))\n",
    "ssc.start()\n",
    "ssc.awaitTermination()"
   ]
  }
 ],
 "metadata": {
  "kernelspec": {
   "display_name": "Python 3",
   "language": "python",
   "name": "python3"
  },
  "language_info": {
   "codemirror_mode": {
    "name": "ipython",
    "version": 3
   },
   "file_extension": ".py",
   "mimetype": "text/x-python",
   "name": "python",
   "nbconvert_exporter": "python",
   "pygments_lexer": "ipython3",
   "version": "3.7.6"
  }
 },
 "nbformat": 4,
 "nbformat_minor": 4
}
