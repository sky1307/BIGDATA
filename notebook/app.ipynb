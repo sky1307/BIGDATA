{
 "cells": [
  {
   "cell_type": "code",
   "execution_count": null,
   "metadata": {},
   "outputs": [
    {
     "name": "stdout",
     "output_type": "stream",
     "text": [
      " * Serving Flask app '__main__' (lazy loading)\n",
      " * Environment: production\n",
      "\u001b[31m   WARNING: This is a development server. Do not use it in a production deployment.\u001b[0m\n",
      "\u001b[2m   Use a production WSGI server instead.\u001b[0m\n",
      " * Debug mode: off\n"
     ]
    },
    {
     "name": "stderr",
     "output_type": "stream",
     "text": [
      " * Running on all addresses.\n",
      "   WARNING: This is a development server. Do not use it in a production deployment.\n",
      " * Running on http://192.168.16.13:5001/ (Press CTRL+C to quit)\n",
      "192.168.16.1 - - [03/Jan/2022 22:17:36] code 400, message Bad request version ('zz\\x13\\x01\\x13\\x02\\x13\\x03À+À/À,À0Ì©Ì¨À\\x13À\\x14\\x00\\x9c\\x00\\x9d\\x00/\\x005\\x01\\x00\\x01\\x93\\x9a\\x9a\\x00\\x00\\x00\\x17\\x00\\x00ÿ\\x01\\x00\\x01\\x00\\x00')\n",
      "Ý\u001a\u0019q\u001a=·ÊVc \u0013\u0002[\u0007Ã¼'Z\u000e:-±",
      "yÎÏ0÷Dà#êèÎÅsô6B\t\u0000 zz\u0013\u0001\u0013\u0002\u0013\u0003À+À/À,À0Ì©Ì¨À\u0013À\u0014\u0000\u0000\u0000/\u00005\u0001\u0000\u0001\u0000\u0000\u0000\u0017\u0000\u0000ÿ\u0001\u0000\u0001\u0000\u0000\u001b[0m\" HTTPStatus.BAD_REQUEST -\n",
      "192.168.16.1 - - [03/Jan/2022 22:17:36] code 400, message Bad request version ('\\x8a\\x8a\\x13\\x01\\x13\\x02\\x13\\x03À+À/À,À0Ì©Ì¨À\\x13À\\x14\\x00\\x9c\\x00\\x9d\\x00/\\x005\\x01\\x00\\x01\\x93ºº\\x00\\x00\\x00\\x17\\x00\\x00ÿ\\x01\\x00\\x01\\x00\\x00')\n",
      "©{¥º»:·J°\f",
      "²÷1b^ä-l\u0017\u001d",
      "ôÛ<4Èë^\u000f (õS4\u001a\u000fçemGÇÖ%¥¹têkÔÔèzA¼\u001b%ý­]\u0000 \u0013\u0001\u0013\u0002\u0013\u0003À+À/À,À0Ì©Ì¨À\u0013À\u0014\u0000\u0000\u0000/\u00005\u0001\u0000\u0001ºº\u0000\u0000\u0000\u0017\u0000\u0000ÿ\u0001\u0000\u0001\u0000\u0000\u001b[0m\" HTTPStatus.BAD_REQUEST -\n",
      "192.168.16.1 - - [03/Jan/2022 22:17:38] code 400, message Bad request version ('ÊÊ\\x13\\x01\\x13\\x02\\x13\\x03À+À/À,À0Ì©Ì¨À\\x13À\\x14\\x00\\x9c\\x00\\x9d\\x00/\\x005\\x01\\x00\\x01\\x93**\\x00\\x00\\x00\\x17\\x00\\x00ÿ\\x01\\x00\\x01\\x00\\x00')\n",
      "192.168.16.1 - - [03/Jan/2022 22:17:38] code 400, message Bad HTTP/0.9 request type ('\\x16\\x03\\x01\\x02\\x00\\x01\\x00\\x01ü\\x03\\x03«P\\x82x´Ï/Ð¹HüFDïC\\x8d2qã¼\\x88ýsUÓÏî&:ì¨3')\n",
      "aZ\tí,êë¶&Ü¢t³§M¨\u0000 ÊÊ\u0013\u0001\u0013\u0002\u0013\u0003À+À/À,À0Ì©Ì¨À\u0013À\u0014\u0000\u0000\u0000/\u00005\u0001\u0000\u0001**\u0000\u0000\u0000\u0017\u0000\u0000ÿ\u0001\u0000\u0001\u0000\u0000\u001b[0m\" HTTPStatus.BAD_REQUEST -\n",
      "192.168.16.1 - - [03/Jan/2022 22:17:38] \"\u001b[35m\u001b[1m\u0016\u0003\u0001\u0002\u0000\u0001\u0000\u0001ü\u0003\u0003«Px´Ï/Ð¹HüFDïC2qã¼ýsUÓÏî&:ì¨3 \u0013rR¼~¼\u0018ia>Ç\"\u001b[0m\" HTTPStatus.BAD_REQUEST -\n",
      "192.168.16.1 - - [03/Jan/2022 22:17:38] code 400, message Bad request version ('\\x9a\\x9a\\x13\\x01\\x13\\x02\\x13\\x03À+À/À,À0Ì©Ì¨À\\x13À\\x14\\x00\\x9c\\x00\\x9d\\x00/\\x005\\x01\\x00\\x01\\x93ZZ\\x00\\x00\\x00\\x17\\x00\\x00ÿ\\x01\\x00\\x01\\x00\\x00')\n",
      "192.168.16.1 - - [03/Jan/2022 22:17:38] code 400, message Bad request version ('\\x86>Û}Ù>@\"\\x8d±ÊW\\x06ñØ%\\x07\\x9f9\\x88\\x13`')\n",
      "192.168.16.1 - - [03/Jan/2022 22:17:38] \"\u001b[35m\u001b[1m\u0016\u0003\u0001\u0002\u0000\u0001\u0000\u0001ü\u0003\u0003è\u0016þ£öToc(R¯Ø«UÞqTSð\u001f äþ\u0006MD÷k| K!!úï,Ð0Ð\u001c",
      "\u0004.ËËn®>\u0011Õ{Ý\u00049Á\u0018\"Rî\u0000 \u0013\u0001\u0013\u0002\u0013\u0003À+À/À,À0Ì©Ì¨À\u0013À\u0014\u0000\u0000\u0000/\u00005\u0001\u0000\u0001ZZ\u0000\u0000\u0000\u0017\u0000\u0000ÿ\u0001\u0000\u0001\u0000\u0000\u001b[0m\" HTTPStatus.BAD_REQUEST -\n",
      "192.168.16.1 - - [03/Jan/2022 22:17:38] \"\u001b[35m\u001b[1m\u0016\u0003\u0001\u0002\u0000\u0001\u0000\u0001ü\u0003\u0003C\u001aßÉFGKê?Æ\u001e",
      "Å\"Ö_\u0001¸\u0014'd\u0004 /\u0018?z\u001bf¸d \f",
      ">Û}Ù>@\"±ÊW\u0006ñØ%\u00079\u0013`\u001b[0m\" HTTPStatus.BAD_REQUEST -\n",
      "192.168.16.1 - - [03/Jan/2022 22:17:38] \"GET / HTTP/1.1\" 200 -\n",
      "192.168.16.1 - - [03/Jan/2022 22:17:38] \"GET /static/Chart.js HTTP/1.1\" 200 -\n",
      "192.168.16.1 - - [03/Jan/2022 22:17:38] \"\u001b[33mGET /favicon.ico HTTP/1.1\u001b[0m\" 404 -\n",
      "192.168.16.1 - - [03/Jan/2022 22:17:39] \"GET /refreshData HTTP/1.1\" 200 -\n"
     ]
    },
    {
     "name": "stdout",
     "output_type": "stream",
     "text": [
      "labels now: []\n",
      "data now: []\n"
     ]
    },
    {
     "name": "stderr",
     "output_type": "stream",
     "text": [
      "192.168.16.1 - - [03/Jan/2022 22:17:40] \"GET /refreshData HTTP/1.1\" 200 -\n"
     ]
    },
    {
     "name": "stdout",
     "output_type": "stream",
     "text": [
      "labels now: []\n",
      "data now: []\n"
     ]
    },
    {
     "name": "stderr",
     "output_type": "stream",
     "text": [
      "192.168.16.1 - - [03/Jan/2022 22:17:41] \"GET /refreshData HTTP/1.1\" 200 -\n"
     ]
    },
    {
     "name": "stdout",
     "output_type": "stream",
     "text": [
      "labels now: []\n",
      "data now: []\n"
     ]
    },
    {
     "name": "stderr",
     "output_type": "stream",
     "text": [
      "192.168.16.1 - - [03/Jan/2022 22:17:42] \"GET /refreshData HTTP/1.1\" 200 -\n"
     ]
    },
    {
     "name": "stdout",
     "output_type": "stream",
     "text": [
      "labels now: []\n",
      "data now: []\n"
     ]
    },
    {
     "name": "stderr",
     "output_type": "stream",
     "text": [
      "192.168.16.1 - - [03/Jan/2022 22:17:43] \"GET /refreshData HTTP/1.1\" 200 -\n"
     ]
    },
    {
     "name": "stdout",
     "output_type": "stream",
     "text": [
      "labels now: []\n",
      "data now: []\n"
     ]
    },
    {
     "name": "stderr",
     "output_type": "stream",
     "text": [
      "192.168.16.1 - - [03/Jan/2022 22:17:44] \"GET /refreshData HTTP/1.1\" 200 -\n"
     ]
    },
    {
     "name": "stdout",
     "output_type": "stream",
     "text": [
      "labels now: []\n",
      "data now: []\n"
     ]
    },
    {
     "name": "stderr",
     "output_type": "stream",
     "text": [
      "192.168.16.1 - - [03/Jan/2022 22:17:45] \"GET /refreshData HTTP/1.1\" 200 -\n"
     ]
    },
    {
     "name": "stdout",
     "output_type": "stream",
     "text": [
      "labels now: []\n",
      "data now: []\n"
     ]
    },
    {
     "name": "stderr",
     "output_type": "stream",
     "text": [
      "192.168.16.1 - - [03/Jan/2022 22:17:46] \"GET /refreshData HTTP/1.1\" 200 -\n"
     ]
    },
    {
     "name": "stdout",
     "output_type": "stream",
     "text": [
      "labels now: []\n",
      "data now: []\n"
     ]
    },
    {
     "name": "stderr",
     "output_type": "stream",
     "text": [
      "192.168.16.1 - - [03/Jan/2022 22:17:47] \"GET /refreshData HTTP/1.1\" 200 -\n"
     ]
    },
    {
     "name": "stdout",
     "output_type": "stream",
     "text": [
      "labels now: []\n",
      "data now: []\n"
     ]
    }
   ],
   "source": [
    "from flask import Flask,jsonify,request\n",
    "from flask import render_template\n",
    "import ast\n",
    "\n",
    "app = Flask(__name__)\n",
    "\n",
    "labels = []\n",
    "values = []\n",
    "\n",
    "\n",
    "@app.route(\"/\")\n",
    "def chart():\n",
    "    global labels,values\n",
    "    labels = []\n",
    "    values = []\n",
    "    return render_template('chart.html', values=values, labels=labels)\n",
    "\n",
    "\n",
    "@app.route('/refreshData')\n",
    "def refresh_graph_data():\n",
    "    global labels, values\n",
    "    print(\"labels now: \" + str(labels))\n",
    "    print(\"data now: \" + str(values))\n",
    "    return jsonify(sLabel=labels, sData=values)\n",
    "\n",
    "\n",
    "@app.route('/updateData', methods=['POST'])\n",
    "def update_data_post():\n",
    "    global labels, values\n",
    "    if not request.form or 'data' not in request.form:\n",
    "        return \"error\",400\n",
    "    labels = ast.literal_eval(request.form['label'])\n",
    "    values = ast.literal_eval(request.form['data'])\n",
    "    print(\"labels received: \" + str(labels))\n",
    "    print(\"data received: \" + str(values))\n",
    "    return \"success\",201\n",
    "\n",
    "\n",
    "if __name__ == \"__main__\":\n",
    "    app.run(host='0.0.0.0', port=5001)\n"
   ]
  },
  {
   "cell_type": "code",
   "execution_count": null,
   "metadata": {},
   "outputs": [],
   "source": [
    "!nano /etc/hosts"
   ]
  },
  {
   "cell_type": "code",
   "execution_count": null,
   "metadata": {},
   "outputs": [],
   "source": []
  }
 ],
 "metadata": {
  "kernelspec": {
   "display_name": "Python 3",
   "language": "python",
   "name": "python3"
  },
  "language_info": {
   "codemirror_mode": {
    "name": "ipython",
    "version": 3
   },
   "file_extension": ".py",
   "mimetype": "text/x-python",
   "name": "python",
   "nbconvert_exporter": "python",
   "pygments_lexer": "ipython3",
   "version": "3.7.6"
  }
 },
 "nbformat": 4,
 "nbformat_minor": 5
}
