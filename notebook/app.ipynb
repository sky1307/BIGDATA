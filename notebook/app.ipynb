{
 "cells": [
  {
   "cell_type": "code",
   "execution_count": null,
   "metadata": {},
   "outputs": [
    {
     "name": "stdout",
     "output_type": "stream",
     "text": [
      " * Serving Flask app '__main__' (lazy loading)\n",
      " * Environment: production\n",
      "\u001b[31m   WARNING: This is a development server. Do not use it in a production deployment.\u001b[0m\n",
      "\u001b[2m   Use a production WSGI server instead.\u001b[0m\n",
      " * Debug mode: off\n"
     ]
    },
    {
     "name": "stderr",
     "output_type": "stream",
     "text": [
      " * Running on all addresses.\n",
      "   WARNING: This is a development server. Do not use it in a production deployment.\n",
      " * Running on http://172.19.0.5:5001/ (Press CTRL+C to quit)\n",
      "172.19.0.1 - - [04/Jan/2022 08:24:21] code 400, message Bad request syntax ('\\x16\\x03\\x01\\x02\\x00\\x01\\x00\\x01ü\\x03\\x038´c\\x15\\x94³!')\n",
      "172.19.0.1 - - [04/Jan/2022 08:24:21] \"\u001b[35m\u001b[1m\u0016\u0003\u0001\u0002\u0000\u0001\u0000\u0001ü\u0003\u00038´c\u0015³!\u001b[0m\" HTTPStatus.BAD_REQUEST -\n",
      "172.19.0.1 - - [04/Jan/2022 08:24:21] code 400, message Bad request version ('\\x8a\\x8a\\x13\\x01\\x13\\x02\\x13\\x03À+À/À,À0Ì©Ì¨À\\x13À\\x14\\x00\\x9c\\x00\\x9d\\x00/\\x005\\x01\\x00\\x01\\x93ºº\\x00\\x00\\x00\\x17\\x00\\x00ÿ\\x01\\x00\\x01\\x00\\x00')\n",
      "172.19.0.1 - - [04/Jan/2022 08:24:21] \"\u001b[35m\u001b[1m\u0016\u0003\u0001\u0002\u0000\u0001\u0000\u0001ü\u0003\u0003 *îDøIo¸*X?|IÚlíÊF\u0006l2¦MK¼o× ]AÍì÷fÓÎ~ôãÅoÏä@)îôÝð\tJ«Ü\u0001-yË÷o\u0000 \u0013\u0001\u0013\u0002\u0013\u0003À+À/À,À0Ì©Ì¨À\u0013À\u0014\u0000\u0000\u0000/\u00005\u0001\u0000\u0001ºº\u0000\u0000\u0000\u0017\u0000\u0000ÿ\u0001\u0000\u0001\u0000\u0000\u001b[0m\" HTTPStatus.BAD_REQUEST -\n",
      "172.19.0.1 - - [04/Jan/2022 08:24:23] code 400, message Bad request version ('\\x9a\\x9a\\x13\\x01\\x13\\x02\\x13\\x03À+À/À,À0Ì©Ì¨À\\x13À\\x14\\x00\\x9c\\x00\\x9d\\x00/\\x005\\x01\\x00\\x01\\x93')\n",
      "172.19.0.1 - - [04/Jan/2022 08:24:23] code 400, message Bad request version ('JJ\\x13\\x01\\x13\\x02\\x13\\x03À+À/À,À0Ì©Ì¨À\\x13À\\x14\\x00\\x9c\\x00\\x9d\\x00/\\x005\\x01\\x00\\x01\\x93ªª\\x00\\x00\\x00\\x17\\x00\\x00ÿ\\x01\\x00\\x01\\x00\\x00')\n",
      "Rü­/ýòfe{:XMÓZ\u0016æ`¤\u001f¸s\u0012ÍN½õ\u0016\u0000 \u0013\u0001\u0013\u0002\u0013\u0003À+À/À,À0Ì©Ì¨À\u0013À\u0014\u0000\u0000\u0000/\u00005\u0001\u0000\u0001\u001b[0m\" HTTPStatus.BAD_REQUEST -\n",
      "!F³ÎM6_â.ªï\u000b",
      "Tk¼Yó¦´ \u0019\u001c",
      "q#(·U\u0000\u001e",
      "\u000fIµKÎþò}Ùx÷\u001a\u001a#u\u0005ï\u000f\u0000 JJ\u0013\u0001\u0013\u0002\u0013\u0003À+À/À,À0Ì©Ì¨À\u0013À\u0014\u0000\u0000\u0000/\u00005\u0001\u0000\u0001ªª\u0000\u0000\u0000\u0017\u0000\u0000ÿ\u0001\u0000\u0001\u0000\u0000\u001b[0m\" HTTPStatus.BAD_REQUEST -\n",
      "172.19.0.1 - - [04/Jan/2022 08:24:23] code 400, message Bad request version ('\\x9a\\x9a\\x13\\x01\\x13\\x02\\x13\\x03À+À/À,À0Ì©Ì¨À\\x13À\\x14\\x00\\x9c\\x00\\x9d\\x00/\\x005\\x01\\x00\\x01\\x93êê\\x00\\x00\\x00\\x17\\x00\\x00ÿ\\x01\\x00\\x01\\x00\\x00')\n",
      "172.19.0.1 - - [04/Jan/2022 08:24:23] \"\u001b[35m\u001b[1m\u0016\u0003\u0001\u0002\u0000\u0001\u0000\u0001ü\u0003\u0003T,\u0007\u0016ð6¯§+ 7¾¼m²\u001d",
      "}÷CyD8þÞòÂÃ I?õYîd«½7jms±¿Ý-ãYõ£va\u001c",
      "­7'\u0000 \u0013\u0001\u0013\u0002\u0013\u0003À+À/À,À0Ì©Ì¨À\u0013À\u0014\u0000\u0000\u0000/\u00005\u0001\u0000\u0001êê\u0000\u0000\u0000\u0017\u0000\u0000ÿ\u0001\u0000\u0001\u0000\u0000\u001b[0m\" HTTPStatus.BAD_REQUEST -\n",
      "172.19.0.1 - - [04/Jan/2022 08:24:23] code 400, message Bad request version ('úú\\x13\\x01\\x13\\x02\\x13\\x03À+À/À,À0Ì©Ì¨À\\x13À\\x14\\x00\\x9c\\x00\\x9d\\x00/\\x005\\x01\\x00\\x01\\x93\\x8a\\x8a\\x00\\x00\\x00\\x17\\x00\\x00ÿ\\x01\\x00\\x01\\x00\\x00')\n",
      "172.19.0.1 - - [04/Jan/2022 08:24:23] \"\u001b[35m\u001b[1m\u0016\u0003\u0001\u0002\u0000\u0001\u0000\u0001ü\u0003\u00039ÿ\u001d",
      "¼\f",
      "=Ü³%»\u001e",
      "«\\\f",
      "õíV^©ð<ÁX\u001c",
      "´Â\u0005 =sWÙJà\u0017Ï\u0006Ï|­ey\u001aÒ'ÂÝ®\tüöîT´v\u0011\u0000 úú\u0013\u0001\u0013\u0002\u0013\u0003À+À/À,À0Ì©Ì¨À\u0013À\u0014\u0000\u0000\u0000/\u00005\u0001\u0000\u0001\u0000\u0000\u0000\u0017\u0000\u0000ÿ\u0001\u0000\u0001\u0000\u0000\u001b[0m\" HTTPStatus.BAD_REQUEST -\n",
      "172.19.0.1 - - [04/Jan/2022 08:24:23] \"GET / HTTP/1.1\" 200 -\n",
      "172.19.0.1 - - [04/Jan/2022 08:24:23] \"GET /static/Chart.js HTTP/1.1\" 200 -\n",
      "172.19.0.1 - - [04/Jan/2022 08:24:24] \"\u001b[33mGET /favicon.ico HTTP/1.1\u001b[0m\" 404 -\n",
      "172.19.0.1 - - [04/Jan/2022 08:24:24] \"GET /refreshData HTTP/1.1\" 200 -\n"
     ]
    },
    {
     "name": "stdout",
     "output_type": "stream",
     "text": [
      "labels now: []\n",
      "data now: []\n"
     ]
    },
    {
     "name": "stderr",
     "output_type": "stream",
     "text": [
      "172.19.0.1 - - [04/Jan/2022 08:24:26] \"GET /refreshData HTTP/1.1\" 200 -\n"
     ]
    },
    {
     "name": "stdout",
     "output_type": "stream",
     "text": [
      "labels now: []\n",
      "data now: []\n"
     ]
    },
    {
     "name": "stderr",
     "output_type": "stream",
     "text": [
      "172.19.0.1 - - [04/Jan/2022 08:24:27] \"GET /refreshData HTTP/1.1\" 200 -\n"
     ]
    },
    {
     "name": "stdout",
     "output_type": "stream",
     "text": [
      "labels now: []\n",
      "data now: []\n"
     ]
    },
    {
     "name": "stderr",
     "output_type": "stream",
     "text": [
      "172.19.0.1 - - [04/Jan/2022 08:24:28] \"GET /refreshData HTTP/1.1\" 200 -\n"
     ]
    },
    {
     "name": "stdout",
     "output_type": "stream",
     "text": [
      "labels now: []\n",
      "data now: []\n"
     ]
    },
    {
     "name": "stderr",
     "output_type": "stream",
     "text": [
      "172.19.0.1 - - [04/Jan/2022 08:24:29] \"GET /refreshData HTTP/1.1\" 200 -\n"
     ]
    },
    {
     "name": "stdout",
     "output_type": "stream",
     "text": [
      "labels now: []\n",
      "data now: []\n"
     ]
    },
    {
     "name": "stderr",
     "output_type": "stream",
     "text": [
      "172.19.0.1 - - [04/Jan/2022 08:24:30] \"GET /refreshData HTTP/1.1\" 200 -\n"
     ]
    },
    {
     "name": "stdout",
     "output_type": "stream",
     "text": [
      "labels now: []\n",
      "data now: []\n"
     ]
    },
    {
     "name": "stderr",
     "output_type": "stream",
     "text": [
      "172.19.0.1 - - [04/Jan/2022 08:24:31] \"GET /refreshData HTTP/1.1\" 200 -\n"
     ]
    },
    {
     "name": "stdout",
     "output_type": "stream",
     "text": [
      "labels now: []\n",
      "data now: []\n"
     ]
    },
    {
     "name": "stderr",
     "output_type": "stream",
     "text": [
      "172.19.0.1 - - [04/Jan/2022 08:24:32] \"GET /refreshData HTTP/1.1\" 200 -\n"
     ]
    },
    {
     "name": "stdout",
     "output_type": "stream",
     "text": [
      "labels now: []\n",
      "data now: []\n"
     ]
    },
    {
     "name": "stderr",
     "output_type": "stream",
     "text": [
      "172.19.0.1 - - [04/Jan/2022 08:24:33] \"GET /refreshData HTTP/1.1\" 200 -\n"
     ]
    },
    {
     "name": "stdout",
     "output_type": "stream",
     "text": [
      "labels now: []\n",
      "data now: []\n"
     ]
    },
    {
     "name": "stderr",
     "output_type": "stream",
     "text": [
      "172.19.0.1 - - [04/Jan/2022 08:24:34] \"GET /refreshData HTTP/1.1\" 200 -\n"
     ]
    },
    {
     "name": "stdout",
     "output_type": "stream",
     "text": [
      "labels now: []\n",
      "data now: []\n"
     ]
    },
    {
     "name": "stderr",
     "output_type": "stream",
     "text": [
      "172.19.0.1 - - [04/Jan/2022 08:24:35] \"GET /refreshData HTTP/1.1\" 200 -\n"
     ]
    },
    {
     "name": "stdout",
     "output_type": "stream",
     "text": [
      "labels now: []\n",
      "data now: []\n"
     ]
    },
    {
     "name": "stderr",
     "output_type": "stream",
     "text": [
      "172.19.0.1 - - [04/Jan/2022 08:24:36] \"GET /refreshData HTTP/1.1\" 200 -\n"
     ]
    },
    {
     "name": "stdout",
     "output_type": "stream",
     "text": [
      "labels now: []\n",
      "data now: []\n"
     ]
    },
    {
     "name": "stderr",
     "output_type": "stream",
     "text": [
      "172.19.0.5 - - [04/Jan/2022 08:24:37] \"\u001b[35m\u001b[1mPOST /updateData HTTP/1.1\u001b[0m\" 201 -\n",
      "172.19.0.1 - - [04/Jan/2022 08:24:37] \"GET /refreshData HTTP/1.1\" 200 -\n"
     ]
    },
    {
     "name": "stdout",
     "output_type": "stream",
     "text": [
      "labels received: ['#ChristmasGiveawayContest…lots', '#nsitharaman', '#RBI', '#narendramodi', '#SCSS', '#SeniorCitizen', '#Harassment']\n",
      "data received: [1, 1, 1, 1, 1, 1, 1]\n",
      "labels now: ['#ChristmasGiveawayContest…lots', '#nsitharaman', '#RBI', '#narendramodi', '#SCSS', '#SeniorCitizen', '#Harassment']\n",
      "data now: [1, 1, 1, 1, 1, 1, 1]\n"
     ]
    },
    {
     "name": "stderr",
     "output_type": "stream",
     "text": [
      "172.19.0.1 - - [04/Jan/2022 08:24:38] \"GET /refreshData HTTP/1.1\" 200 -\n"
     ]
    },
    {
     "name": "stdout",
     "output_type": "stream",
     "text": [
      "labels now: ['#ChristmasGiveawayContest…lots', '#nsitharaman', '#RBI', '#narendramodi', '#SCSS', '#SeniorCitizen', '#Harassment']\n",
      "data now: [1, 1, 1, 1, 1, 1, 1]\n"
     ]
    },
    {
     "name": "stderr",
     "output_type": "stream",
     "text": [
      "172.19.0.1 - - [04/Jan/2022 08:24:39] \"GET /refreshData HTTP/1.1\" 200 -\n"
     ]
    },
    {
     "name": "stdout",
     "output_type": "stream",
     "text": [
      "labels now: ['#ChristmasGiveawayContest…lots', '#nsitharaman', '#RBI', '#narendramodi', '#SCSS', '#SeniorCitizen', '#Harassment']\n",
      "data now: [1, 1, 1, 1, 1, 1, 1]\n"
     ]
    },
    {
     "name": "stderr",
     "output_type": "stream",
     "text": [
      "172.19.0.1 - - [04/Jan/2022 08:24:40] \"GET /refreshData HTTP/1.1\" 200 -\n"
     ]
    },
    {
     "name": "stdout",
     "output_type": "stream",
     "text": [
      "labels now: ['#ChristmasGiveawayContest…lots', '#nsitharaman', '#RBI', '#narendramodi', '#SCSS', '#SeniorCitizen', '#Harassment']\n",
      "data now: [1, 1, 1, 1, 1, 1, 1]\n"
     ]
    },
    {
     "name": "stderr",
     "output_type": "stream",
     "text": [
      "172.19.0.1 - - [04/Jan/2022 08:24:40] \"GET /refreshData HTTP/1.1\" 200 -\n"
     ]
    },
    {
     "name": "stdout",
     "output_type": "stream",
     "text": [
      "labels now: ['#ChristmasGiveawayContest…lots', '#nsitharaman', '#RBI', '#narendramodi', '#SCSS', '#SeniorCitizen', '#Harassment']\n",
      "data now: [1, 1, 1, 1, 1, 1, 1]\n"
     ]
    },
    {
     "name": "stderr",
     "output_type": "stream",
     "text": [
      "172.19.0.1 - - [04/Jan/2022 08:24:41] \"GET /refreshData HTTP/1.1\" 200 -\n"
     ]
    },
    {
     "name": "stdout",
     "output_type": "stream",
     "text": [
      "labels now: ['#ChristmasGiveawayContest…lots', '#nsitharaman', '#RBI', '#narendramodi', '#SCSS', '#SeniorCitizen', '#Harassment']\n",
      "data now: [1, 1, 1, 1, 1, 1, 1]\n"
     ]
    },
    {
     "name": "stderr",
     "output_type": "stream",
     "text": [
      "172.19.0.1 - - [04/Jan/2022 08:24:43] \"GET /refreshData HTTP/1.1\" 200 -\n"
     ]
    },
    {
     "name": "stdout",
     "output_type": "stream",
     "text": [
      "labels now: ['#ChristmasGiveawayContest…lots', '#nsitharaman', '#RBI', '#narendramodi', '#SCSS', '#SeniorCitizen', '#Harassment']\n",
      "data now: [1, 1, 1, 1, 1, 1, 1]\n"
     ]
    },
    {
     "name": "stderr",
     "output_type": "stream",
     "text": [
      "172.19.0.1 - - [04/Jan/2022 08:24:44] \"GET /refreshData HTTP/1.1\" 200 -\n"
     ]
    },
    {
     "name": "stdout",
     "output_type": "stream",
     "text": [
      "labels now: ['#ChristmasGiveawayContest…lots', '#nsitharaman', '#RBI', '#narendramodi', '#SCSS', '#SeniorCitizen', '#Harassment']\n",
      "data now: [1, 1, 1, 1, 1, 1, 1]\n"
     ]
    },
    {
     "name": "stderr",
     "output_type": "stream",
     "text": [
      "172.19.0.1 - - [04/Jan/2022 08:24:45] \"GET /refreshData HTTP/1.1\" 200 -\n"
     ]
    },
    {
     "name": "stdout",
     "output_type": "stream",
     "text": [
      "labels now: ['#ChristmasGiveawayContest…lots', '#nsitharaman', '#RBI', '#narendramodi', '#SCSS', '#SeniorCitizen', '#Harassment']\n",
      "data now: [1, 1, 1, 1, 1, 1, 1]\n"
     ]
    },
    {
     "name": "stderr",
     "output_type": "stream",
     "text": [
      "172.19.0.1 - - [04/Jan/2022 08:24:46] \"GET /refreshData HTTP/1.1\" 200 -\n"
     ]
    },
    {
     "name": "stdout",
     "output_type": "stream",
     "text": [
      "labels now: ['#ChristmasGiveawayContest…lots', '#nsitharaman', '#RBI', '#narendramodi', '#SCSS', '#SeniorCitizen', '#Harassment']\n",
      "data now: [1, 1, 1, 1, 1, 1, 1]\n"
     ]
    },
    {
     "name": "stderr",
     "output_type": "stream",
     "text": [
      "172.19.0.5 - - [04/Jan/2022 08:24:47] \"\u001b[35m\u001b[1mPOST /updateData HTTP/1.1\u001b[0m\" 201 -\n"
     ]
    },
    {
     "name": "stdout",
     "output_type": "stream",
     "text": [
      "labels received: ['#ChristmasGiveawayContest…lots', '#nsitharaman', '#RBI', '#narendramodi', '#SCSS', '#SeniorCitizen', '#100', '#Garrison,', '#Construction', '#StormsDamages', '#CommentBelow']\n",
      "data received: [1, 1, 1, 1, 1, 1, 1, 1, 1, 1, 1]\n"
     ]
    },
    {
     "name": "stderr",
     "output_type": "stream",
     "text": [
      "172.19.0.1 - - [04/Jan/2022 08:24:47] \"GET /refreshData HTTP/1.1\" 200 -\n"
     ]
    },
    {
     "name": "stdout",
     "output_type": "stream",
     "text": [
      "labels now: ['#ChristmasGiveawayContest…lots', '#nsitharaman', '#RBI', '#narendramodi', '#SCSS', '#SeniorCitizen', '#100', '#Garrison,', '#Construction', '#StormsDamages', '#CommentBelow']\n",
      "data now: [1, 1, 1, 1, 1, 1, 1, 1, 1, 1, 1]\n"
     ]
    },
    {
     "name": "stderr",
     "output_type": "stream",
     "text": [
      "172.19.0.1 - - [04/Jan/2022 08:24:48] \"GET /refreshData HTTP/1.1\" 200 -\n"
     ]
    },
    {
     "name": "stdout",
     "output_type": "stream",
     "text": [
      "labels now: ['#ChristmasGiveawayContest…lots', '#nsitharaman', '#RBI', '#narendramodi', '#SCSS', '#SeniorCitizen', '#100', '#Garrison,', '#Construction', '#StormsDamages', '#CommentBelow']\n",
      "data now: [1, 1, 1, 1, 1, 1, 1, 1, 1, 1, 1]\n"
     ]
    },
    {
     "name": "stderr",
     "output_type": "stream",
     "text": [
      "172.19.0.1 - - [04/Jan/2022 08:24:49] \"GET /refreshData HTTP/1.1\" 200 -\n"
     ]
    },
    {
     "name": "stdout",
     "output_type": "stream",
     "text": [
      "labels now: ['#ChristmasGiveawayContest…lots', '#nsitharaman', '#RBI', '#narendramodi', '#SCSS', '#SeniorCitizen', '#100', '#Garrison,', '#Construction', '#StormsDamages', '#CommentBelow']\n",
      "data now: [1, 1, 1, 1, 1, 1, 1, 1, 1, 1, 1]\n"
     ]
    },
    {
     "name": "stderr",
     "output_type": "stream",
     "text": [
      "172.19.0.1 - - [04/Jan/2022 08:24:50] \"GET /refreshData HTTP/1.1\" 200 -\n"
     ]
    },
    {
     "name": "stdout",
     "output_type": "stream",
     "text": [
      "labels now: ['#ChristmasGiveawayContest…lots', '#nsitharaman', '#RBI', '#narendramodi', '#SCSS', '#SeniorCitizen', '#100', '#Garrison,', '#Construction', '#StormsDamages', '#CommentBelow']\n",
      "data now: [1, 1, 1, 1, 1, 1, 1, 1, 1, 1, 1]\n"
     ]
    },
    {
     "name": "stderr",
     "output_type": "stream",
     "text": [
      "172.19.0.1 - - [04/Jan/2022 08:24:51] \"GET /refreshData HTTP/1.1\" 200 -\n"
     ]
    },
    {
     "name": "stdout",
     "output_type": "stream",
     "text": [
      "labels now: ['#ChristmasGiveawayContest…lots', '#nsitharaman', '#RBI', '#narendramodi', '#SCSS', '#SeniorCitizen', '#100', '#Garrison,', '#Construction', '#StormsDamages', '#CommentBelow']\n",
      "data now: [1, 1, 1, 1, 1, 1, 1, 1, 1, 1, 1]\n"
     ]
    },
    {
     "name": "stderr",
     "output_type": "stream",
     "text": [
      "172.19.0.1 - - [04/Jan/2022 08:24:52] \"GET /refreshData HTTP/1.1\" 200 -\n"
     ]
    },
    {
     "name": "stdout",
     "output_type": "stream",
     "text": [
      "labels now: ['#ChristmasGiveawayContest…lots', '#nsitharaman', '#RBI', '#narendramodi', '#SCSS', '#SeniorCitizen', '#100', '#Garrison,', '#Construction', '#StormsDamages', '#CommentBelow']\n",
      "data now: [1, 1, 1, 1, 1, 1, 1, 1, 1, 1, 1]\n"
     ]
    },
    {
     "name": "stderr",
     "output_type": "stream",
     "text": [
      "172.19.0.1 - - [04/Jan/2022 08:24:53] \"GET /refreshData HTTP/1.1\" 200 -\n"
     ]
    },
    {
     "name": "stdout",
     "output_type": "stream",
     "text": [
      "labels now: ['#ChristmasGiveawayContest…lots', '#nsitharaman', '#RBI', '#narendramodi', '#SCSS', '#SeniorCitizen', '#100', '#Garrison,', '#Construction', '#StormsDamages', '#CommentBelow']\n",
      "data now: [1, 1, 1, 1, 1, 1, 1, 1, 1, 1, 1]\n"
     ]
    },
    {
     "name": "stderr",
     "output_type": "stream",
     "text": [
      "172.19.0.1 - - [04/Jan/2022 08:24:54] \"GET /refreshData HTTP/1.1\" 200 -\n"
     ]
    },
    {
     "name": "stdout",
     "output_type": "stream",
     "text": [
      "labels now: ['#ChristmasGiveawayContest…lots', '#nsitharaman', '#RBI', '#narendramodi', '#SCSS', '#SeniorCitizen', '#100', '#Garrison,', '#Construction', '#StormsDamages', '#CommentBelow']\n",
      "data now: [1, 1, 1, 1, 1, 1, 1, 1, 1, 1, 1]\n"
     ]
    },
    {
     "name": "stderr",
     "output_type": "stream",
     "text": [
      "172.19.0.1 - - [04/Jan/2022 08:24:55] \"GET /refreshData HTTP/1.1\" 200 -\n"
     ]
    },
    {
     "name": "stdout",
     "output_type": "stream",
     "text": [
      "labels now: ['#ChristmasGiveawayContest…lots', '#nsitharaman', '#RBI', '#narendramodi', '#SCSS', '#SeniorCitizen', '#100', '#Garrison,', '#Construction', '#StormsDamages', '#CommentBelow']\n",
      "data now: [1, 1, 1, 1, 1, 1, 1, 1, 1, 1, 1]\n"
     ]
    },
    {
     "name": "stderr",
     "output_type": "stream",
     "text": [
      "172.19.0.1 - - [04/Jan/2022 08:24:56] \"GET /refreshData HTTP/1.1\" 200 -\n"
     ]
    },
    {
     "name": "stdout",
     "output_type": "stream",
     "text": [
      "labels now: ['#ChristmasGiveawayContest…lots', '#nsitharaman', '#RBI', '#narendramodi', '#SCSS', '#SeniorCitizen', '#100', '#Garrison,', '#Construction', '#StormsDamages', '#CommentBelow']\n",
      "data now: [1, 1, 1, 1, 1, 1, 1, 1, 1, 1, 1]\n"
     ]
    },
    {
     "name": "stderr",
     "output_type": "stream",
     "text": [
      "172.19.0.1 - - [04/Jan/2022 08:24:57] \"GET /refreshData HTTP/1.1\" 200 -\n"
     ]
    },
    {
     "name": "stdout",
     "output_type": "stream",
     "text": [
      "labels now: ['#ChristmasGiveawayContest…lots', '#nsitharaman', '#RBI', '#narendramodi', '#SCSS', '#SeniorCitizen', '#100', '#Garrison,', '#Construction', '#StormsDamages', '#CommentBelow']\n",
      "data now: [1, 1, 1, 1, 1, 1, 1, 1, 1, 1, 1]\n"
     ]
    },
    {
     "name": "stderr",
     "output_type": "stream",
     "text": [
      "172.19.0.1 - - [04/Jan/2022 08:24:57] \"GET /refreshData HTTP/1.1\" 200 -\n"
     ]
    },
    {
     "name": "stdout",
     "output_type": "stream",
     "text": [
      "labels now: ['#ChristmasGiveawayContest…lots', '#nsitharaman', '#RBI', '#narendramodi', '#SCSS', '#SeniorCitizen', '#100', '#Garrison,', '#Construction', '#StormsDamages', '#CommentBelow']\n",
      "data now: [1, 1, 1, 1, 1, 1, 1, 1, 1, 1, 1]\n"
     ]
    },
    {
     "name": "stderr",
     "output_type": "stream",
     "text": [
      "172.19.0.1 - - [04/Jan/2022 08:24:58] \"GET /refreshData HTTP/1.1\" 200 -\n"
     ]
    },
    {
     "name": "stdout",
     "output_type": "stream",
     "text": [
      "labels now: ['#ChristmasGiveawayContest…lots', '#nsitharaman', '#RBI', '#narendramodi', '#SCSS', '#SeniorCitizen', '#100', '#Garrison,', '#Construction', '#StormsDamages', '#CommentBelow']\n",
      "data now: [1, 1, 1, 1, 1, 1, 1, 1, 1, 1, 1]\n"
     ]
    },
    {
     "name": "stderr",
     "output_type": "stream",
     "text": [
      "172.19.0.1 - - [04/Jan/2022 08:24:59] \"GET /refreshData HTTP/1.1\" 200 -\n"
     ]
    },
    {
     "name": "stdout",
     "output_type": "stream",
     "text": [
      "labels now: ['#ChristmasGiveawayContest…lots', '#nsitharaman', '#RBI', '#narendramodi', '#SCSS', '#SeniorCitizen', '#100', '#Garrison,', '#Construction', '#StormsDamages', '#CommentBelow']\n",
      "data now: [1, 1, 1, 1, 1, 1, 1, 1, 1, 1, 1]\n"
     ]
    },
    {
     "name": "stderr",
     "output_type": "stream",
     "text": [
      "172.19.0.1 - - [04/Jan/2022 08:25:00] \"GET /refreshData HTTP/1.1\" 200 -\n"
     ]
    },
    {
     "name": "stdout",
     "output_type": "stream",
     "text": [
      "labels now: ['#ChristmasGiveawayContest…lots', '#nsitharaman', '#RBI', '#narendramodi', '#SCSS', '#SeniorCitizen', '#100', '#Garrison,', '#Construction', '#StormsDamages', '#CommentBelow']\n",
      "data now: [1, 1, 1, 1, 1, 1, 1, 1, 1, 1, 1]\n"
     ]
    },
    {
     "name": "stderr",
     "output_type": "stream",
     "text": [
      "172.19.0.5 - - [04/Jan/2022 08:25:01] \"\u001b[35m\u001b[1mPOST /updateData HTTP/1.1\u001b[0m\" 201 -\n"
     ]
    },
    {
     "name": "stdout",
     "output_type": "stream",
     "text": [
      "labels received: ['#WWERaw', '#ChristmasGiveawayContest…lots', '#nsitharaman', '#RBI', '#narendramodi', '#SCSS', '#SeniorCitizen', '#100', '#Garrison,', '#Construction', '#StormsDamages']\n",
      "data received: [3, 1, 1, 1, 1, 1, 1, 1, 1, 1, 1]\n"
     ]
    },
    {
     "name": "stderr",
     "output_type": "stream",
     "text": [
      "172.19.0.1 - - [04/Jan/2022 08:25:02] \"GET /refreshData HTTP/1.1\" 200 -\n"
     ]
    },
    {
     "name": "stdout",
     "output_type": "stream",
     "text": [
      "labels now: ['#WWERaw', '#ChristmasGiveawayContest…lots', '#nsitharaman', '#RBI', '#narendramodi', '#SCSS', '#SeniorCitizen', '#100', '#Garrison,', '#Construction', '#StormsDamages']\n",
      "data now: [3, 1, 1, 1, 1, 1, 1, 1, 1, 1, 1]\n"
     ]
    },
    {
     "name": "stderr",
     "output_type": "stream",
     "text": [
      "172.19.0.1 - - [04/Jan/2022 08:25:03] \"GET /refreshData HTTP/1.1\" 200 -\n"
     ]
    },
    {
     "name": "stdout",
     "output_type": "stream",
     "text": [
      "labels now: ['#WWERaw', '#ChristmasGiveawayContest…lots', '#nsitharaman', '#RBI', '#narendramodi', '#SCSS', '#SeniorCitizen', '#100', '#Garrison,', '#Construction', '#StormsDamages']\n",
      "data now: [3, 1, 1, 1, 1, 1, 1, 1, 1, 1, 1]\n"
     ]
    },
    {
     "name": "stderr",
     "output_type": "stream",
     "text": [
      "172.19.0.1 - - [04/Jan/2022 08:25:04] \"GET /refreshData HTTP/1.1\" 200 -\n"
     ]
    },
    {
     "name": "stdout",
     "output_type": "stream",
     "text": [
      "labels now: ['#WWERaw', '#ChristmasGiveawayContest…lots', '#nsitharaman', '#RBI', '#narendramodi', '#SCSS', '#SeniorCitizen', '#100', '#Garrison,', '#Construction', '#StormsDamages']\n",
      "data now: [3, 1, 1, 1, 1, 1, 1, 1, 1, 1, 1]\n"
     ]
    },
    {
     "name": "stderr",
     "output_type": "stream",
     "text": [
      "172.19.0.1 - - [04/Jan/2022 08:25:05] \"GET /refreshData HTTP/1.1\" 200 -\n"
     ]
    },
    {
     "name": "stdout",
     "output_type": "stream",
     "text": [
      "labels now: ['#WWERaw', '#ChristmasGiveawayContest…lots', '#nsitharaman', '#RBI', '#narendramodi', '#SCSS', '#SeniorCitizen', '#100', '#Garrison,', '#Construction', '#StormsDamages']\n",
      "data now: [3, 1, 1, 1, 1, 1, 1, 1, 1, 1, 1]\n"
     ]
    },
    {
     "name": "stderr",
     "output_type": "stream",
     "text": [
      "172.19.0.5 - - [04/Jan/2022 08:25:05] \"\u001b[35m\u001b[1mPOST /updateData HTTP/1.1\u001b[0m\" 201 -\n"
     ]
    },
    {
     "name": "stdout",
     "output_type": "stream",
     "text": [
      "labels received: ['#WWERaw', '#Pratikistheboss', '#BBKINGPRATIK', '#Pratiksehajpal', '#ChristmasGiveawayContest…lots', '#nsitharaman', '#RBI', '#narendramodi', '#SCSS', '#SeniorCitizen', '#100']\n",
      "data received: [3, 2, 2, 2, 1, 1, 1, 1, 1, 1, 1]\n"
     ]
    },
    {
     "name": "stderr",
     "output_type": "stream",
     "text": [
      "172.19.0.1 - - [04/Jan/2022 08:25:06] \"GET /refreshData HTTP/1.1\" 200 -\n"
     ]
    },
    {
     "name": "stdout",
     "output_type": "stream",
     "text": [
      "labels now: ['#WWERaw', '#Pratikistheboss', '#BBKINGPRATIK', '#Pratiksehajpal', '#ChristmasGiveawayContest…lots', '#nsitharaman', '#RBI', '#narendramodi', '#SCSS', '#SeniorCitizen', '#100']\n",
      "data now: [3, 2, 2, 2, 1, 1, 1, 1, 1, 1, 1]\n"
     ]
    },
    {
     "name": "stderr",
     "output_type": "stream",
     "text": [
      "172.19.0.1 - - [04/Jan/2022 08:25:07] \"GET /refreshData HTTP/1.1\" 200 -\n"
     ]
    },
    {
     "name": "stdout",
     "output_type": "stream",
     "text": [
      "labels now: ['#WWERaw', '#Pratikistheboss', '#BBKINGPRATIK', '#Pratiksehajpal', '#ChristmasGiveawayContest…lots', '#nsitharaman', '#RBI', '#narendramodi', '#SCSS', '#SeniorCitizen', '#100']\n",
      "data now: [3, 2, 2, 2, 1, 1, 1, 1, 1, 1, 1]\n"
     ]
    },
    {
     "name": "stderr",
     "output_type": "stream",
     "text": [
      "172.19.0.1 - - [04/Jan/2022 08:25:08] \"GET /refreshData HTTP/1.1\" 200 -\n"
     ]
    },
    {
     "name": "stdout",
     "output_type": "stream",
     "text": [
      "labels now: ['#WWERaw', '#Pratikistheboss', '#BBKINGPRATIK', '#Pratiksehajpal', '#ChristmasGiveawayContest…lots', '#nsitharaman', '#RBI', '#narendramodi', '#SCSS', '#SeniorCitizen', '#100']\n",
      "data now: [3, 2, 2, 2, 1, 1, 1, 1, 1, 1, 1]\n"
     ]
    },
    {
     "name": "stderr",
     "output_type": "stream",
     "text": [
      "172.19.0.1 - - [04/Jan/2022 08:25:09] \"GET /refreshData HTTP/1.1\" 200 -\n"
     ]
    },
    {
     "name": "stdout",
     "output_type": "stream",
     "text": [
      "labels now: ['#WWERaw', '#Pratikistheboss', '#BBKINGPRATIK', '#Pratiksehajpal', '#ChristmasGiveawayContest…lots', '#nsitharaman', '#RBI', '#narendramodi', '#SCSS', '#SeniorCitizen', '#100']\n",
      "data now: [3, 2, 2, 2, 1, 1, 1, 1, 1, 1, 1]\n"
     ]
    },
    {
     "name": "stderr",
     "output_type": "stream",
     "text": [
      "172.19.0.1 - - [04/Jan/2022 08:25:10] \"GET /refreshData HTTP/1.1\" 200 -\n"
     ]
    },
    {
     "name": "stdout",
     "output_type": "stream",
     "text": [
      "labels now: ['#WWERaw', '#Pratikistheboss', '#BBKINGPRATIK', '#Pratiksehajpal', '#ChristmasGiveawayContest…lots', '#nsitharaman', '#RBI', '#narendramodi', '#SCSS', '#SeniorCitizen', '#100']\n",
      "data now: [3, 2, 2, 2, 1, 1, 1, 1, 1, 1, 1]\n"
     ]
    },
    {
     "name": "stderr",
     "output_type": "stream",
     "text": [
      "172.19.0.1 - - [04/Jan/2022 08:25:10] \"GET /refreshData HTTP/1.1\" 200 -\n"
     ]
    },
    {
     "name": "stdout",
     "output_type": "stream",
     "text": [
      "labels now: ['#WWERaw', '#Pratikistheboss', '#BBKINGPRATIK', '#Pratiksehajpal', '#ChristmasGiveawayContest…lots', '#nsitharaman', '#RBI', '#narendramodi', '#SCSS', '#SeniorCitizen', '#100']\n",
      "data now: [3, 2, 2, 2, 1, 1, 1, 1, 1, 1, 1]\n"
     ]
    },
    {
     "name": "stderr",
     "output_type": "stream",
     "text": [
      "172.19.0.1 - - [04/Jan/2022 08:25:11] \"GET /refreshData HTTP/1.1\" 200 -\n"
     ]
    },
    {
     "name": "stdout",
     "output_type": "stream",
     "text": [
      "labels now: ['#WWERaw', '#Pratikistheboss', '#BBKINGPRATIK', '#Pratiksehajpal', '#ChristmasGiveawayContest…lots', '#nsitharaman', '#RBI', '#narendramodi', '#SCSS', '#SeniorCitizen', '#100']\n",
      "data now: [3, 2, 2, 2, 1, 1, 1, 1, 1, 1, 1]\n"
     ]
    },
    {
     "name": "stderr",
     "output_type": "stream",
     "text": [
      "172.19.0.1 - - [04/Jan/2022 08:25:12] \"GET /refreshData HTTP/1.1\" 200 -\n"
     ]
    },
    {
     "name": "stdout",
     "output_type": "stream",
     "text": [
      "labels now: ['#WWERaw', '#Pratikistheboss', '#BBKINGPRATIK', '#Pratiksehajpal', '#ChristmasGiveawayContest…lots', '#nsitharaman', '#RBI', '#narendramodi', '#SCSS', '#SeniorCitizen', '#100']\n",
      "data now: [3, 2, 2, 2, 1, 1, 1, 1, 1, 1, 1]\n"
     ]
    },
    {
     "name": "stderr",
     "output_type": "stream",
     "text": [
      "172.19.0.1 - - [04/Jan/2022 08:25:13] \"GET /refreshData HTTP/1.1\" 200 -\n"
     ]
    },
    {
     "name": "stdout",
     "output_type": "stream",
     "text": [
      "labels now: ['#WWERaw', '#Pratikistheboss', '#BBKINGPRATIK', '#Pratiksehajpal', '#ChristmasGiveawayContest…lots', '#nsitharaman', '#RBI', '#narendramodi', '#SCSS', '#SeniorCitizen', '#100']\n",
      "data now: [3, 2, 2, 2, 1, 1, 1, 1, 1, 1, 1]\n"
     ]
    },
    {
     "name": "stderr",
     "output_type": "stream",
     "text": [
      "172.19.0.1 - - [04/Jan/2022 08:25:14] \"GET /refreshData HTTP/1.1\" 200 -\n"
     ]
    },
    {
     "name": "stdout",
     "output_type": "stream",
     "text": [
      "labels now: ['#WWERaw', '#Pratikistheboss', '#BBKINGPRATIK', '#Pratiksehajpal', '#ChristmasGiveawayContest…lots', '#nsitharaman', '#RBI', '#narendramodi', '#SCSS', '#SeniorCitizen', '#100']\n",
      "data now: [3, 2, 2, 2, 1, 1, 1, 1, 1, 1, 1]\n"
     ]
    },
    {
     "name": "stderr",
     "output_type": "stream",
     "text": [
      "172.19.0.5 - - [04/Jan/2022 08:25:15] \"\u001b[35m\u001b[1mPOST /updateData HTTP/1.1\u001b[0m\" 201 -\n",
      "172.19.0.1 - - [04/Jan/2022 08:25:15] \"GET /refreshData HTTP/1.1\" 200 -\n"
     ]
    },
    {
     "name": "stdout",
     "output_type": "stream",
     "text": [
      "labels received: ['#Pratikistheboss', '#BBKINGPRATIK', '#Pratiksehajpal', '#WWERaw', '#ChristmasGiveawayContest…lots', '#nsitharaman', '#RBI', '#narendramodi', '#SCSS', '#SeniorCitizen', '#100']\n",
      "data received: [3, 3, 3, 3, 1, 1, 1, 1, 1, 1, 1]\n",
      "labels now: ['#Pratikistheboss', '#BBKINGPRATIK', '#Pratiksehajpal', '#WWERaw', '#ChristmasGiveawayContest…lots', '#nsitharaman', '#RBI', '#narendramodi', '#SCSS', '#SeniorCitizen', '#100']\n",
      "data now: [3, 3, 3, 3, 1, 1, 1, 1, 1, 1, 1]\n"
     ]
    },
    {
     "name": "stderr",
     "output_type": "stream",
     "text": [
      "172.19.0.1 - - [04/Jan/2022 08:25:16] \"GET /refreshData HTTP/1.1\" 200 -\n"
     ]
    },
    {
     "name": "stdout",
     "output_type": "stream",
     "text": [
      "labels now: ['#Pratikistheboss', '#BBKINGPRATIK', '#Pratiksehajpal', '#WWERaw', '#ChristmasGiveawayContest…lots', '#nsitharaman', '#RBI', '#narendramodi', '#SCSS', '#SeniorCitizen', '#100']\n",
      "data now: [3, 3, 3, 3, 1, 1, 1, 1, 1, 1, 1]\n"
     ]
    },
    {
     "name": "stderr",
     "output_type": "stream",
     "text": [
      "172.19.0.1 - - [04/Jan/2022 08:25:17] \"GET /refreshData HTTP/1.1\" 200 -\n"
     ]
    },
    {
     "name": "stdout",
     "output_type": "stream",
     "text": [
      "labels now: ['#Pratikistheboss', '#BBKINGPRATIK', '#Pratiksehajpal', '#WWERaw', '#ChristmasGiveawayContest…lots', '#nsitharaman', '#RBI', '#narendramodi', '#SCSS', '#SeniorCitizen', '#100']\n",
      "data now: [3, 3, 3, 3, 1, 1, 1, 1, 1, 1, 1]\n"
     ]
    },
    {
     "name": "stderr",
     "output_type": "stream",
     "text": [
      "172.19.0.1 - - [04/Jan/2022 08:25:18] \"GET /refreshData HTTP/1.1\" 200 -\n"
     ]
    },
    {
     "name": "stdout",
     "output_type": "stream",
     "text": [
      "labels now: ['#Pratikistheboss', '#BBKINGPRATIK', '#Pratiksehajpal', '#WWERaw', '#ChristmasGiveawayContest…lots', '#nsitharaman', '#RBI', '#narendramodi', '#SCSS', '#SeniorCitizen', '#100']\n",
      "data now: [3, 3, 3, 3, 1, 1, 1, 1, 1, 1, 1]\n"
     ]
    },
    {
     "name": "stderr",
     "output_type": "stream",
     "text": [
      "172.19.0.1 - - [04/Jan/2022 08:25:19] \"GET /refreshData HTTP/1.1\" 200 -\n"
     ]
    },
    {
     "name": "stdout",
     "output_type": "stream",
     "text": [
      "labels now: ['#Pratikistheboss', '#BBKINGPRATIK', '#Pratiksehajpal', '#WWERaw', '#ChristmasGiveawayContest…lots', '#nsitharaman', '#RBI', '#narendramodi', '#SCSS', '#SeniorCitizen', '#100']\n",
      "data now: [3, 3, 3, 3, 1, 1, 1, 1, 1, 1, 1]\n"
     ]
    },
    {
     "name": "stderr",
     "output_type": "stream",
     "text": [
      "172.19.0.1 - - [04/Jan/2022 08:25:20] \"GET /refreshData HTTP/1.1\" 200 -\n"
     ]
    },
    {
     "name": "stdout",
     "output_type": "stream",
     "text": [
      "labels now: ['#Pratikistheboss', '#BBKINGPRATIK', '#Pratiksehajpal', '#WWERaw', '#ChristmasGiveawayContest…lots', '#nsitharaman', '#RBI', '#narendramodi', '#SCSS', '#SeniorCitizen', '#100']\n",
      "data now: [3, 3, 3, 3, 1, 1, 1, 1, 1, 1, 1]\n"
     ]
    },
    {
     "name": "stderr",
     "output_type": "stream",
     "text": [
      "172.19.0.1 - - [04/Jan/2022 08:25:21] \"GET /refreshData HTTP/1.1\" 200 -\n"
     ]
    },
    {
     "name": "stdout",
     "output_type": "stream",
     "text": [
      "labels now: ['#Pratikistheboss', '#BBKINGPRATIK', '#Pratiksehajpal', '#WWERaw', '#ChristmasGiveawayContest…lots', '#nsitharaman', '#RBI', '#narendramodi', '#SCSS', '#SeniorCitizen', '#100']\n",
      "data now: [3, 3, 3, 3, 1, 1, 1, 1, 1, 1, 1]\n"
     ]
    },
    {
     "name": "stderr",
     "output_type": "stream",
     "text": [
      "172.19.0.1 - - [04/Jan/2022 08:25:22] \"GET /refreshData HTTP/1.1\" 200 -\n"
     ]
    },
    {
     "name": "stdout",
     "output_type": "stream",
     "text": [
      "labels now: ['#Pratikistheboss', '#BBKINGPRATIK', '#Pratiksehajpal', '#WWERaw', '#ChristmasGiveawayContest…lots', '#nsitharaman', '#RBI', '#narendramodi', '#SCSS', '#SeniorCitizen', '#100']\n",
      "data now: [3, 3, 3, 3, 1, 1, 1, 1, 1, 1, 1]\n"
     ]
    },
    {
     "name": "stderr",
     "output_type": "stream",
     "text": [
      "172.19.0.1 - - [04/Jan/2022 08:25:23] \"GET /refreshData HTTP/1.1\" 200 -\n"
     ]
    },
    {
     "name": "stdout",
     "output_type": "stream",
     "text": [
      "labels now: ['#Pratikistheboss', '#BBKINGPRATIK', '#Pratiksehajpal', '#WWERaw', '#ChristmasGiveawayContest…lots', '#nsitharaman', '#RBI', '#narendramodi', '#SCSS', '#SeniorCitizen', '#100']\n",
      "data now: [3, 3, 3, 3, 1, 1, 1, 1, 1, 1, 1]\n"
     ]
    },
    {
     "name": "stderr",
     "output_type": "stream",
     "text": [
      "172.19.0.1 - - [04/Jan/2022 08:25:25] \"GET /refreshData HTTP/1.1\" 200 -\n"
     ]
    },
    {
     "name": "stdout",
     "output_type": "stream",
     "text": [
      "labels now: ['#Pratikistheboss', '#BBKINGPRATIK', '#Pratiksehajpal', '#WWERaw', '#ChristmasGiveawayContest…lots', '#nsitharaman', '#RBI', '#narendramodi', '#SCSS', '#SeniorCitizen', '#100']\n",
      "data now: [3, 3, 3, 3, 1, 1, 1, 1, 1, 1, 1]\n"
     ]
    },
    {
     "name": "stderr",
     "output_type": "stream",
     "text": [
      "172.19.0.1 - - [04/Jan/2022 08:25:26] \"GET /refreshData HTTP/1.1\" 200 -\n"
     ]
    },
    {
     "name": "stdout",
     "output_type": "stream",
     "text": [
      "labels now: ['#Pratikistheboss', '#BBKINGPRATIK', '#Pratiksehajpal', '#WWERaw', '#ChristmasGiveawayContest…lots', '#nsitharaman', '#RBI', '#narendramodi', '#SCSS', '#SeniorCitizen', '#100']\n",
      "data now: [3, 3, 3, 3, 1, 1, 1, 1, 1, 1, 1]\n"
     ]
    },
    {
     "name": "stderr",
     "output_type": "stream",
     "text": [
      "172.19.0.1 - - [04/Jan/2022 08:25:27] \"GET /refreshData HTTP/1.1\" 200 -\n"
     ]
    },
    {
     "name": "stdout",
     "output_type": "stream",
     "text": [
      "labels now: ['#Pratikistheboss', '#BBKINGPRATIK', '#Pratiksehajpal', '#WWERaw', '#ChristmasGiveawayContest…lots', '#nsitharaman', '#RBI', '#narendramodi', '#SCSS', '#SeniorCitizen', '#100']\n",
      "data now: [3, 3, 3, 3, 1, 1, 1, 1, 1, 1, 1]\n"
     ]
    },
    {
     "name": "stderr",
     "output_type": "stream",
     "text": [
      "172.19.0.1 - - [04/Jan/2022 08:25:28] \"GET /refreshData HTTP/1.1\" 200 -\n"
     ]
    },
    {
     "name": "stdout",
     "output_type": "stream",
     "text": [
      "labels now: ['#Pratikistheboss', '#BBKINGPRATIK', '#Pratiksehajpal', '#WWERaw', '#ChristmasGiveawayContest…lots', '#nsitharaman', '#RBI', '#narendramodi', '#SCSS', '#SeniorCitizen', '#100']\n",
      "data now: [3, 3, 3, 3, 1, 1, 1, 1, 1, 1, 1]\n"
     ]
    },
    {
     "name": "stderr",
     "output_type": "stream",
     "text": [
      "172.19.0.1 - - [04/Jan/2022 08:25:29] \"GET /refreshData HTTP/1.1\" 200 -\n"
     ]
    },
    {
     "name": "stdout",
     "output_type": "stream",
     "text": [
      "labels now: ['#Pratikistheboss', '#BBKINGPRATIK', '#Pratiksehajpal', '#WWERaw', '#ChristmasGiveawayContest…lots', '#nsitharaman', '#RBI', '#narendramodi', '#SCSS', '#SeniorCitizen', '#100']\n",
      "data now: [3, 3, 3, 3, 1, 1, 1, 1, 1, 1, 1]\n"
     ]
    },
    {
     "name": "stderr",
     "output_type": "stream",
     "text": [
      "172.19.0.1 - - [04/Jan/2022 08:25:30] \"GET /refreshData HTTP/1.1\" 200 -\n"
     ]
    },
    {
     "name": "stdout",
     "output_type": "stream",
     "text": [
      "labels now: ['#Pratikistheboss', '#BBKINGPRATIK', '#Pratiksehajpal', '#WWERaw', '#ChristmasGiveawayContest…lots', '#nsitharaman', '#RBI', '#narendramodi', '#SCSS', '#SeniorCitizen', '#100']\n",
      "data now: [3, 3, 3, 3, 1, 1, 1, 1, 1, 1, 1]\n"
     ]
    },
    {
     "name": "stderr",
     "output_type": "stream",
     "text": [
      "172.19.0.1 - - [04/Jan/2022 08:25:31] \"GET /refreshData HTTP/1.1\" 200 -\n"
     ]
    },
    {
     "name": "stdout",
     "output_type": "stream",
     "text": [
      "labels now: ['#Pratikistheboss', '#BBKINGPRATIK', '#Pratiksehajpal', '#WWERaw', '#ChristmasGiveawayContest…lots', '#nsitharaman', '#RBI', '#narendramodi', '#SCSS', '#SeniorCitizen', '#100']\n",
      "data now: [3, 3, 3, 3, 1, 1, 1, 1, 1, 1, 1]\n"
     ]
    },
    {
     "name": "stderr",
     "output_type": "stream",
     "text": [
      "172.19.0.1 - - [04/Jan/2022 08:25:32] \"GET /refreshData HTTP/1.1\" 200 -\n"
     ]
    },
    {
     "name": "stdout",
     "output_type": "stream",
     "text": [
      "labels now: ['#Pratikistheboss', '#BBKINGPRATIK', '#Pratiksehajpal', '#WWERaw', '#ChristmasGiveawayContest…lots', '#nsitharaman', '#RBI', '#narendramodi', '#SCSS', '#SeniorCitizen', '#100']\n",
      "data now: [3, 3, 3, 3, 1, 1, 1, 1, 1, 1, 1]\n"
     ]
    },
    {
     "name": "stderr",
     "output_type": "stream",
     "text": [
      "172.19.0.1 - - [04/Jan/2022 08:25:33] \"GET /refreshData HTTP/1.1\" 200 -\n"
     ]
    },
    {
     "name": "stdout",
     "output_type": "stream",
     "text": [
      "labels now: ['#Pratikistheboss', '#BBKINGPRATIK', '#Pratiksehajpal', '#WWERaw', '#ChristmasGiveawayContest…lots', '#nsitharaman', '#RBI', '#narendramodi', '#SCSS', '#SeniorCitizen', '#100']\n",
      "data now: [3, 3, 3, 3, 1, 1, 1, 1, 1, 1, 1]\n"
     ]
    },
    {
     "name": "stderr",
     "output_type": "stream",
     "text": [
      "172.19.0.1 - - [04/Jan/2022 08:25:34] \"GET /refreshData HTTP/1.1\" 200 -\n"
     ]
    },
    {
     "name": "stdout",
     "output_type": "stream",
     "text": [
      "labels now: ['#Pratikistheboss', '#BBKINGPRATIK', '#Pratiksehajpal', '#WWERaw', '#ChristmasGiveawayContest…lots', '#nsitharaman', '#RBI', '#narendramodi', '#SCSS', '#SeniorCitizen', '#100']\n",
      "data now: [3, 3, 3, 3, 1, 1, 1, 1, 1, 1, 1]\n"
     ]
    },
    {
     "name": "stderr",
     "output_type": "stream",
     "text": [
      "172.19.0.1 - - [04/Jan/2022 08:25:35] \"GET /refreshData HTTP/1.1\" 200 -\n",
      "172.19.0.5 - - [04/Jan/2022 08:25:35] \"\u001b[35m\u001b[1mPOST /updateData HTTP/1.1\u001b[0m\" 201 -\n"
     ]
    },
    {
     "name": "stdout",
     "output_type": "stream",
     "text": [
      "labels now: ['#Pratikistheboss', '#BBKINGPRATIK', '#Pratiksehajpal', '#WWERaw', '#ChristmasGiveawayContest…lots', '#nsitharaman', '#RBI', '#narendramodi', '#SCSS', '#SeniorCitizen', '#100']\n",
      "data now: [3, 3, 3, 3, 1, 1, 1, 1, 1, 1, 1]\n",
      "labels received: ['#Pratikistheboss', '#BBKINGPRATIK', '#Pratiksehajpal', '#WWERaw', '#GodMorningTuesday', '#tuesdaymotivations', '#TheBachelor', '#Construction', '#gay', '#Browns', '#CLEvsPIT']\n",
      "data received: [4, 4, 4, 4, 3, 3, 3, 2, 2, 2, 2]\n"
     ]
    },
    {
     "name": "stderr",
     "output_type": "stream",
     "text": [
      "172.19.0.1 - - [04/Jan/2022 08:25:36] \"GET /refreshData HTTP/1.1\" 200 -\n",
      "172.19.0.5 - - [04/Jan/2022 08:25:36] \"\u001b[35m\u001b[1mPOST /updateData HTTP/1.1\u001b[0m\" 201 -\n"
     ]
    },
    {
     "name": "stdout",
     "output_type": "stream",
     "text": [
      "labels now: ['#Pratikistheboss', '#BBKINGPRATIK', '#Pratiksehajpal', '#WWERaw', '#GodMorningTuesday', '#tuesdaymotivations', '#TheBachelor', '#Construction', '#gay', '#Browns', '#CLEvsPIT']\n",
      "data now: [4, 4, 4, 4, 3, 3, 3, 2, 2, 2, 2]\n",
      "labels received: ['#Pratikistheboss', '#BBKINGPRATIK', '#Pratiksehajpal', '#WWERaw', '#GodMorningTuesday', '#tuesdaymotivations', '#TheBachelor', '#Construction', '#gay', '#Browns', '#CLEvsPIT']\n",
      "data received: [4, 4, 4, 4, 3, 3, 3, 2, 2, 2, 2]\n"
     ]
    },
    {
     "name": "stderr",
     "output_type": "stream",
     "text": [
      "172.19.0.1 - - [04/Jan/2022 08:25:37] \"GET /refreshData HTTP/1.1\" 200 -\n"
     ]
    },
    {
     "name": "stdout",
     "output_type": "stream",
     "text": [
      "labels now: ['#Pratikistheboss', '#BBKINGPRATIK', '#Pratiksehajpal', '#WWERaw', '#GodMorningTuesday', '#tuesdaymotivations', '#TheBachelor', '#Construction', '#gay', '#Browns', '#CLEvsPIT']\n",
      "data now: [4, 4, 4, 4, 3, 3, 3, 2, 2, 2, 2]\n"
     ]
    },
    {
     "name": "stderr",
     "output_type": "stream",
     "text": [
      "172.19.0.1 - - [04/Jan/2022 08:25:38] \"GET /refreshData HTTP/1.1\" 200 -\n"
     ]
    },
    {
     "name": "stdout",
     "output_type": "stream",
     "text": [
      "labels now: ['#Pratikistheboss', '#BBKINGPRATIK', '#Pratiksehajpal', '#WWERaw', '#GodMorningTuesday', '#tuesdaymotivations', '#TheBachelor', '#Construction', '#gay', '#Browns', '#CLEvsPIT']\n",
      "data now: [4, 4, 4, 4, 3, 3, 3, 2, 2, 2, 2]\n"
     ]
    },
    {
     "name": "stderr",
     "output_type": "stream",
     "text": [
      "172.19.0.1 - - [04/Jan/2022 08:25:39] \"GET /refreshData HTTP/1.1\" 200 -\n"
     ]
    },
    {
     "name": "stdout",
     "output_type": "stream",
     "text": [
      "labels now: ['#Pratikistheboss', '#BBKINGPRATIK', '#Pratiksehajpal', '#WWERaw', '#GodMorningTuesday', '#tuesdaymotivations', '#TheBachelor', '#Construction', '#gay', '#Browns', '#CLEvsPIT']\n",
      "data now: [4, 4, 4, 4, 3, 3, 3, 2, 2, 2, 2]\n"
     ]
    },
    {
     "name": "stderr",
     "output_type": "stream",
     "text": [
      "172.19.0.1 - - [04/Jan/2022 08:25:40] \"GET /refreshData HTTP/1.1\" 200 -\n"
     ]
    },
    {
     "name": "stdout",
     "output_type": "stream",
     "text": [
      "labels now: ['#Pratikistheboss', '#BBKINGPRATIK', '#Pratiksehajpal', '#WWERaw', '#GodMorningTuesday', '#tuesdaymotivations', '#TheBachelor', '#Construction', '#gay', '#Browns', '#CLEvsPIT']\n",
      "data now: [4, 4, 4, 4, 3, 3, 3, 2, 2, 2, 2]\n"
     ]
    },
    {
     "name": "stderr",
     "output_type": "stream",
     "text": [
      "172.19.0.1 - - [04/Jan/2022 08:25:41] \"GET /refreshData HTTP/1.1\" 200 -\n"
     ]
    },
    {
     "name": "stdout",
     "output_type": "stream",
     "text": [
      "labels now: ['#Pratikistheboss', '#BBKINGPRATIK', '#Pratiksehajpal', '#WWERaw', '#GodMorningTuesday', '#tuesdaymotivations', '#TheBachelor', '#Construction', '#gay', '#Browns', '#CLEvsPIT']\n",
      "data now: [4, 4, 4, 4, 3, 3, 3, 2, 2, 2, 2]\n"
     ]
    },
    {
     "name": "stderr",
     "output_type": "stream",
     "text": [
      "172.19.0.1 - - [04/Jan/2022 08:25:42] \"GET /refreshData HTTP/1.1\" 200 -\n"
     ]
    },
    {
     "name": "stdout",
     "output_type": "stream",
     "text": [
      "labels now: ['#Pratikistheboss', '#BBKINGPRATIK', '#Pratiksehajpal', '#WWERaw', '#GodMorningTuesday', '#tuesdaymotivations', '#TheBachelor', '#Construction', '#gay', '#Browns', '#CLEvsPIT']\n",
      "data now: [4, 4, 4, 4, 3, 3, 3, 2, 2, 2, 2]\n"
     ]
    },
    {
     "name": "stderr",
     "output_type": "stream",
     "text": [
      "172.19.0.1 - - [04/Jan/2022 08:25:43] \"GET /refreshData HTTP/1.1\" 200 -\n"
     ]
    },
    {
     "name": "stdout",
     "output_type": "stream",
     "text": [
      "labels now: ['#Pratikistheboss', '#BBKINGPRATIK', '#Pratiksehajpal', '#WWERaw', '#GodMorningTuesday', '#tuesdaymotivations', '#TheBachelor', '#Construction', '#gay', '#Browns', '#CLEvsPIT']\n",
      "data now: [4, 4, 4, 4, 3, 3, 3, 2, 2, 2, 2]\n"
     ]
    },
    {
     "name": "stderr",
     "output_type": "stream",
     "text": [
      "172.19.0.1 - - [04/Jan/2022 08:25:44] \"GET /refreshData HTTP/1.1\" 200 -\n"
     ]
    },
    {
     "name": "stdout",
     "output_type": "stream",
     "text": [
      "labels now: ['#Pratikistheboss', '#BBKINGPRATIK', '#Pratiksehajpal', '#WWERaw', '#GodMorningTuesday', '#tuesdaymotivations', '#TheBachelor', '#Construction', '#gay', '#Browns', '#CLEvsPIT']\n",
      "data now: [4, 4, 4, 4, 3, 3, 3, 2, 2, 2, 2]\n"
     ]
    },
    {
     "name": "stderr",
     "output_type": "stream",
     "text": [
      "172.19.0.1 - - [04/Jan/2022 08:25:45] \"GET /refreshData HTTP/1.1\" 200 -\n",
      "172.19.0.5 - - [04/Jan/2022 08:25:45] \"\u001b[35m\u001b[1mPOST /updateData HTTP/1.1\u001b[0m\" 201 -\n"
     ]
    },
    {
     "name": "stdout",
     "output_type": "stream",
     "text": [
      "labels now: ['#Pratikistheboss', '#BBKINGPRATIK', '#Pratiksehajpal', '#WWERaw', '#GodMorningTuesday', '#tuesdaymotivations', '#TheBachelor', '#Construction', '#gay', '#Browns', '#CLEvsPIT']\n",
      "data now: [4, 4, 4, 4, 3, 3, 3, 2, 2, 2, 2]\n",
      "labels received: ['#Pratikistheboss', '#BBKINGPRATIK', '#Pratiksehajpal', '#WWERaw', '#GodMorningTuesday', '#tuesdaymotivations', '#TheBachelor', '#Construction', '#gay', '#Browns', '#CLEvsPIT']\n",
      "data received: [4, 4, 4, 4, 3, 3, 3, 2, 2, 2, 2]\n"
     ]
    },
    {
     "name": "stderr",
     "output_type": "stream",
     "text": [
      "172.19.0.1 - - [04/Jan/2022 08:25:46] \"GET /refreshData HTTP/1.1\" 200 -\n"
     ]
    },
    {
     "name": "stdout",
     "output_type": "stream",
     "text": [
      "labels now: ['#Pratikistheboss', '#BBKINGPRATIK', '#Pratiksehajpal', '#WWERaw', '#GodMorningTuesday', '#tuesdaymotivations', '#TheBachelor', '#Construction', '#gay', '#Browns', '#CLEvsPIT']\n",
      "data now: [4, 4, 4, 4, 3, 3, 3, 2, 2, 2, 2]\n"
     ]
    },
    {
     "name": "stderr",
     "output_type": "stream",
     "text": [
      "172.19.0.1 - - [04/Jan/2022 08:25:47] \"GET /refreshData HTTP/1.1\" 200 -\n"
     ]
    },
    {
     "name": "stdout",
     "output_type": "stream",
     "text": [
      "labels now: ['#Pratikistheboss', '#BBKINGPRATIK', '#Pratiksehajpal', '#WWERaw', '#GodMorningTuesday', '#tuesdaymotivations', '#TheBachelor', '#Construction', '#gay', '#Browns', '#CLEvsPIT']\n",
      "data now: [4, 4, 4, 4, 3, 3, 3, 2, 2, 2, 2]\n"
     ]
    },
    {
     "name": "stderr",
     "output_type": "stream",
     "text": [
      "172.19.0.1 - - [04/Jan/2022 08:25:48] \"GET /refreshData HTTP/1.1\" 200 -\n"
     ]
    },
    {
     "name": "stdout",
     "output_type": "stream",
     "text": [
      "labels now: ['#Pratikistheboss', '#BBKINGPRATIK', '#Pratiksehajpal', '#WWERaw', '#GodMorningTuesday', '#tuesdaymotivations', '#TheBachelor', '#Construction', '#gay', '#Browns', '#CLEvsPIT']\n",
      "data now: [4, 4, 4, 4, 3, 3, 3, 2, 2, 2, 2]\n"
     ]
    },
    {
     "name": "stderr",
     "output_type": "stream",
     "text": [
      "172.19.0.1 - - [04/Jan/2022 08:25:49] \"GET /refreshData HTTP/1.1\" 200 -\n"
     ]
    },
    {
     "name": "stdout",
     "output_type": "stream",
     "text": [
      "labels now: ['#Pratikistheboss', '#BBKINGPRATIK', '#Pratiksehajpal', '#WWERaw', '#GodMorningTuesday', '#tuesdaymotivations', '#TheBachelor', '#Construction', '#gay', '#Browns', '#CLEvsPIT']\n",
      "data now: [4, 4, 4, 4, 3, 3, 3, 2, 2, 2, 2]\n"
     ]
    },
    {
     "name": "stderr",
     "output_type": "stream",
     "text": [
      "172.19.0.1 - - [04/Jan/2022 08:25:50] \"GET /refreshData HTTP/1.1\" 200 -\n"
     ]
    },
    {
     "name": "stdout",
     "output_type": "stream",
     "text": [
      "labels now: ['#Pratikistheboss', '#BBKINGPRATIK', '#Pratiksehajpal', '#WWERaw', '#GodMorningTuesday', '#tuesdaymotivations', '#TheBachelor', '#Construction', '#gay', '#Browns', '#CLEvsPIT']\n",
      "data now: [4, 4, 4, 4, 3, 3, 3, 2, 2, 2, 2]\n"
     ]
    },
    {
     "name": "stderr",
     "output_type": "stream",
     "text": [
      "172.19.0.1 - - [04/Jan/2022 08:25:51] \"GET /refreshData HTTP/1.1\" 200 -\n"
     ]
    },
    {
     "name": "stdout",
     "output_type": "stream",
     "text": [
      "labels now: ['#Pratikistheboss', '#BBKINGPRATIK', '#Pratiksehajpal', '#WWERaw', '#GodMorningTuesday', '#tuesdaymotivations', '#TheBachelor', '#Construction', '#gay', '#Browns', '#CLEvsPIT']\n",
      "data now: [4, 4, 4, 4, 3, 3, 3, 2, 2, 2, 2]\n"
     ]
    },
    {
     "name": "stderr",
     "output_type": "stream",
     "text": [
      "172.19.0.1 - - [04/Jan/2022 08:25:52] \"GET /refreshData HTTP/1.1\" 200 -\n"
     ]
    },
    {
     "name": "stdout",
     "output_type": "stream",
     "text": [
      "labels now: ['#Pratikistheboss', '#BBKINGPRATIK', '#Pratiksehajpal', '#WWERaw', '#GodMorningTuesday', '#tuesdaymotivations', '#TheBachelor', '#Construction', '#gay', '#Browns', '#CLEvsPIT']\n",
      "data now: [4, 4, 4, 4, 3, 3, 3, 2, 2, 2, 2]\n"
     ]
    },
    {
     "name": "stderr",
     "output_type": "stream",
     "text": [
      "172.19.0.1 - - [04/Jan/2022 08:25:53] \"GET /refreshData HTTP/1.1\" 200 -\n"
     ]
    },
    {
     "name": "stdout",
     "output_type": "stream",
     "text": [
      "labels now: ['#Pratikistheboss', '#BBKINGPRATIK', '#Pratiksehajpal', '#WWERaw', '#GodMorningTuesday', '#tuesdaymotivations', '#TheBachelor', '#Construction', '#gay', '#Browns', '#CLEvsPIT']\n",
      "data now: [4, 4, 4, 4, 3, 3, 3, 2, 2, 2, 2]\n"
     ]
    },
    {
     "name": "stderr",
     "output_type": "stream",
     "text": [
      "172.19.0.1 - - [04/Jan/2022 08:25:54] \"GET /refreshData HTTP/1.1\" 200 -\n"
     ]
    },
    {
     "name": "stdout",
     "output_type": "stream",
     "text": [
      "labels now: ['#Pratikistheboss', '#BBKINGPRATIK', '#Pratiksehajpal', '#WWERaw', '#GodMorningTuesday', '#tuesdaymotivations', '#TheBachelor', '#Construction', '#gay', '#Browns', '#CLEvsPIT']\n",
      "data now: [4, 4, 4, 4, 3, 3, 3, 2, 2, 2, 2]\n"
     ]
    },
    {
     "name": "stderr",
     "output_type": "stream",
     "text": [
      "172.19.0.5 - - [04/Jan/2022 08:25:55] \"\u001b[35m\u001b[1mPOST /updateData HTTP/1.1\u001b[0m\" 201 -\n",
      "172.19.0.1 - - [04/Jan/2022 08:25:55] \"GET /refreshData HTTP/1.1\" 200 -\n"
     ]
    },
    {
     "name": "stdout",
     "output_type": "stream",
     "text": [
      "labels received: ['#TheBachelor', '#Pratikistheboss', '#BBKINGPRATIK', '#Pratiksehajpal', '#WWERaw', '#GodMorningTuesday', '#traffic', '#tuesdaymotivations', '#Construction', '#theneighborhood', '#gay']\n",
      "data received: [5, 4, 4, 4, 4, 3, 3, 3, 2, 2, 2]\n",
      "labels now: ['#TheBachelor', '#Pratikistheboss', '#BBKINGPRATIK', '#Pratiksehajpal', '#WWERaw', '#GodMorningTuesday', '#traffic', '#tuesdaymotivations', '#Construction', '#theneighborhood', '#gay']\n",
      "data now: [5, 4, 4, 4, 4, 3, 3, 3, 2, 2, 2]\n"
     ]
    },
    {
     "name": "stderr",
     "output_type": "stream",
     "text": [
      "172.19.0.1 - - [04/Jan/2022 08:25:56] \"GET /refreshData HTTP/1.1\" 200 -\n"
     ]
    },
    {
     "name": "stdout",
     "output_type": "stream",
     "text": [
      "labels now: ['#TheBachelor', '#Pratikistheboss', '#BBKINGPRATIK', '#Pratiksehajpal', '#WWERaw', '#GodMorningTuesday', '#traffic', '#tuesdaymotivations', '#Construction', '#theneighborhood', '#gay']\n",
      "data now: [5, 4, 4, 4, 4, 3, 3, 3, 2, 2, 2]\n"
     ]
    },
    {
     "name": "stderr",
     "output_type": "stream",
     "text": [
      "172.19.0.1 - - [04/Jan/2022 08:25:57] \"GET /refreshData HTTP/1.1\" 200 -\n"
     ]
    },
    {
     "name": "stdout",
     "output_type": "stream",
     "text": [
      "labels now: ['#TheBachelor', '#Pratikistheboss', '#BBKINGPRATIK', '#Pratiksehajpal', '#WWERaw', '#GodMorningTuesday', '#traffic', '#tuesdaymotivations', '#Construction', '#theneighborhood', '#gay']\n",
      "data now: [5, 4, 4, 4, 4, 3, 3, 3, 2, 2, 2]\n"
     ]
    },
    {
     "name": "stderr",
     "output_type": "stream",
     "text": [
      "172.19.0.1 - - [04/Jan/2022 08:25:58] \"GET /refreshData HTTP/1.1\" 200 -\n"
     ]
    },
    {
     "name": "stdout",
     "output_type": "stream",
     "text": [
      "labels now: ['#TheBachelor', '#Pratikistheboss', '#BBKINGPRATIK', '#Pratiksehajpal', '#WWERaw', '#GodMorningTuesday', '#traffic', '#tuesdaymotivations', '#Construction', '#theneighborhood', '#gay']\n",
      "data now: [5, 4, 4, 4, 4, 3, 3, 3, 2, 2, 2]\n"
     ]
    },
    {
     "name": "stderr",
     "output_type": "stream",
     "text": [
      "172.19.0.1 - - [04/Jan/2022 08:25:59] \"GET /refreshData HTTP/1.1\" 200 -\n"
     ]
    },
    {
     "name": "stdout",
     "output_type": "stream",
     "text": [
      "labels now: ['#TheBachelor', '#Pratikistheboss', '#BBKINGPRATIK', '#Pratiksehajpal', '#WWERaw', '#GodMorningTuesday', '#traffic', '#tuesdaymotivations', '#Construction', '#theneighborhood', '#gay']\n",
      "data now: [5, 4, 4, 4, 4, 3, 3, 3, 2, 2, 2]\n"
     ]
    },
    {
     "name": "stderr",
     "output_type": "stream",
     "text": [
      "172.19.0.1 - - [04/Jan/2022 08:26:00] \"GET /refreshData HTTP/1.1\" 200 -\n"
     ]
    },
    {
     "name": "stdout",
     "output_type": "stream",
     "text": [
      "labels now: ['#TheBachelor', '#Pratikistheboss', '#BBKINGPRATIK', '#Pratiksehajpal', '#WWERaw', '#GodMorningTuesday', '#traffic', '#tuesdaymotivations', '#Construction', '#theneighborhood', '#gay']\n",
      "data now: [5, 4, 4, 4, 4, 3, 3, 3, 2, 2, 2]\n"
     ]
    },
    {
     "name": "stderr",
     "output_type": "stream",
     "text": [
      "172.19.0.1 - - [04/Jan/2022 08:26:01] \"GET /refreshData HTTP/1.1\" 200 -\n"
     ]
    },
    {
     "name": "stdout",
     "output_type": "stream",
     "text": [
      "labels now: ['#TheBachelor', '#Pratikistheboss', '#BBKINGPRATIK', '#Pratiksehajpal', '#WWERaw', '#GodMorningTuesday', '#traffic', '#tuesdaymotivations', '#Construction', '#theneighborhood', '#gay']\n",
      "data now: [5, 4, 4, 4, 4, 3, 3, 3, 2, 2, 2]\n"
     ]
    },
    {
     "name": "stderr",
     "output_type": "stream",
     "text": [
      "172.19.0.1 - - [04/Jan/2022 08:26:02] \"GET /refreshData HTTP/1.1\" 200 -\n"
     ]
    },
    {
     "name": "stdout",
     "output_type": "stream",
     "text": [
      "labels now: ['#TheBachelor', '#Pratikistheboss', '#BBKINGPRATIK', '#Pratiksehajpal', '#WWERaw', '#GodMorningTuesday', '#traffic', '#tuesdaymotivations', '#Construction', '#theneighborhood', '#gay']\n",
      "data now: [5, 4, 4, 4, 4, 3, 3, 3, 2, 2, 2]\n"
     ]
    },
    {
     "name": "stderr",
     "output_type": "stream",
     "text": [
      "172.19.0.1 - - [04/Jan/2022 08:26:03] \"GET /refreshData HTTP/1.1\" 200 -\n"
     ]
    },
    {
     "name": "stdout",
     "output_type": "stream",
     "text": [
      "labels now: ['#TheBachelor', '#Pratikistheboss', '#BBKINGPRATIK', '#Pratiksehajpal', '#WWERaw', '#GodMorningTuesday', '#traffic', '#tuesdaymotivations', '#Construction', '#theneighborhood', '#gay']\n",
      "data now: [5, 4, 4, 4, 4, 3, 3, 3, 2, 2, 2]\n"
     ]
    },
    {
     "name": "stderr",
     "output_type": "stream",
     "text": [
      "172.19.0.1 - - [04/Jan/2022 08:26:04] \"GET /refreshData HTTP/1.1\" 200 -\n"
     ]
    },
    {
     "name": "stdout",
     "output_type": "stream",
     "text": [
      "labels now: ['#TheBachelor', '#Pratikistheboss', '#BBKINGPRATIK', '#Pratiksehajpal', '#WWERaw', '#GodMorningTuesday', '#traffic', '#tuesdaymotivations', '#Construction', '#theneighborhood', '#gay']\n",
      "data now: [5, 4, 4, 4, 4, 3, 3, 3, 2, 2, 2]\n"
     ]
    },
    {
     "name": "stderr",
     "output_type": "stream",
     "text": [
      "172.19.0.1 - - [04/Jan/2022 08:26:05] \"GET /refreshData HTTP/1.1\" 200 -\n"
     ]
    },
    {
     "name": "stdout",
     "output_type": "stream",
     "text": [
      "labels now: ['#TheBachelor', '#Pratikistheboss', '#BBKINGPRATIK', '#Pratiksehajpal', '#WWERaw', '#GodMorningTuesday', '#traffic', '#tuesdaymotivations', '#Construction', '#theneighborhood', '#gay']\n",
      "data now: [5, 4, 4, 4, 4, 3, 3, 3, 2, 2, 2]\n"
     ]
    },
    {
     "name": "stderr",
     "output_type": "stream",
     "text": [
      "172.19.0.1 - - [04/Jan/2022 08:26:06] \"GET /refreshData HTTP/1.1\" 200 -\n"
     ]
    },
    {
     "name": "stdout",
     "output_type": "stream",
     "text": [
      "labels now: ['#TheBachelor', '#Pratikistheboss', '#BBKINGPRATIK', '#Pratiksehajpal', '#WWERaw', '#GodMorningTuesday', '#traffic', '#tuesdaymotivations', '#Construction', '#theneighborhood', '#gay']\n",
      "data now: [5, 4, 4, 4, 4, 3, 3, 3, 2, 2, 2]\n"
     ]
    },
    {
     "name": "stderr",
     "output_type": "stream",
     "text": [
      "172.19.0.1 - - [04/Jan/2022 08:26:07] \"GET /refreshData HTTP/1.1\" 200 -\n"
     ]
    },
    {
     "name": "stdout",
     "output_type": "stream",
     "text": [
      "labels now: ['#TheBachelor', '#Pratikistheboss', '#BBKINGPRATIK', '#Pratiksehajpal', '#WWERaw', '#GodMorningTuesday', '#traffic', '#tuesdaymotivations', '#Construction', '#theneighborhood', '#gay']\n",
      "data now: [5, 4, 4, 4, 4, 3, 3, 3, 2, 2, 2]\n"
     ]
    },
    {
     "name": "stderr",
     "output_type": "stream",
     "text": [
      "172.19.0.1 - - [04/Jan/2022 08:26:08] \"GET /refreshData HTTP/1.1\" 200 -\n"
     ]
    },
    {
     "name": "stdout",
     "output_type": "stream",
     "text": [
      "labels now: ['#TheBachelor', '#Pratikistheboss', '#BBKINGPRATIK', '#Pratiksehajpal', '#WWERaw', '#GodMorningTuesday', '#traffic', '#tuesdaymotivations', '#Construction', '#theneighborhood', '#gay']\n",
      "data now: [5, 4, 4, 4, 4, 3, 3, 3, 2, 2, 2]\n"
     ]
    },
    {
     "name": "stderr",
     "output_type": "stream",
     "text": [
      "172.19.0.1 - - [04/Jan/2022 08:26:09] \"GET /refreshData HTTP/1.1\" 200 -\n"
     ]
    },
    {
     "name": "stdout",
     "output_type": "stream",
     "text": [
      "labels now: ['#TheBachelor', '#Pratikistheboss', '#BBKINGPRATIK', '#Pratiksehajpal', '#WWERaw', '#GodMorningTuesday', '#traffic', '#tuesdaymotivations', '#Construction', '#theneighborhood', '#gay']\n",
      "data now: [5, 4, 4, 4, 4, 3, 3, 3, 2, 2, 2]\n"
     ]
    },
    {
     "name": "stderr",
     "output_type": "stream",
     "text": [
      "172.19.0.1 - - [04/Jan/2022 08:26:10] \"GET /refreshData HTTP/1.1\" 200 -\n"
     ]
    },
    {
     "name": "stdout",
     "output_type": "stream",
     "text": [
      "labels now: ['#TheBachelor', '#Pratikistheboss', '#BBKINGPRATIK', '#Pratiksehajpal', '#WWERaw', '#GodMorningTuesday', '#traffic', '#tuesdaymotivations', '#Construction', '#theneighborhood', '#gay']\n",
      "data now: [5, 4, 4, 4, 4, 3, 3, 3, 2, 2, 2]\n"
     ]
    },
    {
     "name": "stderr",
     "output_type": "stream",
     "text": [
      "172.19.0.5 - - [04/Jan/2022 08:26:11] \"\u001b[35m\u001b[1mPOST /updateData HTTP/1.1\u001b[0m\" 201 -\n"
     ]
    },
    {
     "name": "stdout",
     "output_type": "stream",
     "text": [
      "labels received: ['#TheBachelor', '#Pratikistheboss', '#BBKINGPRATIK', '#Pratiksehajpal', '#WWERaw', '#GodMorningTuesday', '#traffic', '#tuesdaymotivations', '#Construction', '#theneighborhood', '#gay']\n",
      "data received: [5, 4, 4, 4, 4, 3, 3, 3, 2, 2, 2]\n"
     ]
    },
    {
     "name": "stderr",
     "output_type": "stream",
     "text": [
      "172.19.0.1 - - [04/Jan/2022 08:26:11] \"GET /refreshData HTTP/1.1\" 200 -\n"
     ]
    },
    {
     "name": "stdout",
     "output_type": "stream",
     "text": [
      "labels now: ['#TheBachelor', '#Pratikistheboss', '#BBKINGPRATIK', '#Pratiksehajpal', '#WWERaw', '#GodMorningTuesday', '#traffic', '#tuesdaymotivations', '#Construction', '#theneighborhood', '#gay']\n",
      "data now: [5, 4, 4, 4, 4, 3, 3, 3, 2, 2, 2]\n"
     ]
    },
    {
     "name": "stderr",
     "output_type": "stream",
     "text": [
      "172.19.0.1 - - [04/Jan/2022 08:26:12] \"GET /refreshData HTTP/1.1\" 200 -\n"
     ]
    },
    {
     "name": "stdout",
     "output_type": "stream",
     "text": [
      "labels now: ['#TheBachelor', '#Pratikistheboss', '#BBKINGPRATIK', '#Pratiksehajpal', '#WWERaw', '#GodMorningTuesday', '#traffic', '#tuesdaymotivations', '#Construction', '#theneighborhood', '#gay']\n",
      "data now: [5, 4, 4, 4, 4, 3, 3, 3, 2, 2, 2]\n"
     ]
    },
    {
     "name": "stderr",
     "output_type": "stream",
     "text": [
      "172.19.0.1 - - [04/Jan/2022 08:26:13] \"GET /refreshData HTTP/1.1\" 200 -\n"
     ]
    },
    {
     "name": "stdout",
     "output_type": "stream",
     "text": [
      "labels now: ['#TheBachelor', '#Pratikistheboss', '#BBKINGPRATIK', '#Pratiksehajpal', '#WWERaw', '#GodMorningTuesday', '#traffic', '#tuesdaymotivations', '#Construction', '#theneighborhood', '#gay']\n",
      "data now: [5, 4, 4, 4, 4, 3, 3, 3, 2, 2, 2]\n"
     ]
    },
    {
     "name": "stderr",
     "output_type": "stream",
     "text": [
      "172.19.0.1 - - [04/Jan/2022 08:26:14] \"GET /refreshData HTTP/1.1\" 200 -\n"
     ]
    },
    {
     "name": "stdout",
     "output_type": "stream",
     "text": [
      "labels now: ['#TheBachelor', '#Pratikistheboss', '#BBKINGPRATIK', '#Pratiksehajpal', '#WWERaw', '#GodMorningTuesday', '#traffic', '#tuesdaymotivations', '#Construction', '#theneighborhood', '#gay']\n",
      "data now: [5, 4, 4, 4, 4, 3, 3, 3, 2, 2, 2]\n"
     ]
    },
    {
     "name": "stderr",
     "output_type": "stream",
     "text": [
      "172.19.0.5 - - [04/Jan/2022 08:26:15] \"\u001b[35m\u001b[1mPOST /updateData HTTP/1.1\u001b[0m\" 201 -\n",
      "172.19.0.1 - - [04/Jan/2022 08:26:15] \"GET /refreshData HTTP/1.1\" 200 -\n"
     ]
    },
    {
     "name": "stdout",
     "output_type": "stream",
     "text": [
      "labels received: ['#TheBachelor', '#GodMorningTuesday', '#WWERaw', '#Pratikistheboss', '#BBKINGPRATIK', '#Pratiksehajpal', '#traffic', '#tuesdaymotivations', '#Construction', '#theneighborhood', '#gay']\n",
      "data received: [8, 5, 5, 4, 4, 4, 4, 4, 2, 2, 2]\n",
      "labels now: ['#TheBachelor', '#GodMorningTuesday', '#WWERaw', '#Pratikistheboss', '#BBKINGPRATIK', '#Pratiksehajpal', '#traffic', '#tuesdaymotivations', '#Construction', '#theneighborhood', '#gay']\n",
      "data now: [8, 5, 5, 4, 4, 4, 4, 4, 2, 2, 2]\n"
     ]
    },
    {
     "name": "stderr",
     "output_type": "stream",
     "text": [
      "172.19.0.1 - - [04/Jan/2022 08:26:16] \"GET /refreshData HTTP/1.1\" 200 -\n"
     ]
    },
    {
     "name": "stdout",
     "output_type": "stream",
     "text": [
      "labels now: ['#TheBachelor', '#GodMorningTuesday', '#WWERaw', '#Pratikistheboss', '#BBKINGPRATIK', '#Pratiksehajpal', '#traffic', '#tuesdaymotivations', '#Construction', '#theneighborhood', '#gay']\n",
      "data now: [8, 5, 5, 4, 4, 4, 4, 4, 2, 2, 2]\n"
     ]
    },
    {
     "name": "stderr",
     "output_type": "stream",
     "text": [
      "172.19.0.1 - - [04/Jan/2022 08:26:17] \"GET /refreshData HTTP/1.1\" 200 -\n"
     ]
    },
    {
     "name": "stdout",
     "output_type": "stream",
     "text": [
      "labels now: ['#TheBachelor', '#GodMorningTuesday', '#WWERaw', '#Pratikistheboss', '#BBKINGPRATIK', '#Pratiksehajpal', '#traffic', '#tuesdaymotivations', '#Construction', '#theneighborhood', '#gay']\n",
      "data now: [8, 5, 5, 4, 4, 4, 4, 4, 2, 2, 2]\n"
     ]
    },
    {
     "name": "stderr",
     "output_type": "stream",
     "text": [
      "172.19.0.1 - - [04/Jan/2022 08:26:18] \"GET /refreshData HTTP/1.1\" 200 -\n"
     ]
    },
    {
     "name": "stdout",
     "output_type": "stream",
     "text": [
      "labels now: ['#TheBachelor', '#GodMorningTuesday', '#WWERaw', '#Pratikistheboss', '#BBKINGPRATIK', '#Pratiksehajpal', '#traffic', '#tuesdaymotivations', '#Construction', '#theneighborhood', '#gay']\n",
      "data now: [8, 5, 5, 4, 4, 4, 4, 4, 2, 2, 2]\n"
     ]
    },
    {
     "name": "stderr",
     "output_type": "stream",
     "text": [
      "172.19.0.1 - - [04/Jan/2022 08:26:19] \"GET /refreshData HTTP/1.1\" 200 -\n"
     ]
    },
    {
     "name": "stdout",
     "output_type": "stream",
     "text": [
      "labels now: ['#TheBachelor', '#GodMorningTuesday', '#WWERaw', '#Pratikistheboss', '#BBKINGPRATIK', '#Pratiksehajpal', '#traffic', '#tuesdaymotivations', '#Construction', '#theneighborhood', '#gay']\n",
      "data now: [8, 5, 5, 4, 4, 4, 4, 4, 2, 2, 2]\n"
     ]
    },
    {
     "name": "stderr",
     "output_type": "stream",
     "text": [
      "172.19.0.1 - - [04/Jan/2022 08:26:20] \"GET /refreshData HTTP/1.1\" 200 -\n"
     ]
    },
    {
     "name": "stdout",
     "output_type": "stream",
     "text": [
      "labels now: ['#TheBachelor', '#GodMorningTuesday', '#WWERaw', '#Pratikistheboss', '#BBKINGPRATIK', '#Pratiksehajpal', '#traffic', '#tuesdaymotivations', '#Construction', '#theneighborhood', '#gay']\n",
      "data now: [8, 5, 5, 4, 4, 4, 4, 4, 2, 2, 2]\n"
     ]
    },
    {
     "name": "stderr",
     "output_type": "stream",
     "text": [
      "172.19.0.1 - - [04/Jan/2022 08:26:21] \"GET /refreshData HTTP/1.1\" 200 -\n"
     ]
    },
    {
     "name": "stdout",
     "output_type": "stream",
     "text": [
      "labels now: ['#TheBachelor', '#GodMorningTuesday', '#WWERaw', '#Pratikistheboss', '#BBKINGPRATIK', '#Pratiksehajpal', '#traffic', '#tuesdaymotivations', '#Construction', '#theneighborhood', '#gay']\n",
      "data now: [8, 5, 5, 4, 4, 4, 4, 4, 2, 2, 2]\n"
     ]
    },
    {
     "name": "stderr",
     "output_type": "stream",
     "text": [
      "172.19.0.1 - - [04/Jan/2022 08:26:22] \"GET /refreshData HTTP/1.1\" 200 -\n"
     ]
    },
    {
     "name": "stdout",
     "output_type": "stream",
     "text": [
      "labels now: ['#TheBachelor', '#GodMorningTuesday', '#WWERaw', '#Pratikistheboss', '#BBKINGPRATIK', '#Pratiksehajpal', '#traffic', '#tuesdaymotivations', '#Construction', '#theneighborhood', '#gay']\n",
      "data now: [8, 5, 5, 4, 4, 4, 4, 4, 2, 2, 2]\n"
     ]
    },
    {
     "name": "stderr",
     "output_type": "stream",
     "text": [
      "172.19.0.1 - - [04/Jan/2022 08:26:23] \"GET /refreshData HTTP/1.1\" 200 -\n"
     ]
    },
    {
     "name": "stdout",
     "output_type": "stream",
     "text": [
      "labels now: ['#TheBachelor', '#GodMorningTuesday', '#WWERaw', '#Pratikistheboss', '#BBKINGPRATIK', '#Pratiksehajpal', '#traffic', '#tuesdaymotivations', '#Construction', '#theneighborhood', '#gay']\n",
      "data now: [8, 5, 5, 4, 4, 4, 4, 4, 2, 2, 2]\n"
     ]
    },
    {
     "name": "stderr",
     "output_type": "stream",
     "text": [
      "172.19.0.1 - - [04/Jan/2022 08:26:24] \"GET /refreshData HTTP/1.1\" 200 -\n"
     ]
    },
    {
     "name": "stdout",
     "output_type": "stream",
     "text": [
      "labels now: ['#TheBachelor', '#GodMorningTuesday', '#WWERaw', '#Pratikistheboss', '#BBKINGPRATIK', '#Pratiksehajpal', '#traffic', '#tuesdaymotivations', '#Construction', '#theneighborhood', '#gay']\n",
      "data now: [8, 5, 5, 4, 4, 4, 4, 4, 2, 2, 2]\n"
     ]
    },
    {
     "name": "stderr",
     "output_type": "stream",
     "text": [
      "172.19.0.1 - - [04/Jan/2022 08:26:25] \"GET /refreshData HTTP/1.1\" 200 -\n"
     ]
    },
    {
     "name": "stdout",
     "output_type": "stream",
     "text": [
      "labels now: ['#TheBachelor', '#GodMorningTuesday', '#WWERaw', '#Pratikistheboss', '#BBKINGPRATIK', '#Pratiksehajpal', '#traffic', '#tuesdaymotivations', '#Construction', '#theneighborhood', '#gay']\n",
      "data now: [8, 5, 5, 4, 4, 4, 4, 4, 2, 2, 2]\n"
     ]
    },
    {
     "name": "stderr",
     "output_type": "stream",
     "text": [
      "172.19.0.1 - - [04/Jan/2022 08:26:26] \"GET /refreshData HTTP/1.1\" 200 -\n"
     ]
    },
    {
     "name": "stdout",
     "output_type": "stream",
     "text": [
      "labels now: ['#TheBachelor', '#GodMorningTuesday', '#WWERaw', '#Pratikistheboss', '#BBKINGPRATIK', '#Pratiksehajpal', '#traffic', '#tuesdaymotivations', '#Construction', '#theneighborhood', '#gay']\n",
      "data now: [8, 5, 5, 4, 4, 4, 4, 4, 2, 2, 2]\n"
     ]
    },
    {
     "name": "stderr",
     "output_type": "stream",
     "text": [
      "172.19.0.1 - - [04/Jan/2022 08:26:27] \"GET /refreshData HTTP/1.1\" 200 -\n"
     ]
    },
    {
     "name": "stdout",
     "output_type": "stream",
     "text": [
      "labels now: ['#TheBachelor', '#GodMorningTuesday', '#WWERaw', '#Pratikistheboss', '#BBKINGPRATIK', '#Pratiksehajpal', '#traffic', '#tuesdaymotivations', '#Construction', '#theneighborhood', '#gay']\n",
      "data now: [8, 5, 5, 4, 4, 4, 4, 4, 2, 2, 2]\n"
     ]
    },
    {
     "name": "stderr",
     "output_type": "stream",
     "text": [
      "172.19.0.1 - - [04/Jan/2022 08:26:28] \"GET /refreshData HTTP/1.1\" 200 -\n"
     ]
    },
    {
     "name": "stdout",
     "output_type": "stream",
     "text": [
      "labels now: ['#TheBachelor', '#GodMorningTuesday', '#WWERaw', '#Pratikistheboss', '#BBKINGPRATIK', '#Pratiksehajpal', '#traffic', '#tuesdaymotivations', '#Construction', '#theneighborhood', '#gay']\n",
      "data now: [8, 5, 5, 4, 4, 4, 4, 4, 2, 2, 2]\n"
     ]
    },
    {
     "name": "stderr",
     "output_type": "stream",
     "text": [
      "172.19.0.1 - - [04/Jan/2022 08:26:29] \"GET /refreshData HTTP/1.1\" 200 -\n"
     ]
    },
    {
     "name": "stdout",
     "output_type": "stream",
     "text": [
      "labels now: ['#TheBachelor', '#GodMorningTuesday', '#WWERaw', '#Pratikistheboss', '#BBKINGPRATIK', '#Pratiksehajpal', '#traffic', '#tuesdaymotivations', '#Construction', '#theneighborhood', '#gay']\n",
      "data now: [8, 5, 5, 4, 4, 4, 4, 4, 2, 2, 2]\n"
     ]
    },
    {
     "name": "stderr",
     "output_type": "stream",
     "text": [
      "172.19.0.1 - - [04/Jan/2022 08:26:30] \"GET /refreshData HTTP/1.1\" 200 -\n"
     ]
    },
    {
     "name": "stdout",
     "output_type": "stream",
     "text": [
      "labels now: ['#TheBachelor', '#GodMorningTuesday', '#WWERaw', '#Pratikistheboss', '#BBKINGPRATIK', '#Pratiksehajpal', '#traffic', '#tuesdaymotivations', '#Construction', '#theneighborhood', '#gay']\n",
      "data now: [8, 5, 5, 4, 4, 4, 4, 4, 2, 2, 2]\n"
     ]
    },
    {
     "name": "stderr",
     "output_type": "stream",
     "text": [
      "172.19.0.1 - - [04/Jan/2022 08:26:31] \"GET /refreshData HTTP/1.1\" 200 -\n"
     ]
    },
    {
     "name": "stdout",
     "output_type": "stream",
     "text": [
      "labels now: ['#TheBachelor', '#GodMorningTuesday', '#WWERaw', '#Pratikistheboss', '#BBKINGPRATIK', '#Pratiksehajpal', '#traffic', '#tuesdaymotivations', '#Construction', '#theneighborhood', '#gay']\n",
      "data now: [8, 5, 5, 4, 4, 4, 4, 4, 2, 2, 2]\n"
     ]
    },
    {
     "name": "stderr",
     "output_type": "stream",
     "text": [
      "172.19.0.1 - - [04/Jan/2022 08:26:32] \"GET /refreshData HTTP/1.1\" 200 -\n"
     ]
    },
    {
     "name": "stdout",
     "output_type": "stream",
     "text": [
      "labels now: ['#TheBachelor', '#GodMorningTuesday', '#WWERaw', '#Pratikistheboss', '#BBKINGPRATIK', '#Pratiksehajpal', '#traffic', '#tuesdaymotivations', '#Construction', '#theneighborhood', '#gay']\n",
      "data now: [8, 5, 5, 4, 4, 4, 4, 4, 2, 2, 2]\n"
     ]
    },
    {
     "name": "stderr",
     "output_type": "stream",
     "text": [
      "172.19.0.1 - - [04/Jan/2022 08:26:33] \"GET /refreshData HTTP/1.1\" 200 -\n"
     ]
    },
    {
     "name": "stdout",
     "output_type": "stream",
     "text": [
      "labels now: ['#TheBachelor', '#GodMorningTuesday', '#WWERaw', '#Pratikistheboss', '#BBKINGPRATIK', '#Pratiksehajpal', '#traffic', '#tuesdaymotivations', '#Construction', '#theneighborhood', '#gay']\n",
      "data now: [8, 5, 5, 4, 4, 4, 4, 4, 2, 2, 2]\n"
     ]
    },
    {
     "name": "stderr",
     "output_type": "stream",
     "text": [
      "172.19.0.1 - - [04/Jan/2022 08:26:34] \"GET /refreshData HTTP/1.1\" 200 -\n"
     ]
    },
    {
     "name": "stdout",
     "output_type": "stream",
     "text": [
      "labels now: ['#TheBachelor', '#GodMorningTuesday', '#WWERaw', '#Pratikistheboss', '#BBKINGPRATIK', '#Pratiksehajpal', '#traffic', '#tuesdaymotivations', '#Construction', '#theneighborhood', '#gay']\n",
      "data now: [8, 5, 5, 4, 4, 4, 4, 4, 2, 2, 2]\n"
     ]
    },
    {
     "name": "stderr",
     "output_type": "stream",
     "text": [
      "172.19.0.1 - - [04/Jan/2022 08:26:35] \"GET /refreshData HTTP/1.1\" 200 -\n",
      "172.19.0.5 - - [04/Jan/2022 08:26:35] \"\u001b[35m\u001b[1mPOST /updateData HTTP/1.1\u001b[0m\" 201 -\n"
     ]
    },
    {
     "name": "stdout",
     "output_type": "stream",
     "text": [
      "labels now: ['#TheBachelor', '#GodMorningTuesday', '#WWERaw', '#Pratikistheboss', '#BBKINGPRATIK', '#Pratiksehajpal', '#traffic', '#tuesdaymotivations', '#Construction', '#theneighborhood', '#gay']\n",
      "data now: [8, 5, 5, 4, 4, 4, 4, 4, 2, 2, 2]\n",
      "labels received: ['#TheBachelor', '#GodMorningTuesday', '#WWERaw', '#Pratikistheboss', '#BBKINGPRATIK', '#Pratiksehajpal', '#traffic', '#tuesdaymotivations', '#Construction', '#NYR', '#theneighborhood']\n",
      "data received: [11, 5, 5, 4, 4, 4, 4, 4, 2, 2, 2]\n"
     ]
    },
    {
     "name": "stderr",
     "output_type": "stream",
     "text": [
      "172.19.0.1 - - [04/Jan/2022 08:26:36] \"GET /refreshData HTTP/1.1\" 200 -\n",
      "172.19.0.5 - - [04/Jan/2022 08:26:36] \"\u001b[35m\u001b[1mPOST /updateData HTTP/1.1\u001b[0m\" 201 -\n"
     ]
    },
    {
     "name": "stdout",
     "output_type": "stream",
     "text": [
      "labels now: ['#TheBachelor', '#GodMorningTuesday', '#WWERaw', '#Pratikistheboss', '#BBKINGPRATIK', '#Pratiksehajpal', '#traffic', '#tuesdaymotivations', '#Construction', '#NYR', '#theneighborhood']\n",
      "data now: [11, 5, 5, 4, 4, 4, 4, 4, 2, 2, 2]\n",
      "labels received: ['#TheBachelor', '#GodMorningTuesday', '#WWERaw', '#Pratikistheboss', '#BBKINGPRATIK', '#Pratiksehajpal', '#traffic', '#tuesdaymotivations', '#Construction', '#NYR', '#theneighborhood']\n",
      "data received: [11, 5, 5, 4, 4, 4, 4, 4, 2, 2, 2]\n"
     ]
    },
    {
     "name": "stderr",
     "output_type": "stream",
     "text": [
      "172.19.0.1 - - [04/Jan/2022 08:26:37] \"GET /refreshData HTTP/1.1\" 200 -\n"
     ]
    },
    {
     "name": "stdout",
     "output_type": "stream",
     "text": [
      "labels now: ['#TheBachelor', '#GodMorningTuesday', '#WWERaw', '#Pratikistheboss', '#BBKINGPRATIK', '#Pratiksehajpal', '#traffic', '#tuesdaymotivations', '#Construction', '#NYR', '#theneighborhood']\n",
      "data now: [11, 5, 5, 4, 4, 4, 4, 4, 2, 2, 2]\n"
     ]
    },
    {
     "name": "stderr",
     "output_type": "stream",
     "text": [
      "172.19.0.1 - - [04/Jan/2022 08:26:38] \"GET /refreshData HTTP/1.1\" 200 -\n"
     ]
    },
    {
     "name": "stdout",
     "output_type": "stream",
     "text": [
      "labels now: ['#TheBachelor', '#GodMorningTuesday', '#WWERaw', '#Pratikistheboss', '#BBKINGPRATIK', '#Pratiksehajpal', '#traffic', '#tuesdaymotivations', '#Construction', '#NYR', '#theneighborhood']\n",
      "data now: [11, 5, 5, 4, 4, 4, 4, 4, 2, 2, 2]\n"
     ]
    },
    {
     "name": "stderr",
     "output_type": "stream",
     "text": [
      "172.19.0.1 - - [04/Jan/2022 08:26:39] \"GET /refreshData HTTP/1.1\" 200 -\n"
     ]
    },
    {
     "name": "stdout",
     "output_type": "stream",
     "text": [
      "labels now: ['#TheBachelor', '#GodMorningTuesday', '#WWERaw', '#Pratikistheboss', '#BBKINGPRATIK', '#Pratiksehajpal', '#traffic', '#tuesdaymotivations', '#Construction', '#NYR', '#theneighborhood']\n",
      "data now: [11, 5, 5, 4, 4, 4, 4, 4, 2, 2, 2]\n"
     ]
    },
    {
     "name": "stderr",
     "output_type": "stream",
     "text": [
      "172.19.0.1 - - [04/Jan/2022 08:26:40] \"GET /refreshData HTTP/1.1\" 200 -\n"
     ]
    },
    {
     "name": "stdout",
     "output_type": "stream",
     "text": [
      "labels now: ['#TheBachelor', '#GodMorningTuesday', '#WWERaw', '#Pratikistheboss', '#BBKINGPRATIK', '#Pratiksehajpal', '#traffic', '#tuesdaymotivations', '#Construction', '#NYR', '#theneighborhood']\n",
      "data now: [11, 5, 5, 4, 4, 4, 4, 4, 2, 2, 2]\n"
     ]
    },
    {
     "name": "stderr",
     "output_type": "stream",
     "text": [
      "172.19.0.1 - - [04/Jan/2022 08:26:41] \"GET /refreshData HTTP/1.1\" 200 -\n"
     ]
    },
    {
     "name": "stdout",
     "output_type": "stream",
     "text": [
      "labels now: ['#TheBachelor', '#GodMorningTuesday', '#WWERaw', '#Pratikistheboss', '#BBKINGPRATIK', '#Pratiksehajpal', '#traffic', '#tuesdaymotivations', '#Construction', '#NYR', '#theneighborhood']\n",
      "data now: [11, 5, 5, 4, 4, 4, 4, 4, 2, 2, 2]\n"
     ]
    },
    {
     "name": "stderr",
     "output_type": "stream",
     "text": [
      "172.19.0.1 - - [04/Jan/2022 08:26:42] \"GET /refreshData HTTP/1.1\" 200 -\n"
     ]
    },
    {
     "name": "stdout",
     "output_type": "stream",
     "text": [
      "labels now: ['#TheBachelor', '#GodMorningTuesday', '#WWERaw', '#Pratikistheboss', '#BBKINGPRATIK', '#Pratiksehajpal', '#traffic', '#tuesdaymotivations', '#Construction', '#NYR', '#theneighborhood']\n",
      "data now: [11, 5, 5, 4, 4, 4, 4, 4, 2, 2, 2]\n"
     ]
    },
    {
     "name": "stderr",
     "output_type": "stream",
     "text": [
      "172.19.0.1 - - [04/Jan/2022 08:26:43] \"GET /refreshData HTTP/1.1\" 200 -\n"
     ]
    },
    {
     "name": "stdout",
     "output_type": "stream",
     "text": [
      "labels now: ['#TheBachelor', '#GodMorningTuesday', '#WWERaw', '#Pratikistheboss', '#BBKINGPRATIK', '#Pratiksehajpal', '#traffic', '#tuesdaymotivations', '#Construction', '#NYR', '#theneighborhood']\n",
      "data now: [11, 5, 5, 4, 4, 4, 4, 4, 2, 2, 2]\n"
     ]
    },
    {
     "name": "stderr",
     "output_type": "stream",
     "text": [
      "172.19.0.1 - - [04/Jan/2022 08:26:44] \"GET /refreshData HTTP/1.1\" 200 -\n"
     ]
    },
    {
     "name": "stdout",
     "output_type": "stream",
     "text": [
      "labels now: ['#TheBachelor', '#GodMorningTuesday', '#WWERaw', '#Pratikistheboss', '#BBKINGPRATIK', '#Pratiksehajpal', '#traffic', '#tuesdaymotivations', '#Construction', '#NYR', '#theneighborhood']\n",
      "data now: [11, 5, 5, 4, 4, 4, 4, 4, 2, 2, 2]\n"
     ]
    },
    {
     "name": "stderr",
     "output_type": "stream",
     "text": [
      "172.19.0.1 - - [04/Jan/2022 08:26:45] \"GET /refreshData HTTP/1.1\" 200 -\n",
      "172.19.0.5 - - [04/Jan/2022 08:26:45] \"\u001b[35m\u001b[1mPOST /updateData HTTP/1.1\u001b[0m\" 201 -\n"
     ]
    },
    {
     "name": "stdout",
     "output_type": "stream",
     "text": [
      "labels now: ['#TheBachelor', '#GodMorningTuesday', '#WWERaw', '#Pratikistheboss', '#BBKINGPRATIK', '#Pratiksehajpal', '#traffic', '#tuesdaymotivations', '#Construction', '#NYR', '#theneighborhood']\n",
      "data now: [11, 5, 5, 4, 4, 4, 4, 4, 2, 2, 2]\n",
      "labels received: ['#TheBachelor', '#WWERaw', '#GodMorningTuesday', '#Pratikistheboss', '#BBKINGPRATIK', '#Pratiksehajpal', '#traffic', '#tuesdaymotivations', '#HereWeGo', '#CLEvsPIT', '#Construction']\n",
      "data received: [13, 6, 5, 4, 4, 4, 4, 4, 4, 3, 2]\n"
     ]
    },
    {
     "name": "stderr",
     "output_type": "stream",
     "text": [
      "172.19.0.1 - - [04/Jan/2022 08:26:46] \"GET /refreshData HTTP/1.1\" 200 -\n"
     ]
    },
    {
     "name": "stdout",
     "output_type": "stream",
     "text": [
      "labels now: ['#TheBachelor', '#WWERaw', '#GodMorningTuesday', '#Pratikistheboss', '#BBKINGPRATIK', '#Pratiksehajpal', '#traffic', '#tuesdaymotivations', '#HereWeGo', '#CLEvsPIT', '#Construction']\n",
      "data now: [13, 6, 5, 4, 4, 4, 4, 4, 4, 3, 2]\n"
     ]
    },
    {
     "name": "stderr",
     "output_type": "stream",
     "text": [
      "172.19.0.1 - - [04/Jan/2022 08:26:47] \"GET /refreshData HTTP/1.1\" 200 -\n"
     ]
    },
    {
     "name": "stdout",
     "output_type": "stream",
     "text": [
      "labels now: ['#TheBachelor', '#WWERaw', '#GodMorningTuesday', '#Pratikistheboss', '#BBKINGPRATIK', '#Pratiksehajpal', '#traffic', '#tuesdaymotivations', '#HereWeGo', '#CLEvsPIT', '#Construction']\n",
      "data now: [13, 6, 5, 4, 4, 4, 4, 4, 4, 3, 2]\n"
     ]
    },
    {
     "name": "stderr",
     "output_type": "stream",
     "text": [
      "172.19.0.1 - - [04/Jan/2022 08:26:48] \"GET /refreshData HTTP/1.1\" 200 -\n"
     ]
    },
    {
     "name": "stdout",
     "output_type": "stream",
     "text": [
      "labels now: ['#TheBachelor', '#WWERaw', '#GodMorningTuesday', '#Pratikistheboss', '#BBKINGPRATIK', '#Pratiksehajpal', '#traffic', '#tuesdaymotivations', '#HereWeGo', '#CLEvsPIT', '#Construction']\n",
      "data now: [13, 6, 5, 4, 4, 4, 4, 4, 4, 3, 2]\n"
     ]
    },
    {
     "name": "stderr",
     "output_type": "stream",
     "text": [
      "172.19.0.1 - - [04/Jan/2022 08:26:49] \"GET /refreshData HTTP/1.1\" 200 -\n"
     ]
    },
    {
     "name": "stdout",
     "output_type": "stream",
     "text": [
      "labels now: ['#TheBachelor', '#WWERaw', '#GodMorningTuesday', '#Pratikistheboss', '#BBKINGPRATIK', '#Pratiksehajpal', '#traffic', '#tuesdaymotivations', '#HereWeGo', '#CLEvsPIT', '#Construction']\n",
      "data now: [13, 6, 5, 4, 4, 4, 4, 4, 4, 3, 2]\n"
     ]
    },
    {
     "name": "stderr",
     "output_type": "stream",
     "text": [
      "172.19.0.1 - - [04/Jan/2022 08:26:50] \"GET /refreshData HTTP/1.1\" 200 -\n"
     ]
    },
    {
     "name": "stdout",
     "output_type": "stream",
     "text": [
      "labels now: ['#TheBachelor', '#WWERaw', '#GodMorningTuesday', '#Pratikistheboss', '#BBKINGPRATIK', '#Pratiksehajpal', '#traffic', '#tuesdaymotivations', '#HereWeGo', '#CLEvsPIT', '#Construction']\n",
      "data now: [13, 6, 5, 4, 4, 4, 4, 4, 4, 3, 2]\n"
     ]
    },
    {
     "name": "stderr",
     "output_type": "stream",
     "text": [
      "172.19.0.1 - - [04/Jan/2022 08:26:51] \"GET /refreshData HTTP/1.1\" 200 -\n"
     ]
    },
    {
     "name": "stdout",
     "output_type": "stream",
     "text": [
      "labels now: ['#TheBachelor', '#WWERaw', '#GodMorningTuesday', '#Pratikistheboss', '#BBKINGPRATIK', '#Pratiksehajpal', '#traffic', '#tuesdaymotivations', '#HereWeGo', '#CLEvsPIT', '#Construction']\n",
      "data now: [13, 6, 5, 4, 4, 4, 4, 4, 4, 3, 2]\n"
     ]
    },
    {
     "name": "stderr",
     "output_type": "stream",
     "text": [
      "172.19.0.1 - - [04/Jan/2022 08:26:52] \"GET /refreshData HTTP/1.1\" 200 -\n"
     ]
    },
    {
     "name": "stdout",
     "output_type": "stream",
     "text": [
      "labels now: ['#TheBachelor', '#WWERaw', '#GodMorningTuesday', '#Pratikistheboss', '#BBKINGPRATIK', '#Pratiksehajpal', '#traffic', '#tuesdaymotivations', '#HereWeGo', '#CLEvsPIT', '#Construction']\n",
      "data now: [13, 6, 5, 4, 4, 4, 4, 4, 4, 3, 2]\n"
     ]
    },
    {
     "name": "stderr",
     "output_type": "stream",
     "text": [
      "172.19.0.1 - - [04/Jan/2022 08:26:53] \"GET /refreshData HTTP/1.1\" 200 -\n"
     ]
    },
    {
     "name": "stdout",
     "output_type": "stream",
     "text": [
      "labels now: ['#TheBachelor', '#WWERaw', '#GodMorningTuesday', '#Pratikistheboss', '#BBKINGPRATIK', '#Pratiksehajpal', '#traffic', '#tuesdaymotivations', '#HereWeGo', '#CLEvsPIT', '#Construction']\n",
      "data now: [13, 6, 5, 4, 4, 4, 4, 4, 4, 3, 2]\n"
     ]
    },
    {
     "name": "stderr",
     "output_type": "stream",
     "text": [
      "172.19.0.1 - - [04/Jan/2022 08:26:54] \"GET /refreshData HTTP/1.1\" 200 -\n"
     ]
    },
    {
     "name": "stdout",
     "output_type": "stream",
     "text": [
      "labels now: ['#TheBachelor', '#WWERaw', '#GodMorningTuesday', '#Pratikistheboss', '#BBKINGPRATIK', '#Pratiksehajpal', '#traffic', '#tuesdaymotivations', '#HereWeGo', '#CLEvsPIT', '#Construction']\n",
      "data now: [13, 6, 5, 4, 4, 4, 4, 4, 4, 3, 2]\n"
     ]
    },
    {
     "name": "stderr",
     "output_type": "stream",
     "text": [
      "172.19.0.1 - - [04/Jan/2022 08:26:55] \"GET /refreshData HTTP/1.1\" 200 -\n"
     ]
    },
    {
     "name": "stdout",
     "output_type": "stream",
     "text": [
      "labels now: ['#TheBachelor', '#WWERaw', '#GodMorningTuesday', '#Pratikistheboss', '#BBKINGPRATIK', '#Pratiksehajpal', '#traffic', '#tuesdaymotivations', '#HereWeGo', '#CLEvsPIT', '#Construction']\n",
      "data now: [13, 6, 5, 4, 4, 4, 4, 4, 4, 3, 2]\n"
     ]
    },
    {
     "name": "stderr",
     "output_type": "stream",
     "text": [
      "172.19.0.1 - - [04/Jan/2022 08:26:56] \"GET /refreshData HTTP/1.1\" 200 -\n"
     ]
    },
    {
     "name": "stdout",
     "output_type": "stream",
     "text": [
      "labels now: ['#TheBachelor', '#WWERaw', '#GodMorningTuesday', '#Pratikistheboss', '#BBKINGPRATIK', '#Pratiksehajpal', '#traffic', '#tuesdaymotivations', '#HereWeGo', '#CLEvsPIT', '#Construction']\n",
      "data now: [13, 6, 5, 4, 4, 4, 4, 4, 4, 3, 2]\n"
     ]
    },
    {
     "name": "stderr",
     "output_type": "stream",
     "text": [
      "172.19.0.1 - - [04/Jan/2022 08:26:57] \"GET /refreshData HTTP/1.1\" 200 -\n"
     ]
    },
    {
     "name": "stdout",
     "output_type": "stream",
     "text": [
      "labels now: ['#TheBachelor', '#WWERaw', '#GodMorningTuesday', '#Pratikistheboss', '#BBKINGPRATIK', '#Pratiksehajpal', '#traffic', '#tuesdaymotivations', '#HereWeGo', '#CLEvsPIT', '#Construction']\n",
      "data now: [13, 6, 5, 4, 4, 4, 4, 4, 4, 3, 2]\n"
     ]
    },
    {
     "name": "stderr",
     "output_type": "stream",
     "text": [
      "172.19.0.1 - - [04/Jan/2022 08:26:58] \"GET /refreshData HTTP/1.1\" 200 -\n"
     ]
    },
    {
     "name": "stdout",
     "output_type": "stream",
     "text": [
      "labels now: ['#TheBachelor', '#WWERaw', '#GodMorningTuesday', '#Pratikistheboss', '#BBKINGPRATIK', '#Pratiksehajpal', '#traffic', '#tuesdaymotivations', '#HereWeGo', '#CLEvsPIT', '#Construction']\n",
      "data now: [13, 6, 5, 4, 4, 4, 4, 4, 4, 3, 2]\n"
     ]
    },
    {
     "name": "stderr",
     "output_type": "stream",
     "text": [
      "172.19.0.1 - - [04/Jan/2022 08:26:59] \"GET /refreshData HTTP/1.1\" 200 -\n"
     ]
    },
    {
     "name": "stdout",
     "output_type": "stream",
     "text": [
      "labels now: ['#TheBachelor', '#WWERaw', '#GodMorningTuesday', '#Pratikistheboss', '#BBKINGPRATIK', '#Pratiksehajpal', '#traffic', '#tuesdaymotivations', '#HereWeGo', '#CLEvsPIT', '#Construction']\n",
      "data now: [13, 6, 5, 4, 4, 4, 4, 4, 4, 3, 2]\n"
     ]
    },
    {
     "name": "stderr",
     "output_type": "stream",
     "text": [
      "172.19.0.1 - - [04/Jan/2022 08:27:00] \"GET /refreshData HTTP/1.1\" 200 -\n"
     ]
    },
    {
     "name": "stdout",
     "output_type": "stream",
     "text": [
      "labels now: ['#TheBachelor', '#WWERaw', '#GodMorningTuesday', '#Pratikistheboss', '#BBKINGPRATIK', '#Pratiksehajpal', '#traffic', '#tuesdaymotivations', '#HereWeGo', '#CLEvsPIT', '#Construction']\n",
      "data now: [13, 6, 5, 4, 4, 4, 4, 4, 4, 3, 2]\n"
     ]
    },
    {
     "name": "stderr",
     "output_type": "stream",
     "text": [
      "172.19.0.5 - - [04/Jan/2022 08:27:00] \"\u001b[35m\u001b[1mPOST /updateData HTTP/1.1\u001b[0m\" 201 -\n"
     ]
    },
    {
     "name": "stdout",
     "output_type": "stream",
     "text": [
      "labels received: ['#TheBachelor', '#WWERaw', '#GodMorningTuesday', '#Pratikistheboss', '#BBKINGPRATIK', '#Pratiksehajpal', '#traffic', '#tuesdaymotivations', '#HereWeGo', '#CLEvsPIT', '#Construction']\n",
      "data received: [14, 7, 5, 4, 4, 4, 4, 4, 4, 3, 2]\n"
     ]
    },
    {
     "name": "stderr",
     "output_type": "stream",
     "text": [
      "172.19.0.1 - - [04/Jan/2022 08:27:01] \"GET /refreshData HTTP/1.1\" 200 -\n"
     ]
    },
    {
     "name": "stdout",
     "output_type": "stream",
     "text": [
      "labels now: ['#TheBachelor', '#WWERaw', '#GodMorningTuesday', '#Pratikistheboss', '#BBKINGPRATIK', '#Pratiksehajpal', '#traffic', '#tuesdaymotivations', '#HereWeGo', '#CLEvsPIT', '#Construction']\n",
      "data now: [14, 7, 5, 4, 4, 4, 4, 4, 4, 3, 2]\n"
     ]
    },
    {
     "name": "stderr",
     "output_type": "stream",
     "text": [
      "172.19.0.1 - - [04/Jan/2022 08:27:02] \"GET /refreshData HTTP/1.1\" 200 -\n"
     ]
    },
    {
     "name": "stdout",
     "output_type": "stream",
     "text": [
      "labels now: ['#TheBachelor', '#WWERaw', '#GodMorningTuesday', '#Pratikistheboss', '#BBKINGPRATIK', '#Pratiksehajpal', '#traffic', '#tuesdaymotivations', '#HereWeGo', '#CLEvsPIT', '#Construction']\n",
      "data now: [14, 7, 5, 4, 4, 4, 4, 4, 4, 3, 2]\n"
     ]
    },
    {
     "name": "stderr",
     "output_type": "stream",
     "text": [
      "172.19.0.1 - - [04/Jan/2022 08:27:03] \"GET /refreshData HTTP/1.1\" 200 -\n"
     ]
    },
    {
     "name": "stdout",
     "output_type": "stream",
     "text": [
      "labels now: ['#TheBachelor', '#WWERaw', '#GodMorningTuesday', '#Pratikistheboss', '#BBKINGPRATIK', '#Pratiksehajpal', '#traffic', '#tuesdaymotivations', '#HereWeGo', '#CLEvsPIT', '#Construction']\n",
      "data now: [14, 7, 5, 4, 4, 4, 4, 4, 4, 3, 2]\n"
     ]
    },
    {
     "name": "stderr",
     "output_type": "stream",
     "text": [
      "172.19.0.1 - - [04/Jan/2022 08:27:04] \"GET /refreshData HTTP/1.1\" 200 -\n"
     ]
    },
    {
     "name": "stdout",
     "output_type": "stream",
     "text": [
      "labels now: ['#TheBachelor', '#WWERaw', '#GodMorningTuesday', '#Pratikistheboss', '#BBKINGPRATIK', '#Pratiksehajpal', '#traffic', '#tuesdaymotivations', '#HereWeGo', '#CLEvsPIT', '#Construction']\n",
      "data now: [14, 7, 5, 4, 4, 4, 4, 4, 4, 3, 2]\n"
     ]
    },
    {
     "name": "stderr",
     "output_type": "stream",
     "text": [
      "172.19.0.1 - - [04/Jan/2022 08:27:05] \"GET /refreshData HTTP/1.1\" 200 -\n",
      "172.19.0.5 - - [04/Jan/2022 08:27:05] \"\u001b[35m\u001b[1mPOST /updateData HTTP/1.1\u001b[0m\" 201 -\n"
     ]
    },
    {
     "name": "stdout",
     "output_type": "stream",
     "text": [
      "labels now: ['#TheBachelor', '#WWERaw', '#GodMorningTuesday', '#Pratikistheboss', '#BBKINGPRATIK', '#Pratiksehajpal', '#traffic', '#tuesdaymotivations', '#HereWeGo', '#CLEvsPIT', '#Construction']\n",
      "data now: [14, 7, 5, 4, 4, 4, 4, 4, 4, 3, 2]\n",
      "labels received: ['#TheBachelor', '#WWERaw', '#GodMorningTuesday', '#Pratikistheboss', '#BBKINGPRATIK', '#Pratiksehajpal', '#traffic', '#tuesdaymotivations', '#HereWeGo', '#Bachelor', '#CLEvsPIT']\n",
      "data received: [14, 7, 5, 4, 4, 4, 4, 4, 4, 3, 3]\n"
     ]
    },
    {
     "name": "stderr",
     "output_type": "stream",
     "text": [
      "172.19.0.1 - - [04/Jan/2022 08:27:06] \"GET /refreshData HTTP/1.1\" 200 -\n"
     ]
    },
    {
     "name": "stdout",
     "output_type": "stream",
     "text": [
      "labels now: ['#TheBachelor', '#WWERaw', '#GodMorningTuesday', '#Pratikistheboss', '#BBKINGPRATIK', '#Pratiksehajpal', '#traffic', '#tuesdaymotivations', '#HereWeGo', '#Bachelor', '#CLEvsPIT']\n",
      "data now: [14, 7, 5, 4, 4, 4, 4, 4, 4, 3, 3]\n"
     ]
    },
    {
     "name": "stderr",
     "output_type": "stream",
     "text": [
      "172.19.0.1 - - [04/Jan/2022 08:27:07] \"GET /refreshData HTTP/1.1\" 200 -\n"
     ]
    },
    {
     "name": "stdout",
     "output_type": "stream",
     "text": [
      "labels now: ['#TheBachelor', '#WWERaw', '#GodMorningTuesday', '#Pratikistheboss', '#BBKINGPRATIK', '#Pratiksehajpal', '#traffic', '#tuesdaymotivations', '#HereWeGo', '#Bachelor', '#CLEvsPIT']\n",
      "data now: [14, 7, 5, 4, 4, 4, 4, 4, 4, 3, 3]\n"
     ]
    },
    {
     "name": "stderr",
     "output_type": "stream",
     "text": [
      "172.19.0.1 - - [04/Jan/2022 08:27:08] \"GET /refreshData HTTP/1.1\" 200 -\n"
     ]
    },
    {
     "name": "stdout",
     "output_type": "stream",
     "text": [
      "labels now: ['#TheBachelor', '#WWERaw', '#GodMorningTuesday', '#Pratikistheboss', '#BBKINGPRATIK', '#Pratiksehajpal', '#traffic', '#tuesdaymotivations', '#HereWeGo', '#Bachelor', '#CLEvsPIT']\n",
      "data now: [14, 7, 5, 4, 4, 4, 4, 4, 4, 3, 3]\n"
     ]
    },
    {
     "name": "stderr",
     "output_type": "stream",
     "text": [
      "172.19.0.1 - - [04/Jan/2022 08:27:09] \"GET /refreshData HTTP/1.1\" 200 -\n"
     ]
    },
    {
     "name": "stdout",
     "output_type": "stream",
     "text": [
      "labels now: ['#TheBachelor', '#WWERaw', '#GodMorningTuesday', '#Pratikistheboss', '#BBKINGPRATIK', '#Pratiksehajpal', '#traffic', '#tuesdaymotivations', '#HereWeGo', '#Bachelor', '#CLEvsPIT']\n",
      "data now: [14, 7, 5, 4, 4, 4, 4, 4, 4, 3, 3]\n"
     ]
    },
    {
     "name": "stderr",
     "output_type": "stream",
     "text": [
      "172.19.0.1 - - [04/Jan/2022 08:27:10] \"GET /refreshData HTTP/1.1\" 200 -\n"
     ]
    },
    {
     "name": "stdout",
     "output_type": "stream",
     "text": [
      "labels now: ['#TheBachelor', '#WWERaw', '#GodMorningTuesday', '#Pratikistheboss', '#BBKINGPRATIK', '#Pratiksehajpal', '#traffic', '#tuesdaymotivations', '#HereWeGo', '#Bachelor', '#CLEvsPIT']\n",
      "data now: [14, 7, 5, 4, 4, 4, 4, 4, 4, 3, 3]\n"
     ]
    },
    {
     "name": "stderr",
     "output_type": "stream",
     "text": [
      "172.19.0.1 - - [04/Jan/2022 08:27:11] \"GET /refreshData HTTP/1.1\" 200 -\n"
     ]
    },
    {
     "name": "stdout",
     "output_type": "stream",
     "text": [
      "labels now: ['#TheBachelor', '#WWERaw', '#GodMorningTuesday', '#Pratikistheboss', '#BBKINGPRATIK', '#Pratiksehajpal', '#traffic', '#tuesdaymotivations', '#HereWeGo', '#Bachelor', '#CLEvsPIT']\n",
      "data now: [14, 7, 5, 4, 4, 4, 4, 4, 4, 3, 3]\n"
     ]
    },
    {
     "name": "stderr",
     "output_type": "stream",
     "text": [
      "172.19.0.1 - - [04/Jan/2022 08:27:12] \"GET /refreshData HTTP/1.1\" 200 -\n"
     ]
    },
    {
     "name": "stdout",
     "output_type": "stream",
     "text": [
      "labels now: ['#TheBachelor', '#WWERaw', '#GodMorningTuesday', '#Pratikistheboss', '#BBKINGPRATIK', '#Pratiksehajpal', '#traffic', '#tuesdaymotivations', '#HereWeGo', '#Bachelor', '#CLEvsPIT']\n",
      "data now: [14, 7, 5, 4, 4, 4, 4, 4, 4, 3, 3]\n"
     ]
    },
    {
     "name": "stderr",
     "output_type": "stream",
     "text": [
      "172.19.0.1 - - [04/Jan/2022 08:27:13] \"GET /refreshData HTTP/1.1\" 200 -\n"
     ]
    },
    {
     "name": "stdout",
     "output_type": "stream",
     "text": [
      "labels now: ['#TheBachelor', '#WWERaw', '#GodMorningTuesday', '#Pratikistheboss', '#BBKINGPRATIK', '#Pratiksehajpal', '#traffic', '#tuesdaymotivations', '#HereWeGo', '#Bachelor', '#CLEvsPIT']\n",
      "data now: [14, 7, 5, 4, 4, 4, 4, 4, 4, 3, 3]\n"
     ]
    },
    {
     "name": "stderr",
     "output_type": "stream",
     "text": [
      "172.19.0.1 - - [04/Jan/2022 08:27:14] \"GET /refreshData HTTP/1.1\" 200 -\n"
     ]
    },
    {
     "name": "stdout",
     "output_type": "stream",
     "text": [
      "labels now: ['#TheBachelor', '#WWERaw', '#GodMorningTuesday', '#Pratikistheboss', '#BBKINGPRATIK', '#Pratiksehajpal', '#traffic', '#tuesdaymotivations', '#HereWeGo', '#Bachelor', '#CLEvsPIT']\n",
      "data now: [14, 7, 5, 4, 4, 4, 4, 4, 4, 3, 3]\n"
     ]
    },
    {
     "name": "stderr",
     "output_type": "stream",
     "text": [
      "172.19.0.1 - - [04/Jan/2022 08:27:15] \"GET /refreshData HTTP/1.1\" 200 -\n"
     ]
    },
    {
     "name": "stdout",
     "output_type": "stream",
     "text": [
      "labels now: ['#TheBachelor', '#WWERaw', '#GodMorningTuesday', '#Pratikistheboss', '#BBKINGPRATIK', '#Pratiksehajpal', '#traffic', '#tuesdaymotivations', '#HereWeGo', '#Bachelor', '#CLEvsPIT']\n",
      "data now: [14, 7, 5, 4, 4, 4, 4, 4, 4, 3, 3]\n"
     ]
    },
    {
     "name": "stderr",
     "output_type": "stream",
     "text": [
      "172.19.0.1 - - [04/Jan/2022 08:27:16] \"GET /refreshData HTTP/1.1\" 200 -\n"
     ]
    },
    {
     "name": "stdout",
     "output_type": "stream",
     "text": [
      "labels now: ['#TheBachelor', '#WWERaw', '#GodMorningTuesday', '#Pratikistheboss', '#BBKINGPRATIK', '#Pratiksehajpal', '#traffic', '#tuesdaymotivations', '#HereWeGo', '#Bachelor', '#CLEvsPIT']\n",
      "data now: [14, 7, 5, 4, 4, 4, 4, 4, 4, 3, 3]\n"
     ]
    },
    {
     "name": "stderr",
     "output_type": "stream",
     "text": [
      "172.19.0.1 - - [04/Jan/2022 08:27:17] \"GET /refreshData HTTP/1.1\" 200 -\n"
     ]
    },
    {
     "name": "stdout",
     "output_type": "stream",
     "text": [
      "labels now: ['#TheBachelor', '#WWERaw', '#GodMorningTuesday', '#Pratikistheboss', '#BBKINGPRATIK', '#Pratiksehajpal', '#traffic', '#tuesdaymotivations', '#HereWeGo', '#Bachelor', '#CLEvsPIT']\n",
      "data now: [14, 7, 5, 4, 4, 4, 4, 4, 4, 3, 3]\n"
     ]
    },
    {
     "name": "stderr",
     "output_type": "stream",
     "text": [
      "172.19.0.1 - - [04/Jan/2022 08:27:18] \"GET /refreshData HTTP/1.1\" 200 -\n"
     ]
    },
    {
     "name": "stdout",
     "output_type": "stream",
     "text": [
      "labels now: ['#TheBachelor', '#WWERaw', '#GodMorningTuesday', '#Pratikistheboss', '#BBKINGPRATIK', '#Pratiksehajpal', '#traffic', '#tuesdaymotivations', '#HereWeGo', '#Bachelor', '#CLEvsPIT']\n",
      "data now: [14, 7, 5, 4, 4, 4, 4, 4, 4, 3, 3]\n"
     ]
    },
    {
     "name": "stderr",
     "output_type": "stream",
     "text": [
      "172.19.0.1 - - [04/Jan/2022 08:27:19] \"GET /refreshData HTTP/1.1\" 200 -\n"
     ]
    },
    {
     "name": "stdout",
     "output_type": "stream",
     "text": [
      "labels now: ['#TheBachelor', '#WWERaw', '#GodMorningTuesday', '#Pratikistheboss', '#BBKINGPRATIK', '#Pratiksehajpal', '#traffic', '#tuesdaymotivations', '#HereWeGo', '#Bachelor', '#CLEvsPIT']\n",
      "data now: [14, 7, 5, 4, 4, 4, 4, 4, 4, 3, 3]\n"
     ]
    },
    {
     "name": "stderr",
     "output_type": "stream",
     "text": [
      "172.19.0.1 - - [04/Jan/2022 08:27:20] \"GET /refreshData HTTP/1.1\" 200 -\n"
     ]
    },
    {
     "name": "stdout",
     "output_type": "stream",
     "text": [
      "labels now: ['#TheBachelor', '#WWERaw', '#GodMorningTuesday', '#Pratikistheboss', '#BBKINGPRATIK', '#Pratiksehajpal', '#traffic', '#tuesdaymotivations', '#HereWeGo', '#Bachelor', '#CLEvsPIT']\n",
      "data now: [14, 7, 5, 4, 4, 4, 4, 4, 4, 3, 3]\n"
     ]
    },
    {
     "name": "stderr",
     "output_type": "stream",
     "text": [
      "172.19.0.1 - - [04/Jan/2022 08:27:21] \"GET /refreshData HTTP/1.1\" 200 -\n"
     ]
    },
    {
     "name": "stdout",
     "output_type": "stream",
     "text": [
      "labels now: ['#TheBachelor', '#WWERaw', '#GodMorningTuesday', '#Pratikistheboss', '#BBKINGPRATIK', '#Pratiksehajpal', '#traffic', '#tuesdaymotivations', '#HereWeGo', '#Bachelor', '#CLEvsPIT']\n",
      "data now: [14, 7, 5, 4, 4, 4, 4, 4, 4, 3, 3]\n"
     ]
    },
    {
     "name": "stderr",
     "output_type": "stream",
     "text": [
      "172.19.0.1 - - [04/Jan/2022 08:27:22] \"GET /refreshData HTTP/1.1\" 200 -\n"
     ]
    },
    {
     "name": "stdout",
     "output_type": "stream",
     "text": [
      "labels now: ['#TheBachelor', '#WWERaw', '#GodMorningTuesday', '#Pratikistheboss', '#BBKINGPRATIK', '#Pratiksehajpal', '#traffic', '#tuesdaymotivations', '#HereWeGo', '#Bachelor', '#CLEvsPIT']\n",
      "data now: [14, 7, 5, 4, 4, 4, 4, 4, 4, 3, 3]\n"
     ]
    },
    {
     "name": "stderr",
     "output_type": "stream",
     "text": [
      "172.19.0.1 - - [04/Jan/2022 08:27:23] \"GET /refreshData HTTP/1.1\" 200 -\n"
     ]
    },
    {
     "name": "stdout",
     "output_type": "stream",
     "text": [
      "labels now: ['#TheBachelor', '#WWERaw', '#GodMorningTuesday', '#Pratikistheboss', '#BBKINGPRATIK', '#Pratiksehajpal', '#traffic', '#tuesdaymotivations', '#HereWeGo', '#Bachelor', '#CLEvsPIT']\n",
      "data now: [14, 7, 5, 4, 4, 4, 4, 4, 4, 3, 3]\n"
     ]
    },
    {
     "name": "stderr",
     "output_type": "stream",
     "text": [
      "172.19.0.1 - - [04/Jan/2022 08:27:24] \"GET /refreshData HTTP/1.1\" 200 -\n"
     ]
    },
    {
     "name": "stdout",
     "output_type": "stream",
     "text": [
      "labels now: ['#TheBachelor', '#WWERaw', '#GodMorningTuesday', '#Pratikistheboss', '#BBKINGPRATIK', '#Pratiksehajpal', '#traffic', '#tuesdaymotivations', '#HereWeGo', '#Bachelor', '#CLEvsPIT']\n",
      "data now: [14, 7, 5, 4, 4, 4, 4, 4, 4, 3, 3]\n"
     ]
    },
    {
     "name": "stderr",
     "output_type": "stream",
     "text": [
      "172.19.0.1 - - [04/Jan/2022 08:27:25] \"GET /refreshData HTTP/1.1\" 200 -\n",
      "172.19.0.5 - - [04/Jan/2022 08:27:25] \"\u001b[35m\u001b[1mPOST /updateData HTTP/1.1\u001b[0m\" 201 -\n"
     ]
    },
    {
     "name": "stdout",
     "output_type": "stream",
     "text": [
      "labels now: ['#TheBachelor', '#WWERaw', '#GodMorningTuesday', '#Pratikistheboss', '#BBKINGPRATIK', '#Pratiksehajpal', '#traffic', '#tuesdaymotivations', '#HereWeGo', '#Bachelor', '#CLEvsPIT']\n",
      "data now: [14, 7, 5, 4, 4, 4, 4, 4, 4, 3, 3]\n",
      "labels received: ['#TheBachelor', '#WWERaw', '#GodMorningTuesday', '#tuesdaymotivations', '#Pratikistheboss', '#BBKINGPRATIK', '#Pratiksehajpal', '#Browns', '#traffic', '#HereWeGo', '#Bachelor']\n",
      "data received: [16, 10, 6, 5, 4, 4, 4, 4, 4, 4, 3]\n"
     ]
    },
    {
     "name": "stderr",
     "output_type": "stream",
     "text": [
      "172.19.0.1 - - [04/Jan/2022 08:27:26] \"GET /refreshData HTTP/1.1\" 200 -\n",
      "172.19.0.5 - - [04/Jan/2022 08:27:26] \"\u001b[35m\u001b[1mPOST /updateData HTTP/1.1\u001b[0m\" 201 -\n"
     ]
    },
    {
     "name": "stdout",
     "output_type": "stream",
     "text": [
      "labels now: ['#TheBachelor', '#WWERaw', '#GodMorningTuesday', '#tuesdaymotivations', '#Pratikistheboss', '#BBKINGPRATIK', '#Pratiksehajpal', '#Browns', '#traffic', '#HereWeGo', '#Bachelor']\n",
      "data now: [16, 10, 6, 5, 4, 4, 4, 4, 4, 4, 3]\n",
      "labels received: ['#TheBachelor', '#WWERaw', '#GodMorningTuesday', '#tuesdaymotivations', '#Pratikistheboss', '#BBKINGPRATIK', '#Pratiksehajpal', '#Browns', '#traffic', '#HereWeGo', '#Bachelor']\n",
      "data received: [16, 10, 6, 5, 4, 4, 4, 4, 4, 4, 3]\n"
     ]
    },
    {
     "name": "stderr",
     "output_type": "stream",
     "text": [
      "172.19.0.1 - - [04/Jan/2022 08:27:27] \"GET /refreshData HTTP/1.1\" 200 -\n"
     ]
    },
    {
     "name": "stdout",
     "output_type": "stream",
     "text": [
      "labels now: ['#TheBachelor', '#WWERaw', '#GodMorningTuesday', '#tuesdaymotivations', '#Pratikistheboss', '#BBKINGPRATIK', '#Pratiksehajpal', '#Browns', '#traffic', '#HereWeGo', '#Bachelor']\n",
      "data now: [16, 10, 6, 5, 4, 4, 4, 4, 4, 4, 3]\n"
     ]
    },
    {
     "name": "stderr",
     "output_type": "stream",
     "text": [
      "172.19.0.1 - - [04/Jan/2022 08:27:28] \"GET /refreshData HTTP/1.1\" 200 -\n"
     ]
    },
    {
     "name": "stdout",
     "output_type": "stream",
     "text": [
      "labels now: ['#TheBachelor', '#WWERaw', '#GodMorningTuesday', '#tuesdaymotivations', '#Pratikistheboss', '#BBKINGPRATIK', '#Pratiksehajpal', '#Browns', '#traffic', '#HereWeGo', '#Bachelor']\n",
      "data now: [16, 10, 6, 5, 4, 4, 4, 4, 4, 4, 3]\n"
     ]
    },
    {
     "name": "stderr",
     "output_type": "stream",
     "text": [
      "172.19.0.1 - - [04/Jan/2022 08:27:29] \"GET /refreshData HTTP/1.1\" 200 -\n"
     ]
    },
    {
     "name": "stdout",
     "output_type": "stream",
     "text": [
      "labels now: ['#TheBachelor', '#WWERaw', '#GodMorningTuesday', '#tuesdaymotivations', '#Pratikistheboss', '#BBKINGPRATIK', '#Pratiksehajpal', '#Browns', '#traffic', '#HereWeGo', '#Bachelor']\n",
      "data now: [16, 10, 6, 5, 4, 4, 4, 4, 4, 4, 3]\n"
     ]
    },
    {
     "name": "stderr",
     "output_type": "stream",
     "text": [
      "172.19.0.1 - - [04/Jan/2022 08:27:30] \"GET /refreshData HTTP/1.1\" 200 -\n"
     ]
    },
    {
     "name": "stdout",
     "output_type": "stream",
     "text": [
      "labels now: ['#TheBachelor', '#WWERaw', '#GodMorningTuesday', '#tuesdaymotivations', '#Pratikistheboss', '#BBKINGPRATIK', '#Pratiksehajpal', '#Browns', '#traffic', '#HereWeGo', '#Bachelor']\n",
      "data now: [16, 10, 6, 5, 4, 4, 4, 4, 4, 4, 3]\n"
     ]
    },
    {
     "name": "stderr",
     "output_type": "stream",
     "text": [
      "172.19.0.1 - - [04/Jan/2022 08:27:31] \"GET /refreshData HTTP/1.1\" 200 -\n"
     ]
    },
    {
     "name": "stdout",
     "output_type": "stream",
     "text": [
      "labels now: ['#TheBachelor', '#WWERaw', '#GodMorningTuesday', '#tuesdaymotivations', '#Pratikistheboss', '#BBKINGPRATIK', '#Pratiksehajpal', '#Browns', '#traffic', '#HereWeGo', '#Bachelor']\n",
      "data now: [16, 10, 6, 5, 4, 4, 4, 4, 4, 4, 3]\n"
     ]
    },
    {
     "name": "stderr",
     "output_type": "stream",
     "text": [
      "172.19.0.1 - - [04/Jan/2022 08:27:32] \"GET /refreshData HTTP/1.1\" 200 -\n"
     ]
    },
    {
     "name": "stdout",
     "output_type": "stream",
     "text": [
      "labels now: ['#TheBachelor', '#WWERaw', '#GodMorningTuesday', '#tuesdaymotivations', '#Pratikistheboss', '#BBKINGPRATIK', '#Pratiksehajpal', '#Browns', '#traffic', '#HereWeGo', '#Bachelor']\n",
      "data now: [16, 10, 6, 5, 4, 4, 4, 4, 4, 4, 3]\n"
     ]
    },
    {
     "name": "stderr",
     "output_type": "stream",
     "text": [
      "172.19.0.1 - - [04/Jan/2022 08:27:33] \"GET /refreshData HTTP/1.1\" 200 -\n"
     ]
    },
    {
     "name": "stdout",
     "output_type": "stream",
     "text": [
      "labels now: ['#TheBachelor', '#WWERaw', '#GodMorningTuesday', '#tuesdaymotivations', '#Pratikistheboss', '#BBKINGPRATIK', '#Pratiksehajpal', '#Browns', '#traffic', '#HereWeGo', '#Bachelor']\n",
      "data now: [16, 10, 6, 5, 4, 4, 4, 4, 4, 4, 3]\n"
     ]
    },
    {
     "name": "stderr",
     "output_type": "stream",
     "text": [
      "172.19.0.1 - - [04/Jan/2022 08:27:34] \"GET /refreshData HTTP/1.1\" 200 -\n"
     ]
    },
    {
     "name": "stdout",
     "output_type": "stream",
     "text": [
      "labels now: ['#TheBachelor', '#WWERaw', '#GodMorningTuesday', '#tuesdaymotivations', '#Pratikistheboss', '#BBKINGPRATIK', '#Pratiksehajpal', '#Browns', '#traffic', '#HereWeGo', '#Bachelor']\n",
      "data now: [16, 10, 6, 5, 4, 4, 4, 4, 4, 4, 3]\n"
     ]
    },
    {
     "name": "stderr",
     "output_type": "stream",
     "text": [
      "172.19.0.1 - - [04/Jan/2022 08:27:35] \"GET /refreshData HTTP/1.1\" 200 -\n",
      "172.19.0.5 - - [04/Jan/2022 08:27:35] \"\u001b[35m\u001b[1mPOST /updateData HTTP/1.1\u001b[0m\" 201 -\n"
     ]
    },
    {
     "name": "stdout",
     "output_type": "stream",
     "text": [
      "labels now: ['#TheBachelor', '#WWERaw', '#GodMorningTuesday', '#tuesdaymotivations', '#Pratikistheboss', '#BBKINGPRATIK', '#Pratiksehajpal', '#Browns', '#traffic', '#HereWeGo', '#Bachelor']\n",
      "data now: [16, 10, 6, 5, 4, 4, 4, 4, 4, 4, 3]\n",
      "labels received: ['#TheBachelor', '#WWERaw', '#GodMorningTuesday', '#Browns', '#tuesdaymotivations', '#HereWeGo', '#Pratikistheboss', '#BBKINGPRATIK', '#Pratiksehajpal', '#traffic', '#Bachelor']\n",
      "data received: [16, 10, 6, 5, 5, 5, 4, 4, 4, 4, 3]\n"
     ]
    },
    {
     "name": "stderr",
     "output_type": "stream",
     "text": [
      "172.19.0.1 - - [04/Jan/2022 08:27:36] \"GET /refreshData HTTP/1.1\" 200 -\n"
     ]
    },
    {
     "name": "stdout",
     "output_type": "stream",
     "text": [
      "labels now: ['#TheBachelor', '#WWERaw', '#GodMorningTuesday', '#Browns', '#tuesdaymotivations', '#HereWeGo', '#Pratikistheboss', '#BBKINGPRATIK', '#Pratiksehajpal', '#traffic', '#Bachelor']\n",
      "data now: [16, 10, 6, 5, 5, 5, 4, 4, 4, 4, 3]\n"
     ]
    },
    {
     "name": "stderr",
     "output_type": "stream",
     "text": [
      "172.19.0.1 - - [04/Jan/2022 08:27:37] \"GET /refreshData HTTP/1.1\" 200 -\n"
     ]
    },
    {
     "name": "stdout",
     "output_type": "stream",
     "text": [
      "labels now: ['#TheBachelor', '#WWERaw', '#GodMorningTuesday', '#Browns', '#tuesdaymotivations', '#HereWeGo', '#Pratikistheboss', '#BBKINGPRATIK', '#Pratiksehajpal', '#traffic', '#Bachelor']\n",
      "data now: [16, 10, 6, 5, 5, 5, 4, 4, 4, 4, 3]\n"
     ]
    },
    {
     "name": "stderr",
     "output_type": "stream",
     "text": [
      "172.19.0.1 - - [04/Jan/2022 08:27:38] \"GET /refreshData HTTP/1.1\" 200 -\n"
     ]
    },
    {
     "name": "stdout",
     "output_type": "stream",
     "text": [
      "labels now: ['#TheBachelor', '#WWERaw', '#GodMorningTuesday', '#Browns', '#tuesdaymotivations', '#HereWeGo', '#Pratikistheboss', '#BBKINGPRATIK', '#Pratiksehajpal', '#traffic', '#Bachelor']\n",
      "data now: [16, 10, 6, 5, 5, 5, 4, 4, 4, 4, 3]\n"
     ]
    },
    {
     "name": "stderr",
     "output_type": "stream",
     "text": [
      "172.19.0.1 - - [04/Jan/2022 08:27:39] \"GET /refreshData HTTP/1.1\" 200 -\n"
     ]
    },
    {
     "name": "stdout",
     "output_type": "stream",
     "text": [
      "labels now: ['#TheBachelor', '#WWERaw', '#GodMorningTuesday', '#Browns', '#tuesdaymotivations', '#HereWeGo', '#Pratikistheboss', '#BBKINGPRATIK', '#Pratiksehajpal', '#traffic', '#Bachelor']\n",
      "data now: [16, 10, 6, 5, 5, 5, 4, 4, 4, 4, 3]\n"
     ]
    },
    {
     "name": "stderr",
     "output_type": "stream",
     "text": [
      "172.19.0.1 - - [04/Jan/2022 08:27:40] \"GET /refreshData HTTP/1.1\" 200 -\n"
     ]
    },
    {
     "name": "stdout",
     "output_type": "stream",
     "text": [
      "labels now: ['#TheBachelor', '#WWERaw', '#GodMorningTuesday', '#Browns', '#tuesdaymotivations', '#HereWeGo', '#Pratikistheboss', '#BBKINGPRATIK', '#Pratiksehajpal', '#traffic', '#Bachelor']\n",
      "data now: [16, 10, 6, 5, 5, 5, 4, 4, 4, 4, 3]\n"
     ]
    },
    {
     "name": "stderr",
     "output_type": "stream",
     "text": [
      "172.19.0.1 - - [04/Jan/2022 08:27:41] \"GET /refreshData HTTP/1.1\" 200 -\n"
     ]
    },
    {
     "name": "stdout",
     "output_type": "stream",
     "text": [
      "labels now: ['#TheBachelor', '#WWERaw', '#GodMorningTuesday', '#Browns', '#tuesdaymotivations', '#HereWeGo', '#Pratikistheboss', '#BBKINGPRATIK', '#Pratiksehajpal', '#traffic', '#Bachelor']\n",
      "data now: [16, 10, 6, 5, 5, 5, 4, 4, 4, 4, 3]\n"
     ]
    },
    {
     "name": "stderr",
     "output_type": "stream",
     "text": [
      "172.19.0.1 - - [04/Jan/2022 08:27:42] \"GET /refreshData HTTP/1.1\" 200 -\n"
     ]
    },
    {
     "name": "stdout",
     "output_type": "stream",
     "text": [
      "labels now: ['#TheBachelor', '#WWERaw', '#GodMorningTuesday', '#Browns', '#tuesdaymotivations', '#HereWeGo', '#Pratikistheboss', '#BBKINGPRATIK', '#Pratiksehajpal', '#traffic', '#Bachelor']\n",
      "data now: [16, 10, 6, 5, 5, 5, 4, 4, 4, 4, 3]\n"
     ]
    },
    {
     "name": "stderr",
     "output_type": "stream",
     "text": [
      "172.19.0.1 - - [04/Jan/2022 08:27:43] \"GET /refreshData HTTP/1.1\" 200 -\n"
     ]
    },
    {
     "name": "stdout",
     "output_type": "stream",
     "text": [
      "labels now: ['#TheBachelor', '#WWERaw', '#GodMorningTuesday', '#Browns', '#tuesdaymotivations', '#HereWeGo', '#Pratikistheboss', '#BBKINGPRATIK', '#Pratiksehajpal', '#traffic', '#Bachelor']\n",
      "data now: [16, 10, 6, 5, 5, 5, 4, 4, 4, 4, 3]\n"
     ]
    },
    {
     "name": "stderr",
     "output_type": "stream",
     "text": [
      "172.19.0.1 - - [04/Jan/2022 08:27:44] \"GET /refreshData HTTP/1.1\" 200 -\n"
     ]
    },
    {
     "name": "stdout",
     "output_type": "stream",
     "text": [
      "labels now: ['#TheBachelor', '#WWERaw', '#GodMorningTuesday', '#Browns', '#tuesdaymotivations', '#HereWeGo', '#Pratikistheboss', '#BBKINGPRATIK', '#Pratiksehajpal', '#traffic', '#Bachelor']\n",
      "data now: [16, 10, 6, 5, 5, 5, 4, 4, 4, 4, 3]\n"
     ]
    },
    {
     "name": "stderr",
     "output_type": "stream",
     "text": [
      "172.19.0.1 - - [04/Jan/2022 08:27:45] \"GET /refreshData HTTP/1.1\" 200 -\n",
      "172.19.0.5 - - [04/Jan/2022 08:27:45] \"\u001b[35m\u001b[1mPOST /updateData HTTP/1.1\u001b[0m\" 201 -\n"
     ]
    },
    {
     "name": "stdout",
     "output_type": "stream",
     "text": [
      "labels now: ['#TheBachelor', '#WWERaw', '#GodMorningTuesday', '#Browns', '#tuesdaymotivations', '#HereWeGo', '#Pratikistheboss', '#BBKINGPRATIK', '#Pratiksehajpal', '#traffic', '#Bachelor']\n",
      "data now: [16, 10, 6, 5, 5, 5, 4, 4, 4, 4, 3]\n",
      "labels received: ['#TheBachelor', '#WWERaw', '#GodMorningTuesday', '#Browns', '#tuesdaymotivations', '#HereWeGo', '#Pratikistheboss', '#BBKINGPRATIK', '#Pratiksehajpal', '#traffic', '#Bachelor']\n",
      "data received: [16, 10, 7, 6, 6, 5, 4, 4, 4, 4, 3]\n"
     ]
    },
    {
     "name": "stderr",
     "output_type": "stream",
     "text": [
      "172.19.0.1 - - [04/Jan/2022 08:27:46] \"GET /refreshData HTTP/1.1\" 200 -\n"
     ]
    },
    {
     "name": "stdout",
     "output_type": "stream",
     "text": [
      "labels now: ['#TheBachelor', '#WWERaw', '#GodMorningTuesday', '#Browns', '#tuesdaymotivations', '#HereWeGo', '#Pratikistheboss', '#BBKINGPRATIK', '#Pratiksehajpal', '#traffic', '#Bachelor']\n",
      "data now: [16, 10, 7, 6, 6, 5, 4, 4, 4, 4, 3]\n"
     ]
    },
    {
     "name": "stderr",
     "output_type": "stream",
     "text": [
      "172.19.0.1 - - [04/Jan/2022 08:27:47] \"GET /refreshData HTTP/1.1\" 200 -\n"
     ]
    },
    {
     "name": "stdout",
     "output_type": "stream",
     "text": [
      "labels now: ['#TheBachelor', '#WWERaw', '#GodMorningTuesday', '#Browns', '#tuesdaymotivations', '#HereWeGo', '#Pratikistheboss', '#BBKINGPRATIK', '#Pratiksehajpal', '#traffic', '#Bachelor']\n",
      "data now: [16, 10, 7, 6, 6, 5, 4, 4, 4, 4, 3]\n"
     ]
    },
    {
     "name": "stderr",
     "output_type": "stream",
     "text": [
      "172.19.0.1 - - [04/Jan/2022 08:27:48] \"GET /refreshData HTTP/1.1\" 200 -\n"
     ]
    },
    {
     "name": "stdout",
     "output_type": "stream",
     "text": [
      "labels now: ['#TheBachelor', '#WWERaw', '#GodMorningTuesday', '#Browns', '#tuesdaymotivations', '#HereWeGo', '#Pratikistheboss', '#BBKINGPRATIK', '#Pratiksehajpal', '#traffic', '#Bachelor']\n",
      "data now: [16, 10, 7, 6, 6, 5, 4, 4, 4, 4, 3]\n"
     ]
    },
    {
     "name": "stderr",
     "output_type": "stream",
     "text": [
      "172.19.0.1 - - [04/Jan/2022 08:27:49] \"GET /refreshData HTTP/1.1\" 200 -\n"
     ]
    },
    {
     "name": "stdout",
     "output_type": "stream",
     "text": [
      "labels now: ['#TheBachelor', '#WWERaw', '#GodMorningTuesday', '#Browns', '#tuesdaymotivations', '#HereWeGo', '#Pratikistheboss', '#BBKINGPRATIK', '#Pratiksehajpal', '#traffic', '#Bachelor']\n",
      "data now: [16, 10, 7, 6, 6, 5, 4, 4, 4, 4, 3]\n"
     ]
    },
    {
     "name": "stderr",
     "output_type": "stream",
     "text": [
      "172.19.0.1 - - [04/Jan/2022 08:27:50] \"GET /refreshData HTTP/1.1\" 200 -\n"
     ]
    },
    {
     "name": "stdout",
     "output_type": "stream",
     "text": [
      "labels now: ['#TheBachelor', '#WWERaw', '#GodMorningTuesday', '#Browns', '#tuesdaymotivations', '#HereWeGo', '#Pratikistheboss', '#BBKINGPRATIK', '#Pratiksehajpal', '#traffic', '#Bachelor']\n",
      "data now: [16, 10, 7, 6, 6, 5, 4, 4, 4, 4, 3]\n"
     ]
    },
    {
     "name": "stderr",
     "output_type": "stream",
     "text": [
      "172.19.0.1 - - [04/Jan/2022 08:27:51] \"GET /refreshData HTTP/1.1\" 200 -\n"
     ]
    },
    {
     "name": "stdout",
     "output_type": "stream",
     "text": [
      "labels now: ['#TheBachelor', '#WWERaw', '#GodMorningTuesday', '#Browns', '#tuesdaymotivations', '#HereWeGo', '#Pratikistheboss', '#BBKINGPRATIK', '#Pratiksehajpal', '#traffic', '#Bachelor']\n",
      "data now: [16, 10, 7, 6, 6, 5, 4, 4, 4, 4, 3]\n"
     ]
    },
    {
     "name": "stderr",
     "output_type": "stream",
     "text": [
      "172.19.0.1 - - [04/Jan/2022 08:27:52] \"GET /refreshData HTTP/1.1\" 200 -\n"
     ]
    },
    {
     "name": "stdout",
     "output_type": "stream",
     "text": [
      "labels now: ['#TheBachelor', '#WWERaw', '#GodMorningTuesday', '#Browns', '#tuesdaymotivations', '#HereWeGo', '#Pratikistheboss', '#BBKINGPRATIK', '#Pratiksehajpal', '#traffic', '#Bachelor']\n",
      "data now: [16, 10, 7, 6, 6, 5, 4, 4, 4, 4, 3]\n"
     ]
    },
    {
     "name": "stderr",
     "output_type": "stream",
     "text": [
      "172.19.0.1 - - [04/Jan/2022 08:27:53] \"GET /refreshData HTTP/1.1\" 200 -\n"
     ]
    },
    {
     "name": "stdout",
     "output_type": "stream",
     "text": [
      "labels now: ['#TheBachelor', '#WWERaw', '#GodMorningTuesday', '#Browns', '#tuesdaymotivations', '#HereWeGo', '#Pratikistheboss', '#BBKINGPRATIK', '#Pratiksehajpal', '#traffic', '#Bachelor']\n",
      "data now: [16, 10, 7, 6, 6, 5, 4, 4, 4, 4, 3]\n"
     ]
    },
    {
     "name": "stderr",
     "output_type": "stream",
     "text": [
      "172.19.0.1 - - [04/Jan/2022 08:27:54] \"GET /refreshData HTTP/1.1\" 200 -\n"
     ]
    },
    {
     "name": "stdout",
     "output_type": "stream",
     "text": [
      "labels now: ['#TheBachelor', '#WWERaw', '#GodMorningTuesday', '#Browns', '#tuesdaymotivations', '#HereWeGo', '#Pratikistheboss', '#BBKINGPRATIK', '#Pratiksehajpal', '#traffic', '#Bachelor']\n",
      "data now: [16, 10, 7, 6, 6, 5, 4, 4, 4, 4, 3]\n"
     ]
    },
    {
     "name": "stderr",
     "output_type": "stream",
     "text": [
      "172.19.0.1 - - [04/Jan/2022 08:27:55] \"GET /refreshData HTTP/1.1\" 200 -\n"
     ]
    },
    {
     "name": "stdout",
     "output_type": "stream",
     "text": [
      "labels now: ['#TheBachelor', '#WWERaw', '#GodMorningTuesday', '#Browns', '#tuesdaymotivations', '#HereWeGo', '#Pratikistheboss', '#BBKINGPRATIK', '#Pratiksehajpal', '#traffic', '#Bachelor']\n",
      "data now: [16, 10, 7, 6, 6, 5, 4, 4, 4, 4, 3]\n"
     ]
    },
    {
     "name": "stderr",
     "output_type": "stream",
     "text": [
      "172.19.0.1 - - [04/Jan/2022 08:27:56] \"GET /refreshData HTTP/1.1\" 200 -\n"
     ]
    },
    {
     "name": "stdout",
     "output_type": "stream",
     "text": [
      "labels now: ['#TheBachelor', '#WWERaw', '#GodMorningTuesday', '#Browns', '#tuesdaymotivations', '#HereWeGo', '#Pratikistheboss', '#BBKINGPRATIK', '#Pratiksehajpal', '#traffic', '#Bachelor']\n",
      "data now: [16, 10, 7, 6, 6, 5, 4, 4, 4, 4, 3]\n"
     ]
    },
    {
     "name": "stderr",
     "output_type": "stream",
     "text": [
      "172.19.0.1 - - [04/Jan/2022 08:27:57] \"GET /refreshData HTTP/1.1\" 200 -\n"
     ]
    },
    {
     "name": "stdout",
     "output_type": "stream",
     "text": [
      "labels now: ['#TheBachelor', '#WWERaw', '#GodMorningTuesday', '#Browns', '#tuesdaymotivations', '#HereWeGo', '#Pratikistheboss', '#BBKINGPRATIK', '#Pratiksehajpal', '#traffic', '#Bachelor']\n",
      "data now: [16, 10, 7, 6, 6, 5, 4, 4, 4, 4, 3]\n"
     ]
    },
    {
     "name": "stderr",
     "output_type": "stream",
     "text": [
      "172.19.0.1 - - [04/Jan/2022 08:27:58] \"GET /refreshData HTTP/1.1\" 200 -\n"
     ]
    },
    {
     "name": "stdout",
     "output_type": "stream",
     "text": [
      "labels now: ['#TheBachelor', '#WWERaw', '#GodMorningTuesday', '#Browns', '#tuesdaymotivations', '#HereWeGo', '#Pratikistheboss', '#BBKINGPRATIK', '#Pratiksehajpal', '#traffic', '#Bachelor']\n",
      "data now: [16, 10, 7, 6, 6, 5, 4, 4, 4, 4, 3]\n"
     ]
    },
    {
     "name": "stderr",
     "output_type": "stream",
     "text": [
      "172.19.0.1 - - [04/Jan/2022 08:27:59] \"GET /refreshData HTTP/1.1\" 200 -\n"
     ]
    },
    {
     "name": "stdout",
     "output_type": "stream",
     "text": [
      "labels now: ['#TheBachelor', '#WWERaw', '#GodMorningTuesday', '#Browns', '#tuesdaymotivations', '#HereWeGo', '#Pratikistheboss', '#BBKINGPRATIK', '#Pratiksehajpal', '#traffic', '#Bachelor']\n",
      "data now: [16, 10, 7, 6, 6, 5, 4, 4, 4, 4, 3]\n"
     ]
    },
    {
     "name": "stderr",
     "output_type": "stream",
     "text": [
      "172.19.0.1 - - [04/Jan/2022 08:28:00] \"GET /refreshData HTTP/1.1\" 200 -\n"
     ]
    },
    {
     "name": "stdout",
     "output_type": "stream",
     "text": [
      "labels now: ['#TheBachelor', '#WWERaw', '#GodMorningTuesday', '#Browns', '#tuesdaymotivations', '#HereWeGo', '#Pratikistheboss', '#BBKINGPRATIK', '#Pratiksehajpal', '#traffic', '#Bachelor']\n",
      "data now: [16, 10, 7, 6, 6, 5, 4, 4, 4, 4, 3]\n"
     ]
    },
    {
     "name": "stderr",
     "output_type": "stream",
     "text": [
      "172.19.0.5 - - [04/Jan/2022 08:28:01] \"\u001b[35m\u001b[1mPOST /updateData HTTP/1.1\u001b[0m\" 201 -\n"
     ]
    },
    {
     "name": "stdout",
     "output_type": "stream",
     "text": [
      "labels received: ['#TheBachelor', '#WWERaw', '#GodMorningTuesday', '#Browns', '#tuesdaymotivations', '#HereWeGo', '#Pratikistheboss', '#BBKINGPRATIK', '#Pratiksehajpal', '#traffic', '#Bachelor']\n",
      "data received: [18, 10, 7, 7, 6, 6, 4, 4, 4, 4, 3]\n"
     ]
    },
    {
     "name": "stderr",
     "output_type": "stream",
     "text": [
      "172.19.0.1 - - [04/Jan/2022 08:28:01] \"GET /refreshData HTTP/1.1\" 200 -\n"
     ]
    },
    {
     "name": "stdout",
     "output_type": "stream",
     "text": [
      "labels now: ['#TheBachelor', '#WWERaw', '#GodMorningTuesday', '#Browns', '#tuesdaymotivations', '#HereWeGo', '#Pratikistheboss', '#BBKINGPRATIK', '#Pratiksehajpal', '#traffic', '#Bachelor']\n",
      "data now: [18, 10, 7, 7, 6, 6, 4, 4, 4, 4, 3]\n"
     ]
    },
    {
     "name": "stderr",
     "output_type": "stream",
     "text": [
      "172.19.0.1 - - [04/Jan/2022 08:28:02] \"GET /refreshData HTTP/1.1\" 200 -\n"
     ]
    },
    {
     "name": "stdout",
     "output_type": "stream",
     "text": [
      "labels now: ['#TheBachelor', '#WWERaw', '#GodMorningTuesday', '#Browns', '#tuesdaymotivations', '#HereWeGo', '#Pratikistheboss', '#BBKINGPRATIK', '#Pratiksehajpal', '#traffic', '#Bachelor']\n",
      "data now: [18, 10, 7, 7, 6, 6, 4, 4, 4, 4, 3]\n"
     ]
    },
    {
     "name": "stderr",
     "output_type": "stream",
     "text": [
      "172.19.0.1 - - [04/Jan/2022 08:28:03] \"GET /refreshData HTTP/1.1\" 200 -\n"
     ]
    },
    {
     "name": "stdout",
     "output_type": "stream",
     "text": [
      "labels now: ['#TheBachelor', '#WWERaw', '#GodMorningTuesday', '#Browns', '#tuesdaymotivations', '#HereWeGo', '#Pratikistheboss', '#BBKINGPRATIK', '#Pratiksehajpal', '#traffic', '#Bachelor']\n",
      "data now: [18, 10, 7, 7, 6, 6, 4, 4, 4, 4, 3]\n"
     ]
    },
    {
     "name": "stderr",
     "output_type": "stream",
     "text": [
      "172.19.0.1 - - [04/Jan/2022 08:28:04] \"GET /refreshData HTTP/1.1\" 200 -\n"
     ]
    },
    {
     "name": "stdout",
     "output_type": "stream",
     "text": [
      "labels now: ['#TheBachelor', '#WWERaw', '#GodMorningTuesday', '#Browns', '#tuesdaymotivations', '#HereWeGo', '#Pratikistheboss', '#BBKINGPRATIK', '#Pratiksehajpal', '#traffic', '#Bachelor']\n",
      "data now: [18, 10, 7, 7, 6, 6, 4, 4, 4, 4, 3]\n"
     ]
    },
    {
     "name": "stderr",
     "output_type": "stream",
     "text": [
      "172.19.0.1 - - [04/Jan/2022 08:28:05] \"GET /refreshData HTTP/1.1\" 200 -\n",
      "172.19.0.5 - - [04/Jan/2022 08:28:05] \"\u001b[35m\u001b[1mPOST /updateData HTTP/1.1\u001b[0m\" 201 -\n"
     ]
    },
    {
     "name": "stdout",
     "output_type": "stream",
     "text": [
      "labels now: ['#TheBachelor', '#WWERaw', '#GodMorningTuesday', '#Browns', '#tuesdaymotivations', '#HereWeGo', '#Pratikistheboss', '#BBKINGPRATIK', '#Pratiksehajpal', '#traffic', '#Bachelor']\n",
      "data now: [18, 10, 7, 7, 6, 6, 4, 4, 4, 4, 3]\n",
      "labels received: ['#TheBachelor', '#WWERaw', '#Browns', '#GodMorningTuesday', '#tuesdaymotivations', '#HereWeGo', '#Pratikistheboss', '#BBKINGPRATIK', '#Pratiksehajpal', '#traffic', '#CLEvsPIT']\n",
      "data received: [18, 11, 8, 7, 6, 6, 4, 4, 4, 4, 4]\n"
     ]
    },
    {
     "name": "stderr",
     "output_type": "stream",
     "text": [
      "172.19.0.1 - - [04/Jan/2022 08:28:06] \"GET /refreshData HTTP/1.1\" 200 -\n"
     ]
    },
    {
     "name": "stdout",
     "output_type": "stream",
     "text": [
      "labels now: ['#TheBachelor', '#WWERaw', '#Browns', '#GodMorningTuesday', '#tuesdaymotivations', '#HereWeGo', '#Pratikistheboss', '#BBKINGPRATIK', '#Pratiksehajpal', '#traffic', '#CLEvsPIT']\n",
      "data now: [18, 11, 8, 7, 6, 6, 4, 4, 4, 4, 4]\n"
     ]
    },
    {
     "name": "stderr",
     "output_type": "stream",
     "text": [
      "172.19.0.1 - - [04/Jan/2022 08:28:07] \"GET /refreshData HTTP/1.1\" 200 -\n"
     ]
    },
    {
     "name": "stdout",
     "output_type": "stream",
     "text": [
      "labels now: ['#TheBachelor', '#WWERaw', '#Browns', '#GodMorningTuesday', '#tuesdaymotivations', '#HereWeGo', '#Pratikistheboss', '#BBKINGPRATIK', '#Pratiksehajpal', '#traffic', '#CLEvsPIT']\n",
      "data now: [18, 11, 8, 7, 6, 6, 4, 4, 4, 4, 4]\n"
     ]
    },
    {
     "name": "stderr",
     "output_type": "stream",
     "text": [
      "172.19.0.1 - - [04/Jan/2022 08:28:08] \"GET /refreshData HTTP/1.1\" 200 -\n"
     ]
    },
    {
     "name": "stdout",
     "output_type": "stream",
     "text": [
      "labels now: ['#TheBachelor', '#WWERaw', '#Browns', '#GodMorningTuesday', '#tuesdaymotivations', '#HereWeGo', '#Pratikistheboss', '#BBKINGPRATIK', '#Pratiksehajpal', '#traffic', '#CLEvsPIT']\n",
      "data now: [18, 11, 8, 7, 6, 6, 4, 4, 4, 4, 4]\n"
     ]
    },
    {
     "name": "stderr",
     "output_type": "stream",
     "text": [
      "172.19.0.1 - - [04/Jan/2022 08:28:09] \"GET /refreshData HTTP/1.1\" 200 -\n"
     ]
    },
    {
     "name": "stdout",
     "output_type": "stream",
     "text": [
      "labels now: ['#TheBachelor', '#WWERaw', '#Browns', '#GodMorningTuesday', '#tuesdaymotivations', '#HereWeGo', '#Pratikistheboss', '#BBKINGPRATIK', '#Pratiksehajpal', '#traffic', '#CLEvsPIT']\n",
      "data now: [18, 11, 8, 7, 6, 6, 4, 4, 4, 4, 4]\n"
     ]
    },
    {
     "name": "stderr",
     "output_type": "stream",
     "text": [
      "172.19.0.1 - - [04/Jan/2022 08:28:10] \"GET /refreshData HTTP/1.1\" 200 -\n"
     ]
    },
    {
     "name": "stdout",
     "output_type": "stream",
     "text": [
      "labels now: ['#TheBachelor', '#WWERaw', '#Browns', '#GodMorningTuesday', '#tuesdaymotivations', '#HereWeGo', '#Pratikistheboss', '#BBKINGPRATIK', '#Pratiksehajpal', '#traffic', '#CLEvsPIT']\n",
      "data now: [18, 11, 8, 7, 6, 6, 4, 4, 4, 4, 4]\n"
     ]
    },
    {
     "name": "stderr",
     "output_type": "stream",
     "text": [
      "172.19.0.1 - - [04/Jan/2022 08:28:11] \"GET /refreshData HTTP/1.1\" 200 -\n"
     ]
    },
    {
     "name": "stdout",
     "output_type": "stream",
     "text": [
      "labels now: ['#TheBachelor', '#WWERaw', '#Browns', '#GodMorningTuesday', '#tuesdaymotivations', '#HereWeGo', '#Pratikistheboss', '#BBKINGPRATIK', '#Pratiksehajpal', '#traffic', '#CLEvsPIT']\n",
      "data now: [18, 11, 8, 7, 6, 6, 4, 4, 4, 4, 4]\n"
     ]
    },
    {
     "name": "stderr",
     "output_type": "stream",
     "text": [
      "172.19.0.1 - - [04/Jan/2022 08:28:12] \"GET /refreshData HTTP/1.1\" 200 -\n"
     ]
    },
    {
     "name": "stdout",
     "output_type": "stream",
     "text": [
      "labels now: ['#TheBachelor', '#WWERaw', '#Browns', '#GodMorningTuesday', '#tuesdaymotivations', '#HereWeGo', '#Pratikistheboss', '#BBKINGPRATIK', '#Pratiksehajpal', '#traffic', '#CLEvsPIT']\n",
      "data now: [18, 11, 8, 7, 6, 6, 4, 4, 4, 4, 4]\n"
     ]
    },
    {
     "name": "stderr",
     "output_type": "stream",
     "text": [
      "172.19.0.1 - - [04/Jan/2022 08:28:13] \"GET /refreshData HTTP/1.1\" 200 -\n"
     ]
    },
    {
     "name": "stdout",
     "output_type": "stream",
     "text": [
      "labels now: ['#TheBachelor', '#WWERaw', '#Browns', '#GodMorningTuesday', '#tuesdaymotivations', '#HereWeGo', '#Pratikistheboss', '#BBKINGPRATIK', '#Pratiksehajpal', '#traffic', '#CLEvsPIT']\n",
      "data now: [18, 11, 8, 7, 6, 6, 4, 4, 4, 4, 4]\n"
     ]
    },
    {
     "name": "stderr",
     "output_type": "stream",
     "text": [
      "172.19.0.1 - - [04/Jan/2022 08:28:14] \"GET /refreshData HTTP/1.1\" 200 -\n"
     ]
    },
    {
     "name": "stdout",
     "output_type": "stream",
     "text": [
      "labels now: ['#TheBachelor', '#WWERaw', '#Browns', '#GodMorningTuesday', '#tuesdaymotivations', '#HereWeGo', '#Pratikistheboss', '#BBKINGPRATIK', '#Pratiksehajpal', '#traffic', '#CLEvsPIT']\n",
      "data now: [18, 11, 8, 7, 6, 6, 4, 4, 4, 4, 4]\n"
     ]
    },
    {
     "name": "stderr",
     "output_type": "stream",
     "text": [
      "172.19.0.1 - - [04/Jan/2022 08:28:15] \"GET /refreshData HTTP/1.1\" 200 -\n"
     ]
    },
    {
     "name": "stdout",
     "output_type": "stream",
     "text": [
      "labels now: ['#TheBachelor', '#WWERaw', '#Browns', '#GodMorningTuesday', '#tuesdaymotivations', '#HereWeGo', '#Pratikistheboss', '#BBKINGPRATIK', '#Pratiksehajpal', '#traffic', '#CLEvsPIT']\n",
      "data now: [18, 11, 8, 7, 6, 6, 4, 4, 4, 4, 4]\n"
     ]
    },
    {
     "name": "stderr",
     "output_type": "stream",
     "text": [
      "172.19.0.1 - - [04/Jan/2022 08:28:16] \"GET /refreshData HTTP/1.1\" 200 -\n"
     ]
    },
    {
     "name": "stdout",
     "output_type": "stream",
     "text": [
      "labels now: ['#TheBachelor', '#WWERaw', '#Browns', '#GodMorningTuesday', '#tuesdaymotivations', '#HereWeGo', '#Pratikistheboss', '#BBKINGPRATIK', '#Pratiksehajpal', '#traffic', '#CLEvsPIT']\n",
      "data now: [18, 11, 8, 7, 6, 6, 4, 4, 4, 4, 4]\n"
     ]
    },
    {
     "name": "stderr",
     "output_type": "stream",
     "text": [
      "172.19.0.1 - - [04/Jan/2022 08:28:17] \"GET /refreshData HTTP/1.1\" 200 -\n"
     ]
    },
    {
     "name": "stdout",
     "output_type": "stream",
     "text": [
      "labels now: ['#TheBachelor', '#WWERaw', '#Browns', '#GodMorningTuesday', '#tuesdaymotivations', '#HereWeGo', '#Pratikistheboss', '#BBKINGPRATIK', '#Pratiksehajpal', '#traffic', '#CLEvsPIT']\n",
      "data now: [18, 11, 8, 7, 6, 6, 4, 4, 4, 4, 4]\n"
     ]
    },
    {
     "name": "stderr",
     "output_type": "stream",
     "text": [
      "172.19.0.1 - - [04/Jan/2022 08:28:18] \"GET /refreshData HTTP/1.1\" 200 -\n"
     ]
    },
    {
     "name": "stdout",
     "output_type": "stream",
     "text": [
      "labels now: ['#TheBachelor', '#WWERaw', '#Browns', '#GodMorningTuesday', '#tuesdaymotivations', '#HereWeGo', '#Pratikistheboss', '#BBKINGPRATIK', '#Pratiksehajpal', '#traffic', '#CLEvsPIT']\n",
      "data now: [18, 11, 8, 7, 6, 6, 4, 4, 4, 4, 4]\n"
     ]
    },
    {
     "name": "stderr",
     "output_type": "stream",
     "text": [
      "172.19.0.1 - - [04/Jan/2022 08:28:19] \"GET /refreshData HTTP/1.1\" 200 -\n"
     ]
    },
    {
     "name": "stdout",
     "output_type": "stream",
     "text": [
      "labels now: ['#TheBachelor', '#WWERaw', '#Browns', '#GodMorningTuesday', '#tuesdaymotivations', '#HereWeGo', '#Pratikistheboss', '#BBKINGPRATIK', '#Pratiksehajpal', '#traffic', '#CLEvsPIT']\n",
      "data now: [18, 11, 8, 7, 6, 6, 4, 4, 4, 4, 4]\n"
     ]
    },
    {
     "name": "stderr",
     "output_type": "stream",
     "text": [
      "172.19.0.1 - - [04/Jan/2022 08:28:20] \"GET /refreshData HTTP/1.1\" 200 -\n"
     ]
    },
    {
     "name": "stdout",
     "output_type": "stream",
     "text": [
      "labels now: ['#TheBachelor', '#WWERaw', '#Browns', '#GodMorningTuesday', '#tuesdaymotivations', '#HereWeGo', '#Pratikistheboss', '#BBKINGPRATIK', '#Pratiksehajpal', '#traffic', '#CLEvsPIT']\n",
      "data now: [18, 11, 8, 7, 6, 6, 4, 4, 4, 4, 4]\n"
     ]
    },
    {
     "name": "stderr",
     "output_type": "stream",
     "text": [
      "172.19.0.1 - - [04/Jan/2022 08:28:21] \"GET /refreshData HTTP/1.1\" 200 -\n"
     ]
    },
    {
     "name": "stdout",
     "output_type": "stream",
     "text": [
      "labels now: ['#TheBachelor', '#WWERaw', '#Browns', '#GodMorningTuesday', '#tuesdaymotivations', '#HereWeGo', '#Pratikistheboss', '#BBKINGPRATIK', '#Pratiksehajpal', '#traffic', '#CLEvsPIT']\n",
      "data now: [18, 11, 8, 7, 6, 6, 4, 4, 4, 4, 4]\n"
     ]
    },
    {
     "name": "stderr",
     "output_type": "stream",
     "text": [
      "172.19.0.1 - - [04/Jan/2022 08:28:22] \"GET /refreshData HTTP/1.1\" 200 -\n"
     ]
    },
    {
     "name": "stdout",
     "output_type": "stream",
     "text": [
      "labels now: ['#TheBachelor', '#WWERaw', '#Browns', '#GodMorningTuesday', '#tuesdaymotivations', '#HereWeGo', '#Pratikistheboss', '#BBKINGPRATIK', '#Pratiksehajpal', '#traffic', '#CLEvsPIT']\n",
      "data now: [18, 11, 8, 7, 6, 6, 4, 4, 4, 4, 4]\n"
     ]
    },
    {
     "name": "stderr",
     "output_type": "stream",
     "text": [
      "172.19.0.1 - - [04/Jan/2022 08:28:23] \"GET /refreshData HTTP/1.1\" 200 -\n"
     ]
    },
    {
     "name": "stdout",
     "output_type": "stream",
     "text": [
      "labels now: ['#TheBachelor', '#WWERaw', '#Browns', '#GodMorningTuesday', '#tuesdaymotivations', '#HereWeGo', '#Pratikistheboss', '#BBKINGPRATIK', '#Pratiksehajpal', '#traffic', '#CLEvsPIT']\n",
      "data now: [18, 11, 8, 7, 6, 6, 4, 4, 4, 4, 4]\n"
     ]
    },
    {
     "name": "stderr",
     "output_type": "stream",
     "text": [
      "172.19.0.1 - - [04/Jan/2022 08:28:24] \"GET /refreshData HTTP/1.1\" 200 -\n"
     ]
    },
    {
     "name": "stdout",
     "output_type": "stream",
     "text": [
      "labels now: ['#TheBachelor', '#WWERaw', '#Browns', '#GodMorningTuesday', '#tuesdaymotivations', '#HereWeGo', '#Pratikistheboss', '#BBKINGPRATIK', '#Pratiksehajpal', '#traffic', '#CLEvsPIT']\n",
      "data now: [18, 11, 8, 7, 6, 6, 4, 4, 4, 4, 4]\n"
     ]
    },
    {
     "name": "stderr",
     "output_type": "stream",
     "text": [
      "172.19.0.5 - - [04/Jan/2022 08:28:25] \"\u001b[35m\u001b[1mPOST /updateData HTTP/1.1\u001b[0m\" 201 -\n",
      "172.19.0.1 - - [04/Jan/2022 08:28:25] \"GET /refreshData HTTP/1.1\" 200 -\n"
     ]
    },
    {
     "name": "stdout",
     "output_type": "stream",
     "text": [
      "labels received: ['#TheBachelor', '#WWERaw', '#Browns', '#GodMorningTuesday', '#tuesdaymotivations', '#HereWeGo', '#Pratikistheboss', '#BBKINGPRATIK', '#Pratiksehajpal', '#traffic', '#CLEvsPIT']\n",
      "data received: [20, 11, 10, 8, 7, 6, 4, 4, 4, 4, 4]\n",
      "labels now: ['#TheBachelor', '#WWERaw', '#Browns', '#GodMorningTuesday', '#tuesdaymotivations', '#HereWeGo', '#Pratikistheboss', '#BBKINGPRATIK', '#Pratiksehajpal', '#traffic', '#CLEvsPIT']\n",
      "data now: [20, 11, 10, 8, 7, 6, 4, 4, 4, 4, 4]\n"
     ]
    },
    {
     "name": "stderr",
     "output_type": "stream",
     "text": [
      "172.19.0.5 - - [04/Jan/2022 08:28:26] \"\u001b[35m\u001b[1mPOST /updateData HTTP/1.1\u001b[0m\" 201 -\n",
      "172.19.0.1 - - [04/Jan/2022 08:28:26] \"GET /refreshData HTTP/1.1\" 200 -\n"
     ]
    },
    {
     "name": "stdout",
     "output_type": "stream",
     "text": [
      "labels received: ['#TheBachelor', '#WWERaw', '#Browns', '#GodMorningTuesday', '#tuesdaymotivations', '#HereWeGo', '#Pratikistheboss', '#BBKINGPRATIK', '#Pratiksehajpal', '#traffic', '#CLEvsPIT']\n",
      "data received: [20, 11, 10, 8, 7, 6, 4, 4, 4, 4, 4]\n",
      "labels now: ['#TheBachelor', '#WWERaw', '#Browns', '#GodMorningTuesday', '#tuesdaymotivations', '#HereWeGo', '#Pratikistheboss', '#BBKINGPRATIK', '#Pratiksehajpal', '#traffic', '#CLEvsPIT']\n",
      "data now: [20, 11, 10, 8, 7, 6, 4, 4, 4, 4, 4]\n"
     ]
    },
    {
     "name": "stderr",
     "output_type": "stream",
     "text": [
      "172.19.0.1 - - [04/Jan/2022 08:28:27] \"GET /refreshData HTTP/1.1\" 200 -\n"
     ]
    },
    {
     "name": "stdout",
     "output_type": "stream",
     "text": [
      "labels now: ['#TheBachelor', '#WWERaw', '#Browns', '#GodMorningTuesday', '#tuesdaymotivations', '#HereWeGo', '#Pratikistheboss', '#BBKINGPRATIK', '#Pratiksehajpal', '#traffic', '#CLEvsPIT']\n",
      "data now: [20, 11, 10, 8, 7, 6, 4, 4, 4, 4, 4]\n"
     ]
    },
    {
     "name": "stderr",
     "output_type": "stream",
     "text": [
      "172.19.0.1 - - [04/Jan/2022 08:28:28] \"GET /refreshData HTTP/1.1\" 200 -\n"
     ]
    },
    {
     "name": "stdout",
     "output_type": "stream",
     "text": [
      "labels now: ['#TheBachelor', '#WWERaw', '#Browns', '#GodMorningTuesday', '#tuesdaymotivations', '#HereWeGo', '#Pratikistheboss', '#BBKINGPRATIK', '#Pratiksehajpal', '#traffic', '#CLEvsPIT']\n",
      "data now: [20, 11, 10, 8, 7, 6, 4, 4, 4, 4, 4]\n"
     ]
    },
    {
     "name": "stderr",
     "output_type": "stream",
     "text": [
      "172.19.0.1 - - [04/Jan/2022 08:28:29] \"GET /refreshData HTTP/1.1\" 200 -\n"
     ]
    },
    {
     "name": "stdout",
     "output_type": "stream",
     "text": [
      "labels now: ['#TheBachelor', '#WWERaw', '#Browns', '#GodMorningTuesday', '#tuesdaymotivations', '#HereWeGo', '#Pratikistheboss', '#BBKINGPRATIK', '#Pratiksehajpal', '#traffic', '#CLEvsPIT']\n",
      "data now: [20, 11, 10, 8, 7, 6, 4, 4, 4, 4, 4]\n"
     ]
    },
    {
     "name": "stderr",
     "output_type": "stream",
     "text": [
      "172.19.0.1 - - [04/Jan/2022 08:28:30] \"GET /refreshData HTTP/1.1\" 200 -\n"
     ]
    },
    {
     "name": "stdout",
     "output_type": "stream",
     "text": [
      "labels now: ['#TheBachelor', '#WWERaw', '#Browns', '#GodMorningTuesday', '#tuesdaymotivations', '#HereWeGo', '#Pratikistheboss', '#BBKINGPRATIK', '#Pratiksehajpal', '#traffic', '#CLEvsPIT']\n",
      "data now: [20, 11, 10, 8, 7, 6, 4, 4, 4, 4, 4]\n"
     ]
    },
    {
     "name": "stderr",
     "output_type": "stream",
     "text": [
      "172.19.0.1 - - [04/Jan/2022 08:28:31] \"GET /refreshData HTTP/1.1\" 200 -\n"
     ]
    },
    {
     "name": "stdout",
     "output_type": "stream",
     "text": [
      "labels now: ['#TheBachelor', '#WWERaw', '#Browns', '#GodMorningTuesday', '#tuesdaymotivations', '#HereWeGo', '#Pratikistheboss', '#BBKINGPRATIK', '#Pratiksehajpal', '#traffic', '#CLEvsPIT']\n",
      "data now: [20, 11, 10, 8, 7, 6, 4, 4, 4, 4, 4]\n"
     ]
    },
    {
     "name": "stderr",
     "output_type": "stream",
     "text": [
      "172.19.0.1 - - [04/Jan/2022 08:28:32] \"GET /refreshData HTTP/1.1\" 200 -\n"
     ]
    },
    {
     "name": "stdout",
     "output_type": "stream",
     "text": [
      "labels now: ['#TheBachelor', '#WWERaw', '#Browns', '#GodMorningTuesday', '#tuesdaymotivations', '#HereWeGo', '#Pratikistheboss', '#BBKINGPRATIK', '#Pratiksehajpal', '#traffic', '#CLEvsPIT']\n",
      "data now: [20, 11, 10, 8, 7, 6, 4, 4, 4, 4, 4]\n"
     ]
    },
    {
     "name": "stderr",
     "output_type": "stream",
     "text": [
      "172.19.0.1 - - [04/Jan/2022 08:28:33] \"GET /refreshData HTTP/1.1\" 200 -\n"
     ]
    },
    {
     "name": "stdout",
     "output_type": "stream",
     "text": [
      "labels now: ['#TheBachelor', '#WWERaw', '#Browns', '#GodMorningTuesday', '#tuesdaymotivations', '#HereWeGo', '#Pratikistheboss', '#BBKINGPRATIK', '#Pratiksehajpal', '#traffic', '#CLEvsPIT']\n",
      "data now: [20, 11, 10, 8, 7, 6, 4, 4, 4, 4, 4]\n"
     ]
    },
    {
     "name": "stderr",
     "output_type": "stream",
     "text": [
      "172.19.0.1 - - [04/Jan/2022 08:28:34] \"GET /refreshData HTTP/1.1\" 200 -\n"
     ]
    },
    {
     "name": "stdout",
     "output_type": "stream",
     "text": [
      "labels now: ['#TheBachelor', '#WWERaw', '#Browns', '#GodMorningTuesday', '#tuesdaymotivations', '#HereWeGo', '#Pratikistheboss', '#BBKINGPRATIK', '#Pratiksehajpal', '#traffic', '#CLEvsPIT']\n",
      "data now: [20, 11, 10, 8, 7, 6, 4, 4, 4, 4, 4]\n"
     ]
    },
    {
     "name": "stderr",
     "output_type": "stream",
     "text": [
      "172.19.0.1 - - [04/Jan/2022 08:28:35] \"GET /refreshData HTTP/1.1\" 200 -\n",
      "172.19.0.5 - - [04/Jan/2022 08:28:35] \"\u001b[35m\u001b[1mPOST /updateData HTTP/1.1\u001b[0m\" 201 -\n"
     ]
    },
    {
     "name": "stdout",
     "output_type": "stream",
     "text": [
      "labels now: ['#TheBachelor', '#WWERaw', '#Browns', '#GodMorningTuesday', '#tuesdaymotivations', '#HereWeGo', '#Pratikistheboss', '#BBKINGPRATIK', '#Pratiksehajpal', '#traffic', '#CLEvsPIT']\n",
      "data now: [20, 11, 10, 8, 7, 6, 4, 4, 4, 4, 4]\n",
      "labels received: ['#TheBachelor', '#Browns', '#WWERaw', '#GodMorningTuesday', '#tuesdaymotivations', '#HereWeGo', '#Pratikistheboss', '#BBKINGPRATIK', '#Pratiksehajpal', '#traffic', '#CLEvsPIT']\n",
      "data received: [22, 11, 11, 8, 7, 6, 4, 4, 4, 4, 4]\n"
     ]
    },
    {
     "name": "stderr",
     "output_type": "stream",
     "text": [
      "172.19.0.1 - - [04/Jan/2022 08:28:36] \"GET /refreshData HTTP/1.1\" 200 -\n"
     ]
    },
    {
     "name": "stdout",
     "output_type": "stream",
     "text": [
      "labels now: ['#TheBachelor', '#Browns', '#WWERaw', '#GodMorningTuesday', '#tuesdaymotivations', '#HereWeGo', '#Pratikistheboss', '#BBKINGPRATIK', '#Pratiksehajpal', '#traffic', '#CLEvsPIT']\n",
      "data now: [22, 11, 11, 8, 7, 6, 4, 4, 4, 4, 4]\n"
     ]
    },
    {
     "name": "stderr",
     "output_type": "stream",
     "text": [
      "172.19.0.1 - - [04/Jan/2022 08:28:37] \"GET /refreshData HTTP/1.1\" 200 -\n"
     ]
    },
    {
     "name": "stdout",
     "output_type": "stream",
     "text": [
      "labels now: ['#TheBachelor', '#Browns', '#WWERaw', '#GodMorningTuesday', '#tuesdaymotivations', '#HereWeGo', '#Pratikistheboss', '#BBKINGPRATIK', '#Pratiksehajpal', '#traffic', '#CLEvsPIT']\n",
      "data now: [22, 11, 11, 8, 7, 6, 4, 4, 4, 4, 4]\n"
     ]
    },
    {
     "name": "stderr",
     "output_type": "stream",
     "text": [
      "172.19.0.1 - - [04/Jan/2022 08:28:38] \"GET /refreshData HTTP/1.1\" 200 -\n"
     ]
    },
    {
     "name": "stdout",
     "output_type": "stream",
     "text": [
      "labels now: ['#TheBachelor', '#Browns', '#WWERaw', '#GodMorningTuesday', '#tuesdaymotivations', '#HereWeGo', '#Pratikistheboss', '#BBKINGPRATIK', '#Pratiksehajpal', '#traffic', '#CLEvsPIT']\n",
      "data now: [22, 11, 11, 8, 7, 6, 4, 4, 4, 4, 4]\n"
     ]
    },
    {
     "name": "stderr",
     "output_type": "stream",
     "text": [
      "172.19.0.1 - - [04/Jan/2022 08:28:39] \"GET /refreshData HTTP/1.1\" 200 -\n"
     ]
    },
    {
     "name": "stdout",
     "output_type": "stream",
     "text": [
      "labels now: ['#TheBachelor', '#Browns', '#WWERaw', '#GodMorningTuesday', '#tuesdaymotivations', '#HereWeGo', '#Pratikistheboss', '#BBKINGPRATIK', '#Pratiksehajpal', '#traffic', '#CLEvsPIT']\n",
      "data now: [22, 11, 11, 8, 7, 6, 4, 4, 4, 4, 4]\n"
     ]
    },
    {
     "name": "stderr",
     "output_type": "stream",
     "text": [
      "172.19.0.1 - - [04/Jan/2022 08:28:40] \"GET /refreshData HTTP/1.1\" 200 -\n"
     ]
    },
    {
     "name": "stdout",
     "output_type": "stream",
     "text": [
      "labels now: ['#TheBachelor', '#Browns', '#WWERaw', '#GodMorningTuesday', '#tuesdaymotivations', '#HereWeGo', '#Pratikistheboss', '#BBKINGPRATIK', '#Pratiksehajpal', '#traffic', '#CLEvsPIT']\n",
      "data now: [22, 11, 11, 8, 7, 6, 4, 4, 4, 4, 4]\n"
     ]
    },
    {
     "name": "stderr",
     "output_type": "stream",
     "text": [
      "172.19.0.1 - - [04/Jan/2022 08:28:41] \"GET /refreshData HTTP/1.1\" 200 -\n"
     ]
    },
    {
     "name": "stdout",
     "output_type": "stream",
     "text": [
      "labels now: ['#TheBachelor', '#Browns', '#WWERaw', '#GodMorningTuesday', '#tuesdaymotivations', '#HereWeGo', '#Pratikistheboss', '#BBKINGPRATIK', '#Pratiksehajpal', '#traffic', '#CLEvsPIT']\n",
      "data now: [22, 11, 11, 8, 7, 6, 4, 4, 4, 4, 4]\n"
     ]
    },
    {
     "name": "stderr",
     "output_type": "stream",
     "text": [
      "172.19.0.1 - - [04/Jan/2022 08:28:42] \"GET /refreshData HTTP/1.1\" 200 -\n"
     ]
    },
    {
     "name": "stdout",
     "output_type": "stream",
     "text": [
      "labels now: ['#TheBachelor', '#Browns', '#WWERaw', '#GodMorningTuesday', '#tuesdaymotivations', '#HereWeGo', '#Pratikistheboss', '#BBKINGPRATIK', '#Pratiksehajpal', '#traffic', '#CLEvsPIT']\n",
      "data now: [22, 11, 11, 8, 7, 6, 4, 4, 4, 4, 4]\n"
     ]
    },
    {
     "name": "stderr",
     "output_type": "stream",
     "text": [
      "172.19.0.1 - - [04/Jan/2022 08:28:43] \"GET /refreshData HTTP/1.1\" 200 -\n"
     ]
    },
    {
     "name": "stdout",
     "output_type": "stream",
     "text": [
      "labels now: ['#TheBachelor', '#Browns', '#WWERaw', '#GodMorningTuesday', '#tuesdaymotivations', '#HereWeGo', '#Pratikistheboss', '#BBKINGPRATIK', '#Pratiksehajpal', '#traffic', '#CLEvsPIT']\n",
      "data now: [22, 11, 11, 8, 7, 6, 4, 4, 4, 4, 4]\n"
     ]
    },
    {
     "name": "stderr",
     "output_type": "stream",
     "text": [
      "172.19.0.1 - - [04/Jan/2022 08:28:44] \"GET /refreshData HTTP/1.1\" 200 -\n"
     ]
    },
    {
     "name": "stdout",
     "output_type": "stream",
     "text": [
      "labels now: ['#TheBachelor', '#Browns', '#WWERaw', '#GodMorningTuesday', '#tuesdaymotivations', '#HereWeGo', '#Pratikistheboss', '#BBKINGPRATIK', '#Pratiksehajpal', '#traffic', '#CLEvsPIT']\n",
      "data now: [22, 11, 11, 8, 7, 6, 4, 4, 4, 4, 4]\n"
     ]
    },
    {
     "name": "stderr",
     "output_type": "stream",
     "text": [
      "172.19.0.1 - - [04/Jan/2022 08:28:45] \"GET /refreshData HTTP/1.1\" 200 -\n"
     ]
    },
    {
     "name": "stdout",
     "output_type": "stream",
     "text": [
      "labels now: ['#TheBachelor', '#Browns', '#WWERaw', '#GodMorningTuesday', '#tuesdaymotivations', '#HereWeGo', '#Pratikistheboss', '#BBKINGPRATIK', '#Pratiksehajpal', '#traffic', '#CLEvsPIT']\n",
      "data now: [22, 11, 11, 8, 7, 6, 4, 4, 4, 4, 4]\n"
     ]
    },
    {
     "name": "stderr",
     "output_type": "stream",
     "text": [
      "172.19.0.1 - - [04/Jan/2022 08:28:46] \"GET /refreshData HTTP/1.1\" 200 -\n"
     ]
    },
    {
     "name": "stdout",
     "output_type": "stream",
     "text": [
      "labels now: ['#TheBachelor', '#Browns', '#WWERaw', '#GodMorningTuesday', '#tuesdaymotivations', '#HereWeGo', '#Pratikistheboss', '#BBKINGPRATIK', '#Pratiksehajpal', '#traffic', '#CLEvsPIT']\n",
      "data now: [22, 11, 11, 8, 7, 6, 4, 4, 4, 4, 4]\n"
     ]
    },
    {
     "name": "stderr",
     "output_type": "stream",
     "text": [
      "172.19.0.1 - - [04/Jan/2022 08:28:47] \"GET /refreshData HTTP/1.1\" 200 -\n"
     ]
    },
    {
     "name": "stdout",
     "output_type": "stream",
     "text": [
      "labels now: ['#TheBachelor', '#Browns', '#WWERaw', '#GodMorningTuesday', '#tuesdaymotivations', '#HereWeGo', '#Pratikistheboss', '#BBKINGPRATIK', '#Pratiksehajpal', '#traffic', '#CLEvsPIT']\n",
      "data now: [22, 11, 11, 8, 7, 6, 4, 4, 4, 4, 4]\n"
     ]
    },
    {
     "name": "stderr",
     "output_type": "stream",
     "text": [
      "172.19.0.1 - - [04/Jan/2022 08:28:48] \"GET /refreshData HTTP/1.1\" 200 -\n"
     ]
    },
    {
     "name": "stdout",
     "output_type": "stream",
     "text": [
      "labels now: ['#TheBachelor', '#Browns', '#WWERaw', '#GodMorningTuesday', '#tuesdaymotivations', '#HereWeGo', '#Pratikistheboss', '#BBKINGPRATIK', '#Pratiksehajpal', '#traffic', '#CLEvsPIT']\n",
      "data now: [22, 11, 11, 8, 7, 6, 4, 4, 4, 4, 4]\n"
     ]
    },
    {
     "name": "stderr",
     "output_type": "stream",
     "text": [
      "172.19.0.1 - - [04/Jan/2022 08:28:49] \"GET /refreshData HTTP/1.1\" 200 -\n"
     ]
    },
    {
     "name": "stdout",
     "output_type": "stream",
     "text": [
      "labels now: ['#TheBachelor', '#Browns', '#WWERaw', '#GodMorningTuesday', '#tuesdaymotivations', '#HereWeGo', '#Pratikistheboss', '#BBKINGPRATIK', '#Pratiksehajpal', '#traffic', '#CLEvsPIT']\n",
      "data now: [22, 11, 11, 8, 7, 6, 4, 4, 4, 4, 4]\n"
     ]
    },
    {
     "name": "stderr",
     "output_type": "stream",
     "text": [
      "172.19.0.1 - - [04/Jan/2022 08:28:50] \"GET /refreshData HTTP/1.1\" 200 -\n"
     ]
    },
    {
     "name": "stdout",
     "output_type": "stream",
     "text": [
      "labels now: ['#TheBachelor', '#Browns', '#WWERaw', '#GodMorningTuesday', '#tuesdaymotivations', '#HereWeGo', '#Pratikistheboss', '#BBKINGPRATIK', '#Pratiksehajpal', '#traffic', '#CLEvsPIT']\n",
      "data now: [22, 11, 11, 8, 7, 6, 4, 4, 4, 4, 4]\n"
     ]
    },
    {
     "name": "stderr",
     "output_type": "stream",
     "text": [
      "172.19.0.5 - - [04/Jan/2022 08:28:51] \"\u001b[35m\u001b[1mPOST /updateData HTTP/1.1\u001b[0m\" 201 -\n"
     ]
    },
    {
     "name": "stdout",
     "output_type": "stream",
     "text": [
      "labels received: ['#TheBachelor', '#Browns', '#WWERaw', '#HereWeGo', '#GodMorningTuesday', '#tuesdaymotivations', '#Pratikistheboss', '#BBKINGPRATIK', '#Pratiksehajpal', '#traffic', '#CLEvsPIT']\n",
      "data received: [26, 12, 11, 9, 8, 7, 4, 4, 4, 4, 4]\n"
     ]
    },
    {
     "name": "stderr",
     "output_type": "stream",
     "text": [
      "172.19.0.1 - - [04/Jan/2022 08:28:51] \"GET /refreshData HTTP/1.1\" 200 -\n"
     ]
    },
    {
     "name": "stdout",
     "output_type": "stream",
     "text": [
      "labels now: ['#TheBachelor', '#Browns', '#WWERaw', '#HereWeGo', '#GodMorningTuesday', '#tuesdaymotivations', '#Pratikistheboss', '#BBKINGPRATIK', '#Pratiksehajpal', '#traffic', '#CLEvsPIT']\n",
      "data now: [26, 12, 11, 9, 8, 7, 4, 4, 4, 4, 4]\n"
     ]
    },
    {
     "name": "stderr",
     "output_type": "stream",
     "text": [
      "172.19.0.1 - - [04/Jan/2022 08:28:52] \"GET /refreshData HTTP/1.1\" 200 -\n"
     ]
    },
    {
     "name": "stdout",
     "output_type": "stream",
     "text": [
      "labels now: ['#TheBachelor', '#Browns', '#WWERaw', '#HereWeGo', '#GodMorningTuesday', '#tuesdaymotivations', '#Pratikistheboss', '#BBKINGPRATIK', '#Pratiksehajpal', '#traffic', '#CLEvsPIT']\n",
      "data now: [26, 12, 11, 9, 8, 7, 4, 4, 4, 4, 4]\n"
     ]
    },
    {
     "name": "stderr",
     "output_type": "stream",
     "text": [
      "172.19.0.1 - - [04/Jan/2022 08:28:53] \"GET /refreshData HTTP/1.1\" 200 -\n"
     ]
    },
    {
     "name": "stdout",
     "output_type": "stream",
     "text": [
      "labels now: ['#TheBachelor', '#Browns', '#WWERaw', '#HereWeGo', '#GodMorningTuesday', '#tuesdaymotivations', '#Pratikistheboss', '#BBKINGPRATIK', '#Pratiksehajpal', '#traffic', '#CLEvsPIT']\n",
      "data now: [26, 12, 11, 9, 8, 7, 4, 4, 4, 4, 4]\n"
     ]
    },
    {
     "name": "stderr",
     "output_type": "stream",
     "text": [
      "172.19.0.1 - - [04/Jan/2022 08:28:54] \"GET /refreshData HTTP/1.1\" 200 -\n"
     ]
    },
    {
     "name": "stdout",
     "output_type": "stream",
     "text": [
      "labels now: ['#TheBachelor', '#Browns', '#WWERaw', '#HereWeGo', '#GodMorningTuesday', '#tuesdaymotivations', '#Pratikistheboss', '#BBKINGPRATIK', '#Pratiksehajpal', '#traffic', '#CLEvsPIT']\n",
      "data now: [26, 12, 11, 9, 8, 7, 4, 4, 4, 4, 4]\n"
     ]
    },
    {
     "name": "stderr",
     "output_type": "stream",
     "text": [
      "172.19.0.1 - - [04/Jan/2022 08:28:55] \"GET /refreshData HTTP/1.1\" 200 -\n",
      "172.19.0.5 - - [04/Jan/2022 08:28:55] \"\u001b[35m\u001b[1mPOST /updateData HTTP/1.1\u001b[0m\" 201 -\n"
     ]
    },
    {
     "name": "stdout",
     "output_type": "stream",
     "text": [
      "labels now: ['#TheBachelor', '#Browns', '#WWERaw', '#HereWeGo', '#GodMorningTuesday', '#tuesdaymotivations', '#Pratikistheboss', '#BBKINGPRATIK', '#Pratiksehajpal', '#traffic', '#CLEvsPIT']\n",
      "data now: [26, 12, 11, 9, 8, 7, 4, 4, 4, 4, 4]\n",
      "labels received: ['#TheBachelor', '#Browns', '#WWERaw', '#HereWeGo', '#GodMorningTuesday', '#tuesdaymotivations', '#Pratikistheboss', '#BBKINGPRATIK', '#Pratiksehajpal', '#Bachelor', '#traffic']\n",
      "data received: [29, 13, 11, 9, 8, 7, 4, 4, 4, 4, 4]\n"
     ]
    },
    {
     "name": "stderr",
     "output_type": "stream",
     "text": [
      "172.19.0.1 - - [04/Jan/2022 08:28:56] \"GET /refreshData HTTP/1.1\" 200 -\n"
     ]
    },
    {
     "name": "stdout",
     "output_type": "stream",
     "text": [
      "labels now: ['#TheBachelor', '#Browns', '#WWERaw', '#HereWeGo', '#GodMorningTuesday', '#tuesdaymotivations', '#Pratikistheboss', '#BBKINGPRATIK', '#Pratiksehajpal', '#Bachelor', '#traffic']\n",
      "data now: [29, 13, 11, 9, 8, 7, 4, 4, 4, 4, 4]\n"
     ]
    },
    {
     "name": "stderr",
     "output_type": "stream",
     "text": [
      "172.19.0.1 - - [04/Jan/2022 08:28:57] \"GET /refreshData HTTP/1.1\" 200 -\n"
     ]
    },
    {
     "name": "stdout",
     "output_type": "stream",
     "text": [
      "labels now: ['#TheBachelor', '#Browns', '#WWERaw', '#HereWeGo', '#GodMorningTuesday', '#tuesdaymotivations', '#Pratikistheboss', '#BBKINGPRATIK', '#Pratiksehajpal', '#Bachelor', '#traffic']\n",
      "data now: [29, 13, 11, 9, 8, 7, 4, 4, 4, 4, 4]\n"
     ]
    },
    {
     "name": "stderr",
     "output_type": "stream",
     "text": [
      "172.19.0.1 - - [04/Jan/2022 08:28:58] \"GET /refreshData HTTP/1.1\" 200 -\n"
     ]
    },
    {
     "name": "stdout",
     "output_type": "stream",
     "text": [
      "labels now: ['#TheBachelor', '#Browns', '#WWERaw', '#HereWeGo', '#GodMorningTuesday', '#tuesdaymotivations', '#Pratikistheboss', '#BBKINGPRATIK', '#Pratiksehajpal', '#Bachelor', '#traffic']\n",
      "data now: [29, 13, 11, 9, 8, 7, 4, 4, 4, 4, 4]\n"
     ]
    },
    {
     "name": "stderr",
     "output_type": "stream",
     "text": [
      "172.19.0.1 - - [04/Jan/2022 08:28:59] \"GET /refreshData HTTP/1.1\" 200 -\n"
     ]
    },
    {
     "name": "stdout",
     "output_type": "stream",
     "text": [
      "labels now: ['#TheBachelor', '#Browns', '#WWERaw', '#HereWeGo', '#GodMorningTuesday', '#tuesdaymotivations', '#Pratikistheboss', '#BBKINGPRATIK', '#Pratiksehajpal', '#Bachelor', '#traffic']\n",
      "data now: [29, 13, 11, 9, 8, 7, 4, 4, 4, 4, 4]\n"
     ]
    },
    {
     "name": "stderr",
     "output_type": "stream",
     "text": [
      "172.19.0.1 - - [04/Jan/2022 08:29:00] \"GET /refreshData HTTP/1.1\" 200 -\n"
     ]
    },
    {
     "name": "stdout",
     "output_type": "stream",
     "text": [
      "labels now: ['#TheBachelor', '#Browns', '#WWERaw', '#HereWeGo', '#GodMorningTuesday', '#tuesdaymotivations', '#Pratikistheboss', '#BBKINGPRATIK', '#Pratiksehajpal', '#Bachelor', '#traffic']\n",
      "data now: [29, 13, 11, 9, 8, 7, 4, 4, 4, 4, 4]\n"
     ]
    },
    {
     "name": "stderr",
     "output_type": "stream",
     "text": [
      "172.19.0.1 - - [04/Jan/2022 08:29:01] \"GET /refreshData HTTP/1.1\" 200 -\n"
     ]
    },
    {
     "name": "stdout",
     "output_type": "stream",
     "text": [
      "labels now: ['#TheBachelor', '#Browns', '#WWERaw', '#HereWeGo', '#GodMorningTuesday', '#tuesdaymotivations', '#Pratikistheboss', '#BBKINGPRATIK', '#Pratiksehajpal', '#Bachelor', '#traffic']\n",
      "data now: [29, 13, 11, 9, 8, 7, 4, 4, 4, 4, 4]\n"
     ]
    },
    {
     "name": "stderr",
     "output_type": "stream",
     "text": [
      "172.19.0.1 - - [04/Jan/2022 08:29:02] \"GET /refreshData HTTP/1.1\" 200 -\n"
     ]
    },
    {
     "name": "stdout",
     "output_type": "stream",
     "text": [
      "labels now: ['#TheBachelor', '#Browns', '#WWERaw', '#HereWeGo', '#GodMorningTuesday', '#tuesdaymotivations', '#Pratikistheboss', '#BBKINGPRATIK', '#Pratiksehajpal', '#Bachelor', '#traffic']\n",
      "data now: [29, 13, 11, 9, 8, 7, 4, 4, 4, 4, 4]\n"
     ]
    },
    {
     "name": "stderr",
     "output_type": "stream",
     "text": [
      "172.19.0.1 - - [04/Jan/2022 08:29:03] \"GET /refreshData HTTP/1.1\" 200 -\n"
     ]
    },
    {
     "name": "stdout",
     "output_type": "stream",
     "text": [
      "labels now: ['#TheBachelor', '#Browns', '#WWERaw', '#HereWeGo', '#GodMorningTuesday', '#tuesdaymotivations', '#Pratikistheboss', '#BBKINGPRATIK', '#Pratiksehajpal', '#Bachelor', '#traffic']\n",
      "data now: [29, 13, 11, 9, 8, 7, 4, 4, 4, 4, 4]\n"
     ]
    },
    {
     "name": "stderr",
     "output_type": "stream",
     "text": [
      "172.19.0.1 - - [04/Jan/2022 08:29:04] \"GET /refreshData HTTP/1.1\" 200 -\n"
     ]
    },
    {
     "name": "stdout",
     "output_type": "stream",
     "text": [
      "labels now: ['#TheBachelor', '#Browns', '#WWERaw', '#HereWeGo', '#GodMorningTuesday', '#tuesdaymotivations', '#Pratikistheboss', '#BBKINGPRATIK', '#Pratiksehajpal', '#Bachelor', '#traffic']\n",
      "data now: [29, 13, 11, 9, 8, 7, 4, 4, 4, 4, 4]\n"
     ]
    },
    {
     "name": "stderr",
     "output_type": "stream",
     "text": [
      "172.19.0.1 - - [04/Jan/2022 08:29:05] \"GET /refreshData HTTP/1.1\" 200 -\n"
     ]
    },
    {
     "name": "stdout",
     "output_type": "stream",
     "text": [
      "labels now: ['#TheBachelor', '#Browns', '#WWERaw', '#HereWeGo', '#GodMorningTuesday', '#tuesdaymotivations', '#Pratikistheboss', '#BBKINGPRATIK', '#Pratiksehajpal', '#Bachelor', '#traffic']\n",
      "data now: [29, 13, 11, 9, 8, 7, 4, 4, 4, 4, 4]\n"
     ]
    },
    {
     "name": "stderr",
     "output_type": "stream",
     "text": [
      "172.19.0.1 - - [04/Jan/2022 08:29:06] \"GET /refreshData HTTP/1.1\" 200 -\n"
     ]
    },
    {
     "name": "stdout",
     "output_type": "stream",
     "text": [
      "labels now: ['#TheBachelor', '#Browns', '#WWERaw', '#HereWeGo', '#GodMorningTuesday', '#tuesdaymotivations', '#Pratikistheboss', '#BBKINGPRATIK', '#Pratiksehajpal', '#Bachelor', '#traffic']\n",
      "data now: [29, 13, 11, 9, 8, 7, 4, 4, 4, 4, 4]\n"
     ]
    },
    {
     "name": "stderr",
     "output_type": "stream",
     "text": [
      "172.19.0.1 - - [04/Jan/2022 08:29:07] \"GET /refreshData HTTP/1.1\" 200 -\n"
     ]
    },
    {
     "name": "stdout",
     "output_type": "stream",
     "text": [
      "labels now: ['#TheBachelor', '#Browns', '#WWERaw', '#HereWeGo', '#GodMorningTuesday', '#tuesdaymotivations', '#Pratikistheboss', '#BBKINGPRATIK', '#Pratiksehajpal', '#Bachelor', '#traffic']\n",
      "data now: [29, 13, 11, 9, 8, 7, 4, 4, 4, 4, 4]\n"
     ]
    },
    {
     "name": "stderr",
     "output_type": "stream",
     "text": [
      "172.19.0.1 - - [04/Jan/2022 08:29:08] \"GET /refreshData HTTP/1.1\" 200 -\n"
     ]
    },
    {
     "name": "stdout",
     "output_type": "stream",
     "text": [
      "labels now: ['#TheBachelor', '#Browns', '#WWERaw', '#HereWeGo', '#GodMorningTuesday', '#tuesdaymotivations', '#Pratikistheboss', '#BBKINGPRATIK', '#Pratiksehajpal', '#Bachelor', '#traffic']\n",
      "data now: [29, 13, 11, 9, 8, 7, 4, 4, 4, 4, 4]\n"
     ]
    },
    {
     "name": "stderr",
     "output_type": "stream",
     "text": [
      "172.19.0.1 - - [04/Jan/2022 08:29:09] \"GET /refreshData HTTP/1.1\" 200 -\n"
     ]
    },
    {
     "name": "stdout",
     "output_type": "stream",
     "text": [
      "labels now: ['#TheBachelor', '#Browns', '#WWERaw', '#HereWeGo', '#GodMorningTuesday', '#tuesdaymotivations', '#Pratikistheboss', '#BBKINGPRATIK', '#Pratiksehajpal', '#Bachelor', '#traffic']\n",
      "data now: [29, 13, 11, 9, 8, 7, 4, 4, 4, 4, 4]\n"
     ]
    },
    {
     "name": "stderr",
     "output_type": "stream",
     "text": [
      "172.19.0.1 - - [04/Jan/2022 08:29:10] \"GET /refreshData HTTP/1.1\" 200 -\n"
     ]
    },
    {
     "name": "stdout",
     "output_type": "stream",
     "text": [
      "labels now: ['#TheBachelor', '#Browns', '#WWERaw', '#HereWeGo', '#GodMorningTuesday', '#tuesdaymotivations', '#Pratikistheboss', '#BBKINGPRATIK', '#Pratiksehajpal', '#Bachelor', '#traffic']\n",
      "data now: [29, 13, 11, 9, 8, 7, 4, 4, 4, 4, 4]\n"
     ]
    },
    {
     "name": "stderr",
     "output_type": "stream",
     "text": [
      "172.19.0.1 - - [04/Jan/2022 08:29:11] \"GET /refreshData HTTP/1.1\" 200 -\n"
     ]
    },
    {
     "name": "stdout",
     "output_type": "stream",
     "text": [
      "labels now: ['#TheBachelor', '#Browns', '#WWERaw', '#HereWeGo', '#GodMorningTuesday', '#tuesdaymotivations', '#Pratikistheboss', '#BBKINGPRATIK', '#Pratiksehajpal', '#Bachelor', '#traffic']\n",
      "data now: [29, 13, 11, 9, 8, 7, 4, 4, 4, 4, 4]\n"
     ]
    },
    {
     "name": "stderr",
     "output_type": "stream",
     "text": [
      "172.19.0.1 - - [04/Jan/2022 08:29:12] \"GET /refreshData HTTP/1.1\" 200 -\n"
     ]
    },
    {
     "name": "stdout",
     "output_type": "stream",
     "text": [
      "labels now: ['#TheBachelor', '#Browns', '#WWERaw', '#HereWeGo', '#GodMorningTuesday', '#tuesdaymotivations', '#Pratikistheboss', '#BBKINGPRATIK', '#Pratiksehajpal', '#Bachelor', '#traffic']\n",
      "data now: [29, 13, 11, 9, 8, 7, 4, 4, 4, 4, 4]\n"
     ]
    },
    {
     "name": "stderr",
     "output_type": "stream",
     "text": [
      "172.19.0.1 - - [04/Jan/2022 08:29:13] \"GET /refreshData HTTP/1.1\" 200 -\n"
     ]
    },
    {
     "name": "stdout",
     "output_type": "stream",
     "text": [
      "labels now: ['#TheBachelor', '#Browns', '#WWERaw', '#HereWeGo', '#GodMorningTuesday', '#tuesdaymotivations', '#Pratikistheboss', '#BBKINGPRATIK', '#Pratiksehajpal', '#Bachelor', '#traffic']\n",
      "data now: [29, 13, 11, 9, 8, 7, 4, 4, 4, 4, 4]\n"
     ]
    },
    {
     "name": "stderr",
     "output_type": "stream",
     "text": [
      "172.19.0.1 - - [04/Jan/2022 08:29:14] \"GET /refreshData HTTP/1.1\" 200 -\n"
     ]
    },
    {
     "name": "stdout",
     "output_type": "stream",
     "text": [
      "labels now: ['#TheBachelor', '#Browns', '#WWERaw', '#HereWeGo', '#GodMorningTuesday', '#tuesdaymotivations', '#Pratikistheboss', '#BBKINGPRATIK', '#Pratiksehajpal', '#Bachelor', '#traffic']\n",
      "data now: [29, 13, 11, 9, 8, 7, 4, 4, 4, 4, 4]\n"
     ]
    },
    {
     "name": "stderr",
     "output_type": "stream",
     "text": [
      "172.19.0.1 - - [04/Jan/2022 08:29:15] \"GET /refreshData HTTP/1.1\" 200 -\n",
      "172.19.0.5 - - [04/Jan/2022 08:29:15] \"\u001b[35m\u001b[1mPOST /updateData HTTP/1.1\u001b[0m\" 201 -\n"
     ]
    },
    {
     "name": "stdout",
     "output_type": "stream",
     "text": [
      "labels now: ['#TheBachelor', '#Browns', '#WWERaw', '#HereWeGo', '#GodMorningTuesday', '#tuesdaymotivations', '#Pratikistheboss', '#BBKINGPRATIK', '#Pratiksehajpal', '#Bachelor', '#traffic']\n",
      "data now: [29, 13, 11, 9, 8, 7, 4, 4, 4, 4, 4]\n",
      "labels received: ['#TheBachelor', '#Browns', '#WWERaw', '#HereWeGo', '#GodMorningTuesday', '#tuesdaymotivations', '#Bachelor', '#Pratikistheboss', '#BBKINGPRATIK', '#Pratiksehajpal', '#traffic']\n",
      "data received: [34, 16, 11, 9, 8, 7, 5, 4, 4, 4, 4]\n"
     ]
    },
    {
     "name": "stderr",
     "output_type": "stream",
     "text": [
      "172.19.0.1 - - [04/Jan/2022 08:29:16] \"GET /refreshData HTTP/1.1\" 200 -\n",
      "172.19.0.5 - - [04/Jan/2022 08:29:16] \"\u001b[35m\u001b[1mPOST /updateData HTTP/1.1\u001b[0m\" 201 -\n"
     ]
    },
    {
     "name": "stdout",
     "output_type": "stream",
     "text": [
      "labels now: ['#TheBachelor', '#Browns', '#WWERaw', '#HereWeGo', '#GodMorningTuesday', '#tuesdaymotivations', '#Bachelor', '#Pratikistheboss', '#BBKINGPRATIK', '#Pratiksehajpal', '#traffic']\n",
      "data now: [34, 16, 11, 9, 8, 7, 5, 4, 4, 4, 4]\n",
      "labels received: ['#TheBachelor', '#Browns', '#WWERaw', '#HereWeGo', '#GodMorningTuesday', '#tuesdaymotivations', '#Bachelor', '#Pratikistheboss', '#BBKINGPRATIK', '#Pratiksehajpal', '#traffic']\n",
      "data received: [34, 16, 11, 9, 8, 7, 5, 4, 4, 4, 4]\n"
     ]
    },
    {
     "name": "stderr",
     "output_type": "stream",
     "text": [
      "172.19.0.1 - - [04/Jan/2022 08:29:17] \"GET /refreshData HTTP/1.1\" 200 -\n"
     ]
    },
    {
     "name": "stdout",
     "output_type": "stream",
     "text": [
      "labels now: ['#TheBachelor', '#Browns', '#WWERaw', '#HereWeGo', '#GodMorningTuesday', '#tuesdaymotivations', '#Bachelor', '#Pratikistheboss', '#BBKINGPRATIK', '#Pratiksehajpal', '#traffic']\n",
      "data now: [34, 16, 11, 9, 8, 7, 5, 4, 4, 4, 4]\n"
     ]
    },
    {
     "name": "stderr",
     "output_type": "stream",
     "text": [
      "172.19.0.1 - - [04/Jan/2022 08:29:18] \"GET /refreshData HTTP/1.1\" 200 -\n"
     ]
    },
    {
     "name": "stdout",
     "output_type": "stream",
     "text": [
      "labels now: ['#TheBachelor', '#Browns', '#WWERaw', '#HereWeGo', '#GodMorningTuesday', '#tuesdaymotivations', '#Bachelor', '#Pratikistheboss', '#BBKINGPRATIK', '#Pratiksehajpal', '#traffic']\n",
      "data now: [34, 16, 11, 9, 8, 7, 5, 4, 4, 4, 4]\n"
     ]
    },
    {
     "name": "stderr",
     "output_type": "stream",
     "text": [
      "172.19.0.1 - - [04/Jan/2022 08:29:19] \"GET /refreshData HTTP/1.1\" 200 -\n"
     ]
    },
    {
     "name": "stdout",
     "output_type": "stream",
     "text": [
      "labels now: ['#TheBachelor', '#Browns', '#WWERaw', '#HereWeGo', '#GodMorningTuesday', '#tuesdaymotivations', '#Bachelor', '#Pratikistheboss', '#BBKINGPRATIK', '#Pratiksehajpal', '#traffic']\n",
      "data now: [34, 16, 11, 9, 8, 7, 5, 4, 4, 4, 4]\n"
     ]
    },
    {
     "name": "stderr",
     "output_type": "stream",
     "text": [
      "172.19.0.1 - - [04/Jan/2022 08:29:20] \"GET /refreshData HTTP/1.1\" 200 -\n"
     ]
    },
    {
     "name": "stdout",
     "output_type": "stream",
     "text": [
      "labels now: ['#TheBachelor', '#Browns', '#WWERaw', '#HereWeGo', '#GodMorningTuesday', '#tuesdaymotivations', '#Bachelor', '#Pratikistheboss', '#BBKINGPRATIK', '#Pratiksehajpal', '#traffic']\n",
      "data now: [34, 16, 11, 9, 8, 7, 5, 4, 4, 4, 4]\n"
     ]
    },
    {
     "name": "stderr",
     "output_type": "stream",
     "text": [
      "172.19.0.1 - - [04/Jan/2022 08:29:21] \"GET /refreshData HTTP/1.1\" 200 -\n"
     ]
    },
    {
     "name": "stdout",
     "output_type": "stream",
     "text": [
      "labels now: ['#TheBachelor', '#Browns', '#WWERaw', '#HereWeGo', '#GodMorningTuesday', '#tuesdaymotivations', '#Bachelor', '#Pratikistheboss', '#BBKINGPRATIK', '#Pratiksehajpal', '#traffic']\n",
      "data now: [34, 16, 11, 9, 8, 7, 5, 4, 4, 4, 4]\n"
     ]
    },
    {
     "name": "stderr",
     "output_type": "stream",
     "text": [
      "172.19.0.1 - - [04/Jan/2022 08:29:22] \"GET /refreshData HTTP/1.1\" 200 -\n"
     ]
    },
    {
     "name": "stdout",
     "output_type": "stream",
     "text": [
      "labels now: ['#TheBachelor', '#Browns', '#WWERaw', '#HereWeGo', '#GodMorningTuesday', '#tuesdaymotivations', '#Bachelor', '#Pratikistheboss', '#BBKINGPRATIK', '#Pratiksehajpal', '#traffic']\n",
      "data now: [34, 16, 11, 9, 8, 7, 5, 4, 4, 4, 4]\n"
     ]
    },
    {
     "name": "stderr",
     "output_type": "stream",
     "text": [
      "172.19.0.1 - - [04/Jan/2022 08:29:23] \"GET /refreshData HTTP/1.1\" 200 -\n"
     ]
    },
    {
     "name": "stdout",
     "output_type": "stream",
     "text": [
      "labels now: ['#TheBachelor', '#Browns', '#WWERaw', '#HereWeGo', '#GodMorningTuesday', '#tuesdaymotivations', '#Bachelor', '#Pratikistheboss', '#BBKINGPRATIK', '#Pratiksehajpal', '#traffic']\n",
      "data now: [34, 16, 11, 9, 8, 7, 5, 4, 4, 4, 4]\n"
     ]
    },
    {
     "name": "stderr",
     "output_type": "stream",
     "text": [
      "172.19.0.1 - - [04/Jan/2022 08:29:24] \"GET /refreshData HTTP/1.1\" 200 -\n"
     ]
    },
    {
     "name": "stdout",
     "output_type": "stream",
     "text": [
      "labels now: ['#TheBachelor', '#Browns', '#WWERaw', '#HereWeGo', '#GodMorningTuesday', '#tuesdaymotivations', '#Bachelor', '#Pratikistheboss', '#BBKINGPRATIK', '#Pratiksehajpal', '#traffic']\n",
      "data now: [34, 16, 11, 9, 8, 7, 5, 4, 4, 4, 4]\n"
     ]
    },
    {
     "name": "stderr",
     "output_type": "stream",
     "text": [
      "172.19.0.1 - - [04/Jan/2022 08:29:25] \"GET /refreshData HTTP/1.1\" 200 -\n",
      "172.19.0.5 - - [04/Jan/2022 08:29:25] \"\u001b[35m\u001b[1mPOST /updateData HTTP/1.1\u001b[0m\" 201 -\n"
     ]
    },
    {
     "name": "stdout",
     "output_type": "stream",
     "text": [
      "labels now: ['#TheBachelor', '#Browns', '#WWERaw', '#HereWeGo', '#GodMorningTuesday', '#tuesdaymotivations', '#Bachelor', '#Pratikistheboss', '#BBKINGPRATIK', '#Pratiksehajpal', '#traffic']\n",
      "data now: [34, 16, 11, 9, 8, 7, 5, 4, 4, 4, 4]\n",
      "labels received: ['#TheBachelor', '#Browns', '#WWERaw', '#HereWeGo', '#GodMorningTuesday', '#tuesdaymotivations', '#Bachelor', '#Pratikistheboss', '#BBKINGPRATIK', '#Pratiksehajpal', '#traffic']\n",
      "data received: [38, 17, 11, 9, 8, 7, 5, 4, 4, 4, 4]\n"
     ]
    },
    {
     "name": "stderr",
     "output_type": "stream",
     "text": [
      "172.19.0.1 - - [04/Jan/2022 08:29:26] \"GET /refreshData HTTP/1.1\" 200 -\n"
     ]
    },
    {
     "name": "stdout",
     "output_type": "stream",
     "text": [
      "labels now: ['#TheBachelor', '#Browns', '#WWERaw', '#HereWeGo', '#GodMorningTuesday', '#tuesdaymotivations', '#Bachelor', '#Pratikistheboss', '#BBKINGPRATIK', '#Pratiksehajpal', '#traffic']\n",
      "data now: [38, 17, 11, 9, 8, 7, 5, 4, 4, 4, 4]\n"
     ]
    },
    {
     "name": "stderr",
     "output_type": "stream",
     "text": [
      "172.19.0.1 - - [04/Jan/2022 08:29:27] \"GET /refreshData HTTP/1.1\" 200 -\n"
     ]
    },
    {
     "name": "stdout",
     "output_type": "stream",
     "text": [
      "labels now: ['#TheBachelor', '#Browns', '#WWERaw', '#HereWeGo', '#GodMorningTuesday', '#tuesdaymotivations', '#Bachelor', '#Pratikistheboss', '#BBKINGPRATIK', '#Pratiksehajpal', '#traffic']\n",
      "data now: [38, 17, 11, 9, 8, 7, 5, 4, 4, 4, 4]\n"
     ]
    },
    {
     "name": "stderr",
     "output_type": "stream",
     "text": [
      "172.19.0.1 - - [04/Jan/2022 08:29:28] \"GET /refreshData HTTP/1.1\" 200 -\n"
     ]
    },
    {
     "name": "stdout",
     "output_type": "stream",
     "text": [
      "labels now: ['#TheBachelor', '#Browns', '#WWERaw', '#HereWeGo', '#GodMorningTuesday', '#tuesdaymotivations', '#Bachelor', '#Pratikistheboss', '#BBKINGPRATIK', '#Pratiksehajpal', '#traffic']\n",
      "data now: [38, 17, 11, 9, 8, 7, 5, 4, 4, 4, 4]\n"
     ]
    },
    {
     "name": "stderr",
     "output_type": "stream",
     "text": [
      "172.19.0.1 - - [04/Jan/2022 08:29:29] \"GET /refreshData HTTP/1.1\" 200 -\n"
     ]
    },
    {
     "name": "stdout",
     "output_type": "stream",
     "text": [
      "labels now: ['#TheBachelor', '#Browns', '#WWERaw', '#HereWeGo', '#GodMorningTuesday', '#tuesdaymotivations', '#Bachelor', '#Pratikistheboss', '#BBKINGPRATIK', '#Pratiksehajpal', '#traffic']\n",
      "data now: [38, 17, 11, 9, 8, 7, 5, 4, 4, 4, 4]\n"
     ]
    },
    {
     "name": "stderr",
     "output_type": "stream",
     "text": [
      "172.19.0.1 - - [04/Jan/2022 08:29:30] \"GET /refreshData HTTP/1.1\" 200 -\n"
     ]
    },
    {
     "name": "stdout",
     "output_type": "stream",
     "text": [
      "labels now: ['#TheBachelor', '#Browns', '#WWERaw', '#HereWeGo', '#GodMorningTuesday', '#tuesdaymotivations', '#Bachelor', '#Pratikistheboss', '#BBKINGPRATIK', '#Pratiksehajpal', '#traffic']\n",
      "data now: [38, 17, 11, 9, 8, 7, 5, 4, 4, 4, 4]\n"
     ]
    },
    {
     "name": "stderr",
     "output_type": "stream",
     "text": [
      "172.19.0.1 - - [04/Jan/2022 08:29:31] \"GET /refreshData HTTP/1.1\" 200 -\n"
     ]
    },
    {
     "name": "stdout",
     "output_type": "stream",
     "text": [
      "labels now: ['#TheBachelor', '#Browns', '#WWERaw', '#HereWeGo', '#GodMorningTuesday', '#tuesdaymotivations', '#Bachelor', '#Pratikistheboss', '#BBKINGPRATIK', '#Pratiksehajpal', '#traffic']\n",
      "data now: [38, 17, 11, 9, 8, 7, 5, 4, 4, 4, 4]\n"
     ]
    },
    {
     "name": "stderr",
     "output_type": "stream",
     "text": [
      "172.19.0.1 - - [04/Jan/2022 08:29:32] \"GET /refreshData HTTP/1.1\" 200 -\n"
     ]
    },
    {
     "name": "stdout",
     "output_type": "stream",
     "text": [
      "labels now: ['#TheBachelor', '#Browns', '#WWERaw', '#HereWeGo', '#GodMorningTuesday', '#tuesdaymotivations', '#Bachelor', '#Pratikistheboss', '#BBKINGPRATIK', '#Pratiksehajpal', '#traffic']\n",
      "data now: [38, 17, 11, 9, 8, 7, 5, 4, 4, 4, 4]\n"
     ]
    },
    {
     "name": "stderr",
     "output_type": "stream",
     "text": [
      "172.19.0.1 - - [04/Jan/2022 08:29:33] \"GET /refreshData HTTP/1.1\" 200 -\n"
     ]
    },
    {
     "name": "stdout",
     "output_type": "stream",
     "text": [
      "labels now: ['#TheBachelor', '#Browns', '#WWERaw', '#HereWeGo', '#GodMorningTuesday', '#tuesdaymotivations', '#Bachelor', '#Pratikistheboss', '#BBKINGPRATIK', '#Pratiksehajpal', '#traffic']\n",
      "data now: [38, 17, 11, 9, 8, 7, 5, 4, 4, 4, 4]\n"
     ]
    },
    {
     "name": "stderr",
     "output_type": "stream",
     "text": [
      "172.19.0.1 - - [04/Jan/2022 08:29:34] \"GET /refreshData HTTP/1.1\" 200 -\n"
     ]
    },
    {
     "name": "stdout",
     "output_type": "stream",
     "text": [
      "labels now: ['#TheBachelor', '#Browns', '#WWERaw', '#HereWeGo', '#GodMorningTuesday', '#tuesdaymotivations', '#Bachelor', '#Pratikistheboss', '#BBKINGPRATIK', '#Pratiksehajpal', '#traffic']\n",
      "data now: [38, 17, 11, 9, 8, 7, 5, 4, 4, 4, 4]\n"
     ]
    },
    {
     "name": "stderr",
     "output_type": "stream",
     "text": [
      "172.19.0.1 - - [04/Jan/2022 08:29:35] \"GET /refreshData HTTP/1.1\" 200 -\n"
     ]
    },
    {
     "name": "stdout",
     "output_type": "stream",
     "text": [
      "labels now: ['#TheBachelor', '#Browns', '#WWERaw', '#HereWeGo', '#GodMorningTuesday', '#tuesdaymotivations', '#Bachelor', '#Pratikistheboss', '#BBKINGPRATIK', '#Pratiksehajpal', '#traffic']\n",
      "data now: [38, 17, 11, 9, 8, 7, 5, 4, 4, 4, 4]\n"
     ]
    },
    {
     "name": "stderr",
     "output_type": "stream",
     "text": [
      "172.19.0.1 - - [04/Jan/2022 08:29:36] \"GET /refreshData HTTP/1.1\" 200 -\n"
     ]
    },
    {
     "name": "stdout",
     "output_type": "stream",
     "text": [
      "labels now: ['#TheBachelor', '#Browns', '#WWERaw', '#HereWeGo', '#GodMorningTuesday', '#tuesdaymotivations', '#Bachelor', '#Pratikistheboss', '#BBKINGPRATIK', '#Pratiksehajpal', '#traffic']\n",
      "data now: [38, 17, 11, 9, 8, 7, 5, 4, 4, 4, 4]\n"
     ]
    },
    {
     "name": "stderr",
     "output_type": "stream",
     "text": [
      "172.19.0.1 - - [04/Jan/2022 08:29:37] \"GET /refreshData HTTP/1.1\" 200 -\n"
     ]
    },
    {
     "name": "stdout",
     "output_type": "stream",
     "text": [
      "labels now: ['#TheBachelor', '#Browns', '#WWERaw', '#HereWeGo', '#GodMorningTuesday', '#tuesdaymotivations', '#Bachelor', '#Pratikistheboss', '#BBKINGPRATIK', '#Pratiksehajpal', '#traffic']\n",
      "data now: [38, 17, 11, 9, 8, 7, 5, 4, 4, 4, 4]\n"
     ]
    },
    {
     "name": "stderr",
     "output_type": "stream",
     "text": [
      "172.19.0.1 - - [04/Jan/2022 08:29:38] \"GET /refreshData HTTP/1.1\" 200 -\n"
     ]
    },
    {
     "name": "stdout",
     "output_type": "stream",
     "text": [
      "labels now: ['#TheBachelor', '#Browns', '#WWERaw', '#HereWeGo', '#GodMorningTuesday', '#tuesdaymotivations', '#Bachelor', '#Pratikistheboss', '#BBKINGPRATIK', '#Pratiksehajpal', '#traffic']\n",
      "data now: [38, 17, 11, 9, 8, 7, 5, 4, 4, 4, 4]\n"
     ]
    },
    {
     "name": "stderr",
     "output_type": "stream",
     "text": [
      "172.19.0.1 - - [04/Jan/2022 08:29:39] \"GET /refreshData HTTP/1.1\" 200 -\n"
     ]
    },
    {
     "name": "stdout",
     "output_type": "stream",
     "text": [
      "labels now: ['#TheBachelor', '#Browns', '#WWERaw', '#HereWeGo', '#GodMorningTuesday', '#tuesdaymotivations', '#Bachelor', '#Pratikistheboss', '#BBKINGPRATIK', '#Pratiksehajpal', '#traffic']\n",
      "data now: [38, 17, 11, 9, 8, 7, 5, 4, 4, 4, 4]\n"
     ]
    },
    {
     "name": "stderr",
     "output_type": "stream",
     "text": [
      "172.19.0.1 - - [04/Jan/2022 08:29:40] \"GET /refreshData HTTP/1.1\" 200 -\n"
     ]
    },
    {
     "name": "stdout",
     "output_type": "stream",
     "text": [
      "labels now: ['#TheBachelor', '#Browns', '#WWERaw', '#HereWeGo', '#GodMorningTuesday', '#tuesdaymotivations', '#Bachelor', '#Pratikistheboss', '#BBKINGPRATIK', '#Pratiksehajpal', '#traffic']\n",
      "data now: [38, 17, 11, 9, 8, 7, 5, 4, 4, 4, 4]\n"
     ]
    },
    {
     "name": "stderr",
     "output_type": "stream",
     "text": [
      "172.19.0.5 - - [04/Jan/2022 08:29:41] \"\u001b[35m\u001b[1mPOST /updateData HTTP/1.1\u001b[0m\" 201 -\n"
     ]
    },
    {
     "name": "stdout",
     "output_type": "stream",
     "text": [
      "labels received: ['#TheBachelor', '#Browns', '#WWERaw', '#HereWeGo', '#GodMorningTuesday', '#tuesdaymotivations', '#Bachelor', '#browns', '#CLEvsPIT', '#Pratikistheboss', '#BBKINGPRATIK']\n",
      "data received: [41, 19, 12, 9, 8, 7, 5, 5, 5, 4, 4]\n"
     ]
    },
    {
     "name": "stderr",
     "output_type": "stream",
     "text": [
      "172.19.0.1 - - [04/Jan/2022 08:29:41] \"GET /refreshData HTTP/1.1\" 200 -\n"
     ]
    },
    {
     "name": "stdout",
     "output_type": "stream",
     "text": [
      "labels now: ['#TheBachelor', '#Browns', '#WWERaw', '#HereWeGo', '#GodMorningTuesday', '#tuesdaymotivations', '#Bachelor', '#browns', '#CLEvsPIT', '#Pratikistheboss', '#BBKINGPRATIK']\n",
      "data now: [41, 19, 12, 9, 8, 7, 5, 5, 5, 4, 4]\n"
     ]
    },
    {
     "name": "stderr",
     "output_type": "stream",
     "text": [
      "172.19.0.1 - - [04/Jan/2022 08:29:42] \"GET /refreshData HTTP/1.1\" 200 -\n"
     ]
    },
    {
     "name": "stdout",
     "output_type": "stream",
     "text": [
      "labels now: ['#TheBachelor', '#Browns', '#WWERaw', '#HereWeGo', '#GodMorningTuesday', '#tuesdaymotivations', '#Bachelor', '#browns', '#CLEvsPIT', '#Pratikistheboss', '#BBKINGPRATIK']\n",
      "data now: [41, 19, 12, 9, 8, 7, 5, 5, 5, 4, 4]\n"
     ]
    },
    {
     "name": "stderr",
     "output_type": "stream",
     "text": [
      "172.19.0.1 - - [04/Jan/2022 08:29:43] \"GET /refreshData HTTP/1.1\" 200 -\n"
     ]
    },
    {
     "name": "stdout",
     "output_type": "stream",
     "text": [
      "labels now: ['#TheBachelor', '#Browns', '#WWERaw', '#HereWeGo', '#GodMorningTuesday', '#tuesdaymotivations', '#Bachelor', '#browns', '#CLEvsPIT', '#Pratikistheboss', '#BBKINGPRATIK']\n",
      "data now: [41, 19, 12, 9, 8, 7, 5, 5, 5, 4, 4]\n"
     ]
    },
    {
     "name": "stderr",
     "output_type": "stream",
     "text": [
      "172.19.0.1 - - [04/Jan/2022 08:29:44] \"GET /refreshData HTTP/1.1\" 200 -\n"
     ]
    },
    {
     "name": "stdout",
     "output_type": "stream",
     "text": [
      "labels now: ['#TheBachelor', '#Browns', '#WWERaw', '#HereWeGo', '#GodMorningTuesday', '#tuesdaymotivations', '#Bachelor', '#browns', '#CLEvsPIT', '#Pratikistheboss', '#BBKINGPRATIK']\n",
      "data now: [41, 19, 12, 9, 8, 7, 5, 5, 5, 4, 4]\n"
     ]
    },
    {
     "name": "stderr",
     "output_type": "stream",
     "text": [
      "172.19.0.1 - - [04/Jan/2022 08:29:45] \"GET /refreshData HTTP/1.1\" 200 -\n",
      "172.19.0.5 - - [04/Jan/2022 08:29:45] \"\u001b[35m\u001b[1mPOST /updateData HTTP/1.1\u001b[0m\" 201 -\n"
     ]
    },
    {
     "name": "stdout",
     "output_type": "stream",
     "text": [
      "labels now: ['#TheBachelor', '#Browns', '#WWERaw', '#HereWeGo', '#GodMorningTuesday', '#tuesdaymotivations', '#Bachelor', '#browns', '#CLEvsPIT', '#Pratikistheboss', '#BBKINGPRATIK']\n",
      "data now: [41, 19, 12, 9, 8, 7, 5, 5, 5, 4, 4]\n",
      "labels received: ['#TheBachelor', '#Browns', '#WWERaw', '#HereWeGo', '#GodMorningTuesday', '#Bachelor', '#tuesdaymotivations', '#browns', '#CLEvsPIT', '#Pratikistheboss', '#BBKINGPRATIK']\n",
      "data received: [42, 19, 12, 9, 8, 7, 7, 5, 5, 4, 4]\n"
     ]
    },
    {
     "name": "stderr",
     "output_type": "stream",
     "text": [
      "172.19.0.1 - - [04/Jan/2022 08:29:46] \"GET /refreshData HTTP/1.1\" 200 -\n"
     ]
    },
    {
     "name": "stdout",
     "output_type": "stream",
     "text": [
      "labels now: ['#TheBachelor', '#Browns', '#WWERaw', '#HereWeGo', '#GodMorningTuesday', '#Bachelor', '#tuesdaymotivations', '#browns', '#CLEvsPIT', '#Pratikistheboss', '#BBKINGPRATIK']\n",
      "data now: [42, 19, 12, 9, 8, 7, 7, 5, 5, 4, 4]\n"
     ]
    },
    {
     "name": "stderr",
     "output_type": "stream",
     "text": [
      "172.19.0.1 - - [04/Jan/2022 08:29:47] \"GET /refreshData HTTP/1.1\" 200 -\n"
     ]
    },
    {
     "name": "stdout",
     "output_type": "stream",
     "text": [
      "labels now: ['#TheBachelor', '#Browns', '#WWERaw', '#HereWeGo', '#GodMorningTuesday', '#Bachelor', '#tuesdaymotivations', '#browns', '#CLEvsPIT', '#Pratikistheboss', '#BBKINGPRATIK']\n",
      "data now: [42, 19, 12, 9, 8, 7, 7, 5, 5, 4, 4]\n"
     ]
    },
    {
     "name": "stderr",
     "output_type": "stream",
     "text": [
      "172.19.0.1 - - [04/Jan/2022 08:29:48] \"GET /refreshData HTTP/1.1\" 200 -\n"
     ]
    },
    {
     "name": "stdout",
     "output_type": "stream",
     "text": [
      "labels now: ['#TheBachelor', '#Browns', '#WWERaw', '#HereWeGo', '#GodMorningTuesday', '#Bachelor', '#tuesdaymotivations', '#browns', '#CLEvsPIT', '#Pratikistheboss', '#BBKINGPRATIK']\n",
      "data now: [42, 19, 12, 9, 8, 7, 7, 5, 5, 4, 4]\n"
     ]
    },
    {
     "name": "stderr",
     "output_type": "stream",
     "text": [
      "172.19.0.1 - - [04/Jan/2022 08:29:49] \"GET /refreshData HTTP/1.1\" 200 -\n"
     ]
    },
    {
     "name": "stdout",
     "output_type": "stream",
     "text": [
      "labels now: ['#TheBachelor', '#Browns', '#WWERaw', '#HereWeGo', '#GodMorningTuesday', '#Bachelor', '#tuesdaymotivations', '#browns', '#CLEvsPIT', '#Pratikistheboss', '#BBKINGPRATIK']\n",
      "data now: [42, 19, 12, 9, 8, 7, 7, 5, 5, 4, 4]\n"
     ]
    },
    {
     "name": "stderr",
     "output_type": "stream",
     "text": [
      "172.19.0.1 - - [04/Jan/2022 08:29:50] \"GET /refreshData HTTP/1.1\" 200 -\n"
     ]
    },
    {
     "name": "stdout",
     "output_type": "stream",
     "text": [
      "labels now: ['#TheBachelor', '#Browns', '#WWERaw', '#HereWeGo', '#GodMorningTuesday', '#Bachelor', '#tuesdaymotivations', '#browns', '#CLEvsPIT', '#Pratikistheboss', '#BBKINGPRATIK']\n",
      "data now: [42, 19, 12, 9, 8, 7, 7, 5, 5, 4, 4]\n"
     ]
    },
    {
     "name": "stderr",
     "output_type": "stream",
     "text": [
      "172.19.0.1 - - [04/Jan/2022 08:29:51] \"GET /refreshData HTTP/1.1\" 200 -\n"
     ]
    },
    {
     "name": "stdout",
     "output_type": "stream",
     "text": [
      "labels now: ['#TheBachelor', '#Browns', '#WWERaw', '#HereWeGo', '#GodMorningTuesday', '#Bachelor', '#tuesdaymotivations', '#browns', '#CLEvsPIT', '#Pratikistheboss', '#BBKINGPRATIK']\n",
      "data now: [42, 19, 12, 9, 8, 7, 7, 5, 5, 4, 4]\n"
     ]
    },
    {
     "name": "stderr",
     "output_type": "stream",
     "text": [
      "172.19.0.1 - - [04/Jan/2022 08:29:52] \"GET /refreshData HTTP/1.1\" 200 -\n"
     ]
    },
    {
     "name": "stdout",
     "output_type": "stream",
     "text": [
      "labels now: ['#TheBachelor', '#Browns', '#WWERaw', '#HereWeGo', '#GodMorningTuesday', '#Bachelor', '#tuesdaymotivations', '#browns', '#CLEvsPIT', '#Pratikistheboss', '#BBKINGPRATIK']\n",
      "data now: [42, 19, 12, 9, 8, 7, 7, 5, 5, 4, 4]\n"
     ]
    },
    {
     "name": "stderr",
     "output_type": "stream",
     "text": [
      "172.19.0.1 - - [04/Jan/2022 08:29:53] \"GET /refreshData HTTP/1.1\" 200 -\n"
     ]
    },
    {
     "name": "stdout",
     "output_type": "stream",
     "text": [
      "labels now: ['#TheBachelor', '#Browns', '#WWERaw', '#HereWeGo', '#GodMorningTuesday', '#Bachelor', '#tuesdaymotivations', '#browns', '#CLEvsPIT', '#Pratikistheboss', '#BBKINGPRATIK']\n",
      "data now: [42, 19, 12, 9, 8, 7, 7, 5, 5, 4, 4]\n"
     ]
    },
    {
     "name": "stderr",
     "output_type": "stream",
     "text": [
      "172.19.0.1 - - [04/Jan/2022 08:29:54] \"GET /refreshData HTTP/1.1\" 200 -\n"
     ]
    },
    {
     "name": "stdout",
     "output_type": "stream",
     "text": [
      "labels now: ['#TheBachelor', '#Browns', '#WWERaw', '#HereWeGo', '#GodMorningTuesday', '#Bachelor', '#tuesdaymotivations', '#browns', '#CLEvsPIT', '#Pratikistheboss', '#BBKINGPRATIK']\n",
      "data now: [42, 19, 12, 9, 8, 7, 7, 5, 5, 4, 4]\n"
     ]
    },
    {
     "name": "stderr",
     "output_type": "stream",
     "text": [
      "172.19.0.1 - - [04/Jan/2022 08:29:55] \"GET /refreshData HTTP/1.1\" 200 -\n"
     ]
    },
    {
     "name": "stdout",
     "output_type": "stream",
     "text": [
      "labels now: ['#TheBachelor', '#Browns', '#WWERaw', '#HereWeGo', '#GodMorningTuesday', '#Bachelor', '#tuesdaymotivations', '#browns', '#CLEvsPIT', '#Pratikistheboss', '#BBKINGPRATIK']\n",
      "data now: [42, 19, 12, 9, 8, 7, 7, 5, 5, 4, 4]\n"
     ]
    },
    {
     "name": "stderr",
     "output_type": "stream",
     "text": [
      "172.19.0.1 - - [04/Jan/2022 08:29:56] \"GET /refreshData HTTP/1.1\" 200 -\n"
     ]
    },
    {
     "name": "stdout",
     "output_type": "stream",
     "text": [
      "labels now: ['#TheBachelor', '#Browns', '#WWERaw', '#HereWeGo', '#GodMorningTuesday', '#Bachelor', '#tuesdaymotivations', '#browns', '#CLEvsPIT', '#Pratikistheboss', '#BBKINGPRATIK']\n",
      "data now: [42, 19, 12, 9, 8, 7, 7, 5, 5, 4, 4]\n"
     ]
    },
    {
     "name": "stderr",
     "output_type": "stream",
     "text": [
      "172.19.0.1 - - [04/Jan/2022 08:29:57] \"GET /refreshData HTTP/1.1\" 200 -\n"
     ]
    },
    {
     "name": "stdout",
     "output_type": "stream",
     "text": [
      "labels now: ['#TheBachelor', '#Browns', '#WWERaw', '#HereWeGo', '#GodMorningTuesday', '#Bachelor', '#tuesdaymotivations', '#browns', '#CLEvsPIT', '#Pratikistheboss', '#BBKINGPRATIK']\n",
      "data now: [42, 19, 12, 9, 8, 7, 7, 5, 5, 4, 4]\n"
     ]
    },
    {
     "name": "stderr",
     "output_type": "stream",
     "text": [
      "172.19.0.1 - - [04/Jan/2022 08:29:58] \"GET /refreshData HTTP/1.1\" 200 -\n"
     ]
    },
    {
     "name": "stdout",
     "output_type": "stream",
     "text": [
      "labels now: ['#TheBachelor', '#Browns', '#WWERaw', '#HereWeGo', '#GodMorningTuesday', '#Bachelor', '#tuesdaymotivations', '#browns', '#CLEvsPIT', '#Pratikistheboss', '#BBKINGPRATIK']\n",
      "data now: [42, 19, 12, 9, 8, 7, 7, 5, 5, 4, 4]\n"
     ]
    },
    {
     "name": "stderr",
     "output_type": "stream",
     "text": [
      "172.19.0.1 - - [04/Jan/2022 08:29:59] \"GET /refreshData HTTP/1.1\" 200 -\n"
     ]
    },
    {
     "name": "stdout",
     "output_type": "stream",
     "text": [
      "labels now: ['#TheBachelor', '#Browns', '#WWERaw', '#HereWeGo', '#GodMorningTuesday', '#Bachelor', '#tuesdaymotivations', '#browns', '#CLEvsPIT', '#Pratikistheboss', '#BBKINGPRATIK']\n",
      "data now: [42, 19, 12, 9, 8, 7, 7, 5, 5, 4, 4]\n"
     ]
    },
    {
     "name": "stderr",
     "output_type": "stream",
     "text": [
      "172.19.0.1 - - [04/Jan/2022 08:30:00] \"GET /refreshData HTTP/1.1\" 200 -\n"
     ]
    },
    {
     "name": "stdout",
     "output_type": "stream",
     "text": [
      "labels now: ['#TheBachelor', '#Browns', '#WWERaw', '#HereWeGo', '#GodMorningTuesday', '#Bachelor', '#tuesdaymotivations', '#browns', '#CLEvsPIT', '#Pratikistheboss', '#BBKINGPRATIK']\n",
      "data now: [42, 19, 12, 9, 8, 7, 7, 5, 5, 4, 4]\n"
     ]
    },
    {
     "name": "stderr",
     "output_type": "stream",
     "text": [
      "172.19.0.1 - - [04/Jan/2022 08:30:01] \"GET /refreshData HTTP/1.1\" 200 -\n"
     ]
    },
    {
     "name": "stdout",
     "output_type": "stream",
     "text": [
      "labels now: ['#TheBachelor', '#Browns', '#WWERaw', '#HereWeGo', '#GodMorningTuesday', '#Bachelor', '#tuesdaymotivations', '#browns', '#CLEvsPIT', '#Pratikistheboss', '#BBKINGPRATIK']\n",
      "data now: [42, 19, 12, 9, 8, 7, 7, 5, 5, 4, 4]\n"
     ]
    },
    {
     "name": "stderr",
     "output_type": "stream",
     "text": [
      "172.19.0.1 - - [04/Jan/2022 08:30:02] \"GET /refreshData HTTP/1.1\" 200 -\n"
     ]
    },
    {
     "name": "stdout",
     "output_type": "stream",
     "text": [
      "labels now: ['#TheBachelor', '#Browns', '#WWERaw', '#HereWeGo', '#GodMorningTuesday', '#Bachelor', '#tuesdaymotivations', '#browns', '#CLEvsPIT', '#Pratikistheboss', '#BBKINGPRATIK']\n",
      "data now: [42, 19, 12, 9, 8, 7, 7, 5, 5, 4, 4]\n"
     ]
    },
    {
     "name": "stderr",
     "output_type": "stream",
     "text": [
      "172.19.0.1 - - [04/Jan/2022 08:30:03] \"GET /refreshData HTTP/1.1\" 200 -\n"
     ]
    },
    {
     "name": "stdout",
     "output_type": "stream",
     "text": [
      "labels now: ['#TheBachelor', '#Browns', '#WWERaw', '#HereWeGo', '#GodMorningTuesday', '#Bachelor', '#tuesdaymotivations', '#browns', '#CLEvsPIT', '#Pratikistheboss', '#BBKINGPRATIK']\n",
      "data now: [42, 19, 12, 9, 8, 7, 7, 5, 5, 4, 4]\n"
     ]
    },
    {
     "name": "stderr",
     "output_type": "stream",
     "text": [
      "172.19.0.1 - - [04/Jan/2022 08:30:04] \"GET /refreshData HTTP/1.1\" 200 -\n"
     ]
    },
    {
     "name": "stdout",
     "output_type": "stream",
     "text": [
      "labels now: ['#TheBachelor', '#Browns', '#WWERaw', '#HereWeGo', '#GodMorningTuesday', '#Bachelor', '#tuesdaymotivations', '#browns', '#CLEvsPIT', '#Pratikistheboss', '#BBKINGPRATIK']\n",
      "data now: [42, 19, 12, 9, 8, 7, 7, 5, 5, 4, 4]\n"
     ]
    },
    {
     "name": "stderr",
     "output_type": "stream",
     "text": [
      "172.19.0.1 - - [04/Jan/2022 08:30:05] \"GET /refreshData HTTP/1.1\" 200 -\n",
      "172.19.0.5 - - [04/Jan/2022 08:30:05] \"\u001b[35m\u001b[1mPOST /updateData HTTP/1.1\u001b[0m\" 201 -\n"
     ]
    },
    {
     "name": "stdout",
     "output_type": "stream",
     "text": [
      "labels now: ['#TheBachelor', '#Browns', '#WWERaw', '#HereWeGo', '#GodMorningTuesday', '#Bachelor', '#tuesdaymotivations', '#browns', '#CLEvsPIT', '#Pratikistheboss', '#BBKINGPRATIK']\n",
      "data now: [42, 19, 12, 9, 8, 7, 7, 5, 5, 4, 4]\n",
      "labels received: ['#TheBachelor', '#Browns', '#WWERaw', '#HereWeGo', '#GodMorningTuesday', '#Bachelor', '#tuesdaymotivations', '#browns', '#CLEvsPIT', '#Pratikistheboss', '#BBKINGPRATIK']\n",
      "data received: [46, 20, 12, 9, 8, 7, 7, 5, 5, 4, 4]\n"
     ]
    },
    {
     "name": "stderr",
     "output_type": "stream",
     "text": [
      "172.19.0.5 - - [04/Jan/2022 08:30:06] \"\u001b[35m\u001b[1mPOST /updateData HTTP/1.1\u001b[0m\" 201 -\n",
      "172.19.0.1 - - [04/Jan/2022 08:30:06] \"GET /refreshData HTTP/1.1\" 200 -\n"
     ]
    },
    {
     "name": "stdout",
     "output_type": "stream",
     "text": [
      "labels received: ['#TheBachelor', '#Browns', '#WWERaw', '#HereWeGo', '#GodMorningTuesday', '#Bachelor', '#tuesdaymotivations', '#browns', '#CLEvsPIT', '#Pratikistheboss', '#BBKINGPRATIK']\n",
      "data received: [46, 20, 12, 9, 8, 7, 7, 5, 5, 4, 4]\n",
      "labels now: ['#TheBachelor', '#Browns', '#WWERaw', '#HereWeGo', '#GodMorningTuesday', '#Bachelor', '#tuesdaymotivations', '#browns', '#CLEvsPIT', '#Pratikistheboss', '#BBKINGPRATIK']\n",
      "data now: [46, 20, 12, 9, 8, 7, 7, 5, 5, 4, 4]\n"
     ]
    },
    {
     "name": "stderr",
     "output_type": "stream",
     "text": [
      "172.19.0.1 - - [04/Jan/2022 08:30:07] \"GET /refreshData HTTP/1.1\" 200 -\n"
     ]
    },
    {
     "name": "stdout",
     "output_type": "stream",
     "text": [
      "labels now: ['#TheBachelor', '#Browns', '#WWERaw', '#HereWeGo', '#GodMorningTuesday', '#Bachelor', '#tuesdaymotivations', '#browns', '#CLEvsPIT', '#Pratikistheboss', '#BBKINGPRATIK']\n",
      "data now: [46, 20, 12, 9, 8, 7, 7, 5, 5, 4, 4]\n"
     ]
    },
    {
     "name": "stderr",
     "output_type": "stream",
     "text": [
      "172.19.0.1 - - [04/Jan/2022 08:30:08] \"GET /refreshData HTTP/1.1\" 200 -\n"
     ]
    },
    {
     "name": "stdout",
     "output_type": "stream",
     "text": [
      "labels now: ['#TheBachelor', '#Browns', '#WWERaw', '#HereWeGo', '#GodMorningTuesday', '#Bachelor', '#tuesdaymotivations', '#browns', '#CLEvsPIT', '#Pratikistheboss', '#BBKINGPRATIK']\n",
      "data now: [46, 20, 12, 9, 8, 7, 7, 5, 5, 4, 4]\n"
     ]
    },
    {
     "name": "stderr",
     "output_type": "stream",
     "text": [
      "172.19.0.1 - - [04/Jan/2022 08:30:09] \"GET /refreshData HTTP/1.1\" 200 -\n"
     ]
    },
    {
     "name": "stdout",
     "output_type": "stream",
     "text": [
      "labels now: ['#TheBachelor', '#Browns', '#WWERaw', '#HereWeGo', '#GodMorningTuesday', '#Bachelor', '#tuesdaymotivations', '#browns', '#CLEvsPIT', '#Pratikistheboss', '#BBKINGPRATIK']\n",
      "data now: [46, 20, 12, 9, 8, 7, 7, 5, 5, 4, 4]\n"
     ]
    },
    {
     "name": "stderr",
     "output_type": "stream",
     "text": [
      "172.19.0.1 - - [04/Jan/2022 08:30:10] \"GET /refreshData HTTP/1.1\" 200 -\n"
     ]
    },
    {
     "name": "stdout",
     "output_type": "stream",
     "text": [
      "labels now: ['#TheBachelor', '#Browns', '#WWERaw', '#HereWeGo', '#GodMorningTuesday', '#Bachelor', '#tuesdaymotivations', '#browns', '#CLEvsPIT', '#Pratikistheboss', '#BBKINGPRATIK']\n",
      "data now: [46, 20, 12, 9, 8, 7, 7, 5, 5, 4, 4]\n"
     ]
    },
    {
     "name": "stderr",
     "output_type": "stream",
     "text": [
      "172.19.0.1 - - [04/Jan/2022 08:30:11] \"GET /refreshData HTTP/1.1\" 200 -\n"
     ]
    },
    {
     "name": "stdout",
     "output_type": "stream",
     "text": [
      "labels now: ['#TheBachelor', '#Browns', '#WWERaw', '#HereWeGo', '#GodMorningTuesday', '#Bachelor', '#tuesdaymotivations', '#browns', '#CLEvsPIT', '#Pratikistheboss', '#BBKINGPRATIK']\n",
      "data now: [46, 20, 12, 9, 8, 7, 7, 5, 5, 4, 4]\n"
     ]
    },
    {
     "name": "stderr",
     "output_type": "stream",
     "text": [
      "172.19.0.1 - - [04/Jan/2022 08:30:12] \"GET /refreshData HTTP/1.1\" 200 -\n"
     ]
    },
    {
     "name": "stdout",
     "output_type": "stream",
     "text": [
      "labels now: ['#TheBachelor', '#Browns', '#WWERaw', '#HereWeGo', '#GodMorningTuesday', '#Bachelor', '#tuesdaymotivations', '#browns', '#CLEvsPIT', '#Pratikistheboss', '#BBKINGPRATIK']\n",
      "data now: [46, 20, 12, 9, 8, 7, 7, 5, 5, 4, 4]\n"
     ]
    },
    {
     "name": "stderr",
     "output_type": "stream",
     "text": [
      "172.19.0.1 - - [04/Jan/2022 08:30:13] \"GET /refreshData HTTP/1.1\" 200 -\n"
     ]
    },
    {
     "name": "stdout",
     "output_type": "stream",
     "text": [
      "labels now: ['#TheBachelor', '#Browns', '#WWERaw', '#HereWeGo', '#GodMorningTuesday', '#Bachelor', '#tuesdaymotivations', '#browns', '#CLEvsPIT', '#Pratikistheboss', '#BBKINGPRATIK']\n",
      "data now: [46, 20, 12, 9, 8, 7, 7, 5, 5, 4, 4]\n"
     ]
    },
    {
     "name": "stderr",
     "output_type": "stream",
     "text": [
      "172.19.0.1 - - [04/Jan/2022 08:30:14] \"GET /refreshData HTTP/1.1\" 200 -\n"
     ]
    },
    {
     "name": "stdout",
     "output_type": "stream",
     "text": [
      "labels now: ['#TheBachelor', '#Browns', '#WWERaw', '#HereWeGo', '#GodMorningTuesday', '#Bachelor', '#tuesdaymotivations', '#browns', '#CLEvsPIT', '#Pratikistheboss', '#BBKINGPRATIK']\n",
      "data now: [46, 20, 12, 9, 8, 7, 7, 5, 5, 4, 4]\n"
     ]
    },
    {
     "name": "stderr",
     "output_type": "stream",
     "text": [
      "172.19.0.1 - - [04/Jan/2022 08:30:15] \"GET /refreshData HTTP/1.1\" 200 -\n"
     ]
    },
    {
     "name": "stdout",
     "output_type": "stream",
     "text": [
      "labels now: ['#TheBachelor', '#Browns', '#WWERaw', '#HereWeGo', '#GodMorningTuesday', '#Bachelor', '#tuesdaymotivations', '#browns', '#CLEvsPIT', '#Pratikistheboss', '#BBKINGPRATIK']\n",
      "data now: [46, 20, 12, 9, 8, 7, 7, 5, 5, 4, 4]\n"
     ]
    },
    {
     "name": "stderr",
     "output_type": "stream",
     "text": [
      "172.19.0.5 - - [04/Jan/2022 08:30:15] \"\u001b[35m\u001b[1mPOST /updateData HTTP/1.1\u001b[0m\" 201 -\n"
     ]
    },
    {
     "name": "stdout",
     "output_type": "stream",
     "text": [
      "labels received: ['#TheBachelor', '#Browns', '#WWERaw', '#HereWeGo', '#GodMorningTuesday', '#Bachelor', '#tuesdaymotivations', '#browns', '#CLEvsPIT', '#Pratikistheboss', '#BBKINGPRATIK']\n",
      "data received: [51, 21, 12, 9, 8, 7, 7, 5, 5, 4, 4]\n"
     ]
    },
    {
     "name": "stderr",
     "output_type": "stream",
     "text": [
      "172.19.0.1 - - [04/Jan/2022 08:30:16] \"GET /refreshData HTTP/1.1\" 200 -\n"
     ]
    },
    {
     "name": "stdout",
     "output_type": "stream",
     "text": [
      "labels now: ['#TheBachelor', '#Browns', '#WWERaw', '#HereWeGo', '#GodMorningTuesday', '#Bachelor', '#tuesdaymotivations', '#browns', '#CLEvsPIT', '#Pratikistheboss', '#BBKINGPRATIK']\n",
      "data now: [51, 21, 12, 9, 8, 7, 7, 5, 5, 4, 4]\n"
     ]
    },
    {
     "name": "stderr",
     "output_type": "stream",
     "text": [
      "172.19.0.1 - - [04/Jan/2022 08:30:17] \"GET /refreshData HTTP/1.1\" 200 -\n"
     ]
    },
    {
     "name": "stdout",
     "output_type": "stream",
     "text": [
      "labels now: ['#TheBachelor', '#Browns', '#WWERaw', '#HereWeGo', '#GodMorningTuesday', '#Bachelor', '#tuesdaymotivations', '#browns', '#CLEvsPIT', '#Pratikistheboss', '#BBKINGPRATIK']\n",
      "data now: [51, 21, 12, 9, 8, 7, 7, 5, 5, 4, 4]\n"
     ]
    },
    {
     "name": "stderr",
     "output_type": "stream",
     "text": [
      "172.19.0.1 - - [04/Jan/2022 08:30:18] \"GET /refreshData HTTP/1.1\" 200 -\n"
     ]
    },
    {
     "name": "stdout",
     "output_type": "stream",
     "text": [
      "labels now: ['#TheBachelor', '#Browns', '#WWERaw', '#HereWeGo', '#GodMorningTuesday', '#Bachelor', '#tuesdaymotivations', '#browns', '#CLEvsPIT', '#Pratikistheboss', '#BBKINGPRATIK']\n",
      "data now: [51, 21, 12, 9, 8, 7, 7, 5, 5, 4, 4]\n"
     ]
    },
    {
     "name": "stderr",
     "output_type": "stream",
     "text": [
      "172.19.0.1 - - [04/Jan/2022 08:30:19] \"GET /refreshData HTTP/1.1\" 200 -\n"
     ]
    },
    {
     "name": "stdout",
     "output_type": "stream",
     "text": [
      "labels now: ['#TheBachelor', '#Browns', '#WWERaw', '#HereWeGo', '#GodMorningTuesday', '#Bachelor', '#tuesdaymotivations', '#browns', '#CLEvsPIT', '#Pratikistheboss', '#BBKINGPRATIK']\n",
      "data now: [51, 21, 12, 9, 8, 7, 7, 5, 5, 4, 4]\n"
     ]
    },
    {
     "name": "stderr",
     "output_type": "stream",
     "text": [
      "172.19.0.1 - - [04/Jan/2022 08:30:20] \"GET /refreshData HTTP/1.1\" 200 -\n"
     ]
    },
    {
     "name": "stdout",
     "output_type": "stream",
     "text": [
      "labels now: ['#TheBachelor', '#Browns', '#WWERaw', '#HereWeGo', '#GodMorningTuesday', '#Bachelor', '#tuesdaymotivations', '#browns', '#CLEvsPIT', '#Pratikistheboss', '#BBKINGPRATIK']\n",
      "data now: [51, 21, 12, 9, 8, 7, 7, 5, 5, 4, 4]\n"
     ]
    },
    {
     "name": "stderr",
     "output_type": "stream",
     "text": [
      "172.19.0.1 - - [04/Jan/2022 08:30:21] \"GET /refreshData HTTP/1.1\" 200 -\n"
     ]
    },
    {
     "name": "stdout",
     "output_type": "stream",
     "text": [
      "labels now: ['#TheBachelor', '#Browns', '#WWERaw', '#HereWeGo', '#GodMorningTuesday', '#Bachelor', '#tuesdaymotivations', '#browns', '#CLEvsPIT', '#Pratikistheboss', '#BBKINGPRATIK']\n",
      "data now: [51, 21, 12, 9, 8, 7, 7, 5, 5, 4, 4]\n"
     ]
    },
    {
     "name": "stderr",
     "output_type": "stream",
     "text": [
      "172.19.0.1 - - [04/Jan/2022 08:30:22] \"GET /refreshData HTTP/1.1\" 200 -\n"
     ]
    },
    {
     "name": "stdout",
     "output_type": "stream",
     "text": [
      "labels now: ['#TheBachelor', '#Browns', '#WWERaw', '#HereWeGo', '#GodMorningTuesday', '#Bachelor', '#tuesdaymotivations', '#browns', '#CLEvsPIT', '#Pratikistheboss', '#BBKINGPRATIK']\n",
      "data now: [51, 21, 12, 9, 8, 7, 7, 5, 5, 4, 4]\n"
     ]
    },
    {
     "name": "stderr",
     "output_type": "stream",
     "text": [
      "172.19.0.1 - - [04/Jan/2022 08:30:23] \"GET /refreshData HTTP/1.1\" 200 -\n"
     ]
    },
    {
     "name": "stdout",
     "output_type": "stream",
     "text": [
      "labels now: ['#TheBachelor', '#Browns', '#WWERaw', '#HereWeGo', '#GodMorningTuesday', '#Bachelor', '#tuesdaymotivations', '#browns', '#CLEvsPIT', '#Pratikistheboss', '#BBKINGPRATIK']\n",
      "data now: [51, 21, 12, 9, 8, 7, 7, 5, 5, 4, 4]\n"
     ]
    },
    {
     "name": "stderr",
     "output_type": "stream",
     "text": [
      "172.19.0.5 - - [04/Jan/2022 08:30:25] \"\u001b[35m\u001b[1mPOST /updateData HTTP/1.1\u001b[0m\" 201 -\n"
     ]
    },
    {
     "name": "stdout",
     "output_type": "stream",
     "text": [
      "labels received: ['#TheBachelor', '#Browns', '#WWERaw', '#HereWeGo', '#GodMorningTuesday', '#Bachelor', '#tuesdaymotivations', '#browns', '#CLEvsPIT', '#Pratikistheboss', '#BBKINGPRATIK']\n",
      "data received: [52, 21, 13, 9, 8, 7, 7, 5, 5, 4, 4]\n"
     ]
    },
    {
     "name": "stderr",
     "output_type": "stream",
     "text": [
      "172.19.0.5 - - [04/Jan/2022 08:30:41] \"\u001b[35m\u001b[1mPOST /updateData HTTP/1.1\u001b[0m\" 201 -\n"
     ]
    },
    {
     "name": "stdout",
     "output_type": "stream",
     "text": [
      "labels received: ['#TheBachelor', '#Browns', '#WWERaw', '#HereWeGo', '#GodMorningTuesday', '#Bachelor', '#tuesdaymotivations', '#browns', '#CLEvsPIT', '#Pratikistheboss', '#BBKINGPRATIK']\n",
      "data received: [53, 21, 13, 9, 8, 7, 7, 5, 5, 4, 4]\n"
     ]
    },
    {
     "name": "stderr",
     "output_type": "stream",
     "text": [
      "172.19.0.5 - - [04/Jan/2022 08:30:45] \"\u001b[35m\u001b[1mPOST /updateData HTTP/1.1\u001b[0m\" 201 -\n"
     ]
    },
    {
     "name": "stdout",
     "output_type": "stream",
     "text": [
      "labels received: ['#TheBachelor', '#Browns', '#WWERaw', '#HereWeGo', '#GodMorningTuesday', '#Bachelor', '#tuesdaymotivations', '#browns', '#CLEvsPIT', '#Pratikistheboss', '#BBKINGPRATIK']\n",
      "data received: [54, 21, 13, 9, 8, 7, 7, 5, 5, 4, 4]\n"
     ]
    },
    {
     "name": "stderr",
     "output_type": "stream",
     "text": [
      "172.19.0.1 - - [04/Jan/2022 08:30:49] \"GET /refreshData HTTP/1.1\" 200 -\n"
     ]
    },
    {
     "name": "stdout",
     "output_type": "stream",
     "text": [
      "labels now: ['#TheBachelor', '#Browns', '#WWERaw', '#HereWeGo', '#GodMorningTuesday', '#Bachelor', '#tuesdaymotivations', '#browns', '#CLEvsPIT', '#Pratikistheboss', '#BBKINGPRATIK']\n",
      "data now: [54, 21, 13, 9, 8, 7, 7, 5, 5, 4, 4]\n"
     ]
    },
    {
     "name": "stderr",
     "output_type": "stream",
     "text": [
      "172.19.0.5 - - [04/Jan/2022 08:31:05] \"\u001b[35m\u001b[1mPOST /updateData HTTP/1.1\u001b[0m\" 201 -\n"
     ]
    },
    {
     "name": "stdout",
     "output_type": "stream",
     "text": [
      "labels received: ['#TheBachelor', '#Browns', '#WWERaw', '#Bachelor', '#HereWeGo', '#GodMorningTuesday', '#tuesdaymotivations', '#CLEvsPIT', '#traffic', '#TikTok', '#browns']\n",
      "data received: [57, 22, 13, 10, 9, 8, 7, 6, 5, 5, 5]\n"
     ]
    },
    {
     "name": "stderr",
     "output_type": "stream",
     "text": [
      "172.19.0.5 - - [04/Jan/2022 08:31:06] \"\u001b[35m\u001b[1mPOST /updateData HTTP/1.1\u001b[0m\" 201 -\n"
     ]
    },
    {
     "name": "stdout",
     "output_type": "stream",
     "text": [
      "labels received: ['#TheBachelor', '#Browns', '#WWERaw', '#Bachelor', '#HereWeGo', '#GodMorningTuesday', '#tuesdaymotivations', '#CLEvsPIT', '#traffic', '#TikTok', '#browns']\n",
      "data received: [57, 22, 13, 10, 9, 8, 7, 6, 5, 5, 5]\n"
     ]
    },
    {
     "name": "stderr",
     "output_type": "stream",
     "text": [
      "172.19.0.5 - - [04/Jan/2022 08:31:15] \"\u001b[35m\u001b[1mPOST /updateData HTTP/1.1\u001b[0m\" 201 -\n"
     ]
    },
    {
     "name": "stdout",
     "output_type": "stream",
     "text": [
      "labels received: ['#TheBachelor', '#Browns', '#WWERaw', '#Bachelor', '#GodMorningTuesday', '#HereWeGo', '#tuesdaymotivations', '#CLEvsPIT', '#traffic', '#TikTok', '#browns']\n",
      "data received: [59, 22, 13, 10, 9, 9, 8, 6, 5, 5, 5]\n"
     ]
    },
    {
     "name": "stderr",
     "output_type": "stream",
     "text": [
      "172.19.0.5 - - [04/Jan/2022 08:31:31] \"\u001b[35m\u001b[1mPOST /updateData HTTP/1.1\u001b[0m\" 201 -\n"
     ]
    },
    {
     "name": "stdout",
     "output_type": "stream",
     "text": [
      "labels received: ['#TheBachelor', '#Browns', '#WWERaw', '#Bachelor', '#GodMorningTuesday', '#HereWeGo', '#tuesdaymotivations', '#CLEvsPIT', '#traffic', '#TikTok', '#browns']\n",
      "data received: [60, 22, 14, 10, 9, 9, 8, 7, 5, 5, 5]\n"
     ]
    },
    {
     "name": "stderr",
     "output_type": "stream",
     "text": [
      "172.19.0.5 - - [04/Jan/2022 08:31:35] \"\u001b[35m\u001b[1mPOST /updateData HTTP/1.1\u001b[0m\" 201 -\n"
     ]
    },
    {
     "name": "stdout",
     "output_type": "stream",
     "text": [
      "labels received: ['#TheBachelor', '#Browns', '#WWERaw', '#Bachelor', '#GodMorningTuesday', '#HereWeGo', '#tuesdaymotivations', '#CLEvsPIT', '#traffic', '#TikTok', '#browns']\n",
      "data received: [60, 22, 14, 10, 9, 9, 8, 7, 5, 5, 5]\n"
     ]
    },
    {
     "name": "stderr",
     "output_type": "stream",
     "text": [
      "172.19.0.1 - - [04/Jan/2022 08:31:36] \"GET /refreshData HTTP/1.1\" 200 -\n"
     ]
    },
    {
     "name": "stdout",
     "output_type": "stream",
     "text": [
      "labels now: ['#TheBachelor', '#Browns', '#WWERaw', '#Bachelor', '#GodMorningTuesday', '#HereWeGo', '#tuesdaymotivations', '#CLEvsPIT', '#traffic', '#TikTok', '#browns']\n",
      "data now: [60, 22, 14, 10, 9, 9, 8, 7, 5, 5, 5]\n"
     ]
    },
    {
     "name": "stderr",
     "output_type": "stream",
     "text": [
      "172.19.0.1 - - [04/Jan/2022 08:31:36] \"GET /refreshData HTTP/1.1\" 200 -\n"
     ]
    },
    {
     "name": "stdout",
     "output_type": "stream",
     "text": [
      "labels now: ['#TheBachelor', '#Browns', '#WWERaw', '#Bachelor', '#GodMorningTuesday', '#HereWeGo', '#tuesdaymotivations', '#CLEvsPIT', '#traffic', '#TikTok', '#browns']\n",
      "data now: [60, 22, 14, 10, 9, 9, 8, 7, 5, 5, 5]\n"
     ]
    },
    {
     "name": "stderr",
     "output_type": "stream",
     "text": [
      "172.19.0.1 - - [04/Jan/2022 08:31:37] \"GET /refreshData HTTP/1.1\" 200 -\n"
     ]
    },
    {
     "name": "stdout",
     "output_type": "stream",
     "text": [
      "labels now: ['#TheBachelor', '#Browns', '#WWERaw', '#Bachelor', '#GodMorningTuesday', '#HereWeGo', '#tuesdaymotivations', '#CLEvsPIT', '#traffic', '#TikTok', '#browns']\n",
      "data now: [60, 22, 14, 10, 9, 9, 8, 7, 5, 5, 5]\n"
     ]
    },
    {
     "name": "stderr",
     "output_type": "stream",
     "text": [
      "172.19.0.1 - - [04/Jan/2022 08:31:38] \"GET /refreshData HTTP/1.1\" 200 -\n"
     ]
    },
    {
     "name": "stdout",
     "output_type": "stream",
     "text": [
      "labels now: ['#TheBachelor', '#Browns', '#WWERaw', '#Bachelor', '#GodMorningTuesday', '#HereWeGo', '#tuesdaymotivations', '#CLEvsPIT', '#traffic', '#TikTok', '#browns']\n",
      "data now: [60, 22, 14, 10, 9, 9, 8, 7, 5, 5, 5]\n"
     ]
    },
    {
     "name": "stderr",
     "output_type": "stream",
     "text": [
      "172.19.0.1 - - [04/Jan/2022 08:31:39] \"GET /refreshData HTTP/1.1\" 200 -\n"
     ]
    },
    {
     "name": "stdout",
     "output_type": "stream",
     "text": [
      "labels now: ['#TheBachelor', '#Browns', '#WWERaw', '#Bachelor', '#GodMorningTuesday', '#HereWeGo', '#tuesdaymotivations', '#CLEvsPIT', '#traffic', '#TikTok', '#browns']\n",
      "data now: [60, 22, 14, 10, 9, 9, 8, 7, 5, 5, 5]\n"
     ]
    },
    {
     "name": "stderr",
     "output_type": "stream",
     "text": [
      "172.19.0.1 - - [04/Jan/2022 08:31:40] \"GET /refreshData HTTP/1.1\" 200 -\n"
     ]
    },
    {
     "name": "stdout",
     "output_type": "stream",
     "text": [
      "labels now: ['#TheBachelor', '#Browns', '#WWERaw', '#Bachelor', '#GodMorningTuesday', '#HereWeGo', '#tuesdaymotivations', '#CLEvsPIT', '#traffic', '#TikTok', '#browns']\n",
      "data now: [60, 22, 14, 10, 9, 9, 8, 7, 5, 5, 5]\n"
     ]
    },
    {
     "name": "stderr",
     "output_type": "stream",
     "text": [
      "172.19.0.1 - - [04/Jan/2022 08:31:41] \"GET /refreshData HTTP/1.1\" 200 -\n"
     ]
    },
    {
     "name": "stdout",
     "output_type": "stream",
     "text": [
      "labels now: ['#TheBachelor', '#Browns', '#WWERaw', '#Bachelor', '#GodMorningTuesday', '#HereWeGo', '#tuesdaymotivations', '#CLEvsPIT', '#traffic', '#TikTok', '#browns']\n",
      "data now: [60, 22, 14, 10, 9, 9, 8, 7, 5, 5, 5]\n"
     ]
    },
    {
     "name": "stderr",
     "output_type": "stream",
     "text": [
      "172.19.0.1 - - [04/Jan/2022 08:31:42] \"GET /refreshData HTTP/1.1\" 200 -\n"
     ]
    },
    {
     "name": "stdout",
     "output_type": "stream",
     "text": [
      "labels now: ['#TheBachelor', '#Browns', '#WWERaw', '#Bachelor', '#GodMorningTuesday', '#HereWeGo', '#tuesdaymotivations', '#CLEvsPIT', '#traffic', '#TikTok', '#browns']\n",
      "data now: [60, 22, 14, 10, 9, 9, 8, 7, 5, 5, 5]\n"
     ]
    },
    {
     "name": "stderr",
     "output_type": "stream",
     "text": [
      "172.19.0.1 - - [04/Jan/2022 08:31:43] \"GET /refreshData HTTP/1.1\" 200 -\n"
     ]
    },
    {
     "name": "stdout",
     "output_type": "stream",
     "text": [
      "labels now: ['#TheBachelor', '#Browns', '#WWERaw', '#Bachelor', '#GodMorningTuesday', '#HereWeGo', '#tuesdaymotivations', '#CLEvsPIT', '#traffic', '#TikTok', '#browns']\n",
      "data now: [60, 22, 14, 10, 9, 9, 8, 7, 5, 5, 5]\n"
     ]
    },
    {
     "name": "stderr",
     "output_type": "stream",
     "text": [
      "172.19.0.1 - - [04/Jan/2022 08:31:44] \"GET /refreshData HTTP/1.1\" 200 -\n"
     ]
    },
    {
     "name": "stdout",
     "output_type": "stream",
     "text": [
      "labels now: ['#TheBachelor', '#Browns', '#WWERaw', '#Bachelor', '#GodMorningTuesday', '#HereWeGo', '#tuesdaymotivations', '#CLEvsPIT', '#traffic', '#TikTok', '#browns']\n",
      "data now: [60, 22, 14, 10, 9, 9, 8, 7, 5, 5, 5]\n"
     ]
    },
    {
     "name": "stderr",
     "output_type": "stream",
     "text": [
      "172.19.0.5 - - [04/Jan/2022 08:31:45] \"\u001b[35m\u001b[1mPOST /updateData HTTP/1.1\u001b[0m\" 201 -\n"
     ]
    },
    {
     "name": "stdout",
     "output_type": "stream",
     "text": [
      "labels received: ['#TheBachelor', '#Browns', '#WWERaw', '#Bachelor', '#GodMorningTuesday', '#HereWeGo', '#tuesdaymotivations', '#CLEvsPIT', '#traffic', '#TikTok', '#browns']\n",
      "data received: [60, 23, 14, 10, 9, 9, 8, 8, 5, 5, 5]\n"
     ]
    },
    {
     "name": "stderr",
     "output_type": "stream",
     "text": [
      "172.19.0.1 - - [04/Jan/2022 08:31:45] \"GET /refreshData HTTP/1.1\" 200 -\n"
     ]
    },
    {
     "name": "stdout",
     "output_type": "stream",
     "text": [
      "labels now: ['#TheBachelor', '#Browns', '#WWERaw', '#Bachelor', '#GodMorningTuesday', '#HereWeGo', '#tuesdaymotivations', '#CLEvsPIT', '#traffic', '#TikTok', '#browns']\n",
      "data now: [60, 23, 14, 10, 9, 9, 8, 8, 5, 5, 5]\n"
     ]
    },
    {
     "name": "stderr",
     "output_type": "stream",
     "text": [
      "172.19.0.1 - - [04/Jan/2022 08:31:46] \"GET /refreshData HTTP/1.1\" 200 -\n"
     ]
    },
    {
     "name": "stdout",
     "output_type": "stream",
     "text": [
      "labels now: ['#TheBachelor', '#Browns', '#WWERaw', '#Bachelor', '#GodMorningTuesday', '#HereWeGo', '#tuesdaymotivations', '#CLEvsPIT', '#traffic', '#TikTok', '#browns']\n",
      "data now: [60, 23, 14, 10, 9, 9, 8, 8, 5, 5, 5]\n"
     ]
    },
    {
     "name": "stderr",
     "output_type": "stream",
     "text": [
      "172.19.0.1 - - [04/Jan/2022 08:31:48] \"GET /refreshData HTTP/1.1\" 200 -\n"
     ]
    },
    {
     "name": "stdout",
     "output_type": "stream",
     "text": [
      "labels now: ['#TheBachelor', '#Browns', '#WWERaw', '#Bachelor', '#GodMorningTuesday', '#HereWeGo', '#tuesdaymotivations', '#CLEvsPIT', '#traffic', '#TikTok', '#browns']\n",
      "data now: [60, 23, 14, 10, 9, 9, 8, 8, 5, 5, 5]\n"
     ]
    },
    {
     "name": "stderr",
     "output_type": "stream",
     "text": [
      "172.19.0.1 - - [04/Jan/2022 08:31:49] \"GET /refreshData HTTP/1.1\" 200 -\n"
     ]
    },
    {
     "name": "stdout",
     "output_type": "stream",
     "text": [
      "labels now: ['#TheBachelor', '#Browns', '#WWERaw', '#Bachelor', '#GodMorningTuesday', '#HereWeGo', '#tuesdaymotivations', '#CLEvsPIT', '#traffic', '#TikTok', '#browns']\n",
      "data now: [60, 23, 14, 10, 9, 9, 8, 8, 5, 5, 5]\n"
     ]
    },
    {
     "name": "stderr",
     "output_type": "stream",
     "text": [
      "172.19.0.1 - - [04/Jan/2022 08:31:50] \"GET /refreshData HTTP/1.1\" 200 -\n"
     ]
    },
    {
     "name": "stdout",
     "output_type": "stream",
     "text": [
      "labels now: ['#TheBachelor', '#Browns', '#WWERaw', '#Bachelor', '#GodMorningTuesday', '#HereWeGo', '#tuesdaymotivations', '#CLEvsPIT', '#traffic', '#TikTok', '#browns']\n",
      "data now: [60, 23, 14, 10, 9, 9, 8, 8, 5, 5, 5]\n"
     ]
    },
    {
     "name": "stderr",
     "output_type": "stream",
     "text": [
      "172.19.0.1 - - [04/Jan/2022 08:31:51] \"GET /refreshData HTTP/1.1\" 200 -\n"
     ]
    },
    {
     "name": "stdout",
     "output_type": "stream",
     "text": [
      "labels now: ['#TheBachelor', '#Browns', '#WWERaw', '#Bachelor', '#GodMorningTuesday', '#HereWeGo', '#tuesdaymotivations', '#CLEvsPIT', '#traffic', '#TikTok', '#browns']\n",
      "data now: [60, 23, 14, 10, 9, 9, 8, 8, 5, 5, 5]\n"
     ]
    },
    {
     "name": "stderr",
     "output_type": "stream",
     "text": [
      "172.19.0.1 - - [04/Jan/2022 08:31:52] \"GET /refreshData HTTP/1.1\" 200 -\n"
     ]
    },
    {
     "name": "stdout",
     "output_type": "stream",
     "text": [
      "labels now: ['#TheBachelor', '#Browns', '#WWERaw', '#Bachelor', '#GodMorningTuesday', '#HereWeGo', '#tuesdaymotivations', '#CLEvsPIT', '#traffic', '#TikTok', '#browns']\n",
      "data now: [60, 23, 14, 10, 9, 9, 8, 8, 5, 5, 5]\n"
     ]
    },
    {
     "name": "stderr",
     "output_type": "stream",
     "text": [
      "172.19.0.1 - - [04/Jan/2022 08:31:53] \"GET /refreshData HTTP/1.1\" 200 -\n"
     ]
    },
    {
     "name": "stdout",
     "output_type": "stream",
     "text": [
      "labels now: ['#TheBachelor', '#Browns', '#WWERaw', '#Bachelor', '#GodMorningTuesday', '#HereWeGo', '#tuesdaymotivations', '#CLEvsPIT', '#traffic', '#TikTok', '#browns']\n",
      "data now: [60, 23, 14, 10, 9, 9, 8, 8, 5, 5, 5]\n"
     ]
    },
    {
     "name": "stderr",
     "output_type": "stream",
     "text": [
      "172.19.0.1 - - [04/Jan/2022 08:31:54] \"GET /refreshData HTTP/1.1\" 200 -\n"
     ]
    },
    {
     "name": "stdout",
     "output_type": "stream",
     "text": [
      "labels now: ['#TheBachelor', '#Browns', '#WWERaw', '#Bachelor', '#GodMorningTuesday', '#HereWeGo', '#tuesdaymotivations', '#CLEvsPIT', '#traffic', '#TikTok', '#browns']\n",
      "data now: [60, 23, 14, 10, 9, 9, 8, 8, 5, 5, 5]\n"
     ]
    },
    {
     "name": "stderr",
     "output_type": "stream",
     "text": [
      "172.19.0.1 - - [04/Jan/2022 08:31:55] \"GET /refreshData HTTP/1.1\" 200 -\n"
     ]
    },
    {
     "name": "stdout",
     "output_type": "stream",
     "text": [
      "labels now: ['#TheBachelor', '#Browns', '#WWERaw', '#Bachelor', '#GodMorningTuesday', '#HereWeGo', '#tuesdaymotivations', '#CLEvsPIT', '#traffic', '#TikTok', '#browns']\n",
      "data now: [60, 23, 14, 10, 9, 9, 8, 8, 5, 5, 5]\n"
     ]
    },
    {
     "name": "stderr",
     "output_type": "stream",
     "text": [
      "172.19.0.1 - - [04/Jan/2022 08:31:56] \"GET /refreshData HTTP/1.1\" 200 -\n"
     ]
    },
    {
     "name": "stdout",
     "output_type": "stream",
     "text": [
      "labels now: ['#TheBachelor', '#Browns', '#WWERaw', '#Bachelor', '#GodMorningTuesday', '#HereWeGo', '#tuesdaymotivations', '#CLEvsPIT', '#traffic', '#TikTok', '#browns']\n",
      "data now: [60, 23, 14, 10, 9, 9, 8, 8, 5, 5, 5]\n"
     ]
    },
    {
     "name": "stderr",
     "output_type": "stream",
     "text": [
      "172.19.0.1 - - [04/Jan/2022 08:31:57] \"GET /refreshData HTTP/1.1\" 200 -\n"
     ]
    },
    {
     "name": "stdout",
     "output_type": "stream",
     "text": [
      "labels now: ['#TheBachelor', '#Browns', '#WWERaw', '#Bachelor', '#GodMorningTuesday', '#HereWeGo', '#tuesdaymotivations', '#CLEvsPIT', '#traffic', '#TikTok', '#browns']\n",
      "data now: [60, 23, 14, 10, 9, 9, 8, 8, 5, 5, 5]\n"
     ]
    },
    {
     "name": "stderr",
     "output_type": "stream",
     "text": [
      "172.19.0.1 - - [04/Jan/2022 08:31:58] \"GET /refreshData HTTP/1.1\" 200 -\n"
     ]
    },
    {
     "name": "stdout",
     "output_type": "stream",
     "text": [
      "labels now: ['#TheBachelor', '#Browns', '#WWERaw', '#Bachelor', '#GodMorningTuesday', '#HereWeGo', '#tuesdaymotivations', '#CLEvsPIT', '#traffic', '#TikTok', '#browns']\n",
      "data now: [60, 23, 14, 10, 9, 9, 8, 8, 5, 5, 5]\n"
     ]
    },
    {
     "name": "stderr",
     "output_type": "stream",
     "text": [
      "172.19.0.1 - - [04/Jan/2022 08:31:58] \"GET /refreshData HTTP/1.1\" 200 -\n"
     ]
    },
    {
     "name": "stdout",
     "output_type": "stream",
     "text": [
      "labels now: ['#TheBachelor', '#Browns', '#WWERaw', '#Bachelor', '#GodMorningTuesday', '#HereWeGo', '#tuesdaymotivations', '#CLEvsPIT', '#traffic', '#TikTok', '#browns']\n",
      "data now: [60, 23, 14, 10, 9, 9, 8, 8, 5, 5, 5]\n"
     ]
    },
    {
     "name": "stderr",
     "output_type": "stream",
     "text": [
      "172.19.0.1 - - [04/Jan/2022 08:32:00] \"GET /refreshData HTTP/1.1\" 200 -\n"
     ]
    },
    {
     "name": "stdout",
     "output_type": "stream",
     "text": [
      "labels now: ['#TheBachelor', '#Browns', '#WWERaw', '#Bachelor', '#GodMorningTuesday', '#HereWeGo', '#tuesdaymotivations', '#CLEvsPIT', '#traffic', '#TikTok', '#browns']\n",
      "data now: [60, 23, 14, 10, 9, 9, 8, 8, 5, 5, 5]\n"
     ]
    },
    {
     "name": "stderr",
     "output_type": "stream",
     "text": [
      "172.19.0.5 - - [04/Jan/2022 08:32:01] \"\u001b[35m\u001b[1mPOST /updateData HTTP/1.1\u001b[0m\" 201 -\n"
     ]
    },
    {
     "name": "stdout",
     "output_type": "stream",
     "text": [
      "labels received: ['#TheBachelor', '#Browns', '#WWERaw', '#Bachelor', '#GodMorningTuesday', '#HereWeGo', '#tuesdaymotivations', '#CLEvsPIT', '#TikTok', '#traffic', '#browns']\n",
      "data received: [60, 23, 14, 11, 9, 9, 8, 8, 6, 5, 5]\n"
     ]
    },
    {
     "name": "stderr",
     "output_type": "stream",
     "text": [
      "172.19.0.1 - - [04/Jan/2022 08:32:01] \"GET /refreshData HTTP/1.1\" 200 -\n"
     ]
    },
    {
     "name": "stdout",
     "output_type": "stream",
     "text": [
      "labels now: ['#TheBachelor', '#Browns', '#WWERaw', '#Bachelor', '#GodMorningTuesday', '#HereWeGo', '#tuesdaymotivations', '#CLEvsPIT', '#TikTok', '#traffic', '#browns']\n",
      "data now: [60, 23, 14, 11, 9, 9, 8, 8, 6, 5, 5]\n"
     ]
    },
    {
     "name": "stderr",
     "output_type": "stream",
     "text": [
      "172.19.0.1 - - [04/Jan/2022 08:32:02] \"GET /refreshData HTTP/1.1\" 200 -\n"
     ]
    },
    {
     "name": "stdout",
     "output_type": "stream",
     "text": [
      "labels now: ['#TheBachelor', '#Browns', '#WWERaw', '#Bachelor', '#GodMorningTuesday', '#HereWeGo', '#tuesdaymotivations', '#CLEvsPIT', '#TikTok', '#traffic', '#browns']\n",
      "data now: [60, 23, 14, 11, 9, 9, 8, 8, 6, 5, 5]\n"
     ]
    },
    {
     "name": "stderr",
     "output_type": "stream",
     "text": [
      "172.19.0.1 - - [04/Jan/2022 08:32:03] \"GET /refreshData HTTP/1.1\" 200 -\n"
     ]
    },
    {
     "name": "stdout",
     "output_type": "stream",
     "text": [
      "labels now: ['#TheBachelor', '#Browns', '#WWERaw', '#Bachelor', '#GodMorningTuesday', '#HereWeGo', '#tuesdaymotivations', '#CLEvsPIT', '#TikTok', '#traffic', '#browns']\n",
      "data now: [60, 23, 14, 11, 9, 9, 8, 8, 6, 5, 5]\n"
     ]
    },
    {
     "name": "stderr",
     "output_type": "stream",
     "text": [
      "172.19.0.1 - - [04/Jan/2022 08:32:04] \"GET /refreshData HTTP/1.1\" 200 -\n"
     ]
    },
    {
     "name": "stdout",
     "output_type": "stream",
     "text": [
      "labels now: ['#TheBachelor', '#Browns', '#WWERaw', '#Bachelor', '#GodMorningTuesday', '#HereWeGo', '#tuesdaymotivations', '#CLEvsPIT', '#TikTok', '#traffic', '#browns']\n",
      "data now: [60, 23, 14, 11, 9, 9, 8, 8, 6, 5, 5]\n"
     ]
    },
    {
     "name": "stderr",
     "output_type": "stream",
     "text": [
      "172.19.0.1 - - [04/Jan/2022 08:32:05] \"GET /refreshData HTTP/1.1\" 200 -\n",
      "172.19.0.5 - - [04/Jan/2022 08:32:05] \"\u001b[35m\u001b[1mPOST /updateData HTTP/1.1\u001b[0m\" 201 -\n"
     ]
    },
    {
     "name": "stdout",
     "output_type": "stream",
     "text": [
      "labels now: ['#TheBachelor', '#Browns', '#WWERaw', '#Bachelor', '#GodMorningTuesday', '#HereWeGo', '#tuesdaymotivations', '#CLEvsPIT', '#TikTok', '#traffic', '#browns']\n",
      "data now: [60, 23, 14, 11, 9, 9, 8, 8, 6, 5, 5]\n",
      "labels received: ['#TheBachelor', '#Browns', '#WWERaw', '#Bachelor', '#GodMorningTuesday', '#HereWeGo', '#tuesdaymotivations', '#CLEvsPIT', '#TikTok', '#traffic', '#browns']\n",
      "data received: [61, 23, 14, 11, 9, 9, 8, 8, 6, 5, 5]\n"
     ]
    },
    {
     "name": "stderr",
     "output_type": "stream",
     "text": [
      "172.19.0.1 - - [04/Jan/2022 08:32:06] \"GET /refreshData HTTP/1.1\" 200 -\n"
     ]
    },
    {
     "name": "stdout",
     "output_type": "stream",
     "text": [
      "labels now: ['#TheBachelor', '#Browns', '#WWERaw', '#Bachelor', '#GodMorningTuesday', '#HereWeGo', '#tuesdaymotivations', '#CLEvsPIT', '#TikTok', '#traffic', '#browns']\n",
      "data now: [61, 23, 14, 11, 9, 9, 8, 8, 6, 5, 5]\n"
     ]
    },
    {
     "name": "stderr",
     "output_type": "stream",
     "text": [
      "172.19.0.1 - - [04/Jan/2022 08:32:07] \"GET /refreshData HTTP/1.1\" 200 -\n"
     ]
    },
    {
     "name": "stdout",
     "output_type": "stream",
     "text": [
      "labels now: ['#TheBachelor', '#Browns', '#WWERaw', '#Bachelor', '#GodMorningTuesday', '#HereWeGo', '#tuesdaymotivations', '#CLEvsPIT', '#TikTok', '#traffic', '#browns']\n",
      "data now: [61, 23, 14, 11, 9, 9, 8, 8, 6, 5, 5]\n"
     ]
    },
    {
     "name": "stderr",
     "output_type": "stream",
     "text": [
      "172.19.0.1 - - [04/Jan/2022 08:32:08] \"GET /refreshData HTTP/1.1\" 200 -\n"
     ]
    },
    {
     "name": "stdout",
     "output_type": "stream",
     "text": [
      "labels now: ['#TheBachelor', '#Browns', '#WWERaw', '#Bachelor', '#GodMorningTuesday', '#HereWeGo', '#tuesdaymotivations', '#CLEvsPIT', '#TikTok', '#traffic', '#browns']\n",
      "data now: [61, 23, 14, 11, 9, 9, 8, 8, 6, 5, 5]\n"
     ]
    },
    {
     "name": "stderr",
     "output_type": "stream",
     "text": [
      "172.19.0.1 - - [04/Jan/2022 08:32:09] \"GET /refreshData HTTP/1.1\" 200 -\n"
     ]
    },
    {
     "name": "stdout",
     "output_type": "stream",
     "text": [
      "labels now: ['#TheBachelor', '#Browns', '#WWERaw', '#Bachelor', '#GodMorningTuesday', '#HereWeGo', '#tuesdaymotivations', '#CLEvsPIT', '#TikTok', '#traffic', '#browns']\n",
      "data now: [61, 23, 14, 11, 9, 9, 8, 8, 6, 5, 5]\n"
     ]
    },
    {
     "name": "stderr",
     "output_type": "stream",
     "text": [
      "172.19.0.1 - - [04/Jan/2022 08:32:10] \"GET /refreshData HTTP/1.1\" 200 -\n"
     ]
    },
    {
     "name": "stdout",
     "output_type": "stream",
     "text": [
      "labels now: ['#TheBachelor', '#Browns', '#WWERaw', '#Bachelor', '#GodMorningTuesday', '#HereWeGo', '#tuesdaymotivations', '#CLEvsPIT', '#TikTok', '#traffic', '#browns']\n",
      "data now: [61, 23, 14, 11, 9, 9, 8, 8, 6, 5, 5]\n"
     ]
    },
    {
     "name": "stderr",
     "output_type": "stream",
     "text": [
      "172.19.0.1 - - [04/Jan/2022 08:32:11] \"GET /refreshData HTTP/1.1\" 200 -\n"
     ]
    },
    {
     "name": "stdout",
     "output_type": "stream",
     "text": [
      "labels now: ['#TheBachelor', '#Browns', '#WWERaw', '#Bachelor', '#GodMorningTuesday', '#HereWeGo', '#tuesdaymotivations', '#CLEvsPIT', '#TikTok', '#traffic', '#browns']\n",
      "data now: [61, 23, 14, 11, 9, 9, 8, 8, 6, 5, 5]\n"
     ]
    },
    {
     "name": "stderr",
     "output_type": "stream",
     "text": [
      "172.19.0.1 - - [04/Jan/2022 08:32:12] \"GET /refreshData HTTP/1.1\" 200 -\n"
     ]
    },
    {
     "name": "stdout",
     "output_type": "stream",
     "text": [
      "labels now: ['#TheBachelor', '#Browns', '#WWERaw', '#Bachelor', '#GodMorningTuesday', '#HereWeGo', '#tuesdaymotivations', '#CLEvsPIT', '#TikTok', '#traffic', '#browns']\n",
      "data now: [61, 23, 14, 11, 9, 9, 8, 8, 6, 5, 5]\n"
     ]
    },
    {
     "name": "stderr",
     "output_type": "stream",
     "text": [
      "172.19.0.1 - - [04/Jan/2022 08:32:13] \"GET /refreshData HTTP/1.1\" 200 -\n"
     ]
    },
    {
     "name": "stdout",
     "output_type": "stream",
     "text": [
      "labels now: ['#TheBachelor', '#Browns', '#WWERaw', '#Bachelor', '#GodMorningTuesday', '#HereWeGo', '#tuesdaymotivations', '#CLEvsPIT', '#TikTok', '#traffic', '#browns']\n",
      "data now: [61, 23, 14, 11, 9, 9, 8, 8, 6, 5, 5]\n"
     ]
    },
    {
     "name": "stderr",
     "output_type": "stream",
     "text": [
      "172.19.0.1 - - [04/Jan/2022 08:32:14] \"GET /refreshData HTTP/1.1\" 200 -\n"
     ]
    },
    {
     "name": "stdout",
     "output_type": "stream",
     "text": [
      "labels now: ['#TheBachelor', '#Browns', '#WWERaw', '#Bachelor', '#GodMorningTuesday', '#HereWeGo', '#tuesdaymotivations', '#CLEvsPIT', '#TikTok', '#traffic', '#browns']\n",
      "data now: [61, 23, 14, 11, 9, 9, 8, 8, 6, 5, 5]\n"
     ]
    },
    {
     "name": "stderr",
     "output_type": "stream",
     "text": [
      "172.19.0.1 - - [04/Jan/2022 08:32:15] \"GET /refreshData HTTP/1.1\" 200 -\n"
     ]
    },
    {
     "name": "stdout",
     "output_type": "stream",
     "text": [
      "labels now: ['#TheBachelor', '#Browns', '#WWERaw', '#Bachelor', '#GodMorningTuesday', '#HereWeGo', '#tuesdaymotivations', '#CLEvsPIT', '#TikTok', '#traffic', '#browns']\n",
      "data now: [61, 23, 14, 11, 9, 9, 8, 8, 6, 5, 5]\n"
     ]
    },
    {
     "name": "stderr",
     "output_type": "stream",
     "text": [
      "172.19.0.5 - - [04/Jan/2022 08:32:15] \"\u001b[35m\u001b[1mPOST /updateData HTTP/1.1\u001b[0m\" 201 -\n"
     ]
    },
    {
     "name": "stdout",
     "output_type": "stream",
     "text": [
      "labels received: ['#TheBachelor', '#Browns', '#WWERaw', '#Bachelor', '#HereWeGo', '#GodMorningTuesday', '#tuesdaymotivations', '#CLEvsPIT', '#theneighborhood', '#TikTok', '#traffic']\n",
      "data received: [63, 23, 14, 11, 10, 9, 8, 8, 6, 6, 5]\n"
     ]
    },
    {
     "name": "stderr",
     "output_type": "stream",
     "text": [
      "172.19.0.1 - - [04/Jan/2022 08:32:16] \"GET /refreshData HTTP/1.1\" 200 -\n"
     ]
    },
    {
     "name": "stdout",
     "output_type": "stream",
     "text": [
      "labels now: ['#TheBachelor', '#Browns', '#WWERaw', '#Bachelor', '#HereWeGo', '#GodMorningTuesday', '#tuesdaymotivations', '#CLEvsPIT', '#theneighborhood', '#TikTok', '#traffic']\n",
      "data now: [63, 23, 14, 11, 10, 9, 8, 8, 6, 6, 5]\n"
     ]
    },
    {
     "name": "stderr",
     "output_type": "stream",
     "text": [
      "172.19.0.1 - - [04/Jan/2022 08:32:17] \"GET /refreshData HTTP/1.1\" 200 -\n"
     ]
    },
    {
     "name": "stdout",
     "output_type": "stream",
     "text": [
      "labels now: ['#TheBachelor', '#Browns', '#WWERaw', '#Bachelor', '#HereWeGo', '#GodMorningTuesday', '#tuesdaymotivations', '#CLEvsPIT', '#theneighborhood', '#TikTok', '#traffic']\n",
      "data now: [63, 23, 14, 11, 10, 9, 8, 8, 6, 6, 5]\n"
     ]
    },
    {
     "name": "stderr",
     "output_type": "stream",
     "text": [
      "172.19.0.1 - - [04/Jan/2022 08:32:18] \"GET /refreshData HTTP/1.1\" 200 -\n"
     ]
    },
    {
     "name": "stdout",
     "output_type": "stream",
     "text": [
      "labels now: ['#TheBachelor', '#Browns', '#WWERaw', '#Bachelor', '#HereWeGo', '#GodMorningTuesday', '#tuesdaymotivations', '#CLEvsPIT', '#theneighborhood', '#TikTok', '#traffic']\n",
      "data now: [63, 23, 14, 11, 10, 9, 8, 8, 6, 6, 5]\n"
     ]
    },
    {
     "name": "stderr",
     "output_type": "stream",
     "text": [
      "172.19.0.1 - - [04/Jan/2022 08:32:19] \"GET /refreshData HTTP/1.1\" 200 -\n"
     ]
    },
    {
     "name": "stdout",
     "output_type": "stream",
     "text": [
      "labels now: ['#TheBachelor', '#Browns', '#WWERaw', '#Bachelor', '#HereWeGo', '#GodMorningTuesday', '#tuesdaymotivations', '#CLEvsPIT', '#theneighborhood', '#TikTok', '#traffic']\n",
      "data now: [63, 23, 14, 11, 10, 9, 8, 8, 6, 6, 5]\n"
     ]
    },
    {
     "name": "stderr",
     "output_type": "stream",
     "text": [
      "172.19.0.1 - - [04/Jan/2022 08:32:20] \"GET /refreshData HTTP/1.1\" 200 -\n"
     ]
    },
    {
     "name": "stdout",
     "output_type": "stream",
     "text": [
      "labels now: ['#TheBachelor', '#Browns', '#WWERaw', '#Bachelor', '#HereWeGo', '#GodMorningTuesday', '#tuesdaymotivations', '#CLEvsPIT', '#theneighborhood', '#TikTok', '#traffic']\n",
      "data now: [63, 23, 14, 11, 10, 9, 8, 8, 6, 6, 5]\n"
     ]
    },
    {
     "name": "stderr",
     "output_type": "stream",
     "text": [
      "172.19.0.1 - - [04/Jan/2022 08:32:21] \"GET /refreshData HTTP/1.1\" 200 -\n"
     ]
    },
    {
     "name": "stdout",
     "output_type": "stream",
     "text": [
      "labels now: ['#TheBachelor', '#Browns', '#WWERaw', '#Bachelor', '#HereWeGo', '#GodMorningTuesday', '#tuesdaymotivations', '#CLEvsPIT', '#theneighborhood', '#TikTok', '#traffic']\n",
      "data now: [63, 23, 14, 11, 10, 9, 8, 8, 6, 6, 5]\n"
     ]
    },
    {
     "name": "stderr",
     "output_type": "stream",
     "text": [
      "172.19.0.1 - - [04/Jan/2022 08:32:22] \"GET /refreshData HTTP/1.1\" 200 -\n"
     ]
    },
    {
     "name": "stdout",
     "output_type": "stream",
     "text": [
      "labels now: ['#TheBachelor', '#Browns', '#WWERaw', '#Bachelor', '#HereWeGo', '#GodMorningTuesday', '#tuesdaymotivations', '#CLEvsPIT', '#theneighborhood', '#TikTok', '#traffic']\n",
      "data now: [63, 23, 14, 11, 10, 9, 8, 8, 6, 6, 5]\n"
     ]
    },
    {
     "name": "stderr",
     "output_type": "stream",
     "text": [
      "172.19.0.1 - - [04/Jan/2022 08:32:23] \"GET /refreshData HTTP/1.1\" 200 -\n"
     ]
    },
    {
     "name": "stdout",
     "output_type": "stream",
     "text": [
      "labels now: ['#TheBachelor', '#Browns', '#WWERaw', '#Bachelor', '#HereWeGo', '#GodMorningTuesday', '#tuesdaymotivations', '#CLEvsPIT', '#theneighborhood', '#TikTok', '#traffic']\n",
      "data now: [63, 23, 14, 11, 10, 9, 8, 8, 6, 6, 5]\n"
     ]
    },
    {
     "name": "stderr",
     "output_type": "stream",
     "text": [
      "172.19.0.1 - - [04/Jan/2022 08:32:24] \"GET /refreshData HTTP/1.1\" 200 -\n"
     ]
    },
    {
     "name": "stdout",
     "output_type": "stream",
     "text": [
      "labels now: ['#TheBachelor', '#Browns', '#WWERaw', '#Bachelor', '#HereWeGo', '#GodMorningTuesday', '#tuesdaymotivations', '#CLEvsPIT', '#theneighborhood', '#TikTok', '#traffic']\n",
      "data now: [63, 23, 14, 11, 10, 9, 8, 8, 6, 6, 5]\n"
     ]
    },
    {
     "name": "stderr",
     "output_type": "stream",
     "text": [
      "172.19.0.1 - - [04/Jan/2022 08:32:25] \"GET /refreshData HTTP/1.1\" 200 -\n"
     ]
    },
    {
     "name": "stdout",
     "output_type": "stream",
     "text": [
      "labels now: ['#TheBachelor', '#Browns', '#WWERaw', '#Bachelor', '#HereWeGo', '#GodMorningTuesday', '#tuesdaymotivations', '#CLEvsPIT', '#theneighborhood', '#TikTok', '#traffic']\n",
      "data now: [63, 23, 14, 11, 10, 9, 8, 8, 6, 6, 5]\n"
     ]
    },
    {
     "name": "stderr",
     "output_type": "stream",
     "text": [
      "172.19.0.1 - - [04/Jan/2022 08:32:26] \"GET /refreshData HTTP/1.1\" 200 -\n"
     ]
    },
    {
     "name": "stdout",
     "output_type": "stream",
     "text": [
      "labels now: ['#TheBachelor', '#Browns', '#WWERaw', '#Bachelor', '#HereWeGo', '#GodMorningTuesday', '#tuesdaymotivations', '#CLEvsPIT', '#theneighborhood', '#TikTok', '#traffic']\n",
      "data now: [63, 23, 14, 11, 10, 9, 8, 8, 6, 6, 5]\n"
     ]
    },
    {
     "name": "stderr",
     "output_type": "stream",
     "text": [
      "172.19.0.1 - - [04/Jan/2022 08:32:27] \"GET /refreshData HTTP/1.1\" 200 -\n"
     ]
    },
    {
     "name": "stdout",
     "output_type": "stream",
     "text": [
      "labels now: ['#TheBachelor', '#Browns', '#WWERaw', '#Bachelor', '#HereWeGo', '#GodMorningTuesday', '#tuesdaymotivations', '#CLEvsPIT', '#theneighborhood', '#TikTok', '#traffic']\n",
      "data now: [63, 23, 14, 11, 10, 9, 8, 8, 6, 6, 5]\n"
     ]
    },
    {
     "name": "stderr",
     "output_type": "stream",
     "text": [
      "172.19.0.1 - - [04/Jan/2022 08:32:28] \"GET /refreshData HTTP/1.1\" 200 -\n"
     ]
    },
    {
     "name": "stdout",
     "output_type": "stream",
     "text": [
      "labels now: ['#TheBachelor', '#Browns', '#WWERaw', '#Bachelor', '#HereWeGo', '#GodMorningTuesday', '#tuesdaymotivations', '#CLEvsPIT', '#theneighborhood', '#TikTok', '#traffic']\n",
      "data now: [63, 23, 14, 11, 10, 9, 8, 8, 6, 6, 5]\n"
     ]
    },
    {
     "name": "stderr",
     "output_type": "stream",
     "text": [
      "172.19.0.1 - - [04/Jan/2022 08:32:29] \"GET /refreshData HTTP/1.1\" 200 -\n"
     ]
    },
    {
     "name": "stdout",
     "output_type": "stream",
     "text": [
      "labels now: ['#TheBachelor', '#Browns', '#WWERaw', '#Bachelor', '#HereWeGo', '#GodMorningTuesday', '#tuesdaymotivations', '#CLEvsPIT', '#theneighborhood', '#TikTok', '#traffic']\n",
      "data now: [63, 23, 14, 11, 10, 9, 8, 8, 6, 6, 5]\n"
     ]
    },
    {
     "name": "stderr",
     "output_type": "stream",
     "text": [
      "172.19.0.1 - - [04/Jan/2022 08:32:30] \"GET /refreshData HTTP/1.1\" 200 -\n"
     ]
    },
    {
     "name": "stdout",
     "output_type": "stream",
     "text": [
      "labels now: ['#TheBachelor', '#Browns', '#WWERaw', '#Bachelor', '#HereWeGo', '#GodMorningTuesday', '#tuesdaymotivations', '#CLEvsPIT', '#theneighborhood', '#TikTok', '#traffic']\n",
      "data now: [63, 23, 14, 11, 10, 9, 8, 8, 6, 6, 5]\n"
     ]
    },
    {
     "name": "stderr",
     "output_type": "stream",
     "text": [
      "172.19.0.1 - - [04/Jan/2022 08:32:31] \"GET /refreshData HTTP/1.1\" 200 -\n"
     ]
    },
    {
     "name": "stdout",
     "output_type": "stream",
     "text": [
      "labels now: ['#TheBachelor', '#Browns', '#WWERaw', '#Bachelor', '#HereWeGo', '#GodMorningTuesday', '#tuesdaymotivations', '#CLEvsPIT', '#theneighborhood', '#TikTok', '#traffic']\n",
      "data now: [63, 23, 14, 11, 10, 9, 8, 8, 6, 6, 5]\n"
     ]
    },
    {
     "name": "stderr",
     "output_type": "stream",
     "text": [
      "172.19.0.1 - - [04/Jan/2022 08:32:32] \"GET /refreshData HTTP/1.1\" 200 -\n"
     ]
    },
    {
     "name": "stdout",
     "output_type": "stream",
     "text": [
      "labels now: ['#TheBachelor', '#Browns', '#WWERaw', '#Bachelor', '#HereWeGo', '#GodMorningTuesday', '#tuesdaymotivations', '#CLEvsPIT', '#theneighborhood', '#TikTok', '#traffic']\n",
      "data now: [63, 23, 14, 11, 10, 9, 8, 8, 6, 6, 5]\n"
     ]
    },
    {
     "name": "stderr",
     "output_type": "stream",
     "text": [
      "172.19.0.1 - - [04/Jan/2022 08:32:33] \"GET /refreshData HTTP/1.1\" 200 -\n"
     ]
    },
    {
     "name": "stdout",
     "output_type": "stream",
     "text": [
      "labels now: ['#TheBachelor', '#Browns', '#WWERaw', '#Bachelor', '#HereWeGo', '#GodMorningTuesday', '#tuesdaymotivations', '#CLEvsPIT', '#theneighborhood', '#TikTok', '#traffic']\n",
      "data now: [63, 23, 14, 11, 10, 9, 8, 8, 6, 6, 5]\n"
     ]
    },
    {
     "name": "stderr",
     "output_type": "stream",
     "text": [
      "172.19.0.1 - - [04/Jan/2022 08:32:34] \"GET /refreshData HTTP/1.1\" 200 -\n"
     ]
    },
    {
     "name": "stdout",
     "output_type": "stream",
     "text": [
      "labels now: ['#TheBachelor', '#Browns', '#WWERaw', '#Bachelor', '#HereWeGo', '#GodMorningTuesday', '#tuesdaymotivations', '#CLEvsPIT', '#theneighborhood', '#TikTok', '#traffic']\n",
      "data now: [63, 23, 14, 11, 10, 9, 8, 8, 6, 6, 5]\n"
     ]
    },
    {
     "name": "stderr",
     "output_type": "stream",
     "text": [
      "172.19.0.1 - - [04/Jan/2022 08:32:35] \"GET /refreshData HTTP/1.1\" 200 -\n",
      "172.19.0.5 - - [04/Jan/2022 08:32:35] \"\u001b[35m\u001b[1mPOST /updateData HTTP/1.1\u001b[0m\" 201 -\n"
     ]
    },
    {
     "name": "stdout",
     "output_type": "stream",
     "text": [
      "labels now: ['#TheBachelor', '#Browns', '#WWERaw', '#Bachelor', '#HereWeGo', '#GodMorningTuesday', '#tuesdaymotivations', '#CLEvsPIT', '#theneighborhood', '#TikTok', '#traffic']\n",
      "data now: [63, 23, 14, 11, 10, 9, 8, 8, 6, 6, 5]\n",
      "labels received: ['#TheBachelor', '#Browns', '#WWERaw', '#Bachelor', '#HereWeGo', '#GodMorningTuesday', '#CLEvsPIT', '#tuesdaymotivations', '#theneighborhood', '#TikTok', '#browns']\n",
      "data received: [65, 23, 14, 11, 11, 10, 9, 8, 6, 6, 6]\n"
     ]
    },
    {
     "name": "stderr",
     "output_type": "stream",
     "text": [
      "172.19.0.1 - - [04/Jan/2022 08:32:36] \"GET /refreshData HTTP/1.1\" 200 -\n"
     ]
    },
    {
     "name": "stdout",
     "output_type": "stream",
     "text": [
      "labels now: ['#TheBachelor', '#Browns', '#WWERaw', '#Bachelor', '#HereWeGo', '#GodMorningTuesday', '#CLEvsPIT', '#tuesdaymotivations', '#theneighborhood', '#TikTok', '#browns']\n",
      "data now: [65, 23, 14, 11, 11, 10, 9, 8, 6, 6, 6]\n"
     ]
    },
    {
     "name": "stderr",
     "output_type": "stream",
     "text": [
      "172.19.0.5 - - [04/Jan/2022 08:32:36] \"\u001b[35m\u001b[1mPOST /updateData HTTP/1.1\u001b[0m\" 201 -\n"
     ]
    },
    {
     "name": "stdout",
     "output_type": "stream",
     "text": [
      "labels received: ['#TheBachelor', '#Browns', '#WWERaw', '#Bachelor', '#HereWeGo', '#GodMorningTuesday', '#CLEvsPIT', '#tuesdaymotivations', '#theneighborhood', '#TikTok', '#browns']\n",
      "data received: [65, 23, 14, 11, 11, 10, 9, 8, 6, 6, 6]\n"
     ]
    },
    {
     "name": "stderr",
     "output_type": "stream",
     "text": [
      "172.19.0.1 - - [04/Jan/2022 08:32:37] \"GET /refreshData HTTP/1.1\" 200 -\n"
     ]
    },
    {
     "name": "stdout",
     "output_type": "stream",
     "text": [
      "labels now: ['#TheBachelor', '#Browns', '#WWERaw', '#Bachelor', '#HereWeGo', '#GodMorningTuesday', '#CLEvsPIT', '#tuesdaymotivations', '#theneighborhood', '#TikTok', '#browns']\n",
      "data now: [65, 23, 14, 11, 11, 10, 9, 8, 6, 6, 6]\n"
     ]
    },
    {
     "name": "stderr",
     "output_type": "stream",
     "text": [
      "172.19.0.1 - - [04/Jan/2022 08:32:38] \"GET /refreshData HTTP/1.1\" 200 -\n"
     ]
    },
    {
     "name": "stdout",
     "output_type": "stream",
     "text": [
      "labels now: ['#TheBachelor', '#Browns', '#WWERaw', '#Bachelor', '#HereWeGo', '#GodMorningTuesday', '#CLEvsPIT', '#tuesdaymotivations', '#theneighborhood', '#TikTok', '#browns']\n",
      "data now: [65, 23, 14, 11, 11, 10, 9, 8, 6, 6, 6]\n"
     ]
    },
    {
     "name": "stderr",
     "output_type": "stream",
     "text": [
      "172.19.0.1 - - [04/Jan/2022 08:32:39] \"GET /refreshData HTTP/1.1\" 200 -\n"
     ]
    },
    {
     "name": "stdout",
     "output_type": "stream",
     "text": [
      "labels now: ['#TheBachelor', '#Browns', '#WWERaw', '#Bachelor', '#HereWeGo', '#GodMorningTuesday', '#CLEvsPIT', '#tuesdaymotivations', '#theneighborhood', '#TikTok', '#browns']\n",
      "data now: [65, 23, 14, 11, 11, 10, 9, 8, 6, 6, 6]\n"
     ]
    },
    {
     "name": "stderr",
     "output_type": "stream",
     "text": [
      "172.19.0.1 - - [04/Jan/2022 08:32:40] \"GET /refreshData HTTP/1.1\" 200 -\n"
     ]
    },
    {
     "name": "stdout",
     "output_type": "stream",
     "text": [
      "labels now: ['#TheBachelor', '#Browns', '#WWERaw', '#Bachelor', '#HereWeGo', '#GodMorningTuesday', '#CLEvsPIT', '#tuesdaymotivations', '#theneighborhood', '#TikTok', '#browns']\n",
      "data now: [65, 23, 14, 11, 11, 10, 9, 8, 6, 6, 6]\n"
     ]
    },
    {
     "name": "stderr",
     "output_type": "stream",
     "text": [
      "172.19.0.1 - - [04/Jan/2022 08:32:41] \"GET /refreshData HTTP/1.1\" 200 -\n"
     ]
    },
    {
     "name": "stdout",
     "output_type": "stream",
     "text": [
      "labels now: ['#TheBachelor', '#Browns', '#WWERaw', '#Bachelor', '#HereWeGo', '#GodMorningTuesday', '#CLEvsPIT', '#tuesdaymotivations', '#theneighborhood', '#TikTok', '#browns']\n",
      "data now: [65, 23, 14, 11, 11, 10, 9, 8, 6, 6, 6]\n"
     ]
    },
    {
     "name": "stderr",
     "output_type": "stream",
     "text": [
      "172.19.0.1 - - [04/Jan/2022 08:32:42] \"GET /refreshData HTTP/1.1\" 200 -\n"
     ]
    },
    {
     "name": "stdout",
     "output_type": "stream",
     "text": [
      "labels now: ['#TheBachelor', '#Browns', '#WWERaw', '#Bachelor', '#HereWeGo', '#GodMorningTuesday', '#CLEvsPIT', '#tuesdaymotivations', '#theneighborhood', '#TikTok', '#browns']\n",
      "data now: [65, 23, 14, 11, 11, 10, 9, 8, 6, 6, 6]\n"
     ]
    },
    {
     "name": "stderr",
     "output_type": "stream",
     "text": [
      "172.19.0.1 - - [04/Jan/2022 08:32:43] \"GET /refreshData HTTP/1.1\" 200 -\n"
     ]
    },
    {
     "name": "stdout",
     "output_type": "stream",
     "text": [
      "labels now: ['#TheBachelor', '#Browns', '#WWERaw', '#Bachelor', '#HereWeGo', '#GodMorningTuesday', '#CLEvsPIT', '#tuesdaymotivations', '#theneighborhood', '#TikTok', '#browns']\n",
      "data now: [65, 23, 14, 11, 11, 10, 9, 8, 6, 6, 6]\n"
     ]
    },
    {
     "name": "stderr",
     "output_type": "stream",
     "text": [
      "172.19.0.1 - - [04/Jan/2022 08:32:44] \"GET /refreshData HTTP/1.1\" 200 -\n"
     ]
    },
    {
     "name": "stdout",
     "output_type": "stream",
     "text": [
      "labels now: ['#TheBachelor', '#Browns', '#WWERaw', '#Bachelor', '#HereWeGo', '#GodMorningTuesday', '#CLEvsPIT', '#tuesdaymotivations', '#theneighborhood', '#TikTok', '#browns']\n",
      "data now: [65, 23, 14, 11, 11, 10, 9, 8, 6, 6, 6]\n"
     ]
    },
    {
     "name": "stderr",
     "output_type": "stream",
     "text": [
      "172.19.0.1 - - [04/Jan/2022 08:32:45] \"GET /refreshData HTTP/1.1\" 200 -\n",
      "172.19.0.5 - - [04/Jan/2022 08:32:45] \"\u001b[35m\u001b[1mPOST /updateData HTTP/1.1\u001b[0m\" 201 -\n"
     ]
    },
    {
     "name": "stdout",
     "output_type": "stream",
     "text": [
      "labels now: ['#TheBachelor', '#Browns', '#WWERaw', '#Bachelor', '#HereWeGo', '#GodMorningTuesday', '#CLEvsPIT', '#tuesdaymotivations', '#theneighborhood', '#TikTok', '#browns']\n",
      "data now: [65, 23, 14, 11, 11, 10, 9, 8, 6, 6, 6]\n",
      "labels received: ['#TheBachelor', '#Browns', '#WWERaw', '#Bachelor', '#HereWeGo', '#GodMorningTuesday', '#CLEvsPIT', '#tuesdaymotivations', '#theneighborhood', '#TikTok', '#browns']\n",
      "data received: [65, 23, 15, 11, 11, 10, 9, 8, 6, 6, 6]\n"
     ]
    },
    {
     "name": "stderr",
     "output_type": "stream",
     "text": [
      "172.19.0.1 - - [04/Jan/2022 08:32:46] \"GET /refreshData HTTP/1.1\" 200 -\n"
     ]
    },
    {
     "name": "stdout",
     "output_type": "stream",
     "text": [
      "labels now: ['#TheBachelor', '#Browns', '#WWERaw', '#Bachelor', '#HereWeGo', '#GodMorningTuesday', '#CLEvsPIT', '#tuesdaymotivations', '#theneighborhood', '#TikTok', '#browns']\n",
      "data now: [65, 23, 15, 11, 11, 10, 9, 8, 6, 6, 6]\n"
     ]
    },
    {
     "name": "stderr",
     "output_type": "stream",
     "text": [
      "172.19.0.1 - - [04/Jan/2022 08:32:47] \"GET /refreshData HTTP/1.1\" 200 -\n"
     ]
    },
    {
     "name": "stdout",
     "output_type": "stream",
     "text": [
      "labels now: ['#TheBachelor', '#Browns', '#WWERaw', '#Bachelor', '#HereWeGo', '#GodMorningTuesday', '#CLEvsPIT', '#tuesdaymotivations', '#theneighborhood', '#TikTok', '#browns']\n",
      "data now: [65, 23, 15, 11, 11, 10, 9, 8, 6, 6, 6]\n"
     ]
    },
    {
     "name": "stderr",
     "output_type": "stream",
     "text": [
      "172.19.0.1 - - [04/Jan/2022 08:32:48] \"GET /refreshData HTTP/1.1\" 200 -\n"
     ]
    },
    {
     "name": "stdout",
     "output_type": "stream",
     "text": [
      "labels now: ['#TheBachelor', '#Browns', '#WWERaw', '#Bachelor', '#HereWeGo', '#GodMorningTuesday', '#CLEvsPIT', '#tuesdaymotivations', '#theneighborhood', '#TikTok', '#browns']\n",
      "data now: [65, 23, 15, 11, 11, 10, 9, 8, 6, 6, 6]\n"
     ]
    },
    {
     "name": "stderr",
     "output_type": "stream",
     "text": [
      "172.19.0.1 - - [04/Jan/2022 08:32:49] \"GET /refreshData HTTP/1.1\" 200 -\n"
     ]
    },
    {
     "name": "stdout",
     "output_type": "stream",
     "text": [
      "labels now: ['#TheBachelor', '#Browns', '#WWERaw', '#Bachelor', '#HereWeGo', '#GodMorningTuesday', '#CLEvsPIT', '#tuesdaymotivations', '#theneighborhood', '#TikTok', '#browns']\n",
      "data now: [65, 23, 15, 11, 11, 10, 9, 8, 6, 6, 6]\n"
     ]
    },
    {
     "name": "stderr",
     "output_type": "stream",
     "text": [
      "172.19.0.1 - - [04/Jan/2022 08:32:50] \"GET /refreshData HTTP/1.1\" 200 -\n"
     ]
    },
    {
     "name": "stdout",
     "output_type": "stream",
     "text": [
      "labels now: ['#TheBachelor', '#Browns', '#WWERaw', '#Bachelor', '#HereWeGo', '#GodMorningTuesday', '#CLEvsPIT', '#tuesdaymotivations', '#theneighborhood', '#TikTok', '#browns']\n",
      "data now: [65, 23, 15, 11, 11, 10, 9, 8, 6, 6, 6]\n"
     ]
    },
    {
     "name": "stderr",
     "output_type": "stream",
     "text": [
      "172.19.0.1 - - [04/Jan/2022 08:32:51] \"GET /refreshData HTTP/1.1\" 200 -\n"
     ]
    },
    {
     "name": "stdout",
     "output_type": "stream",
     "text": [
      "labels now: ['#TheBachelor', '#Browns', '#WWERaw', '#Bachelor', '#HereWeGo', '#GodMorningTuesday', '#CLEvsPIT', '#tuesdaymotivations', '#theneighborhood', '#TikTok', '#browns']\n",
      "data now: [65, 23, 15, 11, 11, 10, 9, 8, 6, 6, 6]\n"
     ]
    },
    {
     "name": "stderr",
     "output_type": "stream",
     "text": [
      "172.19.0.1 - - [04/Jan/2022 08:32:52] \"GET /refreshData HTTP/1.1\" 200 -\n"
     ]
    },
    {
     "name": "stdout",
     "output_type": "stream",
     "text": [
      "labels now: ['#TheBachelor', '#Browns', '#WWERaw', '#Bachelor', '#HereWeGo', '#GodMorningTuesday', '#CLEvsPIT', '#tuesdaymotivations', '#theneighborhood', '#TikTok', '#browns']\n",
      "data now: [65, 23, 15, 11, 11, 10, 9, 8, 6, 6, 6]\n"
     ]
    },
    {
     "name": "stderr",
     "output_type": "stream",
     "text": [
      "172.19.0.1 - - [04/Jan/2022 08:32:53] \"GET /refreshData HTTP/1.1\" 200 -\n"
     ]
    },
    {
     "name": "stdout",
     "output_type": "stream",
     "text": [
      "labels now: ['#TheBachelor', '#Browns', '#WWERaw', '#Bachelor', '#HereWeGo', '#GodMorningTuesday', '#CLEvsPIT', '#tuesdaymotivations', '#theneighborhood', '#TikTok', '#browns']\n",
      "data now: [65, 23, 15, 11, 11, 10, 9, 8, 6, 6, 6]\n"
     ]
    },
    {
     "name": "stderr",
     "output_type": "stream",
     "text": [
      "172.19.0.1 - - [04/Jan/2022 08:32:54] \"GET /refreshData HTTP/1.1\" 200 -\n"
     ]
    },
    {
     "name": "stdout",
     "output_type": "stream",
     "text": [
      "labels now: ['#TheBachelor', '#Browns', '#WWERaw', '#Bachelor', '#HereWeGo', '#GodMorningTuesday', '#CLEvsPIT', '#tuesdaymotivations', '#theneighborhood', '#TikTok', '#browns']\n",
      "data now: [65, 23, 15, 11, 11, 10, 9, 8, 6, 6, 6]\n"
     ]
    },
    {
     "name": "stderr",
     "output_type": "stream",
     "text": [
      "172.19.0.1 - - [04/Jan/2022 08:32:55] \"GET /refreshData HTTP/1.1\" 200 -\n"
     ]
    },
    {
     "name": "stdout",
     "output_type": "stream",
     "text": [
      "labels now: ['#TheBachelor', '#Browns', '#WWERaw', '#Bachelor', '#HereWeGo', '#GodMorningTuesday', '#CLEvsPIT', '#tuesdaymotivations', '#theneighborhood', '#TikTok', '#browns']\n",
      "data now: [65, 23, 15, 11, 11, 10, 9, 8, 6, 6, 6]\n"
     ]
    },
    {
     "name": "stderr",
     "output_type": "stream",
     "text": [
      "172.19.0.1 - - [04/Jan/2022 08:32:56] \"GET /refreshData HTTP/1.1\" 200 -\n"
     ]
    },
    {
     "name": "stdout",
     "output_type": "stream",
     "text": [
      "labels now: ['#TheBachelor', '#Browns', '#WWERaw', '#Bachelor', '#HereWeGo', '#GodMorningTuesday', '#CLEvsPIT', '#tuesdaymotivations', '#theneighborhood', '#TikTok', '#browns']\n",
      "data now: [65, 23, 15, 11, 11, 10, 9, 8, 6, 6, 6]\n"
     ]
    },
    {
     "name": "stderr",
     "output_type": "stream",
     "text": [
      "172.19.0.1 - - [04/Jan/2022 08:32:57] \"GET /refreshData HTTP/1.1\" 200 -\n"
     ]
    },
    {
     "name": "stdout",
     "output_type": "stream",
     "text": [
      "labels now: ['#TheBachelor', '#Browns', '#WWERaw', '#Bachelor', '#HereWeGo', '#GodMorningTuesday', '#CLEvsPIT', '#tuesdaymotivations', '#theneighborhood', '#TikTok', '#browns']\n",
      "data now: [65, 23, 15, 11, 11, 10, 9, 8, 6, 6, 6]\n"
     ]
    },
    {
     "name": "stderr",
     "output_type": "stream",
     "text": [
      "172.19.0.1 - - [04/Jan/2022 08:32:58] \"GET /refreshData HTTP/1.1\" 200 -\n"
     ]
    },
    {
     "name": "stdout",
     "output_type": "stream",
     "text": [
      "labels now: ['#TheBachelor', '#Browns', '#WWERaw', '#Bachelor', '#HereWeGo', '#GodMorningTuesday', '#CLEvsPIT', '#tuesdaymotivations', '#theneighborhood', '#TikTok', '#browns']\n",
      "data now: [65, 23, 15, 11, 11, 10, 9, 8, 6, 6, 6]\n"
     ]
    },
    {
     "name": "stderr",
     "output_type": "stream",
     "text": [
      "172.19.0.1 - - [04/Jan/2022 08:32:59] \"GET /refreshData HTTP/1.1\" 200 -\n"
     ]
    },
    {
     "name": "stdout",
     "output_type": "stream",
     "text": [
      "labels now: ['#TheBachelor', '#Browns', '#WWERaw', '#Bachelor', '#HereWeGo', '#GodMorningTuesday', '#CLEvsPIT', '#tuesdaymotivations', '#theneighborhood', '#TikTok', '#browns']\n",
      "data now: [65, 23, 15, 11, 11, 10, 9, 8, 6, 6, 6]\n"
     ]
    },
    {
     "name": "stderr",
     "output_type": "stream",
     "text": [
      "172.19.0.1 - - [04/Jan/2022 08:33:00] \"GET /refreshData HTTP/1.1\" 200 -\n"
     ]
    },
    {
     "name": "stdout",
     "output_type": "stream",
     "text": [
      "labels now: ['#TheBachelor', '#Browns', '#WWERaw', '#Bachelor', '#HereWeGo', '#GodMorningTuesday', '#CLEvsPIT', '#tuesdaymotivations', '#theneighborhood', '#TikTok', '#browns']\n",
      "data now: [65, 23, 15, 11, 11, 10, 9, 8, 6, 6, 6]\n"
     ]
    },
    {
     "name": "stderr",
     "output_type": "stream",
     "text": [
      "172.19.0.5 - - [04/Jan/2022 08:33:01] \"\u001b[35m\u001b[1mPOST /updateData HTTP/1.1\u001b[0m\" 201 -\n"
     ]
    },
    {
     "name": "stdout",
     "output_type": "stream",
     "text": [
      "labels received: ['#TheBachelor', '#Browns', '#WWERaw', '#Bachelor', '#HereWeGo', '#GodMorningTuesday', '#CLEvsPIT', '#tuesdaymotivations', '#theneighborhood', '#TikTok', '#browns']\n",
      "data received: [67, 23, 15, 11, 11, 10, 9, 8, 6, 6, 6]\n"
     ]
    },
    {
     "name": "stderr",
     "output_type": "stream",
     "text": [
      "172.19.0.1 - - [04/Jan/2022 08:33:01] \"GET /refreshData HTTP/1.1\" 200 -\n"
     ]
    },
    {
     "name": "stdout",
     "output_type": "stream",
     "text": [
      "labels now: ['#TheBachelor', '#Browns', '#WWERaw', '#Bachelor', '#HereWeGo', '#GodMorningTuesday', '#CLEvsPIT', '#tuesdaymotivations', '#theneighborhood', '#TikTok', '#browns']\n",
      "data now: [67, 23, 15, 11, 11, 10, 9, 8, 6, 6, 6]\n"
     ]
    },
    {
     "name": "stderr",
     "output_type": "stream",
     "text": [
      "172.19.0.1 - - [04/Jan/2022 08:33:02] \"GET /refreshData HTTP/1.1\" 200 -\n"
     ]
    },
    {
     "name": "stdout",
     "output_type": "stream",
     "text": [
      "labels now: ['#TheBachelor', '#Browns', '#WWERaw', '#Bachelor', '#HereWeGo', '#GodMorningTuesday', '#CLEvsPIT', '#tuesdaymotivations', '#theneighborhood', '#TikTok', '#browns']\n",
      "data now: [67, 23, 15, 11, 11, 10, 9, 8, 6, 6, 6]\n"
     ]
    },
    {
     "name": "stderr",
     "output_type": "stream",
     "text": [
      "172.19.0.1 - - [04/Jan/2022 08:33:03] \"GET /refreshData HTTP/1.1\" 200 -\n"
     ]
    },
    {
     "name": "stdout",
     "output_type": "stream",
     "text": [
      "labels now: ['#TheBachelor', '#Browns', '#WWERaw', '#Bachelor', '#HereWeGo', '#GodMorningTuesday', '#CLEvsPIT', '#tuesdaymotivations', '#theneighborhood', '#TikTok', '#browns']\n",
      "data now: [67, 23, 15, 11, 11, 10, 9, 8, 6, 6, 6]\n"
     ]
    },
    {
     "name": "stderr",
     "output_type": "stream",
     "text": [
      "172.19.0.1 - - [04/Jan/2022 08:33:04] \"GET /refreshData HTTP/1.1\" 200 -\n"
     ]
    },
    {
     "name": "stdout",
     "output_type": "stream",
     "text": [
      "labels now: ['#TheBachelor', '#Browns', '#WWERaw', '#Bachelor', '#HereWeGo', '#GodMorningTuesday', '#CLEvsPIT', '#tuesdaymotivations', '#theneighborhood', '#TikTok', '#browns']\n",
      "data now: [67, 23, 15, 11, 11, 10, 9, 8, 6, 6, 6]\n"
     ]
    },
    {
     "name": "stderr",
     "output_type": "stream",
     "text": [
      "172.19.0.1 - - [04/Jan/2022 08:33:05] \"GET /refreshData HTTP/1.1\" 200 -\n",
      "172.19.0.5 - - [04/Jan/2022 08:33:05] \"\u001b[35m\u001b[1mPOST /updateData HTTP/1.1\u001b[0m\" 201 -\n"
     ]
    },
    {
     "name": "stdout",
     "output_type": "stream",
     "text": [
      "labels now: ['#TheBachelor', '#Browns', '#WWERaw', '#Bachelor', '#HereWeGo', '#GodMorningTuesday', '#CLEvsPIT', '#tuesdaymotivations', '#theneighborhood', '#TikTok', '#browns']\n",
      "data now: [67, 23, 15, 11, 11, 10, 9, 8, 6, 6, 6]\n",
      "labels received: ['#TheBachelor', '#Browns', '#WWERaw', '#HereWeGo', '#Bachelor', '#GodMorningTuesday', '#CLEvsPIT', '#tuesdaymotivations', '#theneighborhood', '#TikTok', '#browns']\n",
      "data received: [67, 23, 15, 12, 11, 10, 9, 8, 6, 6, 6]\n"
     ]
    },
    {
     "name": "stderr",
     "output_type": "stream",
     "text": [
      "172.19.0.1 - - [04/Jan/2022 08:33:06] \"GET /refreshData HTTP/1.1\" 200 -\n"
     ]
    },
    {
     "name": "stdout",
     "output_type": "stream",
     "text": [
      "labels now: ['#TheBachelor', '#Browns', '#WWERaw', '#HereWeGo', '#Bachelor', '#GodMorningTuesday', '#CLEvsPIT', '#tuesdaymotivations', '#theneighborhood', '#TikTok', '#browns']\n",
      "data now: [67, 23, 15, 12, 11, 10, 9, 8, 6, 6, 6]\n"
     ]
    },
    {
     "name": "stderr",
     "output_type": "stream",
     "text": [
      "172.19.0.1 - - [04/Jan/2022 08:33:07] \"GET /refreshData HTTP/1.1\" 200 -\n"
     ]
    },
    {
     "name": "stdout",
     "output_type": "stream",
     "text": [
      "labels now: ['#TheBachelor', '#Browns', '#WWERaw', '#HereWeGo', '#Bachelor', '#GodMorningTuesday', '#CLEvsPIT', '#tuesdaymotivations', '#theneighborhood', '#TikTok', '#browns']\n",
      "data now: [67, 23, 15, 12, 11, 10, 9, 8, 6, 6, 6]\n"
     ]
    },
    {
     "name": "stderr",
     "output_type": "stream",
     "text": [
      "172.19.0.1 - - [04/Jan/2022 08:33:08] \"GET /refreshData HTTP/1.1\" 200 -\n"
     ]
    },
    {
     "name": "stdout",
     "output_type": "stream",
     "text": [
      "labels now: ['#TheBachelor', '#Browns', '#WWERaw', '#HereWeGo', '#Bachelor', '#GodMorningTuesday', '#CLEvsPIT', '#tuesdaymotivations', '#theneighborhood', '#TikTok', '#browns']\n",
      "data now: [67, 23, 15, 12, 11, 10, 9, 8, 6, 6, 6]\n"
     ]
    },
    {
     "name": "stderr",
     "output_type": "stream",
     "text": [
      "172.19.0.1 - - [04/Jan/2022 08:33:09] \"GET /refreshData HTTP/1.1\" 200 -\n"
     ]
    },
    {
     "name": "stdout",
     "output_type": "stream",
     "text": [
      "labels now: ['#TheBachelor', '#Browns', '#WWERaw', '#HereWeGo', '#Bachelor', '#GodMorningTuesday', '#CLEvsPIT', '#tuesdaymotivations', '#theneighborhood', '#TikTok', '#browns']\n",
      "data now: [67, 23, 15, 12, 11, 10, 9, 8, 6, 6, 6]\n"
     ]
    },
    {
     "name": "stderr",
     "output_type": "stream",
     "text": [
      "172.19.0.1 - - [04/Jan/2022 08:33:10] \"GET /refreshData HTTP/1.1\" 200 -\n"
     ]
    },
    {
     "name": "stdout",
     "output_type": "stream",
     "text": [
      "labels now: ['#TheBachelor', '#Browns', '#WWERaw', '#HereWeGo', '#Bachelor', '#GodMorningTuesday', '#CLEvsPIT', '#tuesdaymotivations', '#theneighborhood', '#TikTok', '#browns']\n",
      "data now: [67, 23, 15, 12, 11, 10, 9, 8, 6, 6, 6]\n"
     ]
    },
    {
     "name": "stderr",
     "output_type": "stream",
     "text": [
      "172.19.0.1 - - [04/Jan/2022 08:33:11] \"GET /refreshData HTTP/1.1\" 200 -\n"
     ]
    },
    {
     "name": "stdout",
     "output_type": "stream",
     "text": [
      "labels now: ['#TheBachelor', '#Browns', '#WWERaw', '#HereWeGo', '#Bachelor', '#GodMorningTuesday', '#CLEvsPIT', '#tuesdaymotivations', '#theneighborhood', '#TikTok', '#browns']\n",
      "data now: [67, 23, 15, 12, 11, 10, 9, 8, 6, 6, 6]\n"
     ]
    },
    {
     "name": "stderr",
     "output_type": "stream",
     "text": [
      "172.19.0.1 - - [04/Jan/2022 08:33:12] \"GET /refreshData HTTP/1.1\" 200 -\n"
     ]
    },
    {
     "name": "stdout",
     "output_type": "stream",
     "text": [
      "labels now: ['#TheBachelor', '#Browns', '#WWERaw', '#HereWeGo', '#Bachelor', '#GodMorningTuesday', '#CLEvsPIT', '#tuesdaymotivations', '#theneighborhood', '#TikTok', '#browns']\n",
      "data now: [67, 23, 15, 12, 11, 10, 9, 8, 6, 6, 6]\n"
     ]
    },
    {
     "name": "stderr",
     "output_type": "stream",
     "text": [
      "172.19.0.1 - - [04/Jan/2022 08:33:13] \"GET /refreshData HTTP/1.1\" 200 -\n"
     ]
    },
    {
     "name": "stdout",
     "output_type": "stream",
     "text": [
      "labels now: ['#TheBachelor', '#Browns', '#WWERaw', '#HereWeGo', '#Bachelor', '#GodMorningTuesday', '#CLEvsPIT', '#tuesdaymotivations', '#theneighborhood', '#TikTok', '#browns']\n",
      "data now: [67, 23, 15, 12, 11, 10, 9, 8, 6, 6, 6]\n"
     ]
    },
    {
     "name": "stderr",
     "output_type": "stream",
     "text": [
      "172.19.0.1 - - [04/Jan/2022 08:33:14] \"GET /refreshData HTTP/1.1\" 200 -\n"
     ]
    },
    {
     "name": "stdout",
     "output_type": "stream",
     "text": [
      "labels now: ['#TheBachelor', '#Browns', '#WWERaw', '#HereWeGo', '#Bachelor', '#GodMorningTuesday', '#CLEvsPIT', '#tuesdaymotivations', '#theneighborhood', '#TikTok', '#browns']\n",
      "data now: [67, 23, 15, 12, 11, 10, 9, 8, 6, 6, 6]\n"
     ]
    },
    {
     "name": "stderr",
     "output_type": "stream",
     "text": [
      "172.19.0.1 - - [04/Jan/2022 08:33:15] \"GET /refreshData HTTP/1.1\" 200 -\n",
      "172.19.0.5 - - [04/Jan/2022 08:33:15] \"\u001b[35m\u001b[1mPOST /updateData HTTP/1.1\u001b[0m\" 201 -\n"
     ]
    },
    {
     "name": "stdout",
     "output_type": "stream",
     "text": [
      "labels now: ['#TheBachelor', '#Browns', '#WWERaw', '#HereWeGo', '#Bachelor', '#GodMorningTuesday', '#CLEvsPIT', '#tuesdaymotivations', '#theneighborhood', '#TikTok', '#browns']\n",
      "data now: [67, 23, 15, 12, 11, 10, 9, 8, 6, 6, 6]\n",
      "labels received: ['#TheBachelor', '#Browns', '#WWERaw', '#HereWeGo', '#Bachelor', '#GodMorningTuesday', '#CLEvsPIT', '#tuesdaymotivations', '#theneighborhood', '#TikTok', '#browns']\n",
      "data received: [68, 23, 15, 12, 11, 10, 9, 8, 6, 6, 6]\n"
     ]
    },
    {
     "name": "stderr",
     "output_type": "stream",
     "text": [
      "172.19.0.1 - - [04/Jan/2022 08:33:16] \"GET /refreshData HTTP/1.1\" 200 -\n"
     ]
    },
    {
     "name": "stdout",
     "output_type": "stream",
     "text": [
      "labels now: ['#TheBachelor', '#Browns', '#WWERaw', '#HereWeGo', '#Bachelor', '#GodMorningTuesday', '#CLEvsPIT', '#tuesdaymotivations', '#theneighborhood', '#TikTok', '#browns']\n",
      "data now: [68, 23, 15, 12, 11, 10, 9, 8, 6, 6, 6]\n"
     ]
    },
    {
     "name": "stderr",
     "output_type": "stream",
     "text": [
      "172.19.0.1 - - [04/Jan/2022 08:33:17] \"GET /refreshData HTTP/1.1\" 200 -\n"
     ]
    },
    {
     "name": "stdout",
     "output_type": "stream",
     "text": [
      "labels now: ['#TheBachelor', '#Browns', '#WWERaw', '#HereWeGo', '#Bachelor', '#GodMorningTuesday', '#CLEvsPIT', '#tuesdaymotivations', '#theneighborhood', '#TikTok', '#browns']\n",
      "data now: [68, 23, 15, 12, 11, 10, 9, 8, 6, 6, 6]\n"
     ]
    },
    {
     "name": "stderr",
     "output_type": "stream",
     "text": [
      "172.19.0.1 - - [04/Jan/2022 08:33:18] \"GET /refreshData HTTP/1.1\" 200 -\n"
     ]
    },
    {
     "name": "stdout",
     "output_type": "stream",
     "text": [
      "labels now: ['#TheBachelor', '#Browns', '#WWERaw', '#HereWeGo', '#Bachelor', '#GodMorningTuesday', '#CLEvsPIT', '#tuesdaymotivations', '#theneighborhood', '#TikTok', '#browns']\n",
      "data now: [68, 23, 15, 12, 11, 10, 9, 8, 6, 6, 6]\n"
     ]
    },
    {
     "name": "stderr",
     "output_type": "stream",
     "text": [
      "172.19.0.1 - - [04/Jan/2022 08:33:19] \"GET /refreshData HTTP/1.1\" 200 -\n"
     ]
    },
    {
     "name": "stdout",
     "output_type": "stream",
     "text": [
      "labels now: ['#TheBachelor', '#Browns', '#WWERaw', '#HereWeGo', '#Bachelor', '#GodMorningTuesday', '#CLEvsPIT', '#tuesdaymotivations', '#theneighborhood', '#TikTok', '#browns']\n",
      "data now: [68, 23, 15, 12, 11, 10, 9, 8, 6, 6, 6]\n"
     ]
    },
    {
     "name": "stderr",
     "output_type": "stream",
     "text": [
      "172.19.0.1 - - [04/Jan/2022 08:33:20] \"GET /refreshData HTTP/1.1\" 200 -\n"
     ]
    },
    {
     "name": "stdout",
     "output_type": "stream",
     "text": [
      "labels now: ['#TheBachelor', '#Browns', '#WWERaw', '#HereWeGo', '#Bachelor', '#GodMorningTuesday', '#CLEvsPIT', '#tuesdaymotivations', '#theneighborhood', '#TikTok', '#browns']\n",
      "data now: [68, 23, 15, 12, 11, 10, 9, 8, 6, 6, 6]\n"
     ]
    },
    {
     "name": "stderr",
     "output_type": "stream",
     "text": [
      "172.19.0.1 - - [04/Jan/2022 08:33:21] \"GET /refreshData HTTP/1.1\" 200 -\n"
     ]
    },
    {
     "name": "stdout",
     "output_type": "stream",
     "text": [
      "labels now: ['#TheBachelor', '#Browns', '#WWERaw', '#HereWeGo', '#Bachelor', '#GodMorningTuesday', '#CLEvsPIT', '#tuesdaymotivations', '#theneighborhood', '#TikTok', '#browns']\n",
      "data now: [68, 23, 15, 12, 11, 10, 9, 8, 6, 6, 6]\n"
     ]
    },
    {
     "name": "stderr",
     "output_type": "stream",
     "text": [
      "172.19.0.1 - - [04/Jan/2022 08:33:22] \"GET /refreshData HTTP/1.1\" 200 -\n"
     ]
    },
    {
     "name": "stdout",
     "output_type": "stream",
     "text": [
      "labels now: ['#TheBachelor', '#Browns', '#WWERaw', '#HereWeGo', '#Bachelor', '#GodMorningTuesday', '#CLEvsPIT', '#tuesdaymotivations', '#theneighborhood', '#TikTok', '#browns']\n",
      "data now: [68, 23, 15, 12, 11, 10, 9, 8, 6, 6, 6]\n"
     ]
    },
    {
     "name": "stderr",
     "output_type": "stream",
     "text": [
      "172.19.0.1 - - [04/Jan/2022 08:33:23] \"GET /refreshData HTTP/1.1\" 200 -\n"
     ]
    },
    {
     "name": "stdout",
     "output_type": "stream",
     "text": [
      "labels now: ['#TheBachelor', '#Browns', '#WWERaw', '#HereWeGo', '#Bachelor', '#GodMorningTuesday', '#CLEvsPIT', '#tuesdaymotivations', '#theneighborhood', '#TikTok', '#browns']\n",
      "data now: [68, 23, 15, 12, 11, 10, 9, 8, 6, 6, 6]\n"
     ]
    },
    {
     "name": "stderr",
     "output_type": "stream",
     "text": [
      "172.19.0.1 - - [04/Jan/2022 08:33:24] \"GET /refreshData HTTP/1.1\" 200 -\n"
     ]
    },
    {
     "name": "stdout",
     "output_type": "stream",
     "text": [
      "labels now: ['#TheBachelor', '#Browns', '#WWERaw', '#HereWeGo', '#Bachelor', '#GodMorningTuesday', '#CLEvsPIT', '#tuesdaymotivations', '#theneighborhood', '#TikTok', '#browns']\n",
      "data now: [68, 23, 15, 12, 11, 10, 9, 8, 6, 6, 6]\n"
     ]
    },
    {
     "name": "stderr",
     "output_type": "stream",
     "text": [
      "172.19.0.1 - - [04/Jan/2022 08:33:25] \"GET /refreshData HTTP/1.1\" 200 -\n"
     ]
    },
    {
     "name": "stdout",
     "output_type": "stream",
     "text": [
      "labels now: ['#TheBachelor', '#Browns', '#WWERaw', '#HereWeGo', '#Bachelor', '#GodMorningTuesday', '#CLEvsPIT', '#tuesdaymotivations', '#theneighborhood', '#TikTok', '#browns']\n",
      "data now: [68, 23, 15, 12, 11, 10, 9, 8, 6, 6, 6]\n"
     ]
    },
    {
     "name": "stderr",
     "output_type": "stream",
     "text": [
      "172.19.0.1 - - [04/Jan/2022 08:33:26] \"GET /refreshData HTTP/1.1\" 200 -\n"
     ]
    },
    {
     "name": "stdout",
     "output_type": "stream",
     "text": [
      "labels now: ['#TheBachelor', '#Browns', '#WWERaw', '#HereWeGo', '#Bachelor', '#GodMorningTuesday', '#CLEvsPIT', '#tuesdaymotivations', '#theneighborhood', '#TikTok', '#browns']\n",
      "data now: [68, 23, 15, 12, 11, 10, 9, 8, 6, 6, 6]\n"
     ]
    },
    {
     "name": "stderr",
     "output_type": "stream",
     "text": [
      "172.19.0.1 - - [04/Jan/2022 08:33:27] \"GET /refreshData HTTP/1.1\" 200 -\n"
     ]
    },
    {
     "name": "stdout",
     "output_type": "stream",
     "text": [
      "labels now: ['#TheBachelor', '#Browns', '#WWERaw', '#HereWeGo', '#Bachelor', '#GodMorningTuesday', '#CLEvsPIT', '#tuesdaymotivations', '#theneighborhood', '#TikTok', '#browns']\n",
      "data now: [68, 23, 15, 12, 11, 10, 9, 8, 6, 6, 6]\n"
     ]
    },
    {
     "name": "stderr",
     "output_type": "stream",
     "text": [
      "172.19.0.1 - - [04/Jan/2022 08:33:28] \"GET /refreshData HTTP/1.1\" 200 -\n"
     ]
    },
    {
     "name": "stdout",
     "output_type": "stream",
     "text": [
      "labels now: ['#TheBachelor', '#Browns', '#WWERaw', '#HereWeGo', '#Bachelor', '#GodMorningTuesday', '#CLEvsPIT', '#tuesdaymotivations', '#theneighborhood', '#TikTok', '#browns']\n",
      "data now: [68, 23, 15, 12, 11, 10, 9, 8, 6, 6, 6]\n"
     ]
    },
    {
     "name": "stderr",
     "output_type": "stream",
     "text": [
      "172.19.0.1 - - [04/Jan/2022 08:33:29] \"GET /refreshData HTTP/1.1\" 200 -\n"
     ]
    },
    {
     "name": "stdout",
     "output_type": "stream",
     "text": [
      "labels now: ['#TheBachelor', '#Browns', '#WWERaw', '#HereWeGo', '#Bachelor', '#GodMorningTuesday', '#CLEvsPIT', '#tuesdaymotivations', '#theneighborhood', '#TikTok', '#browns']\n",
      "data now: [68, 23, 15, 12, 11, 10, 9, 8, 6, 6, 6]\n"
     ]
    },
    {
     "name": "stderr",
     "output_type": "stream",
     "text": [
      "172.19.0.1 - - [04/Jan/2022 08:33:30] \"GET /refreshData HTTP/1.1\" 200 -\n"
     ]
    },
    {
     "name": "stdout",
     "output_type": "stream",
     "text": [
      "labels now: ['#TheBachelor', '#Browns', '#WWERaw', '#HereWeGo', '#Bachelor', '#GodMorningTuesday', '#CLEvsPIT', '#tuesdaymotivations', '#theneighborhood', '#TikTok', '#browns']\n",
      "data now: [68, 23, 15, 12, 11, 10, 9, 8, 6, 6, 6]\n"
     ]
    },
    {
     "name": "stderr",
     "output_type": "stream",
     "text": [
      "172.19.0.1 - - [04/Jan/2022 08:33:31] \"GET /refreshData HTTP/1.1\" 200 -\n"
     ]
    },
    {
     "name": "stdout",
     "output_type": "stream",
     "text": [
      "labels now: ['#TheBachelor', '#Browns', '#WWERaw', '#HereWeGo', '#Bachelor', '#GodMorningTuesday', '#CLEvsPIT', '#tuesdaymotivations', '#theneighborhood', '#TikTok', '#browns']\n",
      "data now: [68, 23, 15, 12, 11, 10, 9, 8, 6, 6, 6]\n"
     ]
    },
    {
     "name": "stderr",
     "output_type": "stream",
     "text": [
      "172.19.0.1 - - [04/Jan/2022 08:33:32] \"GET /refreshData HTTP/1.1\" 200 -\n"
     ]
    },
    {
     "name": "stdout",
     "output_type": "stream",
     "text": [
      "labels now: ['#TheBachelor', '#Browns', '#WWERaw', '#HereWeGo', '#Bachelor', '#GodMorningTuesday', '#CLEvsPIT', '#tuesdaymotivations', '#theneighborhood', '#TikTok', '#browns']\n",
      "data now: [68, 23, 15, 12, 11, 10, 9, 8, 6, 6, 6]\n"
     ]
    },
    {
     "name": "stderr",
     "output_type": "stream",
     "text": [
      "172.19.0.1 - - [04/Jan/2022 08:33:33] \"GET /refreshData HTTP/1.1\" 200 -\n"
     ]
    },
    {
     "name": "stdout",
     "output_type": "stream",
     "text": [
      "labels now: ['#TheBachelor', '#Browns', '#WWERaw', '#HereWeGo', '#Bachelor', '#GodMorningTuesday', '#CLEvsPIT', '#tuesdaymotivations', '#theneighborhood', '#TikTok', '#browns']\n",
      "data now: [68, 23, 15, 12, 11, 10, 9, 8, 6, 6, 6]\n"
     ]
    },
    {
     "name": "stderr",
     "output_type": "stream",
     "text": [
      "172.19.0.1 - - [04/Jan/2022 08:33:34] \"GET /refreshData HTTP/1.1\" 200 -\n"
     ]
    },
    {
     "name": "stdout",
     "output_type": "stream",
     "text": [
      "labels now: ['#TheBachelor', '#Browns', '#WWERaw', '#HereWeGo', '#Bachelor', '#GodMorningTuesday', '#CLEvsPIT', '#tuesdaymotivations', '#theneighborhood', '#TikTok', '#browns']\n",
      "data now: [68, 23, 15, 12, 11, 10, 9, 8, 6, 6, 6]\n"
     ]
    },
    {
     "name": "stderr",
     "output_type": "stream",
     "text": [
      "172.19.0.1 - - [04/Jan/2022 08:33:35] \"GET /refreshData HTTP/1.1\" 200 -\n"
     ]
    },
    {
     "name": "stdout",
     "output_type": "stream",
     "text": [
      "labels now: ['#TheBachelor', '#Browns', '#WWERaw', '#HereWeGo', '#Bachelor', '#GodMorningTuesday', '#CLEvsPIT', '#tuesdaymotivations', '#theneighborhood', '#TikTok', '#browns']\n",
      "data now: [68, 23, 15, 12, 11, 10, 9, 8, 6, 6, 6]\n"
     ]
    },
    {
     "name": "stderr",
     "output_type": "stream",
     "text": [
      "172.19.0.1 - - [04/Jan/2022 08:33:36] \"GET /refreshData HTTP/1.1\" 200 -\n"
     ]
    },
    {
     "name": "stdout",
     "output_type": "stream",
     "text": [
      "labels now: ['#TheBachelor', '#Browns', '#WWERaw', '#HereWeGo', '#Bachelor', '#GodMorningTuesday', '#CLEvsPIT', '#tuesdaymotivations', '#theneighborhood', '#TikTok', '#browns']\n",
      "data now: [68, 23, 15, 12, 11, 10, 9, 8, 6, 6, 6]\n"
     ]
    },
    {
     "name": "stderr",
     "output_type": "stream",
     "text": [
      "172.19.0.1 - - [04/Jan/2022 08:33:37] \"GET /refreshData HTTP/1.1\" 200 -\n"
     ]
    },
    {
     "name": "stdout",
     "output_type": "stream",
     "text": [
      "labels now: ['#TheBachelor', '#Browns', '#WWERaw', '#HereWeGo', '#Bachelor', '#GodMorningTuesday', '#CLEvsPIT', '#tuesdaymotivations', '#theneighborhood', '#TikTok', '#browns']\n",
      "data now: [68, 23, 15, 12, 11, 10, 9, 8, 6, 6, 6]\n"
     ]
    },
    {
     "name": "stderr",
     "output_type": "stream",
     "text": [
      "172.19.0.1 - - [04/Jan/2022 08:33:38] \"GET /refreshData HTTP/1.1\" 200 -\n"
     ]
    },
    {
     "name": "stdout",
     "output_type": "stream",
     "text": [
      "labels now: ['#TheBachelor', '#Browns', '#WWERaw', '#HereWeGo', '#Bachelor', '#GodMorningTuesday', '#CLEvsPIT', '#tuesdaymotivations', '#theneighborhood', '#TikTok', '#browns']\n",
      "data now: [68, 23, 15, 12, 11, 10, 9, 8, 6, 6, 6]\n"
     ]
    },
    {
     "name": "stderr",
     "output_type": "stream",
     "text": [
      "172.19.0.1 - - [04/Jan/2022 08:33:39] \"GET /refreshData HTTP/1.1\" 200 -\n"
     ]
    },
    {
     "name": "stdout",
     "output_type": "stream",
     "text": [
      "labels now: ['#TheBachelor', '#Browns', '#WWERaw', '#HereWeGo', '#Bachelor', '#GodMorningTuesday', '#CLEvsPIT', '#tuesdaymotivations', '#theneighborhood', '#TikTok', '#browns']\n",
      "data now: [68, 23, 15, 12, 11, 10, 9, 8, 6, 6, 6]\n"
     ]
    },
    {
     "name": "stderr",
     "output_type": "stream",
     "text": [
      "172.19.0.1 - - [04/Jan/2022 08:33:40] \"GET /refreshData HTTP/1.1\" 200 -\n"
     ]
    },
    {
     "name": "stdout",
     "output_type": "stream",
     "text": [
      "labels now: ['#TheBachelor', '#Browns', '#WWERaw', '#HereWeGo', '#Bachelor', '#GodMorningTuesday', '#CLEvsPIT', '#tuesdaymotivations', '#theneighborhood', '#TikTok', '#browns']\n",
      "data now: [68, 23, 15, 12, 11, 10, 9, 8, 6, 6, 6]\n"
     ]
    },
    {
     "name": "stderr",
     "output_type": "stream",
     "text": [
      "172.19.0.1 - - [04/Jan/2022 08:33:41] \"GET /refreshData HTTP/1.1\" 200 -\n"
     ]
    },
    {
     "name": "stdout",
     "output_type": "stream",
     "text": [
      "labels now: ['#TheBachelor', '#Browns', '#WWERaw', '#HereWeGo', '#Bachelor', '#GodMorningTuesday', '#CLEvsPIT', '#tuesdaymotivations', '#theneighborhood', '#TikTok', '#browns']\n",
      "data now: [68, 23, 15, 12, 11, 10, 9, 8, 6, 6, 6]\n"
     ]
    },
    {
     "name": "stderr",
     "output_type": "stream",
     "text": [
      "172.19.0.1 - - [04/Jan/2022 08:33:42] \"GET /refreshData HTTP/1.1\" 200 -\n"
     ]
    },
    {
     "name": "stdout",
     "output_type": "stream",
     "text": [
      "labels now: ['#TheBachelor', '#Browns', '#WWERaw', '#HereWeGo', '#Bachelor', '#GodMorningTuesday', '#CLEvsPIT', '#tuesdaymotivations', '#theneighborhood', '#TikTok', '#browns']\n",
      "data now: [68, 23, 15, 12, 11, 10, 9, 8, 6, 6, 6]\n"
     ]
    },
    {
     "name": "stderr",
     "output_type": "stream",
     "text": [
      "172.19.0.1 - - [04/Jan/2022 08:33:43] \"GET /refreshData HTTP/1.1\" 200 -\n"
     ]
    },
    {
     "name": "stdout",
     "output_type": "stream",
     "text": [
      "labels now: ['#TheBachelor', '#Browns', '#WWERaw', '#HereWeGo', '#Bachelor', '#GodMorningTuesday', '#CLEvsPIT', '#tuesdaymotivations', '#theneighborhood', '#TikTok', '#browns']\n",
      "data now: [68, 23, 15, 12, 11, 10, 9, 8, 6, 6, 6]\n"
     ]
    },
    {
     "name": "stderr",
     "output_type": "stream",
     "text": [
      "172.19.0.1 - - [04/Jan/2022 08:33:44] \"GET /refreshData HTTP/1.1\" 200 -\n"
     ]
    },
    {
     "name": "stdout",
     "output_type": "stream",
     "text": [
      "labels now: ['#TheBachelor', '#Browns', '#WWERaw', '#HereWeGo', '#Bachelor', '#GodMorningTuesday', '#CLEvsPIT', '#tuesdaymotivations', '#theneighborhood', '#TikTok', '#browns']\n",
      "data now: [68, 23, 15, 12, 11, 10, 9, 8, 6, 6, 6]\n"
     ]
    },
    {
     "name": "stderr",
     "output_type": "stream",
     "text": [
      "172.19.0.1 - - [04/Jan/2022 08:33:45] \"GET /refreshData HTTP/1.1\" 200 -\n"
     ]
    },
    {
     "name": "stdout",
     "output_type": "stream",
     "text": [
      "labels now: ['#TheBachelor', '#Browns', '#WWERaw', '#HereWeGo', '#Bachelor', '#GodMorningTuesday', '#CLEvsPIT', '#tuesdaymotivations', '#theneighborhood', '#TikTok', '#browns']\n",
      "data now: [68, 23, 15, 12, 11, 10, 9, 8, 6, 6, 6]\n"
     ]
    },
    {
     "name": "stderr",
     "output_type": "stream",
     "text": [
      "172.19.0.1 - - [04/Jan/2022 08:33:46] \"GET /refreshData HTTP/1.1\" 200 -\n"
     ]
    },
    {
     "name": "stdout",
     "output_type": "stream",
     "text": [
      "labels now: ['#TheBachelor', '#Browns', '#WWERaw', '#HereWeGo', '#Bachelor', '#GodMorningTuesday', '#CLEvsPIT', '#tuesdaymotivations', '#theneighborhood', '#TikTok', '#browns']\n",
      "data now: [68, 23, 15, 12, 11, 10, 9, 8, 6, 6, 6]\n"
     ]
    },
    {
     "name": "stderr",
     "output_type": "stream",
     "text": [
      "172.19.0.1 - - [04/Jan/2022 08:33:47] \"GET /refreshData HTTP/1.1\" 200 -\n"
     ]
    },
    {
     "name": "stdout",
     "output_type": "stream",
     "text": [
      "labels now: ['#TheBachelor', '#Browns', '#WWERaw', '#HereWeGo', '#Bachelor', '#GodMorningTuesday', '#CLEvsPIT', '#tuesdaymotivations', '#theneighborhood', '#TikTok', '#browns']\n",
      "data now: [68, 23, 15, 12, 11, 10, 9, 8, 6, 6, 6]\n"
     ]
    },
    {
     "name": "stderr",
     "output_type": "stream",
     "text": [
      "172.19.0.1 - - [04/Jan/2022 08:33:48] \"GET /refreshData HTTP/1.1\" 200 -\n"
     ]
    },
    {
     "name": "stdout",
     "output_type": "stream",
     "text": [
      "labels now: ['#TheBachelor', '#Browns', '#WWERaw', '#HereWeGo', '#Bachelor', '#GodMorningTuesday', '#CLEvsPIT', '#tuesdaymotivations', '#theneighborhood', '#TikTok', '#browns']\n",
      "data now: [68, 23, 15, 12, 11, 10, 9, 8, 6, 6, 6]\n"
     ]
    },
    {
     "name": "stderr",
     "output_type": "stream",
     "text": [
      "172.19.0.1 - - [04/Jan/2022 08:33:49] \"GET /refreshData HTTP/1.1\" 200 -\n"
     ]
    },
    {
     "name": "stdout",
     "output_type": "stream",
     "text": [
      "labels now: ['#TheBachelor', '#Browns', '#WWERaw', '#HereWeGo', '#Bachelor', '#GodMorningTuesday', '#CLEvsPIT', '#tuesdaymotivations', '#theneighborhood', '#TikTok', '#browns']\n",
      "data now: [68, 23, 15, 12, 11, 10, 9, 8, 6, 6, 6]\n"
     ]
    },
    {
     "name": "stderr",
     "output_type": "stream",
     "text": [
      "172.19.0.1 - - [04/Jan/2022 08:33:50] \"GET /refreshData HTTP/1.1\" 200 -\n"
     ]
    },
    {
     "name": "stdout",
     "output_type": "stream",
     "text": [
      "labels now: ['#TheBachelor', '#Browns', '#WWERaw', '#HereWeGo', '#Bachelor', '#GodMorningTuesday', '#CLEvsPIT', '#tuesdaymotivations', '#theneighborhood', '#TikTok', '#browns']\n",
      "data now: [68, 23, 15, 12, 11, 10, 9, 8, 6, 6, 6]\n"
     ]
    },
    {
     "name": "stderr",
     "output_type": "stream",
     "text": [
      "172.19.0.1 - - [04/Jan/2022 08:33:51] \"GET /refreshData HTTP/1.1\" 200 -\n"
     ]
    },
    {
     "name": "stdout",
     "output_type": "stream",
     "text": [
      "labels now: ['#TheBachelor', '#Browns', '#WWERaw', '#HereWeGo', '#Bachelor', '#GodMorningTuesday', '#CLEvsPIT', '#tuesdaymotivations', '#theneighborhood', '#TikTok', '#browns']\n",
      "data now: [68, 23, 15, 12, 11, 10, 9, 8, 6, 6, 6]\n"
     ]
    },
    {
     "name": "stderr",
     "output_type": "stream",
     "text": [
      "172.19.0.1 - - [04/Jan/2022 08:33:52] \"GET /refreshData HTTP/1.1\" 200 -\n"
     ]
    },
    {
     "name": "stdout",
     "output_type": "stream",
     "text": [
      "labels now: ['#TheBachelor', '#Browns', '#WWERaw', '#HereWeGo', '#Bachelor', '#GodMorningTuesday', '#CLEvsPIT', '#tuesdaymotivations', '#theneighborhood', '#TikTok', '#browns']\n",
      "data now: [68, 23, 15, 12, 11, 10, 9, 8, 6, 6, 6]\n"
     ]
    },
    {
     "name": "stderr",
     "output_type": "stream",
     "text": [
      "172.19.0.1 - - [04/Jan/2022 08:33:53] \"GET /refreshData HTTP/1.1\" 200 -\n"
     ]
    },
    {
     "name": "stdout",
     "output_type": "stream",
     "text": [
      "labels now: ['#TheBachelor', '#Browns', '#WWERaw', '#HereWeGo', '#Bachelor', '#GodMorningTuesday', '#CLEvsPIT', '#tuesdaymotivations', '#theneighborhood', '#TikTok', '#browns']\n",
      "data now: [68, 23, 15, 12, 11, 10, 9, 8, 6, 6, 6]\n"
     ]
    },
    {
     "name": "stderr",
     "output_type": "stream",
     "text": [
      "172.19.0.1 - - [04/Jan/2022 08:33:54] \"GET /refreshData HTTP/1.1\" 200 -\n"
     ]
    },
    {
     "name": "stdout",
     "output_type": "stream",
     "text": [
      "labels now: ['#TheBachelor', '#Browns', '#WWERaw', '#HereWeGo', '#Bachelor', '#GodMorningTuesday', '#CLEvsPIT', '#tuesdaymotivations', '#theneighborhood', '#TikTok', '#browns']\n",
      "data now: [68, 23, 15, 12, 11, 10, 9, 8, 6, 6, 6]\n"
     ]
    },
    {
     "name": "stderr",
     "output_type": "stream",
     "text": [
      "172.19.0.1 - - [04/Jan/2022 08:33:55] \"GET /refreshData HTTP/1.1\" 200 -\n"
     ]
    },
    {
     "name": "stdout",
     "output_type": "stream",
     "text": [
      "labels now: ['#TheBachelor', '#Browns', '#WWERaw', '#HereWeGo', '#Bachelor', '#GodMorningTuesday', '#CLEvsPIT', '#tuesdaymotivations', '#theneighborhood', '#TikTok', '#browns']\n",
      "data now: [68, 23, 15, 12, 11, 10, 9, 8, 6, 6, 6]\n"
     ]
    },
    {
     "name": "stderr",
     "output_type": "stream",
     "text": [
      "172.19.0.1 - - [04/Jan/2022 08:33:56] \"GET /refreshData HTTP/1.1\" 200 -\n"
     ]
    },
    {
     "name": "stdout",
     "output_type": "stream",
     "text": [
      "labels now: ['#TheBachelor', '#Browns', '#WWERaw', '#HereWeGo', '#Bachelor', '#GodMorningTuesday', '#CLEvsPIT', '#tuesdaymotivations', '#theneighborhood', '#TikTok', '#browns']\n",
      "data now: [68, 23, 15, 12, 11, 10, 9, 8, 6, 6, 6]\n"
     ]
    },
    {
     "name": "stderr",
     "output_type": "stream",
     "text": [
      "172.19.0.1 - - [04/Jan/2022 08:33:57] \"GET /refreshData HTTP/1.1\" 200 -\n"
     ]
    },
    {
     "name": "stdout",
     "output_type": "stream",
     "text": [
      "labels now: ['#TheBachelor', '#Browns', '#WWERaw', '#HereWeGo', '#Bachelor', '#GodMorningTuesday', '#CLEvsPIT', '#tuesdaymotivations', '#theneighborhood', '#TikTok', '#browns']\n",
      "data now: [68, 23, 15, 12, 11, 10, 9, 8, 6, 6, 6]\n"
     ]
    },
    {
     "name": "stderr",
     "output_type": "stream",
     "text": [
      "172.19.0.1 - - [04/Jan/2022 08:33:58] \"GET /refreshData HTTP/1.1\" 200 -\n"
     ]
    },
    {
     "name": "stdout",
     "output_type": "stream",
     "text": [
      "labels now: ['#TheBachelor', '#Browns', '#WWERaw', '#HereWeGo', '#Bachelor', '#GodMorningTuesday', '#CLEvsPIT', '#tuesdaymotivations', '#theneighborhood', '#TikTok', '#browns']\n",
      "data now: [68, 23, 15, 12, 11, 10, 9, 8, 6, 6, 6]\n"
     ]
    },
    {
     "name": "stderr",
     "output_type": "stream",
     "text": [
      "172.19.0.1 - - [04/Jan/2022 08:33:59] \"GET /refreshData HTTP/1.1\" 200 -\n"
     ]
    },
    {
     "name": "stdout",
     "output_type": "stream",
     "text": [
      "labels now: ['#TheBachelor', '#Browns', '#WWERaw', '#HereWeGo', '#Bachelor', '#GodMorningTuesday', '#CLEvsPIT', '#tuesdaymotivations', '#theneighborhood', '#TikTok', '#browns']\n",
      "data now: [68, 23, 15, 12, 11, 10, 9, 8, 6, 6, 6]\n"
     ]
    },
    {
     "name": "stderr",
     "output_type": "stream",
     "text": [
      "172.19.0.1 - - [04/Jan/2022 08:34:00] \"GET /refreshData HTTP/1.1\" 200 -\n"
     ]
    },
    {
     "name": "stdout",
     "output_type": "stream",
     "text": [
      "labels now: ['#TheBachelor', '#Browns', '#WWERaw', '#HereWeGo', '#Bachelor', '#GodMorningTuesday', '#CLEvsPIT', '#tuesdaymotivations', '#theneighborhood', '#TikTok', '#browns']\n",
      "data now: [68, 23, 15, 12, 11, 10, 9, 8, 6, 6, 6]\n"
     ]
    },
    {
     "name": "stderr",
     "output_type": "stream",
     "text": [
      "172.19.0.1 - - [04/Jan/2022 08:34:01] \"GET /refreshData HTTP/1.1\" 200 -\n"
     ]
    },
    {
     "name": "stdout",
     "output_type": "stream",
     "text": [
      "labels now: ['#TheBachelor', '#Browns', '#WWERaw', '#HereWeGo', '#Bachelor', '#GodMorningTuesday', '#CLEvsPIT', '#tuesdaymotivations', '#theneighborhood', '#TikTok', '#browns']\n",
      "data now: [68, 23, 15, 12, 11, 10, 9, 8, 6, 6, 6]\n"
     ]
    },
    {
     "name": "stderr",
     "output_type": "stream",
     "text": [
      "172.19.0.1 - - [04/Jan/2022 08:34:02] \"GET /refreshData HTTP/1.1\" 200 -\n"
     ]
    },
    {
     "name": "stdout",
     "output_type": "stream",
     "text": [
      "labels now: ['#TheBachelor', '#Browns', '#WWERaw', '#HereWeGo', '#Bachelor', '#GodMorningTuesday', '#CLEvsPIT', '#tuesdaymotivations', '#theneighborhood', '#TikTok', '#browns']\n",
      "data now: [68, 23, 15, 12, 11, 10, 9, 8, 6, 6, 6]\n"
     ]
    },
    {
     "name": "stderr",
     "output_type": "stream",
     "text": [
      "172.19.0.1 - - [04/Jan/2022 08:34:03] \"GET /refreshData HTTP/1.1\" 200 -\n"
     ]
    },
    {
     "name": "stdout",
     "output_type": "stream",
     "text": [
      "labels now: ['#TheBachelor', '#Browns', '#WWERaw', '#HereWeGo', '#Bachelor', '#GodMorningTuesday', '#CLEvsPIT', '#tuesdaymotivations', '#theneighborhood', '#TikTok', '#browns']\n",
      "data now: [68, 23, 15, 12, 11, 10, 9, 8, 6, 6, 6]\n"
     ]
    },
    {
     "name": "stderr",
     "output_type": "stream",
     "text": [
      "172.19.0.1 - - [04/Jan/2022 08:34:04] \"GET /refreshData HTTP/1.1\" 200 -\n"
     ]
    },
    {
     "name": "stdout",
     "output_type": "stream",
     "text": [
      "labels now: ['#TheBachelor', '#Browns', '#WWERaw', '#HereWeGo', '#Bachelor', '#GodMorningTuesday', '#CLEvsPIT', '#tuesdaymotivations', '#theneighborhood', '#TikTok', '#browns']\n",
      "data now: [68, 23, 15, 12, 11, 10, 9, 8, 6, 6, 6]\n"
     ]
    },
    {
     "name": "stderr",
     "output_type": "stream",
     "text": [
      "172.19.0.1 - - [04/Jan/2022 08:34:05] \"GET /refreshData HTTP/1.1\" 200 -\n"
     ]
    },
    {
     "name": "stdout",
     "output_type": "stream",
     "text": [
      "labels now: ['#TheBachelor', '#Browns', '#WWERaw', '#HereWeGo', '#Bachelor', '#GodMorningTuesday', '#CLEvsPIT', '#tuesdaymotivations', '#theneighborhood', '#TikTok', '#browns']\n",
      "data now: [68, 23, 15, 12, 11, 10, 9, 8, 6, 6, 6]\n"
     ]
    },
    {
     "name": "stderr",
     "output_type": "stream",
     "text": [
      "172.19.0.1 - - [04/Jan/2022 08:34:06] \"GET /refreshData HTTP/1.1\" 200 -\n"
     ]
    },
    {
     "name": "stdout",
     "output_type": "stream",
     "text": [
      "labels now: ['#TheBachelor', '#Browns', '#WWERaw', '#HereWeGo', '#Bachelor', '#GodMorningTuesday', '#CLEvsPIT', '#tuesdaymotivations', '#theneighborhood', '#TikTok', '#browns']\n",
      "data now: [68, 23, 15, 12, 11, 10, 9, 8, 6, 6, 6]\n"
     ]
    },
    {
     "name": "stderr",
     "output_type": "stream",
     "text": [
      "172.19.0.1 - - [04/Jan/2022 08:34:07] \"GET /refreshData HTTP/1.1\" 200 -\n"
     ]
    },
    {
     "name": "stdout",
     "output_type": "stream",
     "text": [
      "labels now: ['#TheBachelor', '#Browns', '#WWERaw', '#HereWeGo', '#Bachelor', '#GodMorningTuesday', '#CLEvsPIT', '#tuesdaymotivations', '#theneighborhood', '#TikTok', '#browns']\n",
      "data now: [68, 23, 15, 12, 11, 10, 9, 8, 6, 6, 6]\n"
     ]
    },
    {
     "name": "stderr",
     "output_type": "stream",
     "text": [
      "172.19.0.1 - - [04/Jan/2022 08:34:08] \"GET /refreshData HTTP/1.1\" 200 -\n"
     ]
    },
    {
     "name": "stdout",
     "output_type": "stream",
     "text": [
      "labels now: ['#TheBachelor', '#Browns', '#WWERaw', '#HereWeGo', '#Bachelor', '#GodMorningTuesday', '#CLEvsPIT', '#tuesdaymotivations', '#theneighborhood', '#TikTok', '#browns']\n",
      "data now: [68, 23, 15, 12, 11, 10, 9, 8, 6, 6, 6]\n"
     ]
    },
    {
     "name": "stderr",
     "output_type": "stream",
     "text": [
      "172.19.0.1 - - [04/Jan/2022 08:34:09] \"GET /refreshData HTTP/1.1\" 200 -\n"
     ]
    },
    {
     "name": "stdout",
     "output_type": "stream",
     "text": [
      "labels now: ['#TheBachelor', '#Browns', '#WWERaw', '#HereWeGo', '#Bachelor', '#GodMorningTuesday', '#CLEvsPIT', '#tuesdaymotivations', '#theneighborhood', '#TikTok', '#browns']\n",
      "data now: [68, 23, 15, 12, 11, 10, 9, 8, 6, 6, 6]\n"
     ]
    },
    {
     "name": "stderr",
     "output_type": "stream",
     "text": [
      "172.19.0.1 - - [04/Jan/2022 08:34:10] \"GET /refreshData HTTP/1.1\" 200 -\n"
     ]
    },
    {
     "name": "stdout",
     "output_type": "stream",
     "text": [
      "labels now: ['#TheBachelor', '#Browns', '#WWERaw', '#HereWeGo', '#Bachelor', '#GodMorningTuesday', '#CLEvsPIT', '#tuesdaymotivations', '#theneighborhood', '#TikTok', '#browns']\n",
      "data now: [68, 23, 15, 12, 11, 10, 9, 8, 6, 6, 6]\n"
     ]
    },
    {
     "name": "stderr",
     "output_type": "stream",
     "text": [
      "172.19.0.1 - - [04/Jan/2022 08:34:11] \"GET /refreshData HTTP/1.1\" 200 -\n"
     ]
    },
    {
     "name": "stdout",
     "output_type": "stream",
     "text": [
      "labels now: ['#TheBachelor', '#Browns', '#WWERaw', '#HereWeGo', '#Bachelor', '#GodMorningTuesday', '#CLEvsPIT', '#tuesdaymotivations', '#theneighborhood', '#TikTok', '#browns']\n",
      "data now: [68, 23, 15, 12, 11, 10, 9, 8, 6, 6, 6]\n"
     ]
    },
    {
     "name": "stderr",
     "output_type": "stream",
     "text": [
      "172.19.0.1 - - [04/Jan/2022 08:34:12] \"GET /refreshData HTTP/1.1\" 200 -\n"
     ]
    },
    {
     "name": "stdout",
     "output_type": "stream",
     "text": [
      "labels now: ['#TheBachelor', '#Browns', '#WWERaw', '#HereWeGo', '#Bachelor', '#GodMorningTuesday', '#CLEvsPIT', '#tuesdaymotivations', '#theneighborhood', '#TikTok', '#browns']\n",
      "data now: [68, 23, 15, 12, 11, 10, 9, 8, 6, 6, 6]\n"
     ]
    },
    {
     "name": "stderr",
     "output_type": "stream",
     "text": [
      "172.19.0.1 - - [04/Jan/2022 08:34:13] \"GET /refreshData HTTP/1.1\" 200 -\n"
     ]
    },
    {
     "name": "stdout",
     "output_type": "stream",
     "text": [
      "labels now: ['#TheBachelor', '#Browns', '#WWERaw', '#HereWeGo', '#Bachelor', '#GodMorningTuesday', '#CLEvsPIT', '#tuesdaymotivations', '#theneighborhood', '#TikTok', '#browns']\n",
      "data now: [68, 23, 15, 12, 11, 10, 9, 8, 6, 6, 6]\n"
     ]
    },
    {
     "name": "stderr",
     "output_type": "stream",
     "text": [
      "172.19.0.1 - - [04/Jan/2022 08:34:14] \"GET /refreshData HTTP/1.1\" 200 -\n"
     ]
    },
    {
     "name": "stdout",
     "output_type": "stream",
     "text": [
      "labels now: ['#TheBachelor', '#Browns', '#WWERaw', '#HereWeGo', '#Bachelor', '#GodMorningTuesday', '#CLEvsPIT', '#tuesdaymotivations', '#theneighborhood', '#TikTok', '#browns']\n",
      "data now: [68, 23, 15, 12, 11, 10, 9, 8, 6, 6, 6]\n"
     ]
    },
    {
     "name": "stderr",
     "output_type": "stream",
     "text": [
      "172.19.0.1 - - [04/Jan/2022 08:34:15] \"GET /refreshData HTTP/1.1\" 200 -\n"
     ]
    },
    {
     "name": "stdout",
     "output_type": "stream",
     "text": [
      "labels now: ['#TheBachelor', '#Browns', '#WWERaw', '#HereWeGo', '#Bachelor', '#GodMorningTuesday', '#CLEvsPIT', '#tuesdaymotivations', '#theneighborhood', '#TikTok', '#browns']\n",
      "data now: [68, 23, 15, 12, 11, 10, 9, 8, 6, 6, 6]\n"
     ]
    },
    {
     "name": "stderr",
     "output_type": "stream",
     "text": [
      "172.19.0.1 - - [04/Jan/2022 08:34:16] \"GET /refreshData HTTP/1.1\" 200 -\n"
     ]
    },
    {
     "name": "stdout",
     "output_type": "stream",
     "text": [
      "labels now: ['#TheBachelor', '#Browns', '#WWERaw', '#HereWeGo', '#Bachelor', '#GodMorningTuesday', '#CLEvsPIT', '#tuesdaymotivations', '#theneighborhood', '#TikTok', '#browns']\n",
      "data now: [68, 23, 15, 12, 11, 10, 9, 8, 6, 6, 6]\n"
     ]
    },
    {
     "name": "stderr",
     "output_type": "stream",
     "text": [
      "172.19.0.1 - - [04/Jan/2022 08:34:17] \"GET /refreshData HTTP/1.1\" 200 -\n"
     ]
    },
    {
     "name": "stdout",
     "output_type": "stream",
     "text": [
      "labels now: ['#TheBachelor', '#Browns', '#WWERaw', '#HereWeGo', '#Bachelor', '#GodMorningTuesday', '#CLEvsPIT', '#tuesdaymotivations', '#theneighborhood', '#TikTok', '#browns']\n",
      "data now: [68, 23, 15, 12, 11, 10, 9, 8, 6, 6, 6]\n"
     ]
    },
    {
     "name": "stderr",
     "output_type": "stream",
     "text": [
      "172.19.0.1 - - [04/Jan/2022 08:34:18] \"GET /refreshData HTTP/1.1\" 200 -\n"
     ]
    },
    {
     "name": "stdout",
     "output_type": "stream",
     "text": [
      "labels now: ['#TheBachelor', '#Browns', '#WWERaw', '#HereWeGo', '#Bachelor', '#GodMorningTuesday', '#CLEvsPIT', '#tuesdaymotivations', '#theneighborhood', '#TikTok', '#browns']\n",
      "data now: [68, 23, 15, 12, 11, 10, 9, 8, 6, 6, 6]\n"
     ]
    },
    {
     "name": "stderr",
     "output_type": "stream",
     "text": [
      "172.19.0.1 - - [04/Jan/2022 08:34:19] \"GET /refreshData HTTP/1.1\" 200 -\n"
     ]
    },
    {
     "name": "stdout",
     "output_type": "stream",
     "text": [
      "labels now: ['#TheBachelor', '#Browns', '#WWERaw', '#HereWeGo', '#Bachelor', '#GodMorningTuesday', '#CLEvsPIT', '#tuesdaymotivations', '#theneighborhood', '#TikTok', '#browns']\n",
      "data now: [68, 23, 15, 12, 11, 10, 9, 8, 6, 6, 6]\n"
     ]
    },
    {
     "name": "stderr",
     "output_type": "stream",
     "text": [
      "172.19.0.1 - - [04/Jan/2022 08:34:20] \"GET /refreshData HTTP/1.1\" 200 -\n"
     ]
    },
    {
     "name": "stdout",
     "output_type": "stream",
     "text": [
      "labels now: ['#TheBachelor', '#Browns', '#WWERaw', '#HereWeGo', '#Bachelor', '#GodMorningTuesday', '#CLEvsPIT', '#tuesdaymotivations', '#theneighborhood', '#TikTok', '#browns']\n",
      "data now: [68, 23, 15, 12, 11, 10, 9, 8, 6, 6, 6]\n"
     ]
    },
    {
     "name": "stderr",
     "output_type": "stream",
     "text": [
      "172.19.0.1 - - [04/Jan/2022 08:34:21] \"GET /refreshData HTTP/1.1\" 200 -\n"
     ]
    },
    {
     "name": "stdout",
     "output_type": "stream",
     "text": [
      "labels now: ['#TheBachelor', '#Browns', '#WWERaw', '#HereWeGo', '#Bachelor', '#GodMorningTuesday', '#CLEvsPIT', '#tuesdaymotivations', '#theneighborhood', '#TikTok', '#browns']\n",
      "data now: [68, 23, 15, 12, 11, 10, 9, 8, 6, 6, 6]\n"
     ]
    },
    {
     "name": "stderr",
     "output_type": "stream",
     "text": [
      "172.19.0.1 - - [04/Jan/2022 08:34:22] \"GET /refreshData HTTP/1.1\" 200 -\n"
     ]
    },
    {
     "name": "stdout",
     "output_type": "stream",
     "text": [
      "labels now: ['#TheBachelor', '#Browns', '#WWERaw', '#HereWeGo', '#Bachelor', '#GodMorningTuesday', '#CLEvsPIT', '#tuesdaymotivations', '#theneighborhood', '#TikTok', '#browns']\n",
      "data now: [68, 23, 15, 12, 11, 10, 9, 8, 6, 6, 6]\n"
     ]
    },
    {
     "name": "stderr",
     "output_type": "stream",
     "text": [
      "172.19.0.1 - - [04/Jan/2022 08:34:23] \"GET /refreshData HTTP/1.1\" 200 -\n"
     ]
    },
    {
     "name": "stdout",
     "output_type": "stream",
     "text": [
      "labels now: ['#TheBachelor', '#Browns', '#WWERaw', '#HereWeGo', '#Bachelor', '#GodMorningTuesday', '#CLEvsPIT', '#tuesdaymotivations', '#theneighborhood', '#TikTok', '#browns']\n",
      "data now: [68, 23, 15, 12, 11, 10, 9, 8, 6, 6, 6]\n"
     ]
    },
    {
     "name": "stderr",
     "output_type": "stream",
     "text": [
      "172.19.0.1 - - [04/Jan/2022 08:34:24] \"GET /refreshData HTTP/1.1\" 200 -\n"
     ]
    },
    {
     "name": "stdout",
     "output_type": "stream",
     "text": [
      "labels now: ['#TheBachelor', '#Browns', '#WWERaw', '#HereWeGo', '#Bachelor', '#GodMorningTuesday', '#CLEvsPIT', '#tuesdaymotivations', '#theneighborhood', '#TikTok', '#browns']\n",
      "data now: [68, 23, 15, 12, 11, 10, 9, 8, 6, 6, 6]\n"
     ]
    },
    {
     "name": "stderr",
     "output_type": "stream",
     "text": [
      "172.19.0.1 - - [04/Jan/2022 08:34:25] \"GET /refreshData HTTP/1.1\" 200 -\n"
     ]
    },
    {
     "name": "stdout",
     "output_type": "stream",
     "text": [
      "labels now: ['#TheBachelor', '#Browns', '#WWERaw', '#HereWeGo', '#Bachelor', '#GodMorningTuesday', '#CLEvsPIT', '#tuesdaymotivations', '#theneighborhood', '#TikTok', '#browns']\n",
      "data now: [68, 23, 15, 12, 11, 10, 9, 8, 6, 6, 6]\n"
     ]
    },
    {
     "name": "stderr",
     "output_type": "stream",
     "text": [
      "172.19.0.1 - - [04/Jan/2022 08:34:26] \"GET /refreshData HTTP/1.1\" 200 -\n"
     ]
    },
    {
     "name": "stdout",
     "output_type": "stream",
     "text": [
      "labels now: ['#TheBachelor', '#Browns', '#WWERaw', '#HereWeGo', '#Bachelor', '#GodMorningTuesday', '#CLEvsPIT', '#tuesdaymotivations', '#theneighborhood', '#TikTok', '#browns']\n",
      "data now: [68, 23, 15, 12, 11, 10, 9, 8, 6, 6, 6]\n"
     ]
    },
    {
     "name": "stderr",
     "output_type": "stream",
     "text": [
      "172.19.0.1 - - [04/Jan/2022 08:34:27] \"GET /refreshData HTTP/1.1\" 200 -\n"
     ]
    },
    {
     "name": "stdout",
     "output_type": "stream",
     "text": [
      "labels now: ['#TheBachelor', '#Browns', '#WWERaw', '#HereWeGo', '#Bachelor', '#GodMorningTuesday', '#CLEvsPIT', '#tuesdaymotivations', '#theneighborhood', '#TikTok', '#browns']\n",
      "data now: [68, 23, 15, 12, 11, 10, 9, 8, 6, 6, 6]\n"
     ]
    },
    {
     "name": "stderr",
     "output_type": "stream",
     "text": [
      "172.19.0.1 - - [04/Jan/2022 08:34:28] \"GET /refreshData HTTP/1.1\" 200 -\n"
     ]
    },
    {
     "name": "stdout",
     "output_type": "stream",
     "text": [
      "labels now: ['#TheBachelor', '#Browns', '#WWERaw', '#HereWeGo', '#Bachelor', '#GodMorningTuesday', '#CLEvsPIT', '#tuesdaymotivations', '#theneighborhood', '#TikTok', '#browns']\n",
      "data now: [68, 23, 15, 12, 11, 10, 9, 8, 6, 6, 6]\n"
     ]
    },
    {
     "name": "stderr",
     "output_type": "stream",
     "text": [
      "172.19.0.1 - - [04/Jan/2022 08:34:29] \"GET /refreshData HTTP/1.1\" 200 -\n"
     ]
    },
    {
     "name": "stdout",
     "output_type": "stream",
     "text": [
      "labels now: ['#TheBachelor', '#Browns', '#WWERaw', '#HereWeGo', '#Bachelor', '#GodMorningTuesday', '#CLEvsPIT', '#tuesdaymotivations', '#theneighborhood', '#TikTok', '#browns']\n",
      "data now: [68, 23, 15, 12, 11, 10, 9, 8, 6, 6, 6]\n"
     ]
    },
    {
     "name": "stderr",
     "output_type": "stream",
     "text": [
      "172.19.0.1 - - [04/Jan/2022 08:34:30] \"GET /refreshData HTTP/1.1\" 200 -\n"
     ]
    },
    {
     "name": "stdout",
     "output_type": "stream",
     "text": [
      "labels now: ['#TheBachelor', '#Browns', '#WWERaw', '#HereWeGo', '#Bachelor', '#GodMorningTuesday', '#CLEvsPIT', '#tuesdaymotivations', '#theneighborhood', '#TikTok', '#browns']\n",
      "data now: [68, 23, 15, 12, 11, 10, 9, 8, 6, 6, 6]\n"
     ]
    },
    {
     "name": "stderr",
     "output_type": "stream",
     "text": [
      "172.19.0.1 - - [04/Jan/2022 08:34:31] \"GET /refreshData HTTP/1.1\" 200 -\n"
     ]
    },
    {
     "name": "stdout",
     "output_type": "stream",
     "text": [
      "labels now: ['#TheBachelor', '#Browns', '#WWERaw', '#HereWeGo', '#Bachelor', '#GodMorningTuesday', '#CLEvsPIT', '#tuesdaymotivations', '#theneighborhood', '#TikTok', '#browns']\n",
      "data now: [68, 23, 15, 12, 11, 10, 9, 8, 6, 6, 6]\n"
     ]
    },
    {
     "name": "stderr",
     "output_type": "stream",
     "text": [
      "172.19.0.1 - - [04/Jan/2022 08:34:32] \"GET /refreshData HTTP/1.1\" 200 -\n"
     ]
    },
    {
     "name": "stdout",
     "output_type": "stream",
     "text": [
      "labels now: ['#TheBachelor', '#Browns', '#WWERaw', '#HereWeGo', '#Bachelor', '#GodMorningTuesday', '#CLEvsPIT', '#tuesdaymotivations', '#theneighborhood', '#TikTok', '#browns']\n",
      "data now: [68, 23, 15, 12, 11, 10, 9, 8, 6, 6, 6]\n"
     ]
    },
    {
     "name": "stderr",
     "output_type": "stream",
     "text": [
      "172.19.0.1 - - [04/Jan/2022 08:34:33] \"GET /refreshData HTTP/1.1\" 200 -\n"
     ]
    },
    {
     "name": "stdout",
     "output_type": "stream",
     "text": [
      "labels now: ['#TheBachelor', '#Browns', '#WWERaw', '#HereWeGo', '#Bachelor', '#GodMorningTuesday', '#CLEvsPIT', '#tuesdaymotivations', '#theneighborhood', '#TikTok', '#browns']\n",
      "data now: [68, 23, 15, 12, 11, 10, 9, 8, 6, 6, 6]\n"
     ]
    },
    {
     "name": "stderr",
     "output_type": "stream",
     "text": [
      "172.19.0.1 - - [04/Jan/2022 08:34:34] \"GET /refreshData HTTP/1.1\" 200 -\n"
     ]
    },
    {
     "name": "stdout",
     "output_type": "stream",
     "text": [
      "labels now: ['#TheBachelor', '#Browns', '#WWERaw', '#HereWeGo', '#Bachelor', '#GodMorningTuesday', '#CLEvsPIT', '#tuesdaymotivations', '#theneighborhood', '#TikTok', '#browns']\n",
      "data now: [68, 23, 15, 12, 11, 10, 9, 8, 6, 6, 6]\n"
     ]
    },
    {
     "name": "stderr",
     "output_type": "stream",
     "text": [
      "172.19.0.1 - - [04/Jan/2022 08:34:35] \"GET /refreshData HTTP/1.1\" 200 -\n"
     ]
    },
    {
     "name": "stdout",
     "output_type": "stream",
     "text": [
      "labels now: ['#TheBachelor', '#Browns', '#WWERaw', '#HereWeGo', '#Bachelor', '#GodMorningTuesday', '#CLEvsPIT', '#tuesdaymotivations', '#theneighborhood', '#TikTok', '#browns']\n",
      "data now: [68, 23, 15, 12, 11, 10, 9, 8, 6, 6, 6]\n"
     ]
    },
    {
     "name": "stderr",
     "output_type": "stream",
     "text": [
      "172.19.0.1 - - [04/Jan/2022 08:34:36] \"GET /refreshData HTTP/1.1\" 200 -\n"
     ]
    },
    {
     "name": "stdout",
     "output_type": "stream",
     "text": [
      "labels now: ['#TheBachelor', '#Browns', '#WWERaw', '#HereWeGo', '#Bachelor', '#GodMorningTuesday', '#CLEvsPIT', '#tuesdaymotivations', '#theneighborhood', '#TikTok', '#browns']\n",
      "data now: [68, 23, 15, 12, 11, 10, 9, 8, 6, 6, 6]\n"
     ]
    },
    {
     "name": "stderr",
     "output_type": "stream",
     "text": [
      "172.19.0.1 - - [04/Jan/2022 08:34:37] \"GET /refreshData HTTP/1.1\" 200 -\n"
     ]
    },
    {
     "name": "stdout",
     "output_type": "stream",
     "text": [
      "labels now: ['#TheBachelor', '#Browns', '#WWERaw', '#HereWeGo', '#Bachelor', '#GodMorningTuesday', '#CLEvsPIT', '#tuesdaymotivations', '#theneighborhood', '#TikTok', '#browns']\n",
      "data now: [68, 23, 15, 12, 11, 10, 9, 8, 6, 6, 6]\n"
     ]
    },
    {
     "name": "stderr",
     "output_type": "stream",
     "text": [
      "172.19.0.1 - - [04/Jan/2022 08:34:38] \"GET /refreshData HTTP/1.1\" 200 -\n"
     ]
    },
    {
     "name": "stdout",
     "output_type": "stream",
     "text": [
      "labels now: ['#TheBachelor', '#Browns', '#WWERaw', '#HereWeGo', '#Bachelor', '#GodMorningTuesday', '#CLEvsPIT', '#tuesdaymotivations', '#theneighborhood', '#TikTok', '#browns']\n",
      "data now: [68, 23, 15, 12, 11, 10, 9, 8, 6, 6, 6]\n"
     ]
    },
    {
     "name": "stderr",
     "output_type": "stream",
     "text": [
      "172.19.0.1 - - [04/Jan/2022 08:34:39] \"GET /refreshData HTTP/1.1\" 200 -\n"
     ]
    },
    {
     "name": "stdout",
     "output_type": "stream",
     "text": [
      "labels now: ['#TheBachelor', '#Browns', '#WWERaw', '#HereWeGo', '#Bachelor', '#GodMorningTuesday', '#CLEvsPIT', '#tuesdaymotivations', '#theneighborhood', '#TikTok', '#browns']\n",
      "data now: [68, 23, 15, 12, 11, 10, 9, 8, 6, 6, 6]\n"
     ]
    },
    {
     "name": "stderr",
     "output_type": "stream",
     "text": [
      "172.19.0.1 - - [04/Jan/2022 08:34:40] \"GET /refreshData HTTP/1.1\" 200 -\n"
     ]
    },
    {
     "name": "stdout",
     "output_type": "stream",
     "text": [
      "labels now: ['#TheBachelor', '#Browns', '#WWERaw', '#HereWeGo', '#Bachelor', '#GodMorningTuesday', '#CLEvsPIT', '#tuesdaymotivations', '#theneighborhood', '#TikTok', '#browns']\n",
      "data now: [68, 23, 15, 12, 11, 10, 9, 8, 6, 6, 6]\n"
     ]
    },
    {
     "name": "stderr",
     "output_type": "stream",
     "text": [
      "172.19.0.1 - - [04/Jan/2022 08:34:41] \"GET /refreshData HTTP/1.1\" 200 -\n"
     ]
    },
    {
     "name": "stdout",
     "output_type": "stream",
     "text": [
      "labels now: ['#TheBachelor', '#Browns', '#WWERaw', '#HereWeGo', '#Bachelor', '#GodMorningTuesday', '#CLEvsPIT', '#tuesdaymotivations', '#theneighborhood', '#TikTok', '#browns']\n",
      "data now: [68, 23, 15, 12, 11, 10, 9, 8, 6, 6, 6]\n"
     ]
    },
    {
     "name": "stderr",
     "output_type": "stream",
     "text": [
      "172.19.0.1 - - [04/Jan/2022 08:34:42] \"GET /refreshData HTTP/1.1\" 200 -\n"
     ]
    },
    {
     "name": "stdout",
     "output_type": "stream",
     "text": [
      "labels now: ['#TheBachelor', '#Browns', '#WWERaw', '#HereWeGo', '#Bachelor', '#GodMorningTuesday', '#CLEvsPIT', '#tuesdaymotivations', '#theneighborhood', '#TikTok', '#browns']\n",
      "data now: [68, 23, 15, 12, 11, 10, 9, 8, 6, 6, 6]\n"
     ]
    },
    {
     "name": "stderr",
     "output_type": "stream",
     "text": [
      "172.19.0.1 - - [04/Jan/2022 08:34:43] \"GET /refreshData HTTP/1.1\" 200 -\n"
     ]
    },
    {
     "name": "stdout",
     "output_type": "stream",
     "text": [
      "labels now: ['#TheBachelor', '#Browns', '#WWERaw', '#HereWeGo', '#Bachelor', '#GodMorningTuesday', '#CLEvsPIT', '#tuesdaymotivations', '#theneighborhood', '#TikTok', '#browns']\n",
      "data now: [68, 23, 15, 12, 11, 10, 9, 8, 6, 6, 6]\n"
     ]
    },
    {
     "name": "stderr",
     "output_type": "stream",
     "text": [
      "172.19.0.1 - - [04/Jan/2022 08:34:44] \"GET /refreshData HTTP/1.1\" 200 -\n"
     ]
    },
    {
     "name": "stdout",
     "output_type": "stream",
     "text": [
      "labels now: ['#TheBachelor', '#Browns', '#WWERaw', '#HereWeGo', '#Bachelor', '#GodMorningTuesday', '#CLEvsPIT', '#tuesdaymotivations', '#theneighborhood', '#TikTok', '#browns']\n",
      "data now: [68, 23, 15, 12, 11, 10, 9, 8, 6, 6, 6]\n"
     ]
    },
    {
     "name": "stderr",
     "output_type": "stream",
     "text": [
      "172.19.0.1 - - [04/Jan/2022 08:34:45] \"GET /refreshData HTTP/1.1\" 200 -\n"
     ]
    },
    {
     "name": "stdout",
     "output_type": "stream",
     "text": [
      "labels now: ['#TheBachelor', '#Browns', '#WWERaw', '#HereWeGo', '#Bachelor', '#GodMorningTuesday', '#CLEvsPIT', '#tuesdaymotivations', '#theneighborhood', '#TikTok', '#browns']\n",
      "data now: [68, 23, 15, 12, 11, 10, 9, 8, 6, 6, 6]\n"
     ]
    },
    {
     "name": "stderr",
     "output_type": "stream",
     "text": [
      "172.19.0.1 - - [04/Jan/2022 08:34:46] \"GET /refreshData HTTP/1.1\" 200 -\n"
     ]
    },
    {
     "name": "stdout",
     "output_type": "stream",
     "text": [
      "labels now: ['#TheBachelor', '#Browns', '#WWERaw', '#HereWeGo', '#Bachelor', '#GodMorningTuesday', '#CLEvsPIT', '#tuesdaymotivations', '#theneighborhood', '#TikTok', '#browns']\n",
      "data now: [68, 23, 15, 12, 11, 10, 9, 8, 6, 6, 6]\n"
     ]
    },
    {
     "name": "stderr",
     "output_type": "stream",
     "text": [
      "172.19.0.1 - - [04/Jan/2022 08:34:47] \"GET /refreshData HTTP/1.1\" 200 -\n"
     ]
    },
    {
     "name": "stdout",
     "output_type": "stream",
     "text": [
      "labels now: ['#TheBachelor', '#Browns', '#WWERaw', '#HereWeGo', '#Bachelor', '#GodMorningTuesday', '#CLEvsPIT', '#tuesdaymotivations', '#theneighborhood', '#TikTok', '#browns']\n",
      "data now: [68, 23, 15, 12, 11, 10, 9, 8, 6, 6, 6]\n"
     ]
    },
    {
     "name": "stderr",
     "output_type": "stream",
     "text": [
      "172.19.0.1 - - [04/Jan/2022 08:34:48] \"GET /refreshData HTTP/1.1\" 200 -\n"
     ]
    },
    {
     "name": "stdout",
     "output_type": "stream",
     "text": [
      "labels now: ['#TheBachelor', '#Browns', '#WWERaw', '#HereWeGo', '#Bachelor', '#GodMorningTuesday', '#CLEvsPIT', '#tuesdaymotivations', '#theneighborhood', '#TikTok', '#browns']\n",
      "data now: [68, 23, 15, 12, 11, 10, 9, 8, 6, 6, 6]\n"
     ]
    },
    {
     "name": "stderr",
     "output_type": "stream",
     "text": [
      "172.19.0.1 - - [04/Jan/2022 08:34:49] \"GET /refreshData HTTP/1.1\" 200 -\n"
     ]
    },
    {
     "name": "stdout",
     "output_type": "stream",
     "text": [
      "labels now: ['#TheBachelor', '#Browns', '#WWERaw', '#HereWeGo', '#Bachelor', '#GodMorningTuesday', '#CLEvsPIT', '#tuesdaymotivations', '#theneighborhood', '#TikTok', '#browns']\n",
      "data now: [68, 23, 15, 12, 11, 10, 9, 8, 6, 6, 6]\n"
     ]
    },
    {
     "name": "stderr",
     "output_type": "stream",
     "text": [
      "172.19.0.1 - - [04/Jan/2022 08:34:50] \"GET /refreshData HTTP/1.1\" 200 -\n"
     ]
    },
    {
     "name": "stdout",
     "output_type": "stream",
     "text": [
      "labels now: ['#TheBachelor', '#Browns', '#WWERaw', '#HereWeGo', '#Bachelor', '#GodMorningTuesday', '#CLEvsPIT', '#tuesdaymotivations', '#theneighborhood', '#TikTok', '#browns']\n",
      "data now: [68, 23, 15, 12, 11, 10, 9, 8, 6, 6, 6]\n"
     ]
    },
    {
     "name": "stderr",
     "output_type": "stream",
     "text": [
      "172.19.0.1 - - [04/Jan/2022 08:34:51] \"GET /refreshData HTTP/1.1\" 200 -\n"
     ]
    },
    {
     "name": "stdout",
     "output_type": "stream",
     "text": [
      "labels now: ['#TheBachelor', '#Browns', '#WWERaw', '#HereWeGo', '#Bachelor', '#GodMorningTuesday', '#CLEvsPIT', '#tuesdaymotivations', '#theneighborhood', '#TikTok', '#browns']\n",
      "data now: [68, 23, 15, 12, 11, 10, 9, 8, 6, 6, 6]\n"
     ]
    },
    {
     "name": "stderr",
     "output_type": "stream",
     "text": [
      "172.19.0.1 - - [04/Jan/2022 08:34:52] \"GET /refreshData HTTP/1.1\" 200 -\n"
     ]
    },
    {
     "name": "stdout",
     "output_type": "stream",
     "text": [
      "labels now: ['#TheBachelor', '#Browns', '#WWERaw', '#HereWeGo', '#Bachelor', '#GodMorningTuesday', '#CLEvsPIT', '#tuesdaymotivations', '#theneighborhood', '#TikTok', '#browns']\n",
      "data now: [68, 23, 15, 12, 11, 10, 9, 8, 6, 6, 6]\n"
     ]
    },
    {
     "name": "stderr",
     "output_type": "stream",
     "text": [
      "172.19.0.1 - - [04/Jan/2022 08:34:53] \"GET /refreshData HTTP/1.1\" 200 -\n"
     ]
    },
    {
     "name": "stdout",
     "output_type": "stream",
     "text": [
      "labels now: ['#TheBachelor', '#Browns', '#WWERaw', '#HereWeGo', '#Bachelor', '#GodMorningTuesday', '#CLEvsPIT', '#tuesdaymotivations', '#theneighborhood', '#TikTok', '#browns']\n",
      "data now: [68, 23, 15, 12, 11, 10, 9, 8, 6, 6, 6]\n"
     ]
    },
    {
     "name": "stderr",
     "output_type": "stream",
     "text": [
      "172.19.0.1 - - [04/Jan/2022 08:34:54] \"GET /refreshData HTTP/1.1\" 200 -\n"
     ]
    },
    {
     "name": "stdout",
     "output_type": "stream",
     "text": [
      "labels now: ['#TheBachelor', '#Browns', '#WWERaw', '#HereWeGo', '#Bachelor', '#GodMorningTuesday', '#CLEvsPIT', '#tuesdaymotivations', '#theneighborhood', '#TikTok', '#browns']\n",
      "data now: [68, 23, 15, 12, 11, 10, 9, 8, 6, 6, 6]\n"
     ]
    },
    {
     "name": "stderr",
     "output_type": "stream",
     "text": [
      "172.19.0.1 - - [04/Jan/2022 08:34:55] \"GET /refreshData HTTP/1.1\" 200 -\n"
     ]
    },
    {
     "name": "stdout",
     "output_type": "stream",
     "text": [
      "labels now: ['#TheBachelor', '#Browns', '#WWERaw', '#HereWeGo', '#Bachelor', '#GodMorningTuesday', '#CLEvsPIT', '#tuesdaymotivations', '#theneighborhood', '#TikTok', '#browns']\n",
      "data now: [68, 23, 15, 12, 11, 10, 9, 8, 6, 6, 6]\n"
     ]
    },
    {
     "name": "stderr",
     "output_type": "stream",
     "text": [
      "172.19.0.1 - - [04/Jan/2022 08:34:56] \"GET /refreshData HTTP/1.1\" 200 -\n"
     ]
    },
    {
     "name": "stdout",
     "output_type": "stream",
     "text": [
      "labels now: ['#TheBachelor', '#Browns', '#WWERaw', '#HereWeGo', '#Bachelor', '#GodMorningTuesday', '#CLEvsPIT', '#tuesdaymotivations', '#theneighborhood', '#TikTok', '#browns']\n",
      "data now: [68, 23, 15, 12, 11, 10, 9, 8, 6, 6, 6]\n"
     ]
    },
    {
     "name": "stderr",
     "output_type": "stream",
     "text": [
      "172.19.0.1 - - [04/Jan/2022 08:34:57] \"GET /refreshData HTTP/1.1\" 200 -\n"
     ]
    },
    {
     "name": "stdout",
     "output_type": "stream",
     "text": [
      "labels now: ['#TheBachelor', '#Browns', '#WWERaw', '#HereWeGo', '#Bachelor', '#GodMorningTuesday', '#CLEvsPIT', '#tuesdaymotivations', '#theneighborhood', '#TikTok', '#browns']\n",
      "data now: [68, 23, 15, 12, 11, 10, 9, 8, 6, 6, 6]\n"
     ]
    },
    {
     "name": "stderr",
     "output_type": "stream",
     "text": [
      "172.19.0.1 - - [04/Jan/2022 08:34:58] \"GET /refreshData HTTP/1.1\" 200 -\n"
     ]
    },
    {
     "name": "stdout",
     "output_type": "stream",
     "text": [
      "labels now: ['#TheBachelor', '#Browns', '#WWERaw', '#HereWeGo', '#Bachelor', '#GodMorningTuesday', '#CLEvsPIT', '#tuesdaymotivations', '#theneighborhood', '#TikTok', '#browns']\n",
      "data now: [68, 23, 15, 12, 11, 10, 9, 8, 6, 6, 6]\n"
     ]
    },
    {
     "name": "stderr",
     "output_type": "stream",
     "text": [
      "172.19.0.1 - - [04/Jan/2022 08:34:59] \"GET /refreshData HTTP/1.1\" 200 -\n"
     ]
    },
    {
     "name": "stdout",
     "output_type": "stream",
     "text": [
      "labels now: ['#TheBachelor', '#Browns', '#WWERaw', '#HereWeGo', '#Bachelor', '#GodMorningTuesday', '#CLEvsPIT', '#tuesdaymotivations', '#theneighborhood', '#TikTok', '#browns']\n",
      "data now: [68, 23, 15, 12, 11, 10, 9, 8, 6, 6, 6]\n"
     ]
    },
    {
     "name": "stderr",
     "output_type": "stream",
     "text": [
      "172.19.0.1 - - [04/Jan/2022 08:35:00] \"GET /refreshData HTTP/1.1\" 200 -\n"
     ]
    },
    {
     "name": "stdout",
     "output_type": "stream",
     "text": [
      "labels now: ['#TheBachelor', '#Browns', '#WWERaw', '#HereWeGo', '#Bachelor', '#GodMorningTuesday', '#CLEvsPIT', '#tuesdaymotivations', '#theneighborhood', '#TikTok', '#browns']\n",
      "data now: [68, 23, 15, 12, 11, 10, 9, 8, 6, 6, 6]\n"
     ]
    },
    {
     "name": "stderr",
     "output_type": "stream",
     "text": [
      "172.19.0.1 - - [04/Jan/2022 08:35:01] \"GET /refreshData HTTP/1.1\" 200 -\n"
     ]
    },
    {
     "name": "stdout",
     "output_type": "stream",
     "text": [
      "labels now: ['#TheBachelor', '#Browns', '#WWERaw', '#HereWeGo', '#Bachelor', '#GodMorningTuesday', '#CLEvsPIT', '#tuesdaymotivations', '#theneighborhood', '#TikTok', '#browns']\n",
      "data now: [68, 23, 15, 12, 11, 10, 9, 8, 6, 6, 6]\n"
     ]
    },
    {
     "name": "stderr",
     "output_type": "stream",
     "text": [
      "172.19.0.1 - - [04/Jan/2022 08:35:02] \"GET /refreshData HTTP/1.1\" 200 -\n"
     ]
    },
    {
     "name": "stdout",
     "output_type": "stream",
     "text": [
      "labels now: ['#TheBachelor', '#Browns', '#WWERaw', '#HereWeGo', '#Bachelor', '#GodMorningTuesday', '#CLEvsPIT', '#tuesdaymotivations', '#theneighborhood', '#TikTok', '#browns']\n",
      "data now: [68, 23, 15, 12, 11, 10, 9, 8, 6, 6, 6]\n"
     ]
    },
    {
     "name": "stderr",
     "output_type": "stream",
     "text": [
      "172.19.0.1 - - [04/Jan/2022 08:35:03] \"GET /refreshData HTTP/1.1\" 200 -\n"
     ]
    },
    {
     "name": "stdout",
     "output_type": "stream",
     "text": [
      "labels now: ['#TheBachelor', '#Browns', '#WWERaw', '#HereWeGo', '#Bachelor', '#GodMorningTuesday', '#CLEvsPIT', '#tuesdaymotivations', '#theneighborhood', '#TikTok', '#browns']\n",
      "data now: [68, 23, 15, 12, 11, 10, 9, 8, 6, 6, 6]\n"
     ]
    },
    {
     "name": "stderr",
     "output_type": "stream",
     "text": [
      "172.19.0.1 - - [04/Jan/2022 08:35:04] \"GET /refreshData HTTP/1.1\" 200 -\n"
     ]
    },
    {
     "name": "stdout",
     "output_type": "stream",
     "text": [
      "labels now: ['#TheBachelor', '#Browns', '#WWERaw', '#HereWeGo', '#Bachelor', '#GodMorningTuesday', '#CLEvsPIT', '#tuesdaymotivations', '#theneighborhood', '#TikTok', '#browns']\n",
      "data now: [68, 23, 15, 12, 11, 10, 9, 8, 6, 6, 6]\n"
     ]
    },
    {
     "name": "stderr",
     "output_type": "stream",
     "text": [
      "172.19.0.1 - - [04/Jan/2022 08:35:05] \"GET /refreshData HTTP/1.1\" 200 -\n"
     ]
    },
    {
     "name": "stdout",
     "output_type": "stream",
     "text": [
      "labels now: ['#TheBachelor', '#Browns', '#WWERaw', '#HereWeGo', '#Bachelor', '#GodMorningTuesday', '#CLEvsPIT', '#tuesdaymotivations', '#theneighborhood', '#TikTok', '#browns']\n",
      "data now: [68, 23, 15, 12, 11, 10, 9, 8, 6, 6, 6]\n"
     ]
    },
    {
     "name": "stderr",
     "output_type": "stream",
     "text": [
      "172.19.0.1 - - [04/Jan/2022 08:35:06] \"GET /refreshData HTTP/1.1\" 200 -\n"
     ]
    },
    {
     "name": "stdout",
     "output_type": "stream",
     "text": [
      "labels now: ['#TheBachelor', '#Browns', '#WWERaw', '#HereWeGo', '#Bachelor', '#GodMorningTuesday', '#CLEvsPIT', '#tuesdaymotivations', '#theneighborhood', '#TikTok', '#browns']\n",
      "data now: [68, 23, 15, 12, 11, 10, 9, 8, 6, 6, 6]\n"
     ]
    },
    {
     "name": "stderr",
     "output_type": "stream",
     "text": [
      "172.19.0.1 - - [04/Jan/2022 08:35:07] \"GET /refreshData HTTP/1.1\" 200 -\n"
     ]
    },
    {
     "name": "stdout",
     "output_type": "stream",
     "text": [
      "labels now: ['#TheBachelor', '#Browns', '#WWERaw', '#HereWeGo', '#Bachelor', '#GodMorningTuesday', '#CLEvsPIT', '#tuesdaymotivations', '#theneighborhood', '#TikTok', '#browns']\n",
      "data now: [68, 23, 15, 12, 11, 10, 9, 8, 6, 6, 6]\n"
     ]
    },
    {
     "name": "stderr",
     "output_type": "stream",
     "text": [
      "172.19.0.1 - - [04/Jan/2022 08:35:08] \"GET /refreshData HTTP/1.1\" 200 -\n"
     ]
    },
    {
     "name": "stdout",
     "output_type": "stream",
     "text": [
      "labels now: ['#TheBachelor', '#Browns', '#WWERaw', '#HereWeGo', '#Bachelor', '#GodMorningTuesday', '#CLEvsPIT', '#tuesdaymotivations', '#theneighborhood', '#TikTok', '#browns']\n",
      "data now: [68, 23, 15, 12, 11, 10, 9, 8, 6, 6, 6]\n"
     ]
    },
    {
     "name": "stderr",
     "output_type": "stream",
     "text": [
      "172.19.0.1 - - [04/Jan/2022 08:35:09] \"GET /refreshData HTTP/1.1\" 200 -\n"
     ]
    },
    {
     "name": "stdout",
     "output_type": "stream",
     "text": [
      "labels now: ['#TheBachelor', '#Browns', '#WWERaw', '#HereWeGo', '#Bachelor', '#GodMorningTuesday', '#CLEvsPIT', '#tuesdaymotivations', '#theneighborhood', '#TikTok', '#browns']\n",
      "data now: [68, 23, 15, 12, 11, 10, 9, 8, 6, 6, 6]\n"
     ]
    },
    {
     "name": "stderr",
     "output_type": "stream",
     "text": [
      "172.19.0.1 - - [04/Jan/2022 08:35:10] \"GET /refreshData HTTP/1.1\" 200 -\n"
     ]
    },
    {
     "name": "stdout",
     "output_type": "stream",
     "text": [
      "labels now: ['#TheBachelor', '#Browns', '#WWERaw', '#HereWeGo', '#Bachelor', '#GodMorningTuesday', '#CLEvsPIT', '#tuesdaymotivations', '#theneighborhood', '#TikTok', '#browns']\n",
      "data now: [68, 23, 15, 12, 11, 10, 9, 8, 6, 6, 6]\n"
     ]
    },
    {
     "name": "stderr",
     "output_type": "stream",
     "text": [
      "172.19.0.1 - - [04/Jan/2022 08:35:11] \"GET /refreshData HTTP/1.1\" 200 -\n"
     ]
    },
    {
     "name": "stdout",
     "output_type": "stream",
     "text": [
      "labels now: ['#TheBachelor', '#Browns', '#WWERaw', '#HereWeGo', '#Bachelor', '#GodMorningTuesday', '#CLEvsPIT', '#tuesdaymotivations', '#theneighborhood', '#TikTok', '#browns']\n",
      "data now: [68, 23, 15, 12, 11, 10, 9, 8, 6, 6, 6]\n"
     ]
    },
    {
     "name": "stderr",
     "output_type": "stream",
     "text": [
      "172.19.0.1 - - [04/Jan/2022 08:35:12] \"GET /refreshData HTTP/1.1\" 200 -\n"
     ]
    },
    {
     "name": "stdout",
     "output_type": "stream",
     "text": [
      "labels now: ['#TheBachelor', '#Browns', '#WWERaw', '#HereWeGo', '#Bachelor', '#GodMorningTuesday', '#CLEvsPIT', '#tuesdaymotivations', '#theneighborhood', '#TikTok', '#browns']\n",
      "data now: [68, 23, 15, 12, 11, 10, 9, 8, 6, 6, 6]\n"
     ]
    },
    {
     "name": "stderr",
     "output_type": "stream",
     "text": [
      "172.19.0.1 - - [04/Jan/2022 08:35:13] \"GET /refreshData HTTP/1.1\" 200 -\n"
     ]
    },
    {
     "name": "stdout",
     "output_type": "stream",
     "text": [
      "labels now: ['#TheBachelor', '#Browns', '#WWERaw', '#HereWeGo', '#Bachelor', '#GodMorningTuesday', '#CLEvsPIT', '#tuesdaymotivations', '#theneighborhood', '#TikTok', '#browns']\n",
      "data now: [68, 23, 15, 12, 11, 10, 9, 8, 6, 6, 6]\n"
     ]
    },
    {
     "name": "stderr",
     "output_type": "stream",
     "text": [
      "172.19.0.1 - - [04/Jan/2022 08:35:14] \"GET /refreshData HTTP/1.1\" 200 -\n"
     ]
    },
    {
     "name": "stdout",
     "output_type": "stream",
     "text": [
      "labels now: ['#TheBachelor', '#Browns', '#WWERaw', '#HereWeGo', '#Bachelor', '#GodMorningTuesday', '#CLEvsPIT', '#tuesdaymotivations', '#theneighborhood', '#TikTok', '#browns']\n",
      "data now: [68, 23, 15, 12, 11, 10, 9, 8, 6, 6, 6]\n"
     ]
    },
    {
     "name": "stderr",
     "output_type": "stream",
     "text": [
      "172.19.0.1 - - [04/Jan/2022 08:35:15] \"GET /refreshData HTTP/1.1\" 200 -\n"
     ]
    },
    {
     "name": "stdout",
     "output_type": "stream",
     "text": [
      "labels now: ['#TheBachelor', '#Browns', '#WWERaw', '#HereWeGo', '#Bachelor', '#GodMorningTuesday', '#CLEvsPIT', '#tuesdaymotivations', '#theneighborhood', '#TikTok', '#browns']\n",
      "data now: [68, 23, 15, 12, 11, 10, 9, 8, 6, 6, 6]\n"
     ]
    },
    {
     "name": "stderr",
     "output_type": "stream",
     "text": [
      "172.19.0.1 - - [04/Jan/2022 08:35:16] \"GET /refreshData HTTP/1.1\" 200 -\n"
     ]
    },
    {
     "name": "stdout",
     "output_type": "stream",
     "text": [
      "labels now: ['#TheBachelor', '#Browns', '#WWERaw', '#HereWeGo', '#Bachelor', '#GodMorningTuesday', '#CLEvsPIT', '#tuesdaymotivations', '#theneighborhood', '#TikTok', '#browns']\n",
      "data now: [68, 23, 15, 12, 11, 10, 9, 8, 6, 6, 6]\n"
     ]
    },
    {
     "name": "stderr",
     "output_type": "stream",
     "text": [
      "172.19.0.1 - - [04/Jan/2022 08:35:17] \"GET /refreshData HTTP/1.1\" 200 -\n"
     ]
    },
    {
     "name": "stdout",
     "output_type": "stream",
     "text": [
      "labels now: ['#TheBachelor', '#Browns', '#WWERaw', '#HereWeGo', '#Bachelor', '#GodMorningTuesday', '#CLEvsPIT', '#tuesdaymotivations', '#theneighborhood', '#TikTok', '#browns']\n",
      "data now: [68, 23, 15, 12, 11, 10, 9, 8, 6, 6, 6]\n"
     ]
    },
    {
     "name": "stderr",
     "output_type": "stream",
     "text": [
      "172.19.0.1 - - [04/Jan/2022 08:35:18] \"GET /refreshData HTTP/1.1\" 200 -\n"
     ]
    },
    {
     "name": "stdout",
     "output_type": "stream",
     "text": [
      "labels now: ['#TheBachelor', '#Browns', '#WWERaw', '#HereWeGo', '#Bachelor', '#GodMorningTuesday', '#CLEvsPIT', '#tuesdaymotivations', '#theneighborhood', '#TikTok', '#browns']\n",
      "data now: [68, 23, 15, 12, 11, 10, 9, 8, 6, 6, 6]\n"
     ]
    },
    {
     "name": "stderr",
     "output_type": "stream",
     "text": [
      "172.19.0.1 - - [04/Jan/2022 08:35:19] \"GET /refreshData HTTP/1.1\" 200 -\n"
     ]
    },
    {
     "name": "stdout",
     "output_type": "stream",
     "text": [
      "labels now: ['#TheBachelor', '#Browns', '#WWERaw', '#HereWeGo', '#Bachelor', '#GodMorningTuesday', '#CLEvsPIT', '#tuesdaymotivations', '#theneighborhood', '#TikTok', '#browns']\n",
      "data now: [68, 23, 15, 12, 11, 10, 9, 8, 6, 6, 6]\n"
     ]
    },
    {
     "name": "stderr",
     "output_type": "stream",
     "text": [
      "172.19.0.1 - - [04/Jan/2022 08:35:20] \"GET /refreshData HTTP/1.1\" 200 -\n"
     ]
    },
    {
     "name": "stdout",
     "output_type": "stream",
     "text": [
      "labels now: ['#TheBachelor', '#Browns', '#WWERaw', '#HereWeGo', '#Bachelor', '#GodMorningTuesday', '#CLEvsPIT', '#tuesdaymotivations', '#theneighborhood', '#TikTok', '#browns']\n",
      "data now: [68, 23, 15, 12, 11, 10, 9, 8, 6, 6, 6]\n"
     ]
    },
    {
     "name": "stderr",
     "output_type": "stream",
     "text": [
      "172.19.0.1 - - [04/Jan/2022 08:35:21] \"GET /refreshData HTTP/1.1\" 200 -\n"
     ]
    },
    {
     "name": "stdout",
     "output_type": "stream",
     "text": [
      "labels now: ['#TheBachelor', '#Browns', '#WWERaw', '#HereWeGo', '#Bachelor', '#GodMorningTuesday', '#CLEvsPIT', '#tuesdaymotivations', '#theneighborhood', '#TikTok', '#browns']\n",
      "data now: [68, 23, 15, 12, 11, 10, 9, 8, 6, 6, 6]\n"
     ]
    },
    {
     "name": "stderr",
     "output_type": "stream",
     "text": [
      "172.19.0.1 - - [04/Jan/2022 08:35:22] \"GET /refreshData HTTP/1.1\" 200 -\n"
     ]
    },
    {
     "name": "stdout",
     "output_type": "stream",
     "text": [
      "labels now: ['#TheBachelor', '#Browns', '#WWERaw', '#HereWeGo', '#Bachelor', '#GodMorningTuesday', '#CLEvsPIT', '#tuesdaymotivations', '#theneighborhood', '#TikTok', '#browns']\n",
      "data now: [68, 23, 15, 12, 11, 10, 9, 8, 6, 6, 6]\n"
     ]
    },
    {
     "name": "stderr",
     "output_type": "stream",
     "text": [
      "172.19.0.1 - - [04/Jan/2022 08:35:23] \"GET /refreshData HTTP/1.1\" 200 -\n"
     ]
    },
    {
     "name": "stdout",
     "output_type": "stream",
     "text": [
      "labels now: ['#TheBachelor', '#Browns', '#WWERaw', '#HereWeGo', '#Bachelor', '#GodMorningTuesday', '#CLEvsPIT', '#tuesdaymotivations', '#theneighborhood', '#TikTok', '#browns']\n",
      "data now: [68, 23, 15, 12, 11, 10, 9, 8, 6, 6, 6]\n"
     ]
    },
    {
     "name": "stderr",
     "output_type": "stream",
     "text": [
      "172.19.0.1 - - [04/Jan/2022 08:35:24] \"GET /refreshData HTTP/1.1\" 200 -\n"
     ]
    },
    {
     "name": "stdout",
     "output_type": "stream",
     "text": [
      "labels now: ['#TheBachelor', '#Browns', '#WWERaw', '#HereWeGo', '#Bachelor', '#GodMorningTuesday', '#CLEvsPIT', '#tuesdaymotivations', '#theneighborhood', '#TikTok', '#browns']\n",
      "data now: [68, 23, 15, 12, 11, 10, 9, 8, 6, 6, 6]\n"
     ]
    },
    {
     "name": "stderr",
     "output_type": "stream",
     "text": [
      "172.19.0.1 - - [04/Jan/2022 08:35:25] \"GET /refreshData HTTP/1.1\" 200 -\n"
     ]
    },
    {
     "name": "stdout",
     "output_type": "stream",
     "text": [
      "labels now: ['#TheBachelor', '#Browns', '#WWERaw', '#HereWeGo', '#Bachelor', '#GodMorningTuesday', '#CLEvsPIT', '#tuesdaymotivations', '#theneighborhood', '#TikTok', '#browns']\n",
      "data now: [68, 23, 15, 12, 11, 10, 9, 8, 6, 6, 6]\n"
     ]
    },
    {
     "name": "stderr",
     "output_type": "stream",
     "text": [
      "172.19.0.1 - - [04/Jan/2022 08:35:26] \"GET /refreshData HTTP/1.1\" 200 -\n"
     ]
    },
    {
     "name": "stdout",
     "output_type": "stream",
     "text": [
      "labels now: ['#TheBachelor', '#Browns', '#WWERaw', '#HereWeGo', '#Bachelor', '#GodMorningTuesday', '#CLEvsPIT', '#tuesdaymotivations', '#theneighborhood', '#TikTok', '#browns']\n",
      "data now: [68, 23, 15, 12, 11, 10, 9, 8, 6, 6, 6]\n"
     ]
    },
    {
     "name": "stderr",
     "output_type": "stream",
     "text": [
      "172.19.0.1 - - [04/Jan/2022 08:35:27] \"GET /refreshData HTTP/1.1\" 200 -\n"
     ]
    },
    {
     "name": "stdout",
     "output_type": "stream",
     "text": [
      "labels now: ['#TheBachelor', '#Browns', '#WWERaw', '#HereWeGo', '#Bachelor', '#GodMorningTuesday', '#CLEvsPIT', '#tuesdaymotivations', '#theneighborhood', '#TikTok', '#browns']\n",
      "data now: [68, 23, 15, 12, 11, 10, 9, 8, 6, 6, 6]\n"
     ]
    },
    {
     "name": "stderr",
     "output_type": "stream",
     "text": [
      "172.19.0.1 - - [04/Jan/2022 08:35:28] \"GET /refreshData HTTP/1.1\" 200 -\n"
     ]
    },
    {
     "name": "stdout",
     "output_type": "stream",
     "text": [
      "labels now: ['#TheBachelor', '#Browns', '#WWERaw', '#HereWeGo', '#Bachelor', '#GodMorningTuesday', '#CLEvsPIT', '#tuesdaymotivations', '#theneighborhood', '#TikTok', '#browns']\n",
      "data now: [68, 23, 15, 12, 11, 10, 9, 8, 6, 6, 6]\n"
     ]
    },
    {
     "name": "stderr",
     "output_type": "stream",
     "text": [
      "172.19.0.1 - - [04/Jan/2022 08:35:29] \"GET /refreshData HTTP/1.1\" 200 -\n"
     ]
    },
    {
     "name": "stdout",
     "output_type": "stream",
     "text": [
      "labels now: ['#TheBachelor', '#Browns', '#WWERaw', '#HereWeGo', '#Bachelor', '#GodMorningTuesday', '#CLEvsPIT', '#tuesdaymotivations', '#theneighborhood', '#TikTok', '#browns']\n",
      "data now: [68, 23, 15, 12, 11, 10, 9, 8, 6, 6, 6]\n"
     ]
    },
    {
     "name": "stderr",
     "output_type": "stream",
     "text": [
      "172.19.0.1 - - [04/Jan/2022 08:35:30] \"GET /refreshData HTTP/1.1\" 200 -\n"
     ]
    },
    {
     "name": "stdout",
     "output_type": "stream",
     "text": [
      "labels now: ['#TheBachelor', '#Browns', '#WWERaw', '#HereWeGo', '#Bachelor', '#GodMorningTuesday', '#CLEvsPIT', '#tuesdaymotivations', '#theneighborhood', '#TikTok', '#browns']\n",
      "data now: [68, 23, 15, 12, 11, 10, 9, 8, 6, 6, 6]\n"
     ]
    },
    {
     "name": "stderr",
     "output_type": "stream",
     "text": [
      "172.19.0.1 - - [04/Jan/2022 08:35:31] \"GET /refreshData HTTP/1.1\" 200 -\n"
     ]
    },
    {
     "name": "stdout",
     "output_type": "stream",
     "text": [
      "labels now: ['#TheBachelor', '#Browns', '#WWERaw', '#HereWeGo', '#Bachelor', '#GodMorningTuesday', '#CLEvsPIT', '#tuesdaymotivations', '#theneighborhood', '#TikTok', '#browns']\n",
      "data now: [68, 23, 15, 12, 11, 10, 9, 8, 6, 6, 6]\n"
     ]
    },
    {
     "name": "stderr",
     "output_type": "stream",
     "text": [
      "172.19.0.1 - - [04/Jan/2022 08:35:32] \"GET /refreshData HTTP/1.1\" 200 -\n"
     ]
    },
    {
     "name": "stdout",
     "output_type": "stream",
     "text": [
      "labels now: ['#TheBachelor', '#Browns', '#WWERaw', '#HereWeGo', '#Bachelor', '#GodMorningTuesday', '#CLEvsPIT', '#tuesdaymotivations', '#theneighborhood', '#TikTok', '#browns']\n",
      "data now: [68, 23, 15, 12, 11, 10, 9, 8, 6, 6, 6]\n"
     ]
    },
    {
     "name": "stderr",
     "output_type": "stream",
     "text": [
      "172.19.0.1 - - [04/Jan/2022 08:35:33] \"GET /refreshData HTTP/1.1\" 200 -\n"
     ]
    },
    {
     "name": "stdout",
     "output_type": "stream",
     "text": [
      "labels now: ['#TheBachelor', '#Browns', '#WWERaw', '#HereWeGo', '#Bachelor', '#GodMorningTuesday', '#CLEvsPIT', '#tuesdaymotivations', '#theneighborhood', '#TikTok', '#browns']\n",
      "data now: [68, 23, 15, 12, 11, 10, 9, 8, 6, 6, 6]\n"
     ]
    },
    {
     "name": "stderr",
     "output_type": "stream",
     "text": [
      "172.19.0.1 - - [04/Jan/2022 08:35:34] \"GET /refreshData HTTP/1.1\" 200 -\n"
     ]
    },
    {
     "name": "stdout",
     "output_type": "stream",
     "text": [
      "labels now: ['#TheBachelor', '#Browns', '#WWERaw', '#HereWeGo', '#Bachelor', '#GodMorningTuesday', '#CLEvsPIT', '#tuesdaymotivations', '#theneighborhood', '#TikTok', '#browns']\n",
      "data now: [68, 23, 15, 12, 11, 10, 9, 8, 6, 6, 6]\n"
     ]
    },
    {
     "name": "stderr",
     "output_type": "stream",
     "text": [
      "172.19.0.1 - - [04/Jan/2022 08:35:35] \"GET /refreshData HTTP/1.1\" 200 -\n"
     ]
    },
    {
     "name": "stdout",
     "output_type": "stream",
     "text": [
      "labels now: ['#TheBachelor', '#Browns', '#WWERaw', '#HereWeGo', '#Bachelor', '#GodMorningTuesday', '#CLEvsPIT', '#tuesdaymotivations', '#theneighborhood', '#TikTok', '#browns']\n",
      "data now: [68, 23, 15, 12, 11, 10, 9, 8, 6, 6, 6]\n"
     ]
    },
    {
     "name": "stderr",
     "output_type": "stream",
     "text": [
      "172.19.0.1 - - [04/Jan/2022 08:35:36] \"GET /refreshData HTTP/1.1\" 200 -\n"
     ]
    },
    {
     "name": "stdout",
     "output_type": "stream",
     "text": [
      "labels now: ['#TheBachelor', '#Browns', '#WWERaw', '#HereWeGo', '#Bachelor', '#GodMorningTuesday', '#CLEvsPIT', '#tuesdaymotivations', '#theneighborhood', '#TikTok', '#browns']\n",
      "data now: [68, 23, 15, 12, 11, 10, 9, 8, 6, 6, 6]\n"
     ]
    },
    {
     "name": "stderr",
     "output_type": "stream",
     "text": [
      "172.19.0.1 - - [04/Jan/2022 08:35:37] \"GET /refreshData HTTP/1.1\" 200 -\n"
     ]
    },
    {
     "name": "stdout",
     "output_type": "stream",
     "text": [
      "labels now: ['#TheBachelor', '#Browns', '#WWERaw', '#HereWeGo', '#Bachelor', '#GodMorningTuesday', '#CLEvsPIT', '#tuesdaymotivations', '#theneighborhood', '#TikTok', '#browns']\n",
      "data now: [68, 23, 15, 12, 11, 10, 9, 8, 6, 6, 6]\n"
     ]
    },
    {
     "name": "stderr",
     "output_type": "stream",
     "text": [
      "172.19.0.1 - - [04/Jan/2022 08:35:38] \"GET /refreshData HTTP/1.1\" 200 -\n"
     ]
    },
    {
     "name": "stdout",
     "output_type": "stream",
     "text": [
      "labels now: ['#TheBachelor', '#Browns', '#WWERaw', '#HereWeGo', '#Bachelor', '#GodMorningTuesday', '#CLEvsPIT', '#tuesdaymotivations', '#theneighborhood', '#TikTok', '#browns']\n",
      "data now: [68, 23, 15, 12, 11, 10, 9, 8, 6, 6, 6]\n"
     ]
    },
    {
     "name": "stderr",
     "output_type": "stream",
     "text": [
      "172.19.0.1 - - [04/Jan/2022 08:35:39] \"GET /refreshData HTTP/1.1\" 200 -\n"
     ]
    },
    {
     "name": "stdout",
     "output_type": "stream",
     "text": [
      "labels now: ['#TheBachelor', '#Browns', '#WWERaw', '#HereWeGo', '#Bachelor', '#GodMorningTuesday', '#CLEvsPIT', '#tuesdaymotivations', '#theneighborhood', '#TikTok', '#browns']\n",
      "data now: [68, 23, 15, 12, 11, 10, 9, 8, 6, 6, 6]\n"
     ]
    },
    {
     "name": "stderr",
     "output_type": "stream",
     "text": [
      "172.19.0.1 - - [04/Jan/2022 08:35:40] \"GET /refreshData HTTP/1.1\" 200 -\n"
     ]
    },
    {
     "name": "stdout",
     "output_type": "stream",
     "text": [
      "labels now: ['#TheBachelor', '#Browns', '#WWERaw', '#HereWeGo', '#Bachelor', '#GodMorningTuesday', '#CLEvsPIT', '#tuesdaymotivations', '#theneighborhood', '#TikTok', '#browns']\n",
      "data now: [68, 23, 15, 12, 11, 10, 9, 8, 6, 6, 6]\n"
     ]
    },
    {
     "name": "stderr",
     "output_type": "stream",
     "text": [
      "172.19.0.1 - - [04/Jan/2022 08:35:41] \"GET /refreshData HTTP/1.1\" 200 -\n"
     ]
    },
    {
     "name": "stdout",
     "output_type": "stream",
     "text": [
      "labels now: ['#TheBachelor', '#Browns', '#WWERaw', '#HereWeGo', '#Bachelor', '#GodMorningTuesday', '#CLEvsPIT', '#tuesdaymotivations', '#theneighborhood', '#TikTok', '#browns']\n",
      "data now: [68, 23, 15, 12, 11, 10, 9, 8, 6, 6, 6]\n"
     ]
    },
    {
     "name": "stderr",
     "output_type": "stream",
     "text": [
      "172.19.0.1 - - [04/Jan/2022 08:35:42] \"GET /refreshData HTTP/1.1\" 200 -\n"
     ]
    },
    {
     "name": "stdout",
     "output_type": "stream",
     "text": [
      "labels now: ['#TheBachelor', '#Browns', '#WWERaw', '#HereWeGo', '#Bachelor', '#GodMorningTuesday', '#CLEvsPIT', '#tuesdaymotivations', '#theneighborhood', '#TikTok', '#browns']\n",
      "data now: [68, 23, 15, 12, 11, 10, 9, 8, 6, 6, 6]\n"
     ]
    },
    {
     "name": "stderr",
     "output_type": "stream",
     "text": [
      "172.19.0.1 - - [04/Jan/2022 08:35:43] \"GET /refreshData HTTP/1.1\" 200 -\n"
     ]
    },
    {
     "name": "stdout",
     "output_type": "stream",
     "text": [
      "labels now: ['#TheBachelor', '#Browns', '#WWERaw', '#HereWeGo', '#Bachelor', '#GodMorningTuesday', '#CLEvsPIT', '#tuesdaymotivations', '#theneighborhood', '#TikTok', '#browns']\n",
      "data now: [68, 23, 15, 12, 11, 10, 9, 8, 6, 6, 6]\n"
     ]
    },
    {
     "name": "stderr",
     "output_type": "stream",
     "text": [
      "172.19.0.1 - - [04/Jan/2022 08:35:44] \"GET /refreshData HTTP/1.1\" 200 -\n"
     ]
    },
    {
     "name": "stdout",
     "output_type": "stream",
     "text": [
      "labels now: ['#TheBachelor', '#Browns', '#WWERaw', '#HereWeGo', '#Bachelor', '#GodMorningTuesday', '#CLEvsPIT', '#tuesdaymotivations', '#theneighborhood', '#TikTok', '#browns']\n",
      "data now: [68, 23, 15, 12, 11, 10, 9, 8, 6, 6, 6]\n"
     ]
    },
    {
     "name": "stderr",
     "output_type": "stream",
     "text": [
      "172.19.0.1 - - [04/Jan/2022 08:35:45] \"GET /refreshData HTTP/1.1\" 200 -\n"
     ]
    },
    {
     "name": "stdout",
     "output_type": "stream",
     "text": [
      "labels now: ['#TheBachelor', '#Browns', '#WWERaw', '#HereWeGo', '#Bachelor', '#GodMorningTuesday', '#CLEvsPIT', '#tuesdaymotivations', '#theneighborhood', '#TikTok', '#browns']\n",
      "data now: [68, 23, 15, 12, 11, 10, 9, 8, 6, 6, 6]\n"
     ]
    },
    {
     "name": "stderr",
     "output_type": "stream",
     "text": [
      "172.19.0.1 - - [04/Jan/2022 08:35:46] \"GET /refreshData HTTP/1.1\" 200 -\n"
     ]
    },
    {
     "name": "stdout",
     "output_type": "stream",
     "text": [
      "labels now: ['#TheBachelor', '#Browns', '#WWERaw', '#HereWeGo', '#Bachelor', '#GodMorningTuesday', '#CLEvsPIT', '#tuesdaymotivations', '#theneighborhood', '#TikTok', '#browns']\n",
      "data now: [68, 23, 15, 12, 11, 10, 9, 8, 6, 6, 6]\n"
     ]
    },
    {
     "name": "stderr",
     "output_type": "stream",
     "text": [
      "172.19.0.1 - - [04/Jan/2022 08:35:47] \"GET /refreshData HTTP/1.1\" 200 -\n"
     ]
    },
    {
     "name": "stdout",
     "output_type": "stream",
     "text": [
      "labels now: ['#TheBachelor', '#Browns', '#WWERaw', '#HereWeGo', '#Bachelor', '#GodMorningTuesday', '#CLEvsPIT', '#tuesdaymotivations', '#theneighborhood', '#TikTok', '#browns']\n",
      "data now: [68, 23, 15, 12, 11, 10, 9, 8, 6, 6, 6]\n"
     ]
    },
    {
     "name": "stderr",
     "output_type": "stream",
     "text": [
      "172.19.0.1 - - [04/Jan/2022 08:35:48] \"GET /refreshData HTTP/1.1\" 200 -\n"
     ]
    },
    {
     "name": "stdout",
     "output_type": "stream",
     "text": [
      "labels now: ['#TheBachelor', '#Browns', '#WWERaw', '#HereWeGo', '#Bachelor', '#GodMorningTuesday', '#CLEvsPIT', '#tuesdaymotivations', '#theneighborhood', '#TikTok', '#browns']\n",
      "data now: [68, 23, 15, 12, 11, 10, 9, 8, 6, 6, 6]\n"
     ]
    },
    {
     "name": "stderr",
     "output_type": "stream",
     "text": [
      "172.19.0.1 - - [04/Jan/2022 08:35:49] \"GET /refreshData HTTP/1.1\" 200 -\n"
     ]
    },
    {
     "name": "stdout",
     "output_type": "stream",
     "text": [
      "labels now: ['#TheBachelor', '#Browns', '#WWERaw', '#HereWeGo', '#Bachelor', '#GodMorningTuesday', '#CLEvsPIT', '#tuesdaymotivations', '#theneighborhood', '#TikTok', '#browns']\n",
      "data now: [68, 23, 15, 12, 11, 10, 9, 8, 6, 6, 6]\n"
     ]
    },
    {
     "name": "stderr",
     "output_type": "stream",
     "text": [
      "172.19.0.1 - - [04/Jan/2022 08:35:50] \"GET /refreshData HTTP/1.1\" 200 -\n"
     ]
    },
    {
     "name": "stdout",
     "output_type": "stream",
     "text": [
      "labels now: ['#TheBachelor', '#Browns', '#WWERaw', '#HereWeGo', '#Bachelor', '#GodMorningTuesday', '#CLEvsPIT', '#tuesdaymotivations', '#theneighborhood', '#TikTok', '#browns']\n",
      "data now: [68, 23, 15, 12, 11, 10, 9, 8, 6, 6, 6]\n"
     ]
    },
    {
     "name": "stderr",
     "output_type": "stream",
     "text": [
      "172.19.0.1 - - [04/Jan/2022 08:35:51] \"GET /refreshData HTTP/1.1\" 200 -\n"
     ]
    },
    {
     "name": "stdout",
     "output_type": "stream",
     "text": [
      "labels now: ['#TheBachelor', '#Browns', '#WWERaw', '#HereWeGo', '#Bachelor', '#GodMorningTuesday', '#CLEvsPIT', '#tuesdaymotivations', '#theneighborhood', '#TikTok', '#browns']\n",
      "data now: [68, 23, 15, 12, 11, 10, 9, 8, 6, 6, 6]\n"
     ]
    },
    {
     "name": "stderr",
     "output_type": "stream",
     "text": [
      "172.19.0.1 - - [04/Jan/2022 08:35:52] \"GET /refreshData HTTP/1.1\" 200 -\n"
     ]
    },
    {
     "name": "stdout",
     "output_type": "stream",
     "text": [
      "labels now: ['#TheBachelor', '#Browns', '#WWERaw', '#HereWeGo', '#Bachelor', '#GodMorningTuesday', '#CLEvsPIT', '#tuesdaymotivations', '#theneighborhood', '#TikTok', '#browns']\n",
      "data now: [68, 23, 15, 12, 11, 10, 9, 8, 6, 6, 6]\n"
     ]
    },
    {
     "name": "stderr",
     "output_type": "stream",
     "text": [
      "172.19.0.1 - - [04/Jan/2022 08:35:53] \"GET /refreshData HTTP/1.1\" 200 -\n"
     ]
    },
    {
     "name": "stdout",
     "output_type": "stream",
     "text": [
      "labels now: ['#TheBachelor', '#Browns', '#WWERaw', '#HereWeGo', '#Bachelor', '#GodMorningTuesday', '#CLEvsPIT', '#tuesdaymotivations', '#theneighborhood', '#TikTok', '#browns']\n",
      "data now: [68, 23, 15, 12, 11, 10, 9, 8, 6, 6, 6]\n"
     ]
    },
    {
     "name": "stderr",
     "output_type": "stream",
     "text": [
      "172.19.0.1 - - [04/Jan/2022 08:35:54] \"GET /refreshData HTTP/1.1\" 200 -\n"
     ]
    },
    {
     "name": "stdout",
     "output_type": "stream",
     "text": [
      "labels now: ['#TheBachelor', '#Browns', '#WWERaw', '#HereWeGo', '#Bachelor', '#GodMorningTuesday', '#CLEvsPIT', '#tuesdaymotivations', '#theneighborhood', '#TikTok', '#browns']\n",
      "data now: [68, 23, 15, 12, 11, 10, 9, 8, 6, 6, 6]\n"
     ]
    },
    {
     "name": "stderr",
     "output_type": "stream",
     "text": [
      "172.19.0.1 - - [04/Jan/2022 08:35:55] \"GET /refreshData HTTP/1.1\" 200 -\n"
     ]
    },
    {
     "name": "stdout",
     "output_type": "stream",
     "text": [
      "labels now: ['#TheBachelor', '#Browns', '#WWERaw', '#HereWeGo', '#Bachelor', '#GodMorningTuesday', '#CLEvsPIT', '#tuesdaymotivations', '#theneighborhood', '#TikTok', '#browns']\n",
      "data now: [68, 23, 15, 12, 11, 10, 9, 8, 6, 6, 6]\n"
     ]
    },
    {
     "name": "stderr",
     "output_type": "stream",
     "text": [
      "172.19.0.1 - - [04/Jan/2022 08:35:56] \"GET /refreshData HTTP/1.1\" 200 -\n"
     ]
    },
    {
     "name": "stdout",
     "output_type": "stream",
     "text": [
      "labels now: ['#TheBachelor', '#Browns', '#WWERaw', '#HereWeGo', '#Bachelor', '#GodMorningTuesday', '#CLEvsPIT', '#tuesdaymotivations', '#theneighborhood', '#TikTok', '#browns']\n",
      "data now: [68, 23, 15, 12, 11, 10, 9, 8, 6, 6, 6]\n"
     ]
    },
    {
     "name": "stderr",
     "output_type": "stream",
     "text": [
      "172.19.0.1 - - [04/Jan/2022 08:35:57] \"GET /refreshData HTTP/1.1\" 200 -\n"
     ]
    },
    {
     "name": "stdout",
     "output_type": "stream",
     "text": [
      "labels now: ['#TheBachelor', '#Browns', '#WWERaw', '#HereWeGo', '#Bachelor', '#GodMorningTuesday', '#CLEvsPIT', '#tuesdaymotivations', '#theneighborhood', '#TikTok', '#browns']\n",
      "data now: [68, 23, 15, 12, 11, 10, 9, 8, 6, 6, 6]\n"
     ]
    },
    {
     "name": "stderr",
     "output_type": "stream",
     "text": [
      "172.19.0.1 - - [04/Jan/2022 08:35:58] \"GET /refreshData HTTP/1.1\" 200 -\n"
     ]
    },
    {
     "name": "stdout",
     "output_type": "stream",
     "text": [
      "labels now: ['#TheBachelor', '#Browns', '#WWERaw', '#HereWeGo', '#Bachelor', '#GodMorningTuesday', '#CLEvsPIT', '#tuesdaymotivations', '#theneighborhood', '#TikTok', '#browns']\n",
      "data now: [68, 23, 15, 12, 11, 10, 9, 8, 6, 6, 6]\n"
     ]
    },
    {
     "name": "stderr",
     "output_type": "stream",
     "text": [
      "172.19.0.1 - - [04/Jan/2022 08:35:59] \"GET /refreshData HTTP/1.1\" 200 -\n"
     ]
    },
    {
     "name": "stdout",
     "output_type": "stream",
     "text": [
      "labels now: ['#TheBachelor', '#Browns', '#WWERaw', '#HereWeGo', '#Bachelor', '#GodMorningTuesday', '#CLEvsPIT', '#tuesdaymotivations', '#theneighborhood', '#TikTok', '#browns']\n",
      "data now: [68, 23, 15, 12, 11, 10, 9, 8, 6, 6, 6]\n"
     ]
    },
    {
     "name": "stderr",
     "output_type": "stream",
     "text": [
      "172.19.0.1 - - [04/Jan/2022 08:36:00] \"GET /refreshData HTTP/1.1\" 200 -\n"
     ]
    },
    {
     "name": "stdout",
     "output_type": "stream",
     "text": [
      "labels now: ['#TheBachelor', '#Browns', '#WWERaw', '#HereWeGo', '#Bachelor', '#GodMorningTuesday', '#CLEvsPIT', '#tuesdaymotivations', '#theneighborhood', '#TikTok', '#browns']\n",
      "data now: [68, 23, 15, 12, 11, 10, 9, 8, 6, 6, 6]\n"
     ]
    },
    {
     "name": "stderr",
     "output_type": "stream",
     "text": [
      "172.19.0.1 - - [04/Jan/2022 08:36:01] \"GET /refreshData HTTP/1.1\" 200 -\n"
     ]
    },
    {
     "name": "stdout",
     "output_type": "stream",
     "text": [
      "labels now: ['#TheBachelor', '#Browns', '#WWERaw', '#HereWeGo', '#Bachelor', '#GodMorningTuesday', '#CLEvsPIT', '#tuesdaymotivations', '#theneighborhood', '#TikTok', '#browns']\n",
      "data now: [68, 23, 15, 12, 11, 10, 9, 8, 6, 6, 6]\n"
     ]
    },
    {
     "name": "stderr",
     "output_type": "stream",
     "text": [
      "172.19.0.1 - - [04/Jan/2022 08:36:02] \"GET /refreshData HTTP/1.1\" 200 -\n"
     ]
    },
    {
     "name": "stdout",
     "output_type": "stream",
     "text": [
      "labels now: ['#TheBachelor', '#Browns', '#WWERaw', '#HereWeGo', '#Bachelor', '#GodMorningTuesday', '#CLEvsPIT', '#tuesdaymotivations', '#theneighborhood', '#TikTok', '#browns']\n",
      "data now: [68, 23, 15, 12, 11, 10, 9, 8, 6, 6, 6]\n"
     ]
    },
    {
     "name": "stderr",
     "output_type": "stream",
     "text": [
      "172.19.0.1 - - [04/Jan/2022 08:36:03] \"GET /refreshData HTTP/1.1\" 200 -\n"
     ]
    },
    {
     "name": "stdout",
     "output_type": "stream",
     "text": [
      "labels now: ['#TheBachelor', '#Browns', '#WWERaw', '#HereWeGo', '#Bachelor', '#GodMorningTuesday', '#CLEvsPIT', '#tuesdaymotivations', '#theneighborhood', '#TikTok', '#browns']\n",
      "data now: [68, 23, 15, 12, 11, 10, 9, 8, 6, 6, 6]\n"
     ]
    },
    {
     "name": "stderr",
     "output_type": "stream",
     "text": [
      "172.19.0.1 - - [04/Jan/2022 08:36:04] \"GET /refreshData HTTP/1.1\" 200 -\n"
     ]
    },
    {
     "name": "stdout",
     "output_type": "stream",
     "text": [
      "labels now: ['#TheBachelor', '#Browns', '#WWERaw', '#HereWeGo', '#Bachelor', '#GodMorningTuesday', '#CLEvsPIT', '#tuesdaymotivations', '#theneighborhood', '#TikTok', '#browns']\n",
      "data now: [68, 23, 15, 12, 11, 10, 9, 8, 6, 6, 6]\n"
     ]
    },
    {
     "name": "stderr",
     "output_type": "stream",
     "text": [
      "172.19.0.1 - - [04/Jan/2022 08:36:05] \"GET /refreshData HTTP/1.1\" 200 -\n"
     ]
    },
    {
     "name": "stdout",
     "output_type": "stream",
     "text": [
      "labels now: ['#TheBachelor', '#Browns', '#WWERaw', '#HereWeGo', '#Bachelor', '#GodMorningTuesday', '#CLEvsPIT', '#tuesdaymotivations', '#theneighborhood', '#TikTok', '#browns']\n",
      "data now: [68, 23, 15, 12, 11, 10, 9, 8, 6, 6, 6]\n"
     ]
    },
    {
     "name": "stderr",
     "output_type": "stream",
     "text": [
      "172.19.0.1 - - [04/Jan/2022 08:36:06] \"GET /refreshData HTTP/1.1\" 200 -\n"
     ]
    },
    {
     "name": "stdout",
     "output_type": "stream",
     "text": [
      "labels now: ['#TheBachelor', '#Browns', '#WWERaw', '#HereWeGo', '#Bachelor', '#GodMorningTuesday', '#CLEvsPIT', '#tuesdaymotivations', '#theneighborhood', '#TikTok', '#browns']\n",
      "data now: [68, 23, 15, 12, 11, 10, 9, 8, 6, 6, 6]\n"
     ]
    },
    {
     "name": "stderr",
     "output_type": "stream",
     "text": [
      "172.19.0.1 - - [04/Jan/2022 08:36:07] \"GET /refreshData HTTP/1.1\" 200 -\n"
     ]
    },
    {
     "name": "stdout",
     "output_type": "stream",
     "text": [
      "labels now: ['#TheBachelor', '#Browns', '#WWERaw', '#HereWeGo', '#Bachelor', '#GodMorningTuesday', '#CLEvsPIT', '#tuesdaymotivations', '#theneighborhood', '#TikTok', '#browns']\n",
      "data now: [68, 23, 15, 12, 11, 10, 9, 8, 6, 6, 6]\n"
     ]
    },
    {
     "name": "stderr",
     "output_type": "stream",
     "text": [
      "172.19.0.1 - - [04/Jan/2022 08:36:08] \"GET /refreshData HTTP/1.1\" 200 -\n"
     ]
    },
    {
     "name": "stdout",
     "output_type": "stream",
     "text": [
      "labels now: ['#TheBachelor', '#Browns', '#WWERaw', '#HereWeGo', '#Bachelor', '#GodMorningTuesday', '#CLEvsPIT', '#tuesdaymotivations', '#theneighborhood', '#TikTok', '#browns']\n",
      "data now: [68, 23, 15, 12, 11, 10, 9, 8, 6, 6, 6]\n"
     ]
    },
    {
     "name": "stderr",
     "output_type": "stream",
     "text": [
      "172.19.0.1 - - [04/Jan/2022 08:36:09] \"GET /refreshData HTTP/1.1\" 200 -\n"
     ]
    },
    {
     "name": "stdout",
     "output_type": "stream",
     "text": [
      "labels now: ['#TheBachelor', '#Browns', '#WWERaw', '#HereWeGo', '#Bachelor', '#GodMorningTuesday', '#CLEvsPIT', '#tuesdaymotivations', '#theneighborhood', '#TikTok', '#browns']\n",
      "data now: [68, 23, 15, 12, 11, 10, 9, 8, 6, 6, 6]\n"
     ]
    },
    {
     "name": "stderr",
     "output_type": "stream",
     "text": [
      "172.19.0.1 - - [04/Jan/2022 08:36:10] \"GET /refreshData HTTP/1.1\" 200 -\n"
     ]
    },
    {
     "name": "stdout",
     "output_type": "stream",
     "text": [
      "labels now: ['#TheBachelor', '#Browns', '#WWERaw', '#HereWeGo', '#Bachelor', '#GodMorningTuesday', '#CLEvsPIT', '#tuesdaymotivations', '#theneighborhood', '#TikTok', '#browns']\n",
      "data now: [68, 23, 15, 12, 11, 10, 9, 8, 6, 6, 6]\n"
     ]
    },
    {
     "name": "stderr",
     "output_type": "stream",
     "text": [
      "172.19.0.1 - - [04/Jan/2022 08:36:11] \"GET /refreshData HTTP/1.1\" 200 -\n"
     ]
    },
    {
     "name": "stdout",
     "output_type": "stream",
     "text": [
      "labels now: ['#TheBachelor', '#Browns', '#WWERaw', '#HereWeGo', '#Bachelor', '#GodMorningTuesday', '#CLEvsPIT', '#tuesdaymotivations', '#theneighborhood', '#TikTok', '#browns']\n",
      "data now: [68, 23, 15, 12, 11, 10, 9, 8, 6, 6, 6]\n"
     ]
    },
    {
     "name": "stderr",
     "output_type": "stream",
     "text": [
      "172.19.0.1 - - [04/Jan/2022 08:36:12] \"GET /refreshData HTTP/1.1\" 200 -\n"
     ]
    },
    {
     "name": "stdout",
     "output_type": "stream",
     "text": [
      "labels now: ['#TheBachelor', '#Browns', '#WWERaw', '#HereWeGo', '#Bachelor', '#GodMorningTuesday', '#CLEvsPIT', '#tuesdaymotivations', '#theneighborhood', '#TikTok', '#browns']\n",
      "data now: [68, 23, 15, 12, 11, 10, 9, 8, 6, 6, 6]\n"
     ]
    },
    {
     "name": "stderr",
     "output_type": "stream",
     "text": [
      "172.19.0.1 - - [04/Jan/2022 08:36:13] \"GET /refreshData HTTP/1.1\" 200 -\n"
     ]
    },
    {
     "name": "stdout",
     "output_type": "stream",
     "text": [
      "labels now: ['#TheBachelor', '#Browns', '#WWERaw', '#HereWeGo', '#Bachelor', '#GodMorningTuesday', '#CLEvsPIT', '#tuesdaymotivations', '#theneighborhood', '#TikTok', '#browns']\n",
      "data now: [68, 23, 15, 12, 11, 10, 9, 8, 6, 6, 6]\n"
     ]
    },
    {
     "name": "stderr",
     "output_type": "stream",
     "text": [
      "172.19.0.1 - - [04/Jan/2022 08:36:14] \"GET /refreshData HTTP/1.1\" 200 -\n"
     ]
    },
    {
     "name": "stdout",
     "output_type": "stream",
     "text": [
      "labels now: ['#TheBachelor', '#Browns', '#WWERaw', '#HereWeGo', '#Bachelor', '#GodMorningTuesday', '#CLEvsPIT', '#tuesdaymotivations', '#theneighborhood', '#TikTok', '#browns']\n",
      "data now: [68, 23, 15, 12, 11, 10, 9, 8, 6, 6, 6]\n"
     ]
    },
    {
     "name": "stderr",
     "output_type": "stream",
     "text": [
      "172.19.0.1 - - [04/Jan/2022 08:36:15] \"GET /refreshData HTTP/1.1\" 200 -\n"
     ]
    },
    {
     "name": "stdout",
     "output_type": "stream",
     "text": [
      "labels now: ['#TheBachelor', '#Browns', '#WWERaw', '#HereWeGo', '#Bachelor', '#GodMorningTuesday', '#CLEvsPIT', '#tuesdaymotivations', '#theneighborhood', '#TikTok', '#browns']\n",
      "data now: [68, 23, 15, 12, 11, 10, 9, 8, 6, 6, 6]\n"
     ]
    },
    {
     "name": "stderr",
     "output_type": "stream",
     "text": [
      "172.19.0.1 - - [04/Jan/2022 08:36:16] \"GET /refreshData HTTP/1.1\" 200 -\n"
     ]
    },
    {
     "name": "stdout",
     "output_type": "stream",
     "text": [
      "labels now: ['#TheBachelor', '#Browns', '#WWERaw', '#HereWeGo', '#Bachelor', '#GodMorningTuesday', '#CLEvsPIT', '#tuesdaymotivations', '#theneighborhood', '#TikTok', '#browns']\n",
      "data now: [68, 23, 15, 12, 11, 10, 9, 8, 6, 6, 6]\n"
     ]
    },
    {
     "name": "stderr",
     "output_type": "stream",
     "text": [
      "172.19.0.1 - - [04/Jan/2022 08:36:17] \"GET /refreshData HTTP/1.1\" 200 -\n"
     ]
    },
    {
     "name": "stdout",
     "output_type": "stream",
     "text": [
      "labels now: ['#TheBachelor', '#Browns', '#WWERaw', '#HereWeGo', '#Bachelor', '#GodMorningTuesday', '#CLEvsPIT', '#tuesdaymotivations', '#theneighborhood', '#TikTok', '#browns']\n",
      "data now: [68, 23, 15, 12, 11, 10, 9, 8, 6, 6, 6]\n"
     ]
    },
    {
     "name": "stderr",
     "output_type": "stream",
     "text": [
      "172.19.0.1 - - [04/Jan/2022 08:36:18] \"GET /refreshData HTTP/1.1\" 200 -\n"
     ]
    },
    {
     "name": "stdout",
     "output_type": "stream",
     "text": [
      "labels now: ['#TheBachelor', '#Browns', '#WWERaw', '#HereWeGo', '#Bachelor', '#GodMorningTuesday', '#CLEvsPIT', '#tuesdaymotivations', '#theneighborhood', '#TikTok', '#browns']\n",
      "data now: [68, 23, 15, 12, 11, 10, 9, 8, 6, 6, 6]\n"
     ]
    },
    {
     "name": "stderr",
     "output_type": "stream",
     "text": [
      "172.19.0.1 - - [04/Jan/2022 08:36:19] \"GET /refreshData HTTP/1.1\" 200 -\n"
     ]
    },
    {
     "name": "stdout",
     "output_type": "stream",
     "text": [
      "labels now: ['#TheBachelor', '#Browns', '#WWERaw', '#HereWeGo', '#Bachelor', '#GodMorningTuesday', '#CLEvsPIT', '#tuesdaymotivations', '#theneighborhood', '#TikTok', '#browns']\n",
      "data now: [68, 23, 15, 12, 11, 10, 9, 8, 6, 6, 6]\n"
     ]
    },
    {
     "name": "stderr",
     "output_type": "stream",
     "text": [
      "172.19.0.1 - - [04/Jan/2022 08:36:19] \"GET /refreshData HTTP/1.1\" 200 -\n"
     ]
    },
    {
     "name": "stdout",
     "output_type": "stream",
     "text": [
      "labels now: ['#TheBachelor', '#Browns', '#WWERaw', '#HereWeGo', '#Bachelor', '#GodMorningTuesday', '#CLEvsPIT', '#tuesdaymotivations', '#theneighborhood', '#TikTok', '#browns']\n",
      "data now: [68, 23, 15, 12, 11, 10, 9, 8, 6, 6, 6]\n"
     ]
    },
    {
     "name": "stderr",
     "output_type": "stream",
     "text": [
      "172.19.0.1 - - [04/Jan/2022 08:36:20] \"GET /refreshData HTTP/1.1\" 200 -\n"
     ]
    },
    {
     "name": "stdout",
     "output_type": "stream",
     "text": [
      "labels now: ['#TheBachelor', '#Browns', '#WWERaw', '#HereWeGo', '#Bachelor', '#GodMorningTuesday', '#CLEvsPIT', '#tuesdaymotivations', '#theneighborhood', '#TikTok', '#browns']\n",
      "data now: [68, 23, 15, 12, 11, 10, 9, 8, 6, 6, 6]\n"
     ]
    },
    {
     "name": "stderr",
     "output_type": "stream",
     "text": [
      "172.19.0.1 - - [04/Jan/2022 08:36:21] \"GET /refreshData HTTP/1.1\" 200 -\n"
     ]
    },
    {
     "name": "stdout",
     "output_type": "stream",
     "text": [
      "labels now: ['#TheBachelor', '#Browns', '#WWERaw', '#HereWeGo', '#Bachelor', '#GodMorningTuesday', '#CLEvsPIT', '#tuesdaymotivations', '#theneighborhood', '#TikTok', '#browns']\n",
      "data now: [68, 23, 15, 12, 11, 10, 9, 8, 6, 6, 6]\n"
     ]
    },
    {
     "name": "stderr",
     "output_type": "stream",
     "text": [
      "172.19.0.1 - - [04/Jan/2022 08:36:22] \"GET /refreshData HTTP/1.1\" 200 -\n"
     ]
    },
    {
     "name": "stdout",
     "output_type": "stream",
     "text": [
      "labels now: ['#TheBachelor', '#Browns', '#WWERaw', '#HereWeGo', '#Bachelor', '#GodMorningTuesday', '#CLEvsPIT', '#tuesdaymotivations', '#theneighborhood', '#TikTok', '#browns']\n",
      "data now: [68, 23, 15, 12, 11, 10, 9, 8, 6, 6, 6]\n"
     ]
    },
    {
     "name": "stderr",
     "output_type": "stream",
     "text": [
      "172.19.0.1 - - [04/Jan/2022 08:36:23] \"GET /refreshData HTTP/1.1\" 200 -\n"
     ]
    },
    {
     "name": "stdout",
     "output_type": "stream",
     "text": [
      "labels now: ['#TheBachelor', '#Browns', '#WWERaw', '#HereWeGo', '#Bachelor', '#GodMorningTuesday', '#CLEvsPIT', '#tuesdaymotivations', '#theneighborhood', '#TikTok', '#browns']\n",
      "data now: [68, 23, 15, 12, 11, 10, 9, 8, 6, 6, 6]\n"
     ]
    },
    {
     "name": "stderr",
     "output_type": "stream",
     "text": [
      "172.19.0.1 - - [04/Jan/2022 08:36:24] \"GET /refreshData HTTP/1.1\" 200 -\n"
     ]
    },
    {
     "name": "stdout",
     "output_type": "stream",
     "text": [
      "labels now: ['#TheBachelor', '#Browns', '#WWERaw', '#HereWeGo', '#Bachelor', '#GodMorningTuesday', '#CLEvsPIT', '#tuesdaymotivations', '#theneighborhood', '#TikTok', '#browns']\n",
      "data now: [68, 23, 15, 12, 11, 10, 9, 8, 6, 6, 6]\n"
     ]
    },
    {
     "name": "stderr",
     "output_type": "stream",
     "text": [
      "172.19.0.1 - - [04/Jan/2022 08:36:26] \"GET /refreshData HTTP/1.1\" 200 -\n"
     ]
    },
    {
     "name": "stdout",
     "output_type": "stream",
     "text": [
      "labels now: ['#TheBachelor', '#Browns', '#WWERaw', '#HereWeGo', '#Bachelor', '#GodMorningTuesday', '#CLEvsPIT', '#tuesdaymotivations', '#theneighborhood', '#TikTok', '#browns']\n",
      "data now: [68, 23, 15, 12, 11, 10, 9, 8, 6, 6, 6]\n"
     ]
    },
    {
     "name": "stderr",
     "output_type": "stream",
     "text": [
      "172.19.0.1 - - [04/Jan/2022 08:36:27] \"GET /refreshData HTTP/1.1\" 200 -\n"
     ]
    },
    {
     "name": "stdout",
     "output_type": "stream",
     "text": [
      "labels now: ['#TheBachelor', '#Browns', '#WWERaw', '#HereWeGo', '#Bachelor', '#GodMorningTuesday', '#CLEvsPIT', '#tuesdaymotivations', '#theneighborhood', '#TikTok', '#browns']\n",
      "data now: [68, 23, 15, 12, 11, 10, 9, 8, 6, 6, 6]\n"
     ]
    },
    {
     "name": "stderr",
     "output_type": "stream",
     "text": [
      "172.19.0.1 - - [04/Jan/2022 08:36:28] \"GET /refreshData HTTP/1.1\" 200 -\n"
     ]
    },
    {
     "name": "stdout",
     "output_type": "stream",
     "text": [
      "labels now: ['#TheBachelor', '#Browns', '#WWERaw', '#HereWeGo', '#Bachelor', '#GodMorningTuesday', '#CLEvsPIT', '#tuesdaymotivations', '#theneighborhood', '#TikTok', '#browns']\n",
      "data now: [68, 23, 15, 12, 11, 10, 9, 8, 6, 6, 6]\n"
     ]
    },
    {
     "name": "stderr",
     "output_type": "stream",
     "text": [
      "172.19.0.1 - - [04/Jan/2022 08:36:29] \"GET /refreshData HTTP/1.1\" 200 -\n"
     ]
    },
    {
     "name": "stdout",
     "output_type": "stream",
     "text": [
      "labels now: ['#TheBachelor', '#Browns', '#WWERaw', '#HereWeGo', '#Bachelor', '#GodMorningTuesday', '#CLEvsPIT', '#tuesdaymotivations', '#theneighborhood', '#TikTok', '#browns']\n",
      "data now: [68, 23, 15, 12, 11, 10, 9, 8, 6, 6, 6]\n"
     ]
    },
    {
     "name": "stderr",
     "output_type": "stream",
     "text": [
      "172.19.0.1 - - [04/Jan/2022 08:36:30] \"GET /refreshData HTTP/1.1\" 200 -\n"
     ]
    },
    {
     "name": "stdout",
     "output_type": "stream",
     "text": [
      "labels now: ['#TheBachelor', '#Browns', '#WWERaw', '#HereWeGo', '#Bachelor', '#GodMorningTuesday', '#CLEvsPIT', '#tuesdaymotivations', '#theneighborhood', '#TikTok', '#browns']\n",
      "data now: [68, 23, 15, 12, 11, 10, 9, 8, 6, 6, 6]\n"
     ]
    },
    {
     "name": "stderr",
     "output_type": "stream",
     "text": [
      "172.19.0.1 - - [04/Jan/2022 08:36:31] \"GET /refreshData HTTP/1.1\" 200 -\n"
     ]
    },
    {
     "name": "stdout",
     "output_type": "stream",
     "text": [
      "labels now: ['#TheBachelor', '#Browns', '#WWERaw', '#HereWeGo', '#Bachelor', '#GodMorningTuesday', '#CLEvsPIT', '#tuesdaymotivations', '#theneighborhood', '#TikTok', '#browns']\n",
      "data now: [68, 23, 15, 12, 11, 10, 9, 8, 6, 6, 6]\n"
     ]
    },
    {
     "name": "stderr",
     "output_type": "stream",
     "text": [
      "172.19.0.1 - - [04/Jan/2022 08:36:32] \"GET /refreshData HTTP/1.1\" 200 -\n"
     ]
    },
    {
     "name": "stdout",
     "output_type": "stream",
     "text": [
      "labels now: ['#TheBachelor', '#Browns', '#WWERaw', '#HereWeGo', '#Bachelor', '#GodMorningTuesday', '#CLEvsPIT', '#tuesdaymotivations', '#theneighborhood', '#TikTok', '#browns']\n",
      "data now: [68, 23, 15, 12, 11, 10, 9, 8, 6, 6, 6]\n"
     ]
    },
    {
     "name": "stderr",
     "output_type": "stream",
     "text": [
      "172.19.0.1 - - [04/Jan/2022 08:36:33] \"GET /refreshData HTTP/1.1\" 200 -\n"
     ]
    },
    {
     "name": "stdout",
     "output_type": "stream",
     "text": [
      "labels now: ['#TheBachelor', '#Browns', '#WWERaw', '#HereWeGo', '#Bachelor', '#GodMorningTuesday', '#CLEvsPIT', '#tuesdaymotivations', '#theneighborhood', '#TikTok', '#browns']\n",
      "data now: [68, 23, 15, 12, 11, 10, 9, 8, 6, 6, 6]\n"
     ]
    },
    {
     "name": "stderr",
     "output_type": "stream",
     "text": [
      "172.19.0.1 - - [04/Jan/2022 08:36:34] \"GET /refreshData HTTP/1.1\" 200 -\n"
     ]
    },
    {
     "name": "stdout",
     "output_type": "stream",
     "text": [
      "labels now: ['#TheBachelor', '#Browns', '#WWERaw', '#HereWeGo', '#Bachelor', '#GodMorningTuesday', '#CLEvsPIT', '#tuesdaymotivations', '#theneighborhood', '#TikTok', '#browns']\n",
      "data now: [68, 23, 15, 12, 11, 10, 9, 8, 6, 6, 6]\n"
     ]
    },
    {
     "name": "stderr",
     "output_type": "stream",
     "text": [
      "172.19.0.1 - - [04/Jan/2022 08:36:35] \"GET /refreshData HTTP/1.1\" 200 -\n"
     ]
    },
    {
     "name": "stdout",
     "output_type": "stream",
     "text": [
      "labels now: ['#TheBachelor', '#Browns', '#WWERaw', '#HereWeGo', '#Bachelor', '#GodMorningTuesday', '#CLEvsPIT', '#tuesdaymotivations', '#theneighborhood', '#TikTok', '#browns']\n",
      "data now: [68, 23, 15, 12, 11, 10, 9, 8, 6, 6, 6]\n"
     ]
    },
    {
     "name": "stderr",
     "output_type": "stream",
     "text": [
      "172.19.0.1 - - [04/Jan/2022 08:36:36] \"GET /refreshData HTTP/1.1\" 200 -\n"
     ]
    },
    {
     "name": "stdout",
     "output_type": "stream",
     "text": [
      "labels now: ['#TheBachelor', '#Browns', '#WWERaw', '#HereWeGo', '#Bachelor', '#GodMorningTuesday', '#CLEvsPIT', '#tuesdaymotivations', '#theneighborhood', '#TikTok', '#browns']\n",
      "data now: [68, 23, 15, 12, 11, 10, 9, 8, 6, 6, 6]\n"
     ]
    },
    {
     "name": "stderr",
     "output_type": "stream",
     "text": [
      "172.19.0.1 - - [04/Jan/2022 08:36:37] \"GET /refreshData HTTP/1.1\" 200 -\n"
     ]
    },
    {
     "name": "stdout",
     "output_type": "stream",
     "text": [
      "labels now: ['#TheBachelor', '#Browns', '#WWERaw', '#HereWeGo', '#Bachelor', '#GodMorningTuesday', '#CLEvsPIT', '#tuesdaymotivations', '#theneighborhood', '#TikTok', '#browns']\n",
      "data now: [68, 23, 15, 12, 11, 10, 9, 8, 6, 6, 6]\n"
     ]
    },
    {
     "name": "stderr",
     "output_type": "stream",
     "text": [
      "172.19.0.1 - - [04/Jan/2022 08:36:38] \"GET /refreshData HTTP/1.1\" 200 -\n"
     ]
    },
    {
     "name": "stdout",
     "output_type": "stream",
     "text": [
      "labels now: ['#TheBachelor', '#Browns', '#WWERaw', '#HereWeGo', '#Bachelor', '#GodMorningTuesday', '#CLEvsPIT', '#tuesdaymotivations', '#theneighborhood', '#TikTok', '#browns']\n",
      "data now: [68, 23, 15, 12, 11, 10, 9, 8, 6, 6, 6]\n"
     ]
    },
    {
     "name": "stderr",
     "output_type": "stream",
     "text": [
      "172.19.0.1 - - [04/Jan/2022 08:36:39] \"GET /refreshData HTTP/1.1\" 200 -\n"
     ]
    },
    {
     "name": "stdout",
     "output_type": "stream",
     "text": [
      "labels now: ['#TheBachelor', '#Browns', '#WWERaw', '#HereWeGo', '#Bachelor', '#GodMorningTuesday', '#CLEvsPIT', '#tuesdaymotivations', '#theneighborhood', '#TikTok', '#browns']\n",
      "data now: [68, 23, 15, 12, 11, 10, 9, 8, 6, 6, 6]\n"
     ]
    },
    {
     "name": "stderr",
     "output_type": "stream",
     "text": [
      "172.19.0.1 - - [04/Jan/2022 08:36:40] \"GET /refreshData HTTP/1.1\" 200 -\n"
     ]
    },
    {
     "name": "stdout",
     "output_type": "stream",
     "text": [
      "labels now: ['#TheBachelor', '#Browns', '#WWERaw', '#HereWeGo', '#Bachelor', '#GodMorningTuesday', '#CLEvsPIT', '#tuesdaymotivations', '#theneighborhood', '#TikTok', '#browns']\n",
      "data now: [68, 23, 15, 12, 11, 10, 9, 8, 6, 6, 6]\n"
     ]
    },
    {
     "name": "stderr",
     "output_type": "stream",
     "text": [
      "172.19.0.1 - - [04/Jan/2022 08:36:40] \"GET /refreshData HTTP/1.1\" 200 -\n"
     ]
    },
    {
     "name": "stdout",
     "output_type": "stream",
     "text": [
      "labels now: ['#TheBachelor', '#Browns', '#WWERaw', '#HereWeGo', '#Bachelor', '#GodMorningTuesday', '#CLEvsPIT', '#tuesdaymotivations', '#theneighborhood', '#TikTok', '#browns']\n",
      "data now: [68, 23, 15, 12, 11, 10, 9, 8, 6, 6, 6]\n"
     ]
    },
    {
     "name": "stderr",
     "output_type": "stream",
     "text": [
      "172.19.0.1 - - [04/Jan/2022 08:36:41] \"GET /refreshData HTTP/1.1\" 200 -\n"
     ]
    },
    {
     "name": "stdout",
     "output_type": "stream",
     "text": [
      "labels now: ['#TheBachelor', '#Browns', '#WWERaw', '#HereWeGo', '#Bachelor', '#GodMorningTuesday', '#CLEvsPIT', '#tuesdaymotivations', '#theneighborhood', '#TikTok', '#browns']\n",
      "data now: [68, 23, 15, 12, 11, 10, 9, 8, 6, 6, 6]\n"
     ]
    },
    {
     "name": "stderr",
     "output_type": "stream",
     "text": [
      "172.19.0.1 - - [04/Jan/2022 08:36:42] \"GET /refreshData HTTP/1.1\" 200 -\n"
     ]
    },
    {
     "name": "stdout",
     "output_type": "stream",
     "text": [
      "labels now: ['#TheBachelor', '#Browns', '#WWERaw', '#HereWeGo', '#Bachelor', '#GodMorningTuesday', '#CLEvsPIT', '#tuesdaymotivations', '#theneighborhood', '#TikTok', '#browns']\n",
      "data now: [68, 23, 15, 12, 11, 10, 9, 8, 6, 6, 6]\n"
     ]
    },
    {
     "name": "stderr",
     "output_type": "stream",
     "text": [
      "172.19.0.1 - - [04/Jan/2022 08:36:43] \"GET /refreshData HTTP/1.1\" 200 -\n"
     ]
    },
    {
     "name": "stdout",
     "output_type": "stream",
     "text": [
      "labels now: ['#TheBachelor', '#Browns', '#WWERaw', '#HereWeGo', '#Bachelor', '#GodMorningTuesday', '#CLEvsPIT', '#tuesdaymotivations', '#theneighborhood', '#TikTok', '#browns']\n",
      "data now: [68, 23, 15, 12, 11, 10, 9, 8, 6, 6, 6]\n"
     ]
    },
    {
     "name": "stderr",
     "output_type": "stream",
     "text": [
      "172.19.0.1 - - [04/Jan/2022 08:36:44] \"GET /refreshData HTTP/1.1\" 200 -\n"
     ]
    },
    {
     "name": "stdout",
     "output_type": "stream",
     "text": [
      "labels now: ['#TheBachelor', '#Browns', '#WWERaw', '#HereWeGo', '#Bachelor', '#GodMorningTuesday', '#CLEvsPIT', '#tuesdaymotivations', '#theneighborhood', '#TikTok', '#browns']\n",
      "data now: [68, 23, 15, 12, 11, 10, 9, 8, 6, 6, 6]\n"
     ]
    },
    {
     "name": "stderr",
     "output_type": "stream",
     "text": [
      "172.19.0.1 - - [04/Jan/2022 08:36:45] \"GET /refreshData HTTP/1.1\" 200 -\n"
     ]
    },
    {
     "name": "stdout",
     "output_type": "stream",
     "text": [
      "labels now: ['#TheBachelor', '#Browns', '#WWERaw', '#HereWeGo', '#Bachelor', '#GodMorningTuesday', '#CLEvsPIT', '#tuesdaymotivations', '#theneighborhood', '#TikTok', '#browns']\n",
      "data now: [68, 23, 15, 12, 11, 10, 9, 8, 6, 6, 6]\n"
     ]
    },
    {
     "name": "stderr",
     "output_type": "stream",
     "text": [
      "172.19.0.1 - - [04/Jan/2022 08:36:46] \"GET /refreshData HTTP/1.1\" 200 -\n"
     ]
    },
    {
     "name": "stdout",
     "output_type": "stream",
     "text": [
      "labels now: ['#TheBachelor', '#Browns', '#WWERaw', '#HereWeGo', '#Bachelor', '#GodMorningTuesday', '#CLEvsPIT', '#tuesdaymotivations', '#theneighborhood', '#TikTok', '#browns']\n",
      "data now: [68, 23, 15, 12, 11, 10, 9, 8, 6, 6, 6]\n"
     ]
    },
    {
     "name": "stderr",
     "output_type": "stream",
     "text": [
      "172.19.0.1 - - [04/Jan/2022 08:36:47] \"GET /refreshData HTTP/1.1\" 200 -\n"
     ]
    },
    {
     "name": "stdout",
     "output_type": "stream",
     "text": [
      "labels now: ['#TheBachelor', '#Browns', '#WWERaw', '#HereWeGo', '#Bachelor', '#GodMorningTuesday', '#CLEvsPIT', '#tuesdaymotivations', '#theneighborhood', '#TikTok', '#browns']\n",
      "data now: [68, 23, 15, 12, 11, 10, 9, 8, 6, 6, 6]\n"
     ]
    },
    {
     "name": "stderr",
     "output_type": "stream",
     "text": [
      "172.19.0.1 - - [04/Jan/2022 08:36:48] \"GET /refreshData HTTP/1.1\" 200 -\n"
     ]
    },
    {
     "name": "stdout",
     "output_type": "stream",
     "text": [
      "labels now: ['#TheBachelor', '#Browns', '#WWERaw', '#HereWeGo', '#Bachelor', '#GodMorningTuesday', '#CLEvsPIT', '#tuesdaymotivations', '#theneighborhood', '#TikTok', '#browns']\n",
      "data now: [68, 23, 15, 12, 11, 10, 9, 8, 6, 6, 6]\n"
     ]
    },
    {
     "name": "stderr",
     "output_type": "stream",
     "text": [
      "172.19.0.1 - - [04/Jan/2022 08:36:49] \"GET /refreshData HTTP/1.1\" 200 -\n"
     ]
    },
    {
     "name": "stdout",
     "output_type": "stream",
     "text": [
      "labels now: ['#TheBachelor', '#Browns', '#WWERaw', '#HereWeGo', '#Bachelor', '#GodMorningTuesday', '#CLEvsPIT', '#tuesdaymotivations', '#theneighborhood', '#TikTok', '#browns']\n",
      "data now: [68, 23, 15, 12, 11, 10, 9, 8, 6, 6, 6]\n"
     ]
    },
    {
     "name": "stderr",
     "output_type": "stream",
     "text": [
      "172.19.0.1 - - [04/Jan/2022 08:36:50] \"GET /refreshData HTTP/1.1\" 200 -\n"
     ]
    },
    {
     "name": "stdout",
     "output_type": "stream",
     "text": [
      "labels now: ['#TheBachelor', '#Browns', '#WWERaw', '#HereWeGo', '#Bachelor', '#GodMorningTuesday', '#CLEvsPIT', '#tuesdaymotivations', '#theneighborhood', '#TikTok', '#browns']\n",
      "data now: [68, 23, 15, 12, 11, 10, 9, 8, 6, 6, 6]\n"
     ]
    },
    {
     "name": "stderr",
     "output_type": "stream",
     "text": [
      "172.19.0.1 - - [04/Jan/2022 08:36:51] \"GET /refreshData HTTP/1.1\" 200 -\n"
     ]
    },
    {
     "name": "stdout",
     "output_type": "stream",
     "text": [
      "labels now: ['#TheBachelor', '#Browns', '#WWERaw', '#HereWeGo', '#Bachelor', '#GodMorningTuesday', '#CLEvsPIT', '#tuesdaymotivations', '#theneighborhood', '#TikTok', '#browns']\n",
      "data now: [68, 23, 15, 12, 11, 10, 9, 8, 6, 6, 6]\n"
     ]
    },
    {
     "name": "stderr",
     "output_type": "stream",
     "text": [
      "172.19.0.1 - - [04/Jan/2022 08:36:52] \"GET /refreshData HTTP/1.1\" 200 -\n"
     ]
    },
    {
     "name": "stdout",
     "output_type": "stream",
     "text": [
      "labels now: ['#TheBachelor', '#Browns', '#WWERaw', '#HereWeGo', '#Bachelor', '#GodMorningTuesday', '#CLEvsPIT', '#tuesdaymotivations', '#theneighborhood', '#TikTok', '#browns']\n",
      "data now: [68, 23, 15, 12, 11, 10, 9, 8, 6, 6, 6]\n"
     ]
    },
    {
     "name": "stderr",
     "output_type": "stream",
     "text": [
      "172.19.0.1 - - [04/Jan/2022 08:36:53] \"GET /refreshData HTTP/1.1\" 200 -\n"
     ]
    },
    {
     "name": "stdout",
     "output_type": "stream",
     "text": [
      "labels now: ['#TheBachelor', '#Browns', '#WWERaw', '#HereWeGo', '#Bachelor', '#GodMorningTuesday', '#CLEvsPIT', '#tuesdaymotivations', '#theneighborhood', '#TikTok', '#browns']\n",
      "data now: [68, 23, 15, 12, 11, 10, 9, 8, 6, 6, 6]\n"
     ]
    },
    {
     "name": "stderr",
     "output_type": "stream",
     "text": [
      "172.19.0.1 - - [04/Jan/2022 08:36:54] \"GET /refreshData HTTP/1.1\" 200 -\n"
     ]
    },
    {
     "name": "stdout",
     "output_type": "stream",
     "text": [
      "labels now: ['#TheBachelor', '#Browns', '#WWERaw', '#HereWeGo', '#Bachelor', '#GodMorningTuesday', '#CLEvsPIT', '#tuesdaymotivations', '#theneighborhood', '#TikTok', '#browns']\n",
      "data now: [68, 23, 15, 12, 11, 10, 9, 8, 6, 6, 6]\n"
     ]
    },
    {
     "name": "stderr",
     "output_type": "stream",
     "text": [
      "172.19.0.1 - - [04/Jan/2022 08:36:55] \"GET /refreshData HTTP/1.1\" 200 -\n"
     ]
    },
    {
     "name": "stdout",
     "output_type": "stream",
     "text": [
      "labels now: ['#TheBachelor', '#Browns', '#WWERaw', '#HereWeGo', '#Bachelor', '#GodMorningTuesday', '#CLEvsPIT', '#tuesdaymotivations', '#theneighborhood', '#TikTok', '#browns']\n",
      "data now: [68, 23, 15, 12, 11, 10, 9, 8, 6, 6, 6]\n"
     ]
    },
    {
     "name": "stderr",
     "output_type": "stream",
     "text": [
      "172.19.0.1 - - [04/Jan/2022 08:36:56] \"GET /refreshData HTTP/1.1\" 200 -\n"
     ]
    },
    {
     "name": "stdout",
     "output_type": "stream",
     "text": [
      "labels now: ['#TheBachelor', '#Browns', '#WWERaw', '#HereWeGo', '#Bachelor', '#GodMorningTuesday', '#CLEvsPIT', '#tuesdaymotivations', '#theneighborhood', '#TikTok', '#browns']\n",
      "data now: [68, 23, 15, 12, 11, 10, 9, 8, 6, 6, 6]\n"
     ]
    },
    {
     "name": "stderr",
     "output_type": "stream",
     "text": [
      "172.19.0.1 - - [04/Jan/2022 08:36:57] \"GET /refreshData HTTP/1.1\" 200 -\n"
     ]
    },
    {
     "name": "stdout",
     "output_type": "stream",
     "text": [
      "labels now: ['#TheBachelor', '#Browns', '#WWERaw', '#HereWeGo', '#Bachelor', '#GodMorningTuesday', '#CLEvsPIT', '#tuesdaymotivations', '#theneighborhood', '#TikTok', '#browns']\n",
      "data now: [68, 23, 15, 12, 11, 10, 9, 8, 6, 6, 6]\n"
     ]
    },
    {
     "name": "stderr",
     "output_type": "stream",
     "text": [
      "172.19.0.1 - - [04/Jan/2022 08:36:58] \"GET /refreshData HTTP/1.1\" 200 -\n"
     ]
    },
    {
     "name": "stdout",
     "output_type": "stream",
     "text": [
      "labels now: ['#TheBachelor', '#Browns', '#WWERaw', '#HereWeGo', '#Bachelor', '#GodMorningTuesday', '#CLEvsPIT', '#tuesdaymotivations', '#theneighborhood', '#TikTok', '#browns']\n",
      "data now: [68, 23, 15, 12, 11, 10, 9, 8, 6, 6, 6]\n"
     ]
    },
    {
     "name": "stderr",
     "output_type": "stream",
     "text": [
      "172.19.0.1 - - [04/Jan/2022 08:36:59] \"GET /refreshData HTTP/1.1\" 200 -\n"
     ]
    },
    {
     "name": "stdout",
     "output_type": "stream",
     "text": [
      "labels now: ['#TheBachelor', '#Browns', '#WWERaw', '#HereWeGo', '#Bachelor', '#GodMorningTuesday', '#CLEvsPIT', '#tuesdaymotivations', '#theneighborhood', '#TikTok', '#browns']\n",
      "data now: [68, 23, 15, 12, 11, 10, 9, 8, 6, 6, 6]\n"
     ]
    },
    {
     "name": "stderr",
     "output_type": "stream",
     "text": [
      "172.19.0.1 - - [04/Jan/2022 08:37:00] \"GET /refreshData HTTP/1.1\" 200 -\n"
     ]
    },
    {
     "name": "stdout",
     "output_type": "stream",
     "text": [
      "labels now: ['#TheBachelor', '#Browns', '#WWERaw', '#HereWeGo', '#Bachelor', '#GodMorningTuesday', '#CLEvsPIT', '#tuesdaymotivations', '#theneighborhood', '#TikTok', '#browns']\n",
      "data now: [68, 23, 15, 12, 11, 10, 9, 8, 6, 6, 6]\n"
     ]
    },
    {
     "name": "stderr",
     "output_type": "stream",
     "text": [
      "172.19.0.1 - - [04/Jan/2022 08:37:01] \"GET /refreshData HTTP/1.1\" 200 -\n"
     ]
    },
    {
     "name": "stdout",
     "output_type": "stream",
     "text": [
      "labels now: ['#TheBachelor', '#Browns', '#WWERaw', '#HereWeGo', '#Bachelor', '#GodMorningTuesday', '#CLEvsPIT', '#tuesdaymotivations', '#theneighborhood', '#TikTok', '#browns']\n",
      "data now: [68, 23, 15, 12, 11, 10, 9, 8, 6, 6, 6]\n"
     ]
    },
    {
     "name": "stderr",
     "output_type": "stream",
     "text": [
      "172.19.0.1 - - [04/Jan/2022 08:37:02] \"GET /refreshData HTTP/1.1\" 200 -\n"
     ]
    },
    {
     "name": "stdout",
     "output_type": "stream",
     "text": [
      "labels now: ['#TheBachelor', '#Browns', '#WWERaw', '#HereWeGo', '#Bachelor', '#GodMorningTuesday', '#CLEvsPIT', '#tuesdaymotivations', '#theneighborhood', '#TikTok', '#browns']\n",
      "data now: [68, 23, 15, 12, 11, 10, 9, 8, 6, 6, 6]\n"
     ]
    },
    {
     "name": "stderr",
     "output_type": "stream",
     "text": [
      "172.19.0.1 - - [04/Jan/2022 08:37:03] \"GET /refreshData HTTP/1.1\" 200 -\n"
     ]
    },
    {
     "name": "stdout",
     "output_type": "stream",
     "text": [
      "labels now: ['#TheBachelor', '#Browns', '#WWERaw', '#HereWeGo', '#Bachelor', '#GodMorningTuesday', '#CLEvsPIT', '#tuesdaymotivations', '#theneighborhood', '#TikTok', '#browns']\n",
      "data now: [68, 23, 15, 12, 11, 10, 9, 8, 6, 6, 6]\n"
     ]
    },
    {
     "name": "stderr",
     "output_type": "stream",
     "text": [
      "172.19.0.1 - - [04/Jan/2022 08:37:04] \"GET /refreshData HTTP/1.1\" 200 -\n"
     ]
    },
    {
     "name": "stdout",
     "output_type": "stream",
     "text": [
      "labels now: ['#TheBachelor', '#Browns', '#WWERaw', '#HereWeGo', '#Bachelor', '#GodMorningTuesday', '#CLEvsPIT', '#tuesdaymotivations', '#theneighborhood', '#TikTok', '#browns']\n",
      "data now: [68, 23, 15, 12, 11, 10, 9, 8, 6, 6, 6]\n"
     ]
    },
    {
     "name": "stderr",
     "output_type": "stream",
     "text": [
      "172.19.0.1 - - [04/Jan/2022 08:37:05] \"GET /refreshData HTTP/1.1\" 200 -\n"
     ]
    },
    {
     "name": "stdout",
     "output_type": "stream",
     "text": [
      "labels now: ['#TheBachelor', '#Browns', '#WWERaw', '#HereWeGo', '#Bachelor', '#GodMorningTuesday', '#CLEvsPIT', '#tuesdaymotivations', '#theneighborhood', '#TikTok', '#browns']\n",
      "data now: [68, 23, 15, 12, 11, 10, 9, 8, 6, 6, 6]\n"
     ]
    },
    {
     "name": "stderr",
     "output_type": "stream",
     "text": [
      "172.19.0.1 - - [04/Jan/2022 08:37:06] \"GET /refreshData HTTP/1.1\" 200 -\n"
     ]
    },
    {
     "name": "stdout",
     "output_type": "stream",
     "text": [
      "labels now: ['#TheBachelor', '#Browns', '#WWERaw', '#HereWeGo', '#Bachelor', '#GodMorningTuesday', '#CLEvsPIT', '#tuesdaymotivations', '#theneighborhood', '#TikTok', '#browns']\n",
      "data now: [68, 23, 15, 12, 11, 10, 9, 8, 6, 6, 6]\n"
     ]
    },
    {
     "name": "stderr",
     "output_type": "stream",
     "text": [
      "172.19.0.1 - - [04/Jan/2022 08:37:07] \"GET /refreshData HTTP/1.1\" 200 -\n"
     ]
    },
    {
     "name": "stdout",
     "output_type": "stream",
     "text": [
      "labels now: ['#TheBachelor', '#Browns', '#WWERaw', '#HereWeGo', '#Bachelor', '#GodMorningTuesday', '#CLEvsPIT', '#tuesdaymotivations', '#theneighborhood', '#TikTok', '#browns']\n",
      "data now: [68, 23, 15, 12, 11, 10, 9, 8, 6, 6, 6]\n"
     ]
    },
    {
     "name": "stderr",
     "output_type": "stream",
     "text": [
      "172.19.0.1 - - [04/Jan/2022 08:37:08] \"GET /refreshData HTTP/1.1\" 200 -\n"
     ]
    },
    {
     "name": "stdout",
     "output_type": "stream",
     "text": [
      "labels now: ['#TheBachelor', '#Browns', '#WWERaw', '#HereWeGo', '#Bachelor', '#GodMorningTuesday', '#CLEvsPIT', '#tuesdaymotivations', '#theneighborhood', '#TikTok', '#browns']\n",
      "data now: [68, 23, 15, 12, 11, 10, 9, 8, 6, 6, 6]\n"
     ]
    },
    {
     "name": "stderr",
     "output_type": "stream",
     "text": [
      "172.19.0.1 - - [04/Jan/2022 08:37:09] \"GET /refreshData HTTP/1.1\" 200 -\n"
     ]
    },
    {
     "name": "stdout",
     "output_type": "stream",
     "text": [
      "labels now: ['#TheBachelor', '#Browns', '#WWERaw', '#HereWeGo', '#Bachelor', '#GodMorningTuesday', '#CLEvsPIT', '#tuesdaymotivations', '#theneighborhood', '#TikTok', '#browns']\n",
      "data now: [68, 23, 15, 12, 11, 10, 9, 8, 6, 6, 6]\n"
     ]
    },
    {
     "name": "stderr",
     "output_type": "stream",
     "text": [
      "172.19.0.1 - - [04/Jan/2022 08:37:10] \"GET /refreshData HTTP/1.1\" 200 -\n"
     ]
    },
    {
     "name": "stdout",
     "output_type": "stream",
     "text": [
      "labels now: ['#TheBachelor', '#Browns', '#WWERaw', '#HereWeGo', '#Bachelor', '#GodMorningTuesday', '#CLEvsPIT', '#tuesdaymotivations', '#theneighborhood', '#TikTok', '#browns']\n",
      "data now: [68, 23, 15, 12, 11, 10, 9, 8, 6, 6, 6]\n"
     ]
    },
    {
     "name": "stderr",
     "output_type": "stream",
     "text": [
      "172.19.0.1 - - [04/Jan/2022 08:37:12] \"GET /refreshData HTTP/1.1\" 200 -\n"
     ]
    },
    {
     "name": "stdout",
     "output_type": "stream",
     "text": [
      "labels now: ['#TheBachelor', '#Browns', '#WWERaw', '#HereWeGo', '#Bachelor', '#GodMorningTuesday', '#CLEvsPIT', '#tuesdaymotivations', '#theneighborhood', '#TikTok', '#browns']\n",
      "data now: [68, 23, 15, 12, 11, 10, 9, 8, 6, 6, 6]\n"
     ]
    },
    {
     "name": "stderr",
     "output_type": "stream",
     "text": [
      "172.19.0.1 - - [04/Jan/2022 08:37:13] \"GET /refreshData HTTP/1.1\" 200 -\n"
     ]
    },
    {
     "name": "stdout",
     "output_type": "stream",
     "text": [
      "labels now: ['#TheBachelor', '#Browns', '#WWERaw', '#HereWeGo', '#Bachelor', '#GodMorningTuesday', '#CLEvsPIT', '#tuesdaymotivations', '#theneighborhood', '#TikTok', '#browns']\n",
      "data now: [68, 23, 15, 12, 11, 10, 9, 8, 6, 6, 6]\n"
     ]
    },
    {
     "name": "stderr",
     "output_type": "stream",
     "text": [
      "172.19.0.1 - - [04/Jan/2022 08:37:14] \"GET /refreshData HTTP/1.1\" 200 -\n"
     ]
    },
    {
     "name": "stdout",
     "output_type": "stream",
     "text": [
      "labels now: ['#TheBachelor', '#Browns', '#WWERaw', '#HereWeGo', '#Bachelor', '#GodMorningTuesday', '#CLEvsPIT', '#tuesdaymotivations', '#theneighborhood', '#TikTok', '#browns']\n",
      "data now: [68, 23, 15, 12, 11, 10, 9, 8, 6, 6, 6]\n"
     ]
    },
    {
     "name": "stderr",
     "output_type": "stream",
     "text": [
      "172.19.0.1 - - [04/Jan/2022 08:37:15] \"GET /refreshData HTTP/1.1\" 200 -\n"
     ]
    },
    {
     "name": "stdout",
     "output_type": "stream",
     "text": [
      "labels now: ['#TheBachelor', '#Browns', '#WWERaw', '#HereWeGo', '#Bachelor', '#GodMorningTuesday', '#CLEvsPIT', '#tuesdaymotivations', '#theneighborhood', '#TikTok', '#browns']\n",
      "data now: [68, 23, 15, 12, 11, 10, 9, 8, 6, 6, 6]\n"
     ]
    },
    {
     "name": "stderr",
     "output_type": "stream",
     "text": [
      "172.19.0.1 - - [04/Jan/2022 08:37:16] \"GET /refreshData HTTP/1.1\" 200 -\n"
     ]
    },
    {
     "name": "stdout",
     "output_type": "stream",
     "text": [
      "labels now: ['#TheBachelor', '#Browns', '#WWERaw', '#HereWeGo', '#Bachelor', '#GodMorningTuesday', '#CLEvsPIT', '#tuesdaymotivations', '#theneighborhood', '#TikTok', '#browns']\n",
      "data now: [68, 23, 15, 12, 11, 10, 9, 8, 6, 6, 6]\n"
     ]
    },
    {
     "name": "stderr",
     "output_type": "stream",
     "text": [
      "172.19.0.1 - - [04/Jan/2022 08:37:17] \"GET /refreshData HTTP/1.1\" 200 -\n"
     ]
    },
    {
     "name": "stdout",
     "output_type": "stream",
     "text": [
      "labels now: ['#TheBachelor', '#Browns', '#WWERaw', '#HereWeGo', '#Bachelor', '#GodMorningTuesday', '#CLEvsPIT', '#tuesdaymotivations', '#theneighborhood', '#TikTok', '#browns']\n",
      "data now: [68, 23, 15, 12, 11, 10, 9, 8, 6, 6, 6]\n"
     ]
    },
    {
     "name": "stderr",
     "output_type": "stream",
     "text": [
      "172.19.0.1 - - [04/Jan/2022 08:37:18] \"GET /refreshData HTTP/1.1\" 200 -\n"
     ]
    },
    {
     "name": "stdout",
     "output_type": "stream",
     "text": [
      "labels now: ['#TheBachelor', '#Browns', '#WWERaw', '#HereWeGo', '#Bachelor', '#GodMorningTuesday', '#CLEvsPIT', '#tuesdaymotivations', '#theneighborhood', '#TikTok', '#browns']\n",
      "data now: [68, 23, 15, 12, 11, 10, 9, 8, 6, 6, 6]\n"
     ]
    },
    {
     "name": "stderr",
     "output_type": "stream",
     "text": [
      "172.19.0.1 - - [04/Jan/2022 08:37:19] \"GET /refreshData HTTP/1.1\" 200 -\n"
     ]
    },
    {
     "name": "stdout",
     "output_type": "stream",
     "text": [
      "labels now: ['#TheBachelor', '#Browns', '#WWERaw', '#HereWeGo', '#Bachelor', '#GodMorningTuesday', '#CLEvsPIT', '#tuesdaymotivations', '#theneighborhood', '#TikTok', '#browns']\n",
      "data now: [68, 23, 15, 12, 11, 10, 9, 8, 6, 6, 6]\n"
     ]
    },
    {
     "name": "stderr",
     "output_type": "stream",
     "text": [
      "172.19.0.1 - - [04/Jan/2022 08:37:20] \"GET /refreshData HTTP/1.1\" 200 -\n"
     ]
    },
    {
     "name": "stdout",
     "output_type": "stream",
     "text": [
      "labels now: ['#TheBachelor', '#Browns', '#WWERaw', '#HereWeGo', '#Bachelor', '#GodMorningTuesday', '#CLEvsPIT', '#tuesdaymotivations', '#theneighborhood', '#TikTok', '#browns']\n",
      "data now: [68, 23, 15, 12, 11, 10, 9, 8, 6, 6, 6]\n"
     ]
    },
    {
     "name": "stderr",
     "output_type": "stream",
     "text": [
      "172.19.0.1 - - [04/Jan/2022 08:37:21] \"GET /refreshData HTTP/1.1\" 200 -\n"
     ]
    },
    {
     "name": "stdout",
     "output_type": "stream",
     "text": [
      "labels now: ['#TheBachelor', '#Browns', '#WWERaw', '#HereWeGo', '#Bachelor', '#GodMorningTuesday', '#CLEvsPIT', '#tuesdaymotivations', '#theneighborhood', '#TikTok', '#browns']\n",
      "data now: [68, 23, 15, 12, 11, 10, 9, 8, 6, 6, 6]\n"
     ]
    },
    {
     "name": "stderr",
     "output_type": "stream",
     "text": [
      "172.19.0.1 - - [04/Jan/2022 08:37:22] \"GET /refreshData HTTP/1.1\" 200 -\n"
     ]
    },
    {
     "name": "stdout",
     "output_type": "stream",
     "text": [
      "labels now: ['#TheBachelor', '#Browns', '#WWERaw', '#HereWeGo', '#Bachelor', '#GodMorningTuesday', '#CLEvsPIT', '#tuesdaymotivations', '#theneighborhood', '#TikTok', '#browns']\n",
      "data now: [68, 23, 15, 12, 11, 10, 9, 8, 6, 6, 6]\n"
     ]
    },
    {
     "name": "stderr",
     "output_type": "stream",
     "text": [
      "172.19.0.1 - - [04/Jan/2022 08:37:23] \"GET /refreshData HTTP/1.1\" 200 -\n"
     ]
    },
    {
     "name": "stdout",
     "output_type": "stream",
     "text": [
      "labels now: ['#TheBachelor', '#Browns', '#WWERaw', '#HereWeGo', '#Bachelor', '#GodMorningTuesday', '#CLEvsPIT', '#tuesdaymotivations', '#theneighborhood', '#TikTok', '#browns']\n",
      "data now: [68, 23, 15, 12, 11, 10, 9, 8, 6, 6, 6]\n"
     ]
    },
    {
     "name": "stderr",
     "output_type": "stream",
     "text": [
      "172.19.0.1 - - [04/Jan/2022 08:37:24] \"GET /refreshData HTTP/1.1\" 200 -\n"
     ]
    },
    {
     "name": "stdout",
     "output_type": "stream",
     "text": [
      "labels now: ['#TheBachelor', '#Browns', '#WWERaw', '#HereWeGo', '#Bachelor', '#GodMorningTuesday', '#CLEvsPIT', '#tuesdaymotivations', '#theneighborhood', '#TikTok', '#browns']\n",
      "data now: [68, 23, 15, 12, 11, 10, 9, 8, 6, 6, 6]\n"
     ]
    },
    {
     "name": "stderr",
     "output_type": "stream",
     "text": [
      "172.19.0.1 - - [04/Jan/2022 08:37:25] \"GET /refreshData HTTP/1.1\" 200 -\n"
     ]
    },
    {
     "name": "stdout",
     "output_type": "stream",
     "text": [
      "labels now: ['#TheBachelor', '#Browns', '#WWERaw', '#HereWeGo', '#Bachelor', '#GodMorningTuesday', '#CLEvsPIT', '#tuesdaymotivations', '#theneighborhood', '#TikTok', '#browns']\n",
      "data now: [68, 23, 15, 12, 11, 10, 9, 8, 6, 6, 6]\n"
     ]
    },
    {
     "name": "stderr",
     "output_type": "stream",
     "text": [
      "172.19.0.1 - - [04/Jan/2022 08:37:26] \"GET /refreshData HTTP/1.1\" 200 -\n"
     ]
    },
    {
     "name": "stdout",
     "output_type": "stream",
     "text": [
      "labels now: ['#TheBachelor', '#Browns', '#WWERaw', '#HereWeGo', '#Bachelor', '#GodMorningTuesday', '#CLEvsPIT', '#tuesdaymotivations', '#theneighborhood', '#TikTok', '#browns']\n",
      "data now: [68, 23, 15, 12, 11, 10, 9, 8, 6, 6, 6]\n"
     ]
    },
    {
     "name": "stderr",
     "output_type": "stream",
     "text": [
      "172.19.0.1 - - [04/Jan/2022 08:37:27] \"GET /refreshData HTTP/1.1\" 200 -\n"
     ]
    },
    {
     "name": "stdout",
     "output_type": "stream",
     "text": [
      "labels now: ['#TheBachelor', '#Browns', '#WWERaw', '#HereWeGo', '#Bachelor', '#GodMorningTuesday', '#CLEvsPIT', '#tuesdaymotivations', '#theneighborhood', '#TikTok', '#browns']\n",
      "data now: [68, 23, 15, 12, 11, 10, 9, 8, 6, 6, 6]\n"
     ]
    },
    {
     "name": "stderr",
     "output_type": "stream",
     "text": [
      "172.19.0.1 - - [04/Jan/2022 08:37:28] \"GET /refreshData HTTP/1.1\" 200 -\n"
     ]
    },
    {
     "name": "stdout",
     "output_type": "stream",
     "text": [
      "labels now: ['#TheBachelor', '#Browns', '#WWERaw', '#HereWeGo', '#Bachelor', '#GodMorningTuesday', '#CLEvsPIT', '#tuesdaymotivations', '#theneighborhood', '#TikTok', '#browns']\n",
      "data now: [68, 23, 15, 12, 11, 10, 9, 8, 6, 6, 6]\n"
     ]
    },
    {
     "name": "stderr",
     "output_type": "stream",
     "text": [
      "172.19.0.1 - - [04/Jan/2022 08:37:29] \"GET /refreshData HTTP/1.1\" 200 -\n"
     ]
    },
    {
     "name": "stdout",
     "output_type": "stream",
     "text": [
      "labels now: ['#TheBachelor', '#Browns', '#WWERaw', '#HereWeGo', '#Bachelor', '#GodMorningTuesday', '#CLEvsPIT', '#tuesdaymotivations', '#theneighborhood', '#TikTok', '#browns']\n",
      "data now: [68, 23, 15, 12, 11, 10, 9, 8, 6, 6, 6]\n"
     ]
    },
    {
     "name": "stderr",
     "output_type": "stream",
     "text": [
      "172.19.0.1 - - [04/Jan/2022 08:37:30] \"GET /refreshData HTTP/1.1\" 200 -\n"
     ]
    },
    {
     "name": "stdout",
     "output_type": "stream",
     "text": [
      "labels now: ['#TheBachelor', '#Browns', '#WWERaw', '#HereWeGo', '#Bachelor', '#GodMorningTuesday', '#CLEvsPIT', '#tuesdaymotivations', '#theneighborhood', '#TikTok', '#browns']\n",
      "data now: [68, 23, 15, 12, 11, 10, 9, 8, 6, 6, 6]\n"
     ]
    },
    {
     "name": "stderr",
     "output_type": "stream",
     "text": [
      "172.19.0.1 - - [04/Jan/2022 08:37:31] \"GET /refreshData HTTP/1.1\" 200 -\n"
     ]
    },
    {
     "name": "stdout",
     "output_type": "stream",
     "text": [
      "labels now: ['#TheBachelor', '#Browns', '#WWERaw', '#HereWeGo', '#Bachelor', '#GodMorningTuesday', '#CLEvsPIT', '#tuesdaymotivations', '#theneighborhood', '#TikTok', '#browns']\n",
      "data now: [68, 23, 15, 12, 11, 10, 9, 8, 6, 6, 6]\n"
     ]
    },
    {
     "name": "stderr",
     "output_type": "stream",
     "text": [
      "172.19.0.1 - - [04/Jan/2022 08:37:32] \"GET /refreshData HTTP/1.1\" 200 -\n"
     ]
    },
    {
     "name": "stdout",
     "output_type": "stream",
     "text": [
      "labels now: ['#TheBachelor', '#Browns', '#WWERaw', '#HereWeGo', '#Bachelor', '#GodMorningTuesday', '#CLEvsPIT', '#tuesdaymotivations', '#theneighborhood', '#TikTok', '#browns']\n",
      "data now: [68, 23, 15, 12, 11, 10, 9, 8, 6, 6, 6]\n"
     ]
    },
    {
     "name": "stderr",
     "output_type": "stream",
     "text": [
      "172.19.0.1 - - [04/Jan/2022 08:37:33] \"GET /refreshData HTTP/1.1\" 200 -\n"
     ]
    },
    {
     "name": "stdout",
     "output_type": "stream",
     "text": [
      "labels now: ['#TheBachelor', '#Browns', '#WWERaw', '#HereWeGo', '#Bachelor', '#GodMorningTuesday', '#CLEvsPIT', '#tuesdaymotivations', '#theneighborhood', '#TikTok', '#browns']\n",
      "data now: [68, 23, 15, 12, 11, 10, 9, 8, 6, 6, 6]\n"
     ]
    },
    {
     "name": "stderr",
     "output_type": "stream",
     "text": [
      "172.19.0.1 - - [04/Jan/2022 08:37:34] \"GET /refreshData HTTP/1.1\" 200 -\n"
     ]
    },
    {
     "name": "stdout",
     "output_type": "stream",
     "text": [
      "labels now: ['#TheBachelor', '#Browns', '#WWERaw', '#HereWeGo', '#Bachelor', '#GodMorningTuesday', '#CLEvsPIT', '#tuesdaymotivations', '#theneighborhood', '#TikTok', '#browns']\n",
      "data now: [68, 23, 15, 12, 11, 10, 9, 8, 6, 6, 6]\n"
     ]
    },
    {
     "name": "stderr",
     "output_type": "stream",
     "text": [
      "172.19.0.1 - - [04/Jan/2022 08:37:35] \"GET /refreshData HTTP/1.1\" 200 -\n"
     ]
    },
    {
     "name": "stdout",
     "output_type": "stream",
     "text": [
      "labels now: ['#TheBachelor', '#Browns', '#WWERaw', '#HereWeGo', '#Bachelor', '#GodMorningTuesday', '#CLEvsPIT', '#tuesdaymotivations', '#theneighborhood', '#TikTok', '#browns']\n",
      "data now: [68, 23, 15, 12, 11, 10, 9, 8, 6, 6, 6]\n"
     ]
    },
    {
     "name": "stderr",
     "output_type": "stream",
     "text": [
      "172.19.0.1 - - [04/Jan/2022 08:37:36] \"GET /refreshData HTTP/1.1\" 200 -\n"
     ]
    },
    {
     "name": "stdout",
     "output_type": "stream",
     "text": [
      "labels now: ['#TheBachelor', '#Browns', '#WWERaw', '#HereWeGo', '#Bachelor', '#GodMorningTuesday', '#CLEvsPIT', '#tuesdaymotivations', '#theneighborhood', '#TikTok', '#browns']\n",
      "data now: [68, 23, 15, 12, 11, 10, 9, 8, 6, 6, 6]\n"
     ]
    },
    {
     "name": "stderr",
     "output_type": "stream",
     "text": [
      "172.19.0.1 - - [04/Jan/2022 08:37:37] \"GET /refreshData HTTP/1.1\" 200 -\n"
     ]
    },
    {
     "name": "stdout",
     "output_type": "stream",
     "text": [
      "labels now: ['#TheBachelor', '#Browns', '#WWERaw', '#HereWeGo', '#Bachelor', '#GodMorningTuesday', '#CLEvsPIT', '#tuesdaymotivations', '#theneighborhood', '#TikTok', '#browns']\n",
      "data now: [68, 23, 15, 12, 11, 10, 9, 8, 6, 6, 6]\n"
     ]
    },
    {
     "name": "stderr",
     "output_type": "stream",
     "text": [
      "172.19.0.1 - - [04/Jan/2022 08:37:38] \"GET /refreshData HTTP/1.1\" 200 -\n"
     ]
    },
    {
     "name": "stdout",
     "output_type": "stream",
     "text": [
      "labels now: ['#TheBachelor', '#Browns', '#WWERaw', '#HereWeGo', '#Bachelor', '#GodMorningTuesday', '#CLEvsPIT', '#tuesdaymotivations', '#theneighborhood', '#TikTok', '#browns']\n",
      "data now: [68, 23, 15, 12, 11, 10, 9, 8, 6, 6, 6]\n"
     ]
    },
    {
     "name": "stderr",
     "output_type": "stream",
     "text": [
      "172.19.0.1 - - [04/Jan/2022 08:37:39] \"GET /refreshData HTTP/1.1\" 200 -\n"
     ]
    },
    {
     "name": "stdout",
     "output_type": "stream",
     "text": [
      "labels now: ['#TheBachelor', '#Browns', '#WWERaw', '#HereWeGo', '#Bachelor', '#GodMorningTuesday', '#CLEvsPIT', '#tuesdaymotivations', '#theneighborhood', '#TikTok', '#browns']\n",
      "data now: [68, 23, 15, 12, 11, 10, 9, 8, 6, 6, 6]\n"
     ]
    },
    {
     "name": "stderr",
     "output_type": "stream",
     "text": [
      "172.19.0.1 - - [04/Jan/2022 08:37:40] \"GET /refreshData HTTP/1.1\" 200 -\n"
     ]
    },
    {
     "name": "stdout",
     "output_type": "stream",
     "text": [
      "labels now: ['#TheBachelor', '#Browns', '#WWERaw', '#HereWeGo', '#Bachelor', '#GodMorningTuesday', '#CLEvsPIT', '#tuesdaymotivations', '#theneighborhood', '#TikTok', '#browns']\n",
      "data now: [68, 23, 15, 12, 11, 10, 9, 8, 6, 6, 6]\n"
     ]
    }
   ],
   "source": [
    "from flask import Flask,jsonify,request\n",
    "from flask import render_template\n",
    "import ast\n",
    "\n",
    "app = Flask(__name__)\n",
    "\n",
    "labels = []\n",
    "values = []\n",
    "\n",
    "\n",
    "@app.route(\"/\")\n",
    "def chart():\n",
    "    global labels,values\n",
    "    labels = []\n",
    "    values = []\n",
    "    return render_template('chart.html', values=values, labels=labels)\n",
    "\n",
    "\n",
    "@app.route('/refreshData')\n",
    "def refresh_graph_data():\n",
    "    global labels, values\n",
    "    print(\"labels now: \" + str(labels))\n",
    "    print(\"data now: \" + str(values))\n",
    "    return jsonify(sLabel=labels, sData=values)\n",
    "\n",
    "\n",
    "@app.route('/updateData', methods=['POST'])\n",
    "def update_data_post():\n",
    "    global labels, values\n",
    "    if not request.form or 'data' not in request.form:\n",
    "        return \"error\",400\n",
    "    labels = ast.literal_eval(request.form['label'])\n",
    "    values = ast.literal_eval(request.form['data'])\n",
    "    print(\"labels received: \" + str(labels))\n",
    "    print(\"data received: \" + str(values))\n",
    "    return \"success\",201\n",
    "\n",
    "\n",
    "if __name__ == \"__main__\":\n",
    "    app.run(host='0.0.0.0', port=5001)\n"
   ]
  }
 ],
 "metadata": {
  "kernelspec": {
   "display_name": "Python 3",
   "language": "python",
   "name": "python3"
  },
  "language_info": {
   "codemirror_mode": {
    "name": "ipython",
    "version": 3
   },
   "file_extension": ".py",
   "mimetype": "text/x-python",
   "name": "python",
   "nbconvert_exporter": "python",
   "pygments_lexer": "ipython3",
   "version": "3.7.6"
  }
 },
 "nbformat": 4,
 "nbformat_minor": 5
}
