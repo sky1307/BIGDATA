{
 "cells": [
  {
   "cell_type": "code",
   "execution_count": 1,
   "metadata": {},
   "outputs": [],
   "source": [
    "from pykafka import KafkaClient\n",
    "import json\n",
    "import tweepy"
   ]
  },
  {
   "cell_type": "code",
   "execution_count": 2,
   "metadata": {},
   "outputs": [],
   "source": [
    "hosts = 'kafka-1:9092,kafka-2:9092'"
   ]
  },
  {
   "cell_type": "code",
   "execution_count": 3,
   "metadata": {},
   "outputs": [],
   "source": [
    "client = KafkaClient(hosts=hosts)\n",
    "topic = client.topics[bytes('tweet', encoding='utf-8')]\n",
    "producer = topic.get_producer()"
   ]
  },
  {
   "cell_type": "code",
   "execution_count": 4,
   "metadata": {},
   "outputs": [],
   "source": [
    "%run ./TWITTER_API_KEY.ipynb"
   ]
  },
  {
   "cell_type": "code",
   "execution_count": 5,
   "metadata": {},
   "outputs": [],
   "source": [
    "class TweetAPI(tweepy.Stream):\n",
    "    def on_status(self, status):\n",
    "        text = ''\n",
    "        try:\n",
    "            try:\n",
    "                text = status.extended_tweet['full_text']\n",
    "            except:\n",
    "                text = status.text\n",
    "            time = status._json['created_at']\n",
    "            user = status._json['user']['screen_name']\n",
    "            place= status._json['place']['name']\n",
    "            topic = ''\n",
    "            msg = json.dumps({\n",
    "                              'time':time,\n",
    "                              'user':user,\n",
    "                              'place':place,\n",
    "                              'text': text\n",
    "                             })\n",
    "#             print('msg: ', msg)\n",
    "            producer.produce(bytes(msg, encoding='utf-8'))\n",
    "        except:\n",
    "            print(\"Error\")\n",
    "            print('-----------------------------------------------------')"
   ]
  },
  {
   "cell_type": "code",
   "execution_count": null,
   "metadata": {},
   "outputs": [
    {
     "name": "stdout",
     "output_type": "stream",
     "text": [
      "Error\n",
      "-----------------------------------------------------\n",
      "Error\n",
      "-----------------------------------------------------\n"
     ]
    }
   ],
   "source": [
    "Tweets = TweetAPI(\n",
    "  CONSUMER_KEY, CONSUMER_SECRET,\n",
    "  ACCESS_TOKEN, ACCESS_SECRET\n",
    ")\n",
    "Tweets.filter(locations = [-130,-20,100,50], languages = ['en'])"
   ]
  },
  {
   "cell_type": "code",
   "execution_count": null,
   "metadata": {},
   "outputs": [],
   "source": [
    "!cat /etc/hosts"
   ]
  },
  {
   "cell_type": "code",
   "execution_count": null,
   "metadata": {},
   "outputs": [],
   "source": []
  }
 ],
 "metadata": {
  "kernelspec": {
   "display_name": "Python 3",
   "language": "python",
   "name": "python3"
  },
  "language_info": {
   "codemirror_mode": {
    "name": "ipython",
    "version": 3
   },
   "file_extension": ".py",
   "mimetype": "text/x-python",
   "name": "python",
   "nbconvert_exporter": "python",
   "pygments_lexer": "ipython3",
   "version": "3.7.6"
  }
 },
 "nbformat": 4,
 "nbformat_minor": 4
}
