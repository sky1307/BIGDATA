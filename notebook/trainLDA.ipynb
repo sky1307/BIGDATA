{
 "cells": [
  {
   "cell_type": "code",
   "execution_count": 2,
   "metadata": {},
   "outputs": [],
   "source": [
    "from sklearn.feature_extraction.text import TfidfVectorizer, CountVectorizer\n",
    "from sklearn.pipeline import Pipeline\n",
    "from sklearn.decomposition import LatentDirichletAllocation\n",
    "from sklearn.model_selection import train_test_split\n",
    "\n",
    "import pickle\n",
    "import pandas as pd\n",
    "import preprocessor as p\n",
    "import re\n",
    "import numpy as np\n",
    "\n",
    "import pickle\n",
    "import matplotlib.pyplot as plt"
   ]
  },
  {
   "cell_type": "code",
   "execution_count": 3,
   "metadata": {},
   "outputs": [],
   "source": [
    "dataset_location = 'Data3.csv'\n",
    "data_set = pd.read_csv(dataset_location,header=None)\n",
    "data_set = data_set.loc[pd.notnull(data_set[0])]\n",
    "data_set.rename(columns={0: \"text\"},inplace=True)"
   ]
  },
  {
   "cell_type": "code",
   "execution_count": 4,
   "metadata": {},
   "outputs": [],
   "source": [
    "my_punctuation = '!\"#$%&\\'()*+,-./:;<=>?[\\\\]^_`{|}~•@â'\n",
    "\n",
    "def remove_links(tweet):\n",
    "    tweet = re.sub(r'http\\S+', '', tweet) \n",
    "    tweet = re.sub(r'bit.ly/\\S+', '', tweet) \n",
    "    tweet = tweet.strip('[link]') \n",
    "    return tweet\n",
    "def remove_users(tweet):\n",
    "    tweet = re.sub('(RT\\s@[A-Za-z]+[A-Za-z0-9-_]+)', '', tweet) \n",
    "    tweet = re.sub('(@[A-Za-z]+[A-Za-z0-9-_]+)', '', tweet) \n",
    "    return tweet\n",
    "def remove_punctuation(tweet):\n",
    "    tweet = re.sub('['+my_punctuation + ']+', ' ', tweet)  \n",
    "    return tweet\n",
    "def remove_number(tweet):\n",
    "    tweet = re.sub('([0-9]+)', '', tweet) \n",
    "    return tweet\n",
    "def remove_hashtag(tweet):\n",
    "    tweet = re.sub('(#[A-Za-z]+[A-Za-z0-9-_]+)', '', tweet) \n",
    "    return tweet\n",
    "def remove_emoji(tweet):  \n",
    "    tweet = re.sub(r\"\\\\[a-z][a-z]?[0-9]+\",\"\",tweet)\n",
    "    return tweet"
   ]
  },
  {
   "cell_type": "code",
   "execution_count": 5,
   "metadata": {},
   "outputs": [],
   "source": [
    "def preprocess(tweet):\n",
    "    tweet = remove_links(tweet)\n",
    "    tweet = remove_number(tweet)\n",
    "    tweet = remove_users(tweet)\n",
    "    tweet = remove_emoji(tweet)\n",
    "#     tweet = remove_hashtag(tweet)\n",
    "    tweet = remove_punctuation(tweet)     \n",
    "    tweet = tweet.lower().strip()\n",
    "    tweet = \" \".join(tweet.split())\n",
    "#     temp = [word for word in tweet.split() if len(word)<14 and len(word)>3]\n",
    "#     tweet= \" \".join(temp)\n",
    "    return tweet   "
   ]
  },
  {
   "cell_type": "code",
   "execution_count": 6,
   "metadata": {},
   "outputs": [
    {
     "name": "stdout",
     "output_type": "stream",
     "text": [
      "250520\n"
     ]
    }
   ],
   "source": [
    "X=[]\n",
    "for tweet in data_set[\"text\"]:\n",
    "    X.append(preprocess(tweet))\n",
    "    \n",
    "print(len(X))"
   ]
  },
  {
   "cell_type": "code",
   "execution_count": 7,
   "metadata": {},
   "outputs": [],
   "source": [
    "X_train,X_test = train_test_split(X, test_size=0.3, random_state=42)"
   ]
  },
  {
   "cell_type": "code",
   "execution_count": 14,
   "metadata": {},
   "outputs": [],
   "source": [
    "n_features = 200000\n",
    "n_components = 6\n",
    "n_top_words = 10\n",
    "\n",
    "thresh_max = 0.9\n",
    "thresh_min = 1"
   ]
  },
  {
   "cell_type": "code",
   "execution_count": 16,
   "metadata": {},
   "outputs": [],
   "source": [
    "tfidf_vect = TfidfVectorizer(analyzer='word',max_df=thresh_max, min_df=thresh_min, max_features=n_features, stop_words='english')\n",
    "tfidf_vect.fit(X) # learn vocabulary and idf from training set\n",
    "print(len(tfidf_vect.get_feature_names()))\n",
    "\n",
    "tfidf_train =  tfidf_vect.transform(X_train)\n",
    "tfidf_test =  tfidf_vect.transform(X_test)\n",
    "tfidf =  tfidf_vect.transform(X)"
   ]
  },
  {
   "cell_type": "code",
   "execution_count": 33,
   "metadata": {},
   "outputs": [],
   "source": [
    "with open('tfidf.pkl','wb') as f:\n",
    "    pickle.dump(tfidf_vect,f)"
   ]
  },
  {
   "cell_type": "code",
   "execution_count": 34,
   "metadata": {},
   "outputs": [
    {
     "name": "stdout",
     "output_type": "stream",
     "text": [
      "10\n",
      "15\n",
      "20\n",
      "25\n",
      "30\n",
      "35\n",
      "40\n",
      "45\n"
     ]
    }
   ],
   "source": [
    "num_topics= range(10,50,5)\n",
    "models=[]\n",
    "log_likeli=[]\n",
    "log_perp=[]\n",
    "for num in num_topics:\n",
    "    print(num)\n",
    "    # LDA\n",
    "    # create Latent Dirichlet Allocation model and run it on our data with 50 iteration and selected topics number\n",
    "    lda = LatentDirichletAllocation(n_components=num, max_iter=50)\n",
    "    # fit the model on data\n",
    "    ldaModel = lda.fit(tfidf_train)\n",
    "    models.append(ldaModel)\n",
    "    ll = lda.score(tfidf_test)\n",
    "    lp = lda.perplexity(tfidf_test)\n",
    "    log_likeli.append(ll)\n",
    "    log_perp.append(lp)"
   ]
  },
  {
   "cell_type": "code",
   "execution_count": 40,
   "metadata": {},
   "outputs": [
    {
     "data": {
      "image/png": "[encoded data removed]",
      "text/plain": [
       "<Figure size 432x288 with 1 Axes>"
      ]
     },
     "metadata": {
      "needs_background": "light"
     },
     "output_type": "display_data"
    },
    {
     "data": {
      "image/png": "[encoded data removed]",
      "text/plain": [
       "<Figure size 432x288 with 1 Axes>"
      ]
     },
     "metadata": {
      "needs_background": "light"
     },
     "output_type": "display_data"
    }
   ],
   "source": [
    "plot_data=pd.DataFrame(list(zip(num_topics,log_likeli,log_perp)),\n",
    "            columns=['topics_num','logLikelihood','Perplexity'])    \n",
    "\n",
    "\n",
    "# use the elbow method to determine the optimal k\n",
    "plot_data.plot(x='topics_num',y='logLikelihood',kind = 'line')\n",
    "plt.show()\n",
    "\n",
    "# use the elbow method to determine the optimal k\n",
    "plot_data.plot(x='topics_num',y='Perplexity',kind = 'line')\n",
    "plt.show()"
   ]
  },
  {
   "cell_type": "code",
   "execution_count": 20,
   "metadata": {},
   "outputs": [],
   "source": [
    "lda = LatentDirichletAllocation(n_components=15, max_iter=100,random_state=0)\n",
    "# fit the model on data\n",
    "ldaModel = lda.fit(tfidf)"
   ]
  },
  {
   "cell_type": "code",
   "execution_count": 12,
   "metadata": {},
   "outputs": [],
   "source": [
    "with open('lda.pkl','wb') as f:\n",
    "    pickle.dump(lda,f)"
   ]
  },
  {
   "cell_type": "code",
   "execution_count": 17,
   "metadata": {},
   "outputs": [
    {
     "name": "stdout",
     "output_type": "stream",
     "text": [
      "['trump', 'breaking', 'just', 'canden', 'cadens', 'antifa', 'look', 'beas', 'beai', 'video']\n",
      "['sports', 'lsu', 'saints', 'new', 'orleans', 'game', 'news', 'pelicans', 'vs', 'nfl']\n",
      "['police', 'black', 'baltimore', 'man', 'blacklivesmatter', 'shooting', 'shot', 'killed', 'woman', 'cops']\n",
      "['stocks', 'workout', 'finance', 'stock', 'fitness', 'today', 'thanks', 'profile', 'new', 'day']\n",
      "['nfl', 'anthem', 'trump', 'players', 'knee', 'player', 'national', 'breaking', 'football', 'video']\n",
      "['trump', 'video', 'soundcloud', 'korea', 'breaking', 'gt', 'north', 'playing', 'click', 'plays']\n",
      "['people', 'don', 'weight', 'like', 'lose', 'just', 'love', 'black', 'need', 'know']\n",
      "['politics', 'louisiana', 'news', 'mayor', 'trump', 'san', 'juan', 'john', 'edwards', 'tax']\n",
      "['на', 'за', 'из', 'по', 'сша', 'chelsea', 'не', 'человек', 'россии', 'рф']\n",
      "['der', 'die', 'berlin', 'und', 'für', 'auf', 'mit', 'ist', 'von', 'im']\n",
      "['nowplaying', 'trump', 'dagrfm', 'kimmel', 'jimmy', 'fails', 'fires', 'schwer', 'video', 'blackgirlsrock']\n",
      "['trump', 'obama', 'hillary', 'just', 'breaking', 'politics', 'new', 'clinton', 'president', 'rt']\n",
      "['presentstrumpgot', 'wow', 'trump', 'album', 'rose', 'gold', 'breaking', 'electioninwords', 'cartoon', 'юмор']\n",
      "['на', 'не', 'что', 'за', 'как', 'по', 'это', 'из', 'россии', 'сша']\n",
      "['rt', 'retweet', 'maga', 'america', 'trump', 'supporters', 'liberals', 'react', 'theory', 'drew']\n"
     ]
    }
   ],
   "source": [
    "model =lda\n",
    "vectorizer = tfidf_vect\n",
    "\n",
    "feature_names = vectorizer.get_feature_names()\n",
    "\n",
    "for topic_idx, topic in enumerate(model.components_):\n",
    "    top_features_ind = topic.argsort()[:-n_top_words - 1:-1]\n",
    "    top_features = [feature_names[i] for i in top_features_ind]\n",
    "    print(top_features)"
   ]
  },
  {
   "cell_type": "code",
   "execution_count": 24,
   "metadata": {},
   "outputs": [],
   "source": [
    "def get_inference(model, vectorizer, topics, text, threshold):\n",
    "    v_text = vectorizer.transform([preprocess(text)])\n",
    "    score = model.transform(v_text)\n",
    "\n",
    "    labels = set()\n",
    "    for i in range(len(score[0])):\n",
    "        if score[0][i] > threshold:\n",
    "            labels.add(topics[i])\n",
    "\n",
    "    if not labels:\n",
    "        return 'None', -1, set()\n",
    "\n",
    "    return topics[np.argmax(score)], score, labels"
   ]
  },
  {
   "cell_type": "code",
   "execution_count": 31,
   "metadata": {},
   "outputs": [
    {
     "name": "stdout",
     "output_type": "stream",
     "text": [
      "{11}Donald Trump met Russian ambassador during election campaign https://t.co/oArd5BSGBK\n",
      "{2}Russia deploys deadly 'SIZZLER' nuclear submarines as US conflict looms https://t.co/YIqseUIyHq https://t.co/gBabIzOmRh\n",
      "{4}Player ratings: Can any Arsenal players hold their heads high after last night? https://t.co/HM1aFTcIxK https://t.co/z3FmbJkLUG\n",
      "{2}The Replacement episode two review: increasingly chilling as the plot thickens https://t.co/U7AvuQufU8\n",
      "{2}#GayPride #PrayForGay Someone tell LGBT that they are annoying to death\n",
      "{2}Religion today is so easily rejected but it has been with us for 2000 years #PrayForGay #GayPride\n",
      "{6}I'm angry but I still love you.\n",
      "{3}Drop that Xbox, man!\n",
      "{6}Single doesn't always mean lonely, and relationship doesn't always mean happy.\n",
      "{6}Where's your will to be weird?\n",
      "{6}How wonderful it is that nobody need wait a single moment before starting to improve the world.  – Anne Frank\n",
      "{4}How Can You Still Call That A Skirt??\n",
      "{6}Puncha yo buns, puncha yo buns!\n",
      "{6}Sometimes all you need, is someone who can make you smile.\n",
      "{6}This is totally gonna be the best album yet http://t.co/pEhydhWVNC\n",
      "{6}My heart breaks a little, when I hear your name\n",
      "{6}« How many are the things I can do without! » Socrates\n",
      "{12}https://t.co/x1UQ83hErq wow!\n",
      "{6}wonderful! http://t.co/ihiCzMOwrn\n",
      "{6}Don't feel sad over someone who gave up on you, feel sorry for them because they gave up on someone who would have never given up on them.\n",
      "{6}Where one thing falls, another grows. Maybe not what was there before, but something new and wonderful all the same.\n",
      "{6}You have to hurt in order to know, fall in order to grow, lose in order to gain. Because most of life’s lessons are learned in pain.\n",
      "{6}When you hear that amazing song you haven't heard in years. :) #dailyteen\n",
      "{3}A day without a friend is like a pot without a single drop of honey left inside. – Pooh\n",
      "{6}be lazy all day long. Great plan!\n",
      "{3}Our vision is more obstructed by what we think we know than by our lack of knowledge.\n",
      "{3}Created from Love, with Love, for Love, the universe embraces you, loves you and provides for all your needs and desires, always, forever.\n",
      "{0}« Men often act knowingly against their interest. » David Hume\n",
      "{6}https://t.co/flGzYvYOfe have you seen this?!\n",
      "{6}Dear,Pizza! What took you so long? ���\n",
      "{5}The World's Smartest Toolbox https://t.co/xpSvjovDg8\n",
      "{6}We ignore each other and try to pretend the other doesn't exist, but deep down we both know it wasn't supposed to end like this.\n",
      "{6}http://t.co/33I9dHv12Y thanks God it wasn`t me!\n",
      "{6}Jut sip it! https://t.co/LSv8pDiY1l\n",
      "{6}We fight not to enslave, but to set a country free, and to make room upon the earth for honest men to live in.\n",
      "{2}Get in the car, hit the pedal once!\n",
      "{14}BLUSH https://t.co/TmVloM5E3R https://t.co/jUwE5CryCZ\n",
      "{3}Check out \"13 Hours And Counting To End Of Hillary's Candidacy\" Tea Party Command #PJNET https://t.co/12IGv72C3R https://t.co/gViliSBg0P\n",
      "{1}#InHonorOf Staff Sgt. Matthew Q. McClintock Died 1/5/2016 #MemorialDay2016 https://t.co/jrALMyq6Yl\n",
      "{3}MT @Only1Jaffa: I will remember & honor the ones who died & sacrificed their life for us. https://t.co/sqs4qvLYYy #InHonorOf #PJNET\n",
      "{3}Reignite the PROMISE OF AMERICA with #TedCruz!   #WakeUpAmerica #CruzCrew #PJNET #TCOT #TedCruz2016   https://t.co/fq4XUWnXGo\n",
      "{3}'- Earth Wind And Fire - Would You Mind https://t.co/hFICIuveRf #WakeUpAmerica #teaparty #tcot'\n",
      "{6}Oh it couldn’t happen one more time! #IraqVol3\n",
      "{6}This war brings money to politicians.This war brings death  to our people. #IraqVol3\n",
      "{6}Obama needs this war bc of money. And do we need it? #IraqVol3\n",
      "{3}America is a great country and terrorists can’t startle us #TsarnaevsApology\n",
      "{2}Dzhokhar Tsarnaev deserves death.  #TsarnaevsApology\n",
      "{10}#SaluteToReagan It was freedom.\n",
      "{3}'@Jenn_Abrams Thank you for our freedom!'\n",
      "{4}BUT: #IranNuclearDeal : @netanyahu AND THE CONSEQUENCES  http://t.co/I4HlxSgIwU  #IranDeal #irantalks http://t.co/EWu9D3XKfO\n"
     ]
    }
   ],
   "source": [
    "for text in data_set[\"text\"][:100].tolist():\n",
    "    topic, score, label = get_inference(lda, tfidf_vect, range(15), text, 0.5)\n",
    "    if topic != 'None':\n",
    "#         print(text)\n",
    "#         print(np.max(score))\n",
    "        print(str(label)+text)"
   ]
  },
  {
   "cell_type": "code",
   "execution_count": null,
   "metadata": {},
   "outputs": [],
   "source": []
  }
 ],
 "metadata": {
  "kernelspec": {
   "display_name": "Python 3",
   "language": "python",
   "name": "python3"
  },
  "language_info": {
   "codemirror_mode": {
    "name": "ipython",
    "version": 3
   },
   "file_extension": ".py",
   "mimetype": "text/x-python",
   "name": "python",
   "nbconvert_exporter": "python",
   "pygments_lexer": "ipython3",
   "version": "3.7.6"
  }
 },
 "nbformat": 4,
 "nbformat_minor": 4
}
