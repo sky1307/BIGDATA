{
 "cells": [
  {
   "cell_type": "code",
   "execution_count": null,
   "metadata": {},
   "outputs": [],
   "source": [
    "import tweepy\n",
    "import csv\n",
    "import json"
   ]
  },
  {
   "cell_type": "code",
   "execution_count": null,
   "metadata": {},
   "outputs": [],
   "source": [
    "%run ./TWITTER_API_KEY.ipynb"
   ]
  },
  {
   "cell_type": "code",
   "execution_count": null,
   "metadata": {},
   "outputs": [],
   "source": [
    "class TweetAPI(tweepy.Stream):\n",
    "    def on_status(self, status):\n",
    "        \n",
    "        try:\n",
    "            text = status.extended_tweet['full_text']\n",
    "        except:\n",
    "            text = status.text\n",
    "        text= text.encode('utf8') \n",
    "        time = status._json['created_at']\n",
    "        user = status._json['user']['screen_name']\n",
    "        place= status._json['place']['full_name']\n",
    "        \n",
    "        writer.writerow([time, user, place, text])\n",
    "      "
   ]
  },
  {
   "cell_type": "code",
   "execution_count": null,
   "metadata": {},
   "outputs": [],
   "source": [
    "# Tweets = TweetAPI(\n",
    "#   CONSUMER_KEY, CONSUMER_SECRET,\n",
    "#   ACCESS_TOKEN, ACCESS_SECRET\n",
    "# )\n",
    "# f = open('./data2.csv','w')\n",
    "# writer = csv.writer(f)\n",
    "# writer.writerow(['time','user','place','text'])\n",
    "# Tweets.filter(locations = [-130,-20,100,50], languages = ['en'])"
   ]
  },
  {
   "cell_type": "code",
   "execution_count": null,
   "metadata": {},
   "outputs": [],
   "source": [
    "auth = tweepy.OAuthHandler(CONSUMER_KEY, CONSUMER_SECRET)\n",
    "auth.set_access_token(ACCESS_TOKEN, ACCESS_SECRET)\n",
    "\n",
    "api = tweepy.API(auth, wait_on_rate_limit = True)\n",
    "\n",
    "place = api.search_geo(query=\"USA\", granularity=\"country\")\n",
    "place_id = place[0].id\n",
    "csvFile = open('tweets.csv', 'w')\n",
    "\n",
    "csvWriter = csv.writer(csvFile)\n",
    "csvWriter.writerow(['text'])\n",
    "for tweet in tweepy.Cursor(api.search_tweets,q=\"place:%s\" % place_id,\n",
    "                           lang=\"en\",\n",
    "                           since='2021-12-25',\n",
    "                           until=\"2022-01-01\").items():\n",
    "    try:\n",
    "        text = tweet.extended_tweet['full_text']\n",
    "    except:\n",
    "        text = tweet.text\n",
    "    text = str(text.encode('utf8'))[2:-1]\n",
    "    csvWriter.writerow([text])\n"
   ]
  },
  {
   "cell_type": "code",
   "execution_count": null,
   "metadata": {},
   "outputs": [],
   "source": []
  }
 ],
 "metadata": {
  "kernelspec": {
   "display_name": "Python 3",
   "language": "python",
   "name": "python3"
  },
  "language_info": {
   "codemirror_mode": {
    "name": "ipython",
    "version": 3
   },
   "file_extension": ".py",
   "mimetype": "text/x-python",
   "name": "python",
   "nbconvert_exporter": "python",
   "pygments_lexer": "ipython3",
   "version": "3.7.6"
  }
 },
 "nbformat": 4,
 "nbformat_minor": 4
}
